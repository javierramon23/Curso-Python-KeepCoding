{
 "cells": [
  {
   "cell_type": "markdown",
   "metadata": {
    "colab_type": "text",
    "id": "fnB9-YuYFhCi"
   },
   "source": [
    "# Persistencia\n",
    "\n",
    "Por persistencia entendemos el almacenamiento de los datos de una aplicación aún cuando esta no está operativa en la memoria del ordenador. Habitualmente se trata de guardar el estado de una aplicación para poder recuperarlo en otro momento, de ahí que al hablar de persistencia hablemos de dos cosas:\n",
    "\n",
    "- Almacenar la información en algún tipo de archivo para poder recuperarla después.\n",
    "- Estructurar la información de forma que sea fácilmente almacenable y recuperable\n",
    "\n",
    "## Almacenamiento\n",
    "\n",
    "Básicamente vamos a ver dos formas de persistencia.\n",
    "\n",
    "- Manejo de [archivos](https://)\n",
    "- Manejo de [Bases de datos](https://)\n",
    "\n",
    "## Estructura de datos\n",
    "\n",
    "Habitualmente se dan dos casos de almacenamiento de información. O bien se trata de almacenar el estado de la aplicación con una serie de datos globales de la misma como por ejemplo, fase y puntuación de un juego que puede almacenarse como una [tupla](https://drive.google.com/open?id=1gAt1VSmkb-V9enz4Oqf76yYG3L0jebKC) y cuyos valores pueden almacenarse en un fichero simplemente separados por una coma `,` o punto y coma `;`.\n",
    "\n",
    "También puede tratarse del almacenamiento de los datos procesados por la aplicación (como por ejemplo cada uno de los jugadores y puntuaciones de un juego, o cada una de las facturas de un programa de pedidos). En este caso cada uno de los items a grabar (jugadores o facturas) se consideran un **registro** que está formado por unidades menores de información como por ejemplo código, descripción de producto y número de items de cada línea de factura o nombre y nick de cada jugador. Así cada registro está dividido en **campos** de información concreta. \n",
    "\n",
    "Estos registros compuestos por campos son grabados en el fichero o en la base de datos.\n"
   ]
  },
  {
   "cell_type": "code",
   "execution_count": 0,
   "metadata": {
    "colab": {},
    "colab_type": "code",
    "id": "wWWPWj_WFeHr"
   },
   "outputs": [],
   "source": []
  }
 ],
 "metadata": {
  "colab": {
   "name": "02.0 - Persistencia.ipynb",
   "provenance": [],
   "version": "0.3.2"
  },
  "kernelspec": {
   "display_name": "Python 3",
   "language": "python",
   "name": "python3"
  },
  "language_info": {
   "codemirror_mode": {
    "name": "ipython",
    "version": 3
   },
   "file_extension": ".py",
   "mimetype": "text/x-python",
   "name": "python",
   "nbconvert_exporter": "python",
   "pygments_lexer": "ipython3",
   "version": "3.7.1"
  }
 },
 "nbformat": 4,
 "nbformat_minor": 1
}
