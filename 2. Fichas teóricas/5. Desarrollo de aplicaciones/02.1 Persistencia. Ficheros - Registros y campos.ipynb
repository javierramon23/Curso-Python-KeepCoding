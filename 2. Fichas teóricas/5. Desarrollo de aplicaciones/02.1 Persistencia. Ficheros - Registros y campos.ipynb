{
 "cells": [
  {
   "cell_type": "markdown",
   "metadata": {
    "colab_type": "text",
    "id": "NvpL5IMjNBSj"
   },
   "source": [
    "# Manejo de ficheros\n",
    "\n",
    "Un archivo es un conjunto de bits y bytes con un nombre y extensión que figura en una unidad de almacenamiento externo de una computadora. Funciona del mismo modo que la [memoria de un computador](https://drive.google.com/open?id=1_ob96dheQuqkm6uuSWibOQOlhjznXrOk), contiene información en una secuencia de bytes. \n",
    "\n",
    "Python maneja dos tipos básicos de ficheros, los de texto y los binarios. En ambos casos funciona exactamente igual, un fichero puede utilizarse para grabar información, para leerla o para ambas cosas. En todos los casos sobre un fichero pueden realizarse las siguientes operaciones.\n",
    "\n",
    "- Apertura de fichero \n",
    "  - indicando el tipo de acceso:\n",
    "    - lectura, \n",
    "    - escritura o \n",
    "    - lecto-escritura.\n",
    "  - indicando el tipo de fichero\n",
    "    - texto\n",
    "    - binario\n",
    "- Lectura / Escritura de los registros\n",
    "  - Este acceso es siempre secuencial y hacia adelante. Una vez leído o escrito un registro no se puede retroceder para leer o escribir en una posición anterior sin cerrar y volver a abrir el fichero.\n",
    "- Cierre del fichero\n",
    "  - Es importarte realizarlo para que se ejecuten los cambios en el fichero.   \n",
    "    "
   ]
  },
  {
   "cell_type": "markdown",
   "metadata": {
    "colab_type": "text",
    "id": "M_OqDU7iP8wE"
   },
   "source": [
    "## Manejo de ficheros de texto. \n",
    "\n",
    "### Registros y campos\n",
    "\n",
    "Una buena forma de almacenar información en formato texto es el** formato CSV** (*comma-separated values*) en el que los distintos campos de un registro (sus valores elementales de información) están separados por comas (aunque el formato puede modificarse para elegir el separador.).\n",
    "\n",
    "```\n",
    "Ramón;Maldonado;Rodríguez;101400\n",
    "```\n",
    "\n",
    "Otra buena forma es la **posicional**, se define cada campo por su posición en el registro, así por ejemplo:\n",
    "- Jugador\n",
    "  - Nombre: posición 0 a 29\n",
    "  - Apellido1: posición 30 a 59\n",
    "  - Apellido 2: posición 60 a 99\n",
    "  - Puntuación: posición 100 a 105\n",
    " \n",
    "\n",
    "```\n",
    "                                                                                                    1\n",
    "          1         2         3         4         5         6         7         8         9         0\n",
    "0123456789012345678901234567890123456789012345678901234567890123456789012345678901234567890123456789012345678\n",
    "Ramón                         Maldonado                     Rodríguez                               101400\n",
    "\n",
    "\n",
    "```\n",
    "\n",
    "Veamos un ejemplo de cada"
   ]
  },
  {
   "cell_type": "code",
   "execution_count": 0,
   "metadata": {
    "colab": {},
    "colab_type": "code",
    "id": "4xx_il-ANACS"
   },
   "outputs": [],
   "source": [
    "jugador = {\n",
    "    \"nombre\": \"Ramón\",\n",
    "    \"apellido1\": \"Maldonado\",\n",
    "    \"apellido2\": \"Rodríguez\",\n",
    "    \"puntuación\": 101400\n",
    "}\n",
    "\n",
    "def guardar(registro):\n",
    "  fSalida = open(\"salida.txt\", \"w+\")\n",
    "  fSalida.write(registro)\n",
    "  fSalida.close()\n",
    "  \n",
    "def leer():\n",
    "  fEntrada = open(\"salida.txt\", \"r\")\n",
    "  fichero = fEntrada.read()\n",
    "  fEntrada.close()\n",
    "  return fichero\n"
   ]
  },
  {
   "cell_type": "code",
   "execution_count": 0,
   "metadata": {
    "colab": {},
    "colab_type": "code",
    "id": "pRNdzFKEXF_c"
   },
   "outputs": [],
   "source": [
    "reg = \"{};{};{};{}\".format(jugador[\"nombre\"], jugador[\"apellido1\"], jugador[\"apellido2\"], jugador[\"puntuación\"])\n",
    "\n",
    "guardar(reg)\n",
    "\n",
    "reg1 = leer()"
   ]
  },
  {
   "cell_type": "code",
   "execution_count": 0,
   "metadata": {
    "colab": {},
    "colab_type": "code",
    "id": "agVfKUHzXIzS"
   },
   "outputs": [],
   "source": [
    "def tailoring(campo, len):\n",
    "  campo += ' '*len\n",
    "  campo = campo[0:len]\n",
    "  return campo\n",
    "  \n",
    "\n",
    "def zeroing(campo, len):\n",
    "  campo = str(campo)\n",
    "  campo = '0'*len + campo\n",
    "  campo = campo[-len:]\n",
    "  return campo\n",
    "  \n",
    "  \n",
    "campos = reg1.split(';')\n",
    "\n",
    "nombre = campos[0]\n",
    "apellido1 = campos[1]\n",
    "apellido2 = campos[2]\n",
    "puntuacion = campos[3]\n",
    "\n",
    "reg = tailoring(nombre, 30)+tailoring(apellido1, 30)+tailoring(apellido2, 30)+zeroing(puntuacion,6)\n",
    "\n",
    "guardar(reg)\n",
    "\n",
    "reg2 = leer()\n"
   ]
  },
  {
   "cell_type": "code",
   "execution_count": 28,
   "metadata": {
    "colab": {
     "base_uri": "https://localhost:8080/",
     "height": 53
    },
    "colab_type": "code",
    "executionInfo": {
     "elapsed": 575,
     "status": "ok",
     "timestamp": 1545809295730,
     "user": {
      "displayName": "Ramón Maldonado Rodríguez",
      "photoUrl": "https://lh3.googleusercontent.com/-ljH7hLMa7no/AAAAAAAAAAI/AAAAAAAAAAg/pf-fwlCU1Eg/s64/photo.jpg",
      "userId": "17580681743975451950"
     },
     "user_tz": -60
    },
    "id": "VZEkZZfAZ-fR",
    "outputId": "206ced43-9f9b-4478-cc8b-7b8668112cc3"
   },
   "outputs": [
    {
     "name": "stdout",
     "output_type": "stream",
     "text": [
      "Ramón;Maldonado;Rodríguez;101400\n",
      "Ramón                         Maldonado                     Rodríguez                     101400\n"
     ]
    }
   ],
   "source": [
    "print(reg1)\n",
    "print(reg2)"
   ]
  }
 ],
 "metadata": {
  "colab": {
   "name": "2.1 Persistencia. Ficheros.ipynb",
   "provenance": [],
   "version": "0.3.2"
  },
  "kernelspec": {
   "display_name": "Python 3",
   "language": "python",
   "name": "python3"
  },
  "language_info": {
   "codemirror_mode": {
    "name": "ipython",
    "version": 3
   },
   "file_extension": ".py",
   "mimetype": "text/x-python",
   "name": "python",
   "nbconvert_exporter": "python",
   "pygments_lexer": "ipython3",
   "version": "3.7.1"
  }
 },
 "nbformat": 4,
 "nbformat_minor": 1
}
