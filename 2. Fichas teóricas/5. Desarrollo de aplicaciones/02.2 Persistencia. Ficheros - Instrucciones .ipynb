{
 "cells": [
  {
   "cell_type": "markdown",
   "metadata": {
    "colab_type": "text",
    "id": "ZENv1KD5tDWm"
   },
   "source": [
    "# Ficheros. Operaciones\n",
    "\n",
    "## Apertura de ficheros\n",
    "\n",
    "### `open(\"nombre fichero con ruta\", \"modo\")`: \n",
    "\n",
    "Los posibles modos son: \n",
    "\n",
    "- `r` – Lectura, el fichero sólo puede leerse\n",
    "- `w` – Escritura. El fichero incluirá nueva información. Cualquier información que tuviera antes de la apertura será borrada \n",
    "- `a` – Append. Se añaden nuevos datos al final del fichero.\n",
    "- `x` – Creación. El fichero se crea. Da error si ya existe. \n",
    "- `r+` – Lecto-escritura. Se leen registros y se añaden al final\n",
    "\n",
    "Además el modo puede informar el tipo de fichero:\n",
    "- `t` – Texto. Modo por defecto si no se informa\n",
    "- `b` – Binario\n",
    "\n",
    "Cuando un fichero se abre se crea un objeto de tipo fichero sobre el que luego se podrán realizar operaciones de lectura o escritura.\n",
    "\n",
    "## Lectura de ficheros\n",
    "\n",
    "### `fichero.read(n)`:\n",
    "\n",
    "- n es opcional. Si se informa leerá ese número de caracteres. Si no leerá todo el fichero. \n",
    "\n",
    "Esta operacion devuelve los n caracteres o el total del fichero sobre el que luego se podrá operar\n",
    "\n"
   ]
  },
  {
   "cell_type": "code",
   "execution_count": 1,
   "metadata": {
    "colab": {
     "base_uri": "https://localhost:8080/",
     "height": 125
    },
    "colab_type": "code",
    "executionInfo": {
     "elapsed": 762,
     "status": "ok",
     "timestamp": 1550159488116,
     "user": {
      "displayName": "Ramón Maldonado Rodríguez",
      "photoUrl": "https://lh3.googleusercontent.com/-ljH7hLMa7no/AAAAAAAAAAI/AAAAAAAAAAg/pf-fwlCU1Eg/s64/photo.jpg",
      "userId": "17580681743975451950"
     },
     "user_tz": -60
    },
    "id": "ZwekxK-jxI-g",
    "outputId": "bec3b35d-e96e-4b15-d3c4-0c7a9e08bfdf"
   },
   "outputs": [
    {
     "name": "stdout",
     "output_type": "stream",
     "text": [
      "1;'producto1';12;1;12\n",
      "2;'producto 2';6;7;42\n",
      "3;'producto3';1;1;1\n",
      "4;'producto4';2;1;2\n",
      "5;'producto5';5.6;6;33.599999999999994\n",
      "\n"
     ]
    }
   ],
   "source": [
    "def creaReg(codigo, descripcion, precioUnitario, items=1):\n",
    "  return \"{};'{}';{};{};{}\\n\".format(codigo, descripcion, precioUnitario, items, precioUnitario*items)\n",
    "\n",
    "fVentas = open('ventas.txt', 'w+')\n",
    "\n",
    "fVentas.write(creaReg(1,\"producto1\",12))\n",
    "fVentas.write(creaReg(2,\"producto 2\",6,7))\n",
    "fVentas.write(creaReg(3,\"producto3\",1))\n",
    "fVentas.write(creaReg(4,\"producto4\",2))\n",
    "fVentas.write(creaReg(5,\"producto5\",5.6, 6))\n",
    "\n",
    "fVentas.close()\n",
    "\n",
    "fVentas = open(\"ventas.txt\", \"r\")\n",
    "fichero = fVentas.read()\n",
    "print(fichero)\n",
    "\n",
    "\n"
   ]
  },
  {
   "cell_type": "code",
   "execution_count": 0,
   "metadata": {
    "colab": {
     "base_uri": "https://localhost:8080/",
     "height": 125
    },
    "colab_type": "code",
    "executionInfo": {
     "elapsed": 557,
     "status": "ok",
     "timestamp": 1545832137483,
     "user": {
      "displayName": "Ramón Maldonado Rodríguez",
      "photoUrl": "https://lh3.googleusercontent.com/-ljH7hLMa7no/AAAAAAAAAAI/AAAAAAAAAAg/pf-fwlCU1Eg/s64/photo.jpg",
      "userId": "17580681743975451950"
     },
     "user_tz": -60
    },
    "id": "UJj_5g1MtCff",
    "outputId": "62e8ae3c-14e9-44db-b8cd-b95ce1305cd9"
   },
   "outputs": [
    {
     "name": "stdout",
     "output_type": "stream",
     "text": [
      "1;'producto1';12;1;12\n",
      "2;'producto 2';6;7;42\n",
      "3;'producto3';1;1;1\n",
      "4;'producto4';2;1;2\n",
      "5;'producto5';5.6;6;33.599999999999994\n",
      "\n"
     ]
    }
   ],
   "source": [
    "fVentas = open('ventas.txt', 'r')\n",
    "\n",
    "file = fVentas.read()\n",
    "\n",
    "lines = file.split('\\n')\n",
    "for line in lines:\n",
    "  print(line)"
   ]
  },
  {
   "cell_type": "markdown",
   "metadata": {
    "colab_type": "text",
    "id": "3tXWOZbkxrH7"
   },
   "source": [
    "### `fichero.readlines(n)`:\n",
    "\n",
    "- n: Es opcional. Indica el máximo de caracteres, pero dado que se lee por lineas siempre leerá las líneas necesarias para cubrir ese número de caracteres. Si no se informa lee todas las líneas del fichero."
   ]
  },
  {
   "cell_type": "code",
   "execution_count": 3,
   "metadata": {
    "colab": {
     "base_uri": "https://localhost:8080/",
     "height": 197
    },
    "colab_type": "code",
    "executionInfo": {
     "elapsed": 557,
     "status": "ok",
     "timestamp": 1550159528499,
     "user": {
      "displayName": "Ramón Maldonado Rodríguez",
      "photoUrl": "https://lh3.googleusercontent.com/-ljH7hLMa7no/AAAAAAAAAAI/AAAAAAAAAAg/pf-fwlCU1Eg/s64/photo.jpg",
      "userId": "17580681743975451950"
     },
     "user_tz": -60
    },
    "id": "t_4zDcEIyI-k",
    "outputId": "94a43df7-8265-4614-b5d7-afd3d000005d"
   },
   "outputs": [
    {
     "name": "stdout",
     "output_type": "stream",
     "text": [
      "1;'producto1';12;1;12\n",
      "\n",
      "2;'producto 2';6;7;42\n",
      "\n",
      "3;'producto3';1;1;1\n",
      "\n",
      "4;'producto4';2;1;2\n",
      "\n",
      "5;'producto5';5.6;6;33.599999999999994\n",
      "\n"
     ]
    }
   ],
   "source": [
    "fVentas = open('ventas.txt', 'r')\n",
    "\n",
    "lines = fVentas.readlines()\n",
    "\n",
    "for line in lines:\n",
    "  print(line)"
   ]
  },
  {
   "cell_type": "markdown",
   "metadata": {
    "colab_type": "text",
    "id": "1DydRl1pyzFp"
   },
   "source": [
    "### `fichero.readline(n)`:\n",
    "\n",
    "- n: Es opcional. Indica el máximo de caracteres si es más que el máximo de la línea devuelve la línea"
   ]
  },
  {
   "cell_type": "code",
   "execution_count": 0,
   "metadata": {
    "colab": {
     "base_uri": "https://localhost:8080/",
     "height": 35
    },
    "colab_type": "code",
    "executionInfo": {
     "elapsed": 578,
     "status": "ok",
     "timestamp": 1545832622486,
     "user": {
      "displayName": "Ramón Maldonado Rodríguez",
      "photoUrl": "https://lh3.googleusercontent.com/-ljH7hLMa7no/AAAAAAAAAAI/AAAAAAAAAAg/pf-fwlCU1Eg/s64/photo.jpg",
      "userId": "17580681743975451950"
     },
     "user_tz": -60
    },
    "id": "fPPxT8z9zAqq",
    "outputId": "df1e5b90-5750-4f85-86fa-98f7f2527f11"
   },
   "outputs": [
    {
     "name": "stdout",
     "output_type": "stream",
     "text": [
      "1;'producto1';12;1;1\n"
     ]
    }
   ],
   "source": [
    "fVentas = open('ventas.txt', 'r')\n",
    "\n",
    "line = fVentas.readline(20)\n",
    "\n",
    "print(line)"
   ]
  },
  {
   "cell_type": "markdown",
   "metadata": {
    "colab_type": "text",
    "id": "Zg2fPS31tf9x"
   },
   "source": [
    "### Ejemplo de lectura secuencial de ficheros\n",
    "#### Como texto"
   ]
  },
  {
   "cell_type": "code",
   "execution_count": 4,
   "metadata": {
    "colab": {
     "base_uri": "https://localhost:8080/",
     "height": 107
    },
    "colab_type": "code",
    "executionInfo": {
     "elapsed": 649,
     "status": "ok",
     "timestamp": 1550159650077,
     "user": {
      "displayName": "Ramón Maldonado Rodríguez",
      "photoUrl": "https://lh3.googleusercontent.com/-ljH7hLMa7no/AAAAAAAAAAI/AAAAAAAAAAg/pf-fwlCU1Eg/s64/photo.jpg",
      "userId": "17580681743975451950"
     },
     "user_tz": -60
    },
    "id": "T25LqiySttN8",
    "outputId": "332b24a6-02b2-4f86-973a-df9d220c13ad"
   },
   "outputs": [
    {
     "name": "stdout",
     "output_type": "stream",
     "text": [
      "'producto1' - 12\n",
      "'producto 2' - 42\n",
      "'producto3' - 1\n",
      "'producto4' - 2\n",
      "'producto5' - 33.599999999999994\n"
     ]
    }
   ],
   "source": [
    "def miRegistro(line):\n",
    "  line = line[:-1]\n",
    "  campos = line.split(\";\")\n",
    "  return  {\n",
    "      \"codigo\": campos[0],\n",
    "      \"descripcion\": campos[1],\n",
    "      \"precioU\": campos[2],\n",
    "      \"items\": campos[3],\n",
    "      \"total\": campos[4]\n",
    "  }\n",
    "  \n",
    "fVentas = open('ventas.txt', 'r')\n",
    "\n",
    "registro = fVentas.readline()\n",
    "\n",
    "while registro != '':\n",
    "  registro = miRegistro(registro)\n",
    "  print(\"{} - {}\".format(registro[\"descripcion\"], registro[\"total\"]))\n",
    "  registro = fVentas.readline()\n",
    "  \n"
   ]
  },
  {
   "cell_type": "markdown",
   "metadata": {
    "colab_type": "text",
    "id": "y7YBmSi8t9yK"
   },
   "source": [
    "#### Como binario"
   ]
  },
  {
   "cell_type": "code",
   "execution_count": 0,
   "metadata": {
    "colab": {},
    "colab_type": "code",
    "id": "KK30lLINuEIc"
   },
   "outputs": [],
   "source": [
    "def miRegistro(stream):\n",
    "  pass\n",
    "\n",
    "fVentas = open('ventas.txt', 'rb')\n",
    "registro = fVentas.readline()\n",
    "\n",
    "while registro != b'':\n",
    "  print(registro)\n",
    "  registro = fVentas.readline()\n",
    "  "
   ]
  },
  {
   "cell_type": "markdown",
   "metadata": {
    "colab_type": "text",
    "id": "vBEGnAsz1Bo_"
   },
   "source": [
    "## Escritura de ficheros\n",
    "\n",
    "Si el fichero se ha abierto en modo escritura, lectoescritura o append, puede escribirse información al final del mismo.\n",
    "\n",
    "### `fichero.write(n)`:\n",
    "\n",
    "- n: Es la cadena a escribir. Ver código de [arriba](https://colab.research.google.com/drive/1MAcIWY0sAmCsn2WlUXog5NQG5OKw4sAA#scrollTo=ZwekxK-jxI-g&line=19&uniqifier=1)\n",
    "\n",
    "\n",
    "## Ejemplo de escritura de ficheros"
   ]
  },
  {
   "cell_type": "code",
   "execution_count": 0,
   "metadata": {
    "colab": {},
    "colab_type": "code",
    "id": "VKwNPbNIunxe"
   },
   "outputs": [],
   "source": [
    "def creaReg(codigo, descripcion, precioUnitario, items=1):\n",
    "  return \"{};'{}';{};{};{}\\n\".format(codigo, descripcion, precioUnitario, items, precioUnitario*items)\n",
    "\n",
    "fVentas = open('ventas.txt', 'w+')\n",
    "\n",
    "fVentas.write(creaReg(1,\"producto1\",12))\n",
    "fVentas.write(creaReg(2,\"producto 2\",6,7))\n",
    "fVentas.write(creaReg(3,\"producto3\",1))\n",
    "fVentas.write(creaReg(4,\"producto4\",2))\n",
    "fVentas.write(creaReg(5,\"producto5\",5.6, 6))\n",
    "\n",
    "fVentas.close()\n",
    "\n",
    "fVentas = open(\"ventas.txt\", \"r\")\n",
    "fichero = fVentas.read()\n",
    "print(fichero)\n"
   ]
  },
  {
   "cell_type": "markdown",
   "metadata": {
    "colab_type": "text",
    "id": "kpi79bbju535"
   },
   "source": [
    "## Cierre de ficheros\n",
    "\n",
    "Una vez cerrado el fichero ya no se pueden realizar operaciones sobre él, ni lecturas ni escrituras.\n",
    "\n",
    "### `fichero.close()`\n",
    "\n"
   ]
  }
 ],
 "metadata": {
  "colab": {
   "collapsed_sections": [],
   "name": "2.3 Persistencia. Ficheros .ipynb",
   "provenance": [],
   "version": "0.3.2"
  },
  "kernelspec": {
   "display_name": "Python 3",
   "language": "python",
   "name": "python3"
  },
  "language_info": {
   "codemirror_mode": {
    "name": "ipython",
    "version": 3
   },
   "file_extension": ".py",
   "mimetype": "text/x-python",
   "name": "python",
   "nbconvert_exporter": "python",
   "pygments_lexer": "ipython3",
   "version": "3.7.1"
  }
 },
 "nbformat": 4,
 "nbformat_minor": 1
}
