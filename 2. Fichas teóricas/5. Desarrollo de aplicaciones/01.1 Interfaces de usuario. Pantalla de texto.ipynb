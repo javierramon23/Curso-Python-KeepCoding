{
 "cells": [
  {
   "cell_type": "markdown",
   "metadata": {
    "colab_type": "text",
    "id": "tvZIE9iLVGEJ"
   },
   "source": [
    "# Interfaces de usuario de texto\n",
    "\n",
    "Cuando hablamos de interfaces de usuario de texto nos referimos sobre todos a pantallas sobre las que se impresonan única y exclusivamente carácteres de texto. Esto es, sin información gráfica. Como mucho pueden presentar color y diferentes formatos de texto como negrita, cursiva, subrayado,...\n",
    "\n",
    "## Estructura de la pantalla\n",
    "\n",
    "Una pantalla no es mas que una matriz de celdas que puede dividirse en filas y columnas. En ellas debemos controlar lo siguiente:\n",
    "- línea y columna en la que representaremos un carácter alfanumérico\n",
    "- carácter alfanumérico a representar (por su [código](https://colab.research.google.com/drive/1mI0mQc0KwbpkCtCZqjIdxPYof4y9l_2-)\n",
    "- color de fondo\n",
    "- color de caracter.\n",
    "\n",
    "En un mundo en el que no existían dispositivos gráficos y en que la memoria era cara se crearon diferentes _Modos de pantalla_ en el que primaba el número de caracteres de la misma (más columnas e igual número de filas) o en el que primaba el número de colores. Algunos de estos modos eran:\n",
    "\n",
    "- 40 columnas x 25 líneas (monocromo o color)\n",
    "- 80 columnas x 25 líneas (monocromo o color)\n",
    "\n",
    "## Diseñando la interfaz\n",
    "\n",
    "Partimos pues de una pantalla con un número determinado de filas y columnas y en ella situaremos todos los _campos_ y _etiquetas_ por los que mostraremos la información de salida. La entrada de datos se realizará por medio del teclado.\n",
    "\n",
    "Para diseñar una pantalla deberemos indicar línea y columna donde irá cada uno de los componentes indicados:\n",
    "- _campo_: es un espacio de pantalla en el que imprimiremos el valor de una variable\n",
    "-_etiqueta_: es un texto que ocupa un lugar fijo en la pantalla y que, habitualmente, nos indica el contenido de un campo o que teclas utilizar para hacer distintas operaciones.\n",
    "\n",
    "<img src=\"https://docs.google.com/uc?export=download&id=1N3cnzRUKkK9HI3VYwp3fiwkE9VjY_QFQ\">"
   ]
  },
  {
   "cell_type": "markdown",
   "metadata": {
    "colab_type": "text",
    "id": "JHB9qOnSdlug"
   },
   "source": [
    "## Controlando donde imprimimos\n",
    "\n",
    "Hasta ahora hemos utilizado la instrucción `print` para mostrar textos en la pantalla. Y le hemos dado formato con la función [`format`](https://pyformat.info/) de las cadenas. Sin embargo la colocación de la cadena en pantalla siempre es al inicio de la siguiente línea a la última que se ha escrito.\n",
    "\n",
    "Python no tiene una forma estandar de localizar la impresión en pantalla. En su lugar utilizaremos las [secuencias de control ANSI](http://ascii-table.com/ansi-escape-sequences.php) que son secuencias de caracteres ASCII de control y alfanuméricos que la pantalla interpreta como instrucciones y permiten manipularla. Así, si queremos situar la cadena `'Bebe....:'` en la fila 4 columna 5 ejecutaríamos:\n",
    "\n",
    "```\n",
    "print(\"\\033[4;5H\", end=\"\")\n",
    "print(\"Bebe....:\")\n",
    "```\n",
    "\n",
    "Añadimos el parámetro `end=\"\"` para evitar la impresión del salto de línea que, de forma automática, siempre incluye print. (Esto debe probarse directamente en la consola ya que no funciona aquí ni en thonny)\n",
    "\n",
    "## Controlando estilo y colores del texto\n",
    "\n",
    "De igual manera podemos controlarlo con la secuencia de control `\\033[Estilo;colorTexto;colorFondom` donde los posibles valores de `Estilo`, `colorTexto`y `colorFondo` son:\n",
    "\n",
    "| Estilo |  | Fuente | |  Fondo|\n",
    "|---|---|---|---|\n",
    "| codigo  | Valor   | codigo  | Valor  | codigo  ||\n",
    "|---|---|---|---|\n",
    "| \n",
    "|  0 |   Sin estilo   | 30 | Negro | 41\n",
    "|   1|   Negrita | 31 | Negro | 42\n",
    "|   2| Débil|  32| Negro | 43\n",
    "|   3| Cursiva|  33 | Negro | 44\n",
    "|   4| Subrayado|  34 | Negro | 45\n",
    "|   5| Inverso|  35 | Negro | 46\n",
    "|   6|    Oculto|  36 | Negro | 47\n",
    "|   7|   Tachado| 37 | Negro | 48\n",
    "\n"
   ]
  },
  {
   "cell_type": "markdown",
   "metadata": {
    "colab_type": "text",
    "id": "4hi15gAaipA5"
   },
   "source": [
    "## Módulo para el control de la pantalla\n",
    "\n",
    "En el siguiente código se ve una primera aproximación a la construcción de un módulo para facilitar la creación de etiquetas y campos en una interfaz\n",
    "alfanumérica.\n"
   ]
  },
  {
   "cell_type": "code",
   "execution_count": 0,
   "metadata": {
    "colab": {},
    "colab_type": "code",
    "id": "8fB8-f2lVB-r"
   },
   "outputs": [],
   "source": [
    "def clear():\n",
    "    print(\"\\033[2J\")\n",
    "\n",
    "def locate(line, column):\n",
    "    print(\"\\033[{};{}H\".format(line, column), end=\"\")\n",
    "    \n",
    "def clearLine(line=None, column=None):\n",
    "    if line is not None and column is not None:\n",
    "        locate(line, column)\n",
    "    elif line is not None:\n",
    "        locate(line, 1)\n",
    "        \n",
    "    print(\"\\033[K\", end=\"\")\n",
    "    \n",
    "def Print(cadena, line, column, delEnd=False):\n",
    "    locate(line, column)\n",
    "    if delEnd:\n",
    "        clearLine()\n",
    "    print(cadena, end=\"\")\n",
    "    \n",
    "def Input(msg, line, column, delEnd=True):\n",
    "    locate(line, column)\n",
    "    if delEnd:\n",
    "        clearLine()\n",
    "    return input(msg)\n",
    "\n",
    "def Format(style, colorText=37, colorBack=40):\n",
    "    print(\"\\033[{};{};{}m\".format(style, colorText, colorBack), end=\"\")\n",
    "\n",
    "def Reset():\n",
    "    Format(0)\n"
   ]
  },
  {
   "cell_type": "markdown",
   "metadata": {
    "colab_type": "text",
    "id": "rachMutrjs0S"
   },
   "source": [
    "## Adaptaciones según el sistema operativo\n",
    "\n",
    "Dado que actualmente ya no trabajamos con monitores de texto sino con emulaciones de los mismos, los códigos ANSI pueden funcionar o no dependiendo del sistema operativos. \n",
    "\n",
    "- **Windows 10**: En el caso de **windows** hemos de añadir las siguientes líneas al principio del programa\n",
    "\n",
    "```\n",
    "import subprocess\n",
    "subprocess.call('', shell=True)\n",
    "```\n",
    "\n",
    "\n",
    "\n",
    "- **Windows 8**: En este caso deberemos utilizar la librería colorama y, puesto que no forma parte de la distribución estandar de python,  habrá que instalarla. Por pasos:\n",
    "\n",
    "  1. - Añadir el siguiente código al inicio del módulo que queramos reconozca los caracteres de control ANSI\n",
    "```\n",
    "  import colorama\n",
    "  colorama.init()\n",
    "```\n",
    "\n",
    "  2. - Si ejecutamos el programa desde la consola nos dará error indicándonos que no conoce colorama. Debemos incluirlo en nuestra instalación. Para ello utilizaremos `pip`, el gestor de paquetes por defecto de python. Teclearemos\n",
    "  ```\n",
    "  pip install colorama\n",
    "  ```\n",
    "  y el, tras una ciera actividad, nos devolverá u otra versión\n",
    "  ```\n",
    "  Succesfully installed colorama-0.4.1\n",
    "  ```\n",
    "  3.- Ejecutar nuestro programa y debe funcionar\n"
   ]
  },
  {
   "cell_type": "code",
   "execution_count": 0,
   "metadata": {
    "colab": {},
    "colab_type": "code",
    "id": "oeznUNmZ69mG"
   },
   "outputs": [],
   "source": []
  }
 ],
 "metadata": {
  "colab": {
   "collapsed_sections": [],
   "name": "01.1 Interfaces de usuario. Pantalla de texto.ipynb",
   "provenance": [],
   "version": "0.3.2"
  },
  "kernelspec": {
   "display_name": "Python 3",
   "language": "python",
   "name": "python3"
  },
  "language_info": {
   "codemirror_mode": {
    "name": "ipython",
    "version": 3
   },
   "file_extension": ".py",
   "mimetype": "text/x-python",
   "name": "python",
   "nbconvert_exporter": "python",
   "pygments_lexer": "ipython3",
   "version": "3.7.1"
  }
 },
 "nbformat": 4,
 "nbformat_minor": 1
}
