{
 "cells": [
  {
   "cell_type": "markdown",
   "metadata": {
    "colab_type": "text",
    "id": "tpzLS-9E3i0T"
   },
   "source": [
    "# Ámbito de una función. Variables como etiquetas\n",
    "\n",
    "Al estudiar el [ámbito de una función](https://drive.google.com/open?id=1kesZSBPSMbXV77uYWizW5JGKwda3Vz6m) hemos visto que las variables locales sólo existen mientras una función está en ejecución y que sólo son accesibles desde esa función.\n",
    "\n",
    "Veamos, no obstante, el siguiente código"
   ]
  },
  {
   "cell_type": "code",
   "execution_count": 1,
   "metadata": {
    "colab": {
     "base_uri": "https://localhost:8080/",
     "height": 56
    },
    "colab_type": "code",
    "executionInfo": {
     "elapsed": 698,
     "status": "ok",
     "timestamp": 1540837307642,
     "user": {
      "displayName": "Ramón Maldonado Rodríguez",
      "photoUrl": "https://lh3.googleusercontent.com/-ljH7hLMa7no/AAAAAAAAAAI/AAAAAAAAAAg/pf-fwlCU1Eg/s64/photo.jpg",
      "userId": "17580681743975451950"
     },
     "user_tz": -60
    },
    "id": "zondSs3A3hrw",
    "outputId": "94a1b506-5f12-4a90-ff36-1e00a8ca58d1"
   },
   "outputs": [
    {
     "name": "stdout",
     "output_type": "stream",
     "text": [
      "[antes de llamar a miBlacBox] valor de lista: [1, 2, 3, 4, 5]\n",
      "[después de llamar a miBlackBox] valor de lista [1, 2, 3, 4, 5, 'item nuevo']\n"
     ]
    }
   ],
   "source": [
    "def miBlackBox(l, valor):\n",
    "  l.append(valor)\n",
    "\n",
    "lista = [1, 2, 3, 4, 5]\n",
    "\n",
    "print('[antes de llamar a miBlacBox] valor de lista:', lista)\n",
    "\n",
    "miBlackBox(lista, 'item nuevo')\n",
    "\n",
    "print('[después de llamar a miBlackBox] valor de lista', lista)\n"
   ]
  },
  {
   "cell_type": "markdown",
   "metadata": {
    "colab_type": "text",
    "id": "y9tqpQ28D4hI"
   },
   "source": [
    "**¿Cómo se explica?** Aunque el ejemplo de arriba parece contradecir lo indicado [aquí](https://colab.research.google.com/drive/1kesZSBPSMbXV77uYWizW5JGKwda3Vz6m#scrollTo=Ucd1qmmtyhq4&line=5&uniqifier=1) si se mira en detalle realmente no se contradice.\n",
    "\n",
    "Recordemos:\n",
    "1. Las listas son [variables que se comportan como etiquetas](https://colab.research.google.com/drive/1xhG2UZ_0dLX4QTkatHGa7lr-jpPIpTUO#scrollTo=KKmAQ3r1fEHa)\n",
    "2. Al pasar una variable como argumento a una función esta crea una nueva [variable local](https://colab.research.google.com/drive/1kesZSBPSMbXV77uYWizW5JGKwda3Vz6m#scrollTo=oo7F_hxKqNQZ&line=15&uniqifier=1) con el contenido de la original.\n",
    "\n",
    "Por lo tanto:\n",
    "- **lista** es una variable global que apunta a una lista que contiene `[1, 2, 3, 4, 5]`\n",
    "- **l** es una variable global que copia el valor de lista, por tanto también apunta a la lista que contiene `[1, 2, 3, 4, 5]`\n",
    "\n",
    "Cuando se ejecuta `l.append(valor)` lo que se hace (ya lo vimos [antes](https://colab.research.google.com/drive/1xhG2UZ_0dLX4QTkatHGa7lr-jpPIpTUO#scrollTo=Sc249gLejS2L)) es añadir valor a la lista que está apuntada por la variable l, que casualmente es la misma lista que la apuntada por la variable lista. \n",
    "\n",
    "Quizás se vea mejor gráficamente\n",
    "\n",
    "1. Antes de llamar a `miBlackBox` existe una variable de tipo lista que se comporta como una etiqueta.\n",
    "Realmente lista contiene el valor de la dirección de memoria en la que residen realmente los datos (en nuestro caso la `31`)\n",
    "\n",
    "> <img src=\"https://docs.google.com/uc?export=download&id=1WKAWqWmtUdiNXQfv1V4XgdP9FZ2KKwIA\" width=\"350\">\n",
    "\n",
    "2. Cuando se llama a `miBlackBox` se crea una variable local `l` copiando el contenido de `lista`, esto es `31` y apuntando también a los datos de la lista\n",
    "\n",
    "> <img src=\"https://docs.google.com/uc?export=download&id=1PUmcQIDoE7cKBUNIg2xg019wJIj2v_Bd\" width=\"350\">\n",
    "\n",
    "3.  Dentro de `miBlackBox` se llama a `append('item nuevo')` que añade el item a los datos apuntados por `l`\n",
    "\n",
    "> <img src=\"https://docs.google.com/uc?export=download&id=12Y1sF4d2c-D25g2aGJToNwTv-zLiTBWy\" width=\"350\">\n",
    "\n",
    "4. Cuando acaba la ejecución de `miBlackBox` la variable `l` se destruye, pero los datos apuntados por ella se han modificado, de ahí que al imprimir `lista` se refleje esa modificación.\n",
    "\n",
    "> <img src=\"https://docs.google.com/uc?export=download&id=1gvrXPQMAAmAIEfn-wsxJ_r2tijKI20lL\" width=\"350\">\n",
    "\n",
    "## Conclusión\n",
    "\n",
    "`l` y `lista` son variables distintas, la primera local y la segunda global, pero ya que las listas se comportan como etiquetas, ambas apuntan al mismo dato original. \n",
    "\n",
    "Así se explica que el código de arriba no contradiga la diferencia entre ámbitos local y global. Y vemos también que a medida que vamos profundizando en la complejidad de los programas hay que tener en cuenta cada vez mas carácterísticas para asegurarnos que modificamos los datos que queremos en la forma que queremos.\n",
    "\n",
    "\n",
    "\n",
    "\n"
   ]
  }
 ],
 "metadata": {
  "colab": {
   "collapsed_sections": [],
   "name": "01.3 Ámbito de una función (II).ipynb",
   "provenance": [],
   "version": "0.3.2"
  },
  "kernelspec": {
   "display_name": "Python 3",
   "language": "python",
   "name": "python3"
  },
  "language_info": {
   "codemirror_mode": {
    "name": "ipython",
    "version": 3
   },
   "file_extension": ".py",
   "mimetype": "text/x-python",
   "name": "python",
   "nbconvert_exporter": "python",
   "pygments_lexer": "ipython3",
   "version": "3.7.1"
  }
 },
 "nbformat": 4,
 "nbformat_minor": 1
}
