{
 "cells": [
  {
   "cell_type": "markdown",
   "metadata": {
    "colab_type": "text",
    "id": "fSx20_xbLbs3"
   },
   "source": [
    "# Tipos de variables\n",
    "\n",
    "En principio existen tantos tipos de variables como tipos de datos u una variable es del tipo del dato que contiene. Sin embargo la relación entre tipo de dato y tipo de variable depende del lenguaje de programación utilizado.\n",
    "\n",
    "Se habla entonces de la tipificación del lenguaje, más que de los tipos de variables. A la hora de determinar la relación entre el tipo de dato y el tipo de variable se consideran dos conceptos:\n",
    "- Tipado fuerte/débil\n",
    "- Tipado estático/dinámico\n",
    "\n"
   ]
  },
  {
   "cell_type": "markdown",
   "metadata": {
    "colab_type": "text",
    "id": "Wjhtv_qfM0IH"
   },
   "source": [
    "## Tipificación fuerte/débil\n",
    "\n",
    "Un lenguaje es fuertemente tipado si una variable de un determinado tipo sólo puede usarse con datos de ese tipo. Por ejemplo si definimos dos variables tales que:\n",
    "```\n",
    "a = '1'\n",
    "b = 3\n",
    "```\n",
    "\n",
    "La expresión \n",
    "```\n",
    "a + b\n",
    "```\n",
    "- en un lenguaje **fuertemente tipado** dara un error, como pasa en python (ver ejemplo más abajo)\n",
    "- pero en un lenguaje **debilmente tipado** transformará un tipo en otro desde el tipo más restrictivo al menos restrictivo y aplicará el operador `+`. Así pasa en javascript como puede verse en este [playground](https://playcode.io/139750?tabs=console&script.js&output)\n",
    "\n",
    "\n"
   ]
  },
  {
   "cell_type": "code",
   "execution_count": 0,
   "metadata": {
    "colab": {},
    "colab_type": "code",
    "id": "GUjtaWMNQ7Pg"
   },
   "outputs": [],
   "source": [
    "a = 1\n",
    "b = '3'\n",
    "a + b"
   ]
  },
  {
   "cell_type": "markdown",
   "metadata": {
    "colab_type": "text",
    "id": "2UQ0ARFZRJ00"
   },
   "source": [
    "## Ejemplos de tipado fuerte/débil\n",
    "\n",
    "En el caso de python más arriba no hay mucho que decir, nos indica que el operador + no puede trabajar con tipos entero y string, es decir ambos se mantienen en su tipo.\n",
    "\n",
    "Sin embargo, si miramos el [playground](https://playcode.io/139750?tabs=console&script.js&output) vemos que para el código \n",
    "```\n",
    "a = 1;\n",
    "b = '3';\n",
    "console.log(a+b);\n",
    "console.log(a+a);\n",
    "```\n",
    "\n",
    "obtenemos (abajo a la derecha está la consola)\n",
    "```\n",
    "13\n",
    "2\n",
    "```\n",
    "\n",
    "es decir para realizar la operación `a+b` ha utilizado el valor de a como si fuera una cadena (tipo menos estricto) y ha concatenado las dos cadenas dando `13`. \n",
    "\n",
    "Sin embargo a mantiene su tipo como entero como se ve al ejecutar `a+a` que da 2 (y no 11 si se hubiera transformado en cadena)\n",
    "\n",
    "Por entendernos, si tomamos las variables como recipientes para líquidos, un lenguaje débilmente tipado es un lenguaje al que no le importa utilizar un tanque de litro de plástico de los de litrona para meter en el cualquier cosa que se pueda beber.\n",
    "\n",
    "Un lenguaje fuertemente tipado es como alguien tan estirado que sólo bebe tinto en copa de tinto, champan en copa de champan y si me apuras no acepta un cava en una copa de champan, si no que tiene que ser copa de vidrio de cava.\n"
   ]
  },
  {
   "cell_type": "markdown",
   "metadata": {
    "colab_type": "text",
    "id": "JSzaGtkDzcp7"
   },
   "source": [
    "## Tipado dinámico/estático\n",
    "\n",
    "Este es un tema distinto. Existen lenguajes de programación en los que las variables deben definirse antes de utilizarse y esta definición debe indicar el tipo, mientras que otros lenguajes asumen el tipo de la variable en en momento de asignarle un valor.\n",
    "\n",
    "- Un lenguaje con **tipado estático** requiere que la variable se declare de un tipo y se mantiene así durante toda la vida del programa. \n",
    "- Un lenguaje con **tipado dinámico** asume el tipo de variable en función del tipo de dato que contiene y puede cambiar el tipo de la variable a lo largo del programa. \n"
   ]
  },
  {
   "cell_type": "code",
   "execution_count": 8,
   "metadata": {
    "colab": {
     "base_uri": "https://localhost:8080/",
     "height": 56
    },
    "colab_type": "code",
    "executionInfo": {
     "elapsed": 604,
     "status": "ok",
     "timestamp": 1540464267563,
     "user": {
      "displayName": "Ramón Maldonado Rodríguez",
      "photoUrl": "https://lh3.googleusercontent.com/-ljH7hLMa7no/AAAAAAAAAAI/AAAAAAAAAAg/pf-fwlCU1Eg/s64/photo.jpg",
      "userId": "17580681743975451950"
     },
     "user_tz": -120
    },
    "id": "TNcHiWJG0WvA",
    "outputId": "7a6f2dd4-6e83-4c4c-adae-91be8cc4a9ec"
   },
   "outputs": [
    {
     "name": "stdout",
     "output_type": "stream",
     "text": [
      "333\n",
      "4\n"
     ]
    }
   ],
   "source": [
    "a = 1\n",
    "b = \"3\"\n",
    "print(b*3)\n",
    "b = 3\n",
    "print(a+b)"
   ]
  },
  {
   "cell_type": "markdown",
   "metadata": {
    "colab_type": "text",
    "id": "pO6YOqjS0cbR"
   },
   "source": [
    "## Ejemplos de tipado dinámico/estático\n",
    "\n",
    "El ejemplo de python de más arriba es bastante claro, en las líneas 2 y 3 `b` es de tipo cadena y se comporta como tal (la operación `*` es repetición de cadena). Sin embargo en el momento en que se asigna un valor entero a `b`pasa a convertirse en un entero y puede sumarse con `a`.\n",
    "\n",
    "Un lenguaje de tipado estático es C, si en el momento de la compilación del programa el compilador no conoce el tipo de una variable dará error, por lo que se exige que se declare.\n",
    "\n",
    "Esto se ve comparando el código de estos dos enlaces, [codigo Ok](https://code.sololearn.com/cK53H6AJdzkw), [codigo Error](https://code.sololearn.com/cda4rz31HQgO)"
   ]
  },
  {
   "cell_type": "markdown",
   "metadata": {
    "colab_type": "text",
    "id": "kOuJNm4c8ccv"
   },
   "source": [
    "En detalle el código correcto es el que sigue:\n",
    "\n",
    "```\n",
    "01 #include <stdio.h>\n",
    "02 \n",
    "03 int main() {\n",
    "04     int a = 1;\n",
    "05     float b = 3;\n",
    "06     \n",
    "07     printf(\"%i\\n\", a); // El \\n indica salto de línea\n",
    "08     printf(\"%f\\n\", b);\n",
    "09     printf(\"%f\\n\", a + b);\n",
    "10 \treturn 0;\n",
    "11 }\n",
    "```\n",
    "\n",
    "Aunque es más ruidoso que python, centrémonos en las líneas que nos interesan.\n",
    "\n",
    "- En las líneas 4 y 5 se declaran dos variables de dos tipos distintos (`a` como entera y `b` como número con decimales)\n",
    "- En la línea 9 se suman ambas, el compilador conoce el tipo de ambas y al ser números sabe como sumarlas. El resultado será en el tipo menos restrictivo de ambas por tanto número con decimales y así se [imprime](https://code.sololearn.com/cK53H6AJdzkw).\n",
    "\n",
    "Si lo comparamos con el siguiente código\n",
    "```\n",
    "01 #include <stdio.h>\n",
    "02 \n",
    "03 int main() {\n",
    "04     int a = 1;\n",
    "05     float b = 3;\n",
    "06     \n",
    "07     printf(\"%i\\n\", a); // El \\n indica salto de línea\n",
    "08     printf(\"%f\\n\", b);\n",
    "09     c = a + b;\n",
    "10     printf(\"%f\\n\", c);\n",
    "11 \treturn 0;\n",
    "12 }\n",
    "```\n",
    "[Nos da un error](https://code.sololearn.com/cda4rz31HQgO) ya que el compilador no sabe explícitamente que c va a ser de tipo número con decimales y nos pide que declaremos el tipo de la variable. Vemos que los dos programas son equivalentes, pero el segundo no compila por ser de tipado estático."
   ]
  },
  {
   "cell_type": "markdown",
   "metadata": {
    "colab_type": "text",
    "id": "eKf8JG1t-arV"
   },
   "source": [
    "## Conclusión\n",
    "\n",
    "El tipado de variables tiene dos dimensiones fuerte/débil y estático/dinámico. Esta característica es básicamente una definición de reglas de como serán tratadas las variables. Hay lenguajes de todas las combinaciones y todos tienen sus ventajas en inconvenientes. De hecho, si miráis por internet veréis opiniones encontradas."
   ]
  }
 ],
 "metadata": {
  "colab": {
   "name": "10.1 Variables - tipos de variables y tipificación del lenguaje.ipynb",
   "provenance": [],
   "version": "0.3.2"
  },
  "kernelspec": {
   "display_name": "Python 3",
   "language": "python",
   "name": "python3"
  },
  "language_info": {
   "codemirror_mode": {
    "name": "ipython",
    "version": 3
   },
   "file_extension": ".py",
   "mimetype": "text/x-python",
   "name": "python",
   "nbconvert_exporter": "python",
   "pygments_lexer": "ipython3",
   "version": "3.7.1"
  }
 },
 "nbformat": 4,
 "nbformat_minor": 1
}
