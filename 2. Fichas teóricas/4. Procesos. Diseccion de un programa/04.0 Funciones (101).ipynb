{
 "cells": [
  {
   "cell_type": "markdown",
   "metadata": {
    "colab_type": "text",
    "id": "YdHIqAF5dJ6P"
   },
   "source": [
    "# Funciones (101)\n",
    "\n",
    "Ya hemos visto los [bloques de código](https://drive.google.com/open?id=1GqKUm-o2uqeK2XAwfWaiQEihaVNkIFT4), bien, una función no es más que un bloque de código con un nombre o etiqueta que permite invocarlo por tal nombre o etiqueta cada vez que se funcione.\n",
    "\n",
    "Volvamos con la tortuga imaginemos que queremos hacer un dibujo formado por cuatro cuadrados que forman una ventana. Una forma de hacerlo sería:\n",
    "\n"
   ]
  },
  {
   "cell_type": "code",
   "execution_count": 0,
   "metadata": {
    "colab": {},
    "colab_type": "code",
    "id": "cHlQM-KXd24v"
   },
   "outputs": [],
   "source": [
    "import turtle\n",
    "theTurtle = turtle.Turtle()\n",
    "\n",
    "for _ in range(0, 4):\n",
    "  theTurtle.forward(50)\n",
    "  theTurtle.left(90)\n",
    "  \n",
    "theTurtle.left(90)\n",
    "\n",
    "for _ in range(0, 4):\n",
    "  theTurtle.forward(50)\n",
    "  theTurtle.left(90)\n",
    "\n",
    "theTurtle.left(90)\n",
    "\n",
    "for _ in range(0, 4):\n",
    "  theTurtle.forward(50)\n",
    "  theTurtle.left(90)\n",
    "\n",
    "theTurtle.left(90)\n",
    "\n",
    "for _ in range(0, 4):\n",
    "  theTurtle.forward(50)\n",
    "  theTurtle.left(90)\n",
    "\n",
    "theTurtle.left(90)\n"
   ]
  },
  {
   "cell_type": "markdown",
   "metadata": {
    "colab_type": "text",
    "id": "Kw4NqbJseYoB"
   },
   "source": [
    "Una forma de resolverlo sería montar un bucle (ya que son cuatro repeticiones), pero otra forma, la que nos interesa aquí. Es la posibilidad de crear un bloque de código llamado cuadrado que pueda ser invocado cada vez que se necesite. A esto es a lo que llamamos una función.\n",
    "\n",
    "En python la creación de una función se hace con la instruccion `def`, veamos como:"
   ]
  },
  {
   "cell_type": "code",
   "execution_count": 0,
   "metadata": {
    "colab": {},
    "colab_type": "code",
    "id": "cY-wh1-KdD_h"
   },
   "outputs": [],
   "source": [
    "import turtle\n",
    "\n",
    "def cuadrado():\n",
    "  for _ in range(0, 4):\n",
    "    theTurtle.forward(50)\n",
    "    theTurtle.left(90)\n",
    "\n",
    "theTurtle = turtle.Turtle()\n",
    "cuadrado()\n",
    "theTurtle.left(90)\n",
    "\n",
    "cuadrado()\n",
    "theTurtle.left(90)\n",
    "\n",
    "cuadrado()\n",
    "theTurtle.left(90)\n",
    "\n",
    "cuadrado()\n",
    "theTurtle.left(90)"
   ]
  },
  {
   "cell_type": "markdown",
   "metadata": {
    "colab_type": "text",
    "id": "tB8byIL5jzr5"
   },
   "source": [
    "## Parámetros \n",
    "\n",
    "Sin embargo nuestra función tiene un problema y es que está acoplada al resto del programa. En la línea 2 creamos `theTurtle` y luego usamos `theTurtle` dentro de la función. Imaginemos un programa que usa dos tortugas `theTurtle`  y `miTortuga`. Deberíamos crear una función específica para cada tortuga.\n",
    "\n",
    "En el siguiente programa cada tortuga (están separadas por una distancia de 110) dibuja un cuadrado."
   ]
  },
  {
   "cell_type": "code",
   "execution_count": 0,
   "metadata": {
    "colab": {},
    "colab_type": "code",
    "id": "i5Zs3rytlPZD"
   },
   "outputs": [],
   "source": [
    "import turtle\n",
    "\n",
    "def cuadrado():\n",
    "  for _ in range(0, 4):\n",
    "    theTurtle.forward(50)\n",
    "    theTurtle.left(90)\n",
    "\n",
    "def cuadradoMiT():\n",
    "  for _ in range(0, 4):\n",
    "    miTortuga.forward(50)\n",
    "    miTortuga.left(90)\n",
    "\n",
    "\n",
    "theTurtle = turtle.Turtle()\n",
    "miTortuga = turtle.Turtle()\n",
    "miTortuga.forward(110)\n",
    "\n",
    "cuadrado()\n",
    "cuadradoMiT()\n"
   ]
  },
  {
   "cell_type": "markdown",
   "metadata": {
    "colab_type": "text",
    "id": "gkeYNnF5lVAy"
   },
   "source": [
    "No parece muy cómodo, por eso, las funciones permiten informarle ciertos datos de entrada (parámetros) de forma que sean útiles para distintos valores. En este caso deberíamos pasar la tortuga como parámetro. Quedaría así:"
   ]
  },
  {
   "cell_type": "code",
   "execution_count": 0,
   "metadata": {
    "colab": {},
    "colab_type": "code",
    "id": "5Ym-rkXHlxbJ"
   },
   "outputs": [],
   "source": [
    "import turtle\n",
    "\n",
    "def cuadrado(t):\n",
    "  for _ in range(0, 4):\n",
    "    t.forward(50)\n",
    "    t.left(90)\n",
    "\n",
    "theTurtle = turtle.Turtle()\n",
    "miTortuga = turtle.Turtle()\n",
    "miTortuga.forward(110)\n",
    "\n",
    "cuadrado(theTurtle)\n",
    "cuadrado(miTortuga)\n"
   ]
  },
  {
   "cell_type": "markdown",
   "metadata": {
    "colab_type": "text",
    "id": "j-G-dJSOlz2c"
   },
   "source": [
    "En la línea 12 pasamos `theTurtle` como parámetro. Ese valor (la tortuga) queda almacenado en la variable `t` de nuestra función. Cuando en la línea 13 pasamos `miTortuga` en la función `t` se referirá entonces a `miTortuga`. Por eso no es necesario que el nombre del parámetro de la función `t` coincida con la variable informada en el resto del programa `theTurtle`  o  `miTortuga`.\n",
    "\n",
    "Más adelante veremos como gestiona internamente el ordenador los valores de estas variables, pero por ahora quede que una función puede tener uno o más parámetros de entrada (separados por comas)"
   ]
  },
  {
   "cell_type": "markdown",
   "metadata": {
    "colab_type": "text",
    "id": "CjDT2tN0mhls"
   },
   "source": [
    "## Resultado de una función\n",
    "\n",
    "Una función puede utilizarse también, de hecho es lo más habitual, para obtener un resultado. Imaginemos una función que devuelve la superficie de una habitación rectángular. Ahora el siguiente código ya se entiende:"
   ]
  },
  {
   "cell_type": "code",
   "execution_count": 0,
   "metadata": {
    "colab": {
     "base_uri": "https://localhost:8080/",
     "height": 36
    },
    "colab_type": "code",
    "executionInfo": {
     "elapsed": 655,
     "status": "ok",
     "timestamp": 1542910171616,
     "user": {
      "displayName": "Ramón Maldonado Rodríguez",
      "photoUrl": "https://lh3.googleusercontent.com/-ljH7hLMa7no/AAAAAAAAAAI/AAAAAAAAAAg/pf-fwlCU1Eg/s64/photo.jpg",
      "userId": "17580681743975451950"
     },
     "user_tz": -60
    },
    "id": "e6kIDd6Ym7R-",
    "outputId": "3dffb71f-7115-419a-a2e7-99d8965935b9"
   },
   "outputs": [
    {
     "name": "stdout",
     "output_type": "stream",
     "text": [
      "Base: 5 Altura: 3 Superficie: 15\n"
     ]
    }
   ],
   "source": [
    "def rect(b, h):\n",
    "  superficie = b * h\n",
    "  return superficie\n",
    "\n",
    "b = 5\n",
    "h = 3\n",
    "\n",
    "print(\"Base:\", b, \"Altura:\", h, \"Superficie:\", rect(b,h))"
   ]
  },
  {
   "cell_type": "markdown",
   "metadata": {
    "colab_type": "text",
    "id": "90Osg0arnPpx"
   },
   "source": [
    "La forma en que una función devuelve resultados es por medio de la instrucción `return`. Esta será la última instrucción que ejecute la función, si se escribe algo detrás no se ejecutará.\n",
    "\n",
    "En definitiva una función es un bloque de codigo con una etiqueta (nombre) que lo identifica y permite invocarlo cada vez que se necesite y permite el envío de parámetros de entrada (tantos como se quiera) y puede devolver un resultado"
   ]
  },
  {
   "cell_type": "markdown",
   "metadata": {
    "colab_type": "text",
    "id": "UrA-kKmyHyYQ"
   },
   "source": [
    "Más información en el [tema de funciones](https://drive.google.com/open?id=1C5P_bZ5vHyUS52xxE_KJ3Imi2y0S_u2D)"
   ]
  }
 ],
 "metadata": {
  "colab": {
   "collapsed_sections": [],
   "name": "04.0 - Funciones (101).ipynb",
   "provenance": [],
   "version": "0.3.2"
  },
  "kernelspec": {
   "display_name": "Python 3",
   "language": "python",
   "name": "python3"
  },
  "language_info": {
   "codemirror_mode": {
    "name": "ipython",
    "version": 3
   },
   "file_extension": ".py",
   "mimetype": "text/x-python",
   "name": "python",
   "nbconvert_exporter": "python",
   "pygments_lexer": "ipython3",
   "version": "3.7.1"
  }
 },
 "nbformat": 4,
 "nbformat_minor": 1
}
