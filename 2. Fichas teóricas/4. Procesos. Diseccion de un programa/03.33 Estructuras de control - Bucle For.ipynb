{
 "cells": [
  {
   "cell_type": "markdown",
   "metadata": {
    "colab_type": "text",
    "id": "W2IrgvCqwEmo"
   },
   "source": [
    "# Estructuras de control - Bucle For\n",
    "\n",
    "Se trata de repetir un bloque de código un número determinado de veces. Así se vería en python\n",
    "```\n",
    "01\tfor veces in range(1,10):\n",
    "02\t\tInstruccion 01\n",
    "03\t\tInstruccion 02\n",
    "04\tInstruccion 03\n",
    "```\n",
    "\n",
    "En este caso el bloque de instrucciones formado por las líneas 2 y 3 del programa (Instrucción 01, Instrucción 02)\n",
    "\n",
    "Veamos un ejemplo tonto:"
   ]
  },
  {
   "cell_type": "code",
   "execution_count": 3,
   "metadata": {
    "colab": {
     "base_uri": "https://localhost:8080/",
     "height": 153
    },
    "colab_type": "code",
    "executionInfo": {
     "elapsed": 5221,
     "status": "ok",
     "timestamp": 1540312311177,
     "user": {
      "displayName": "Ramón Maldonado Rodríguez",
      "photoUrl": "",
      "userId": "17580681743975451950"
     },
     "user_tz": -120
    },
    "id": "WIQciYs6wAjk",
    "outputId": "cb11dcf1-cd7a-42f9-befd-5ab083770ae7"
   },
   "outputs": [
    {
     "name": "stdout",
     "output_type": "stream",
     "text": [
      "¿Cuantos asteriscos quieres? k\n",
      "Pues imprimo 5\n",
      "*\n",
      "*\n",
      "*\n",
      "*\n",
      "*\n"
     ]
    }
   ],
   "source": [
    "strNumRepeticiones = input(\"¿Cuantos asteriscos quieres? \")\n",
    "if strNumRepeticiones.isdigit():\n",
    "  numRepeticiones = int(strNumRepeticiones)\n",
    "else:\n",
    "  numRepeticiones = 5\n",
    "  print (\"Pues imprimo 5\")\n",
    "\n",
    "#Ahora el bucle\n",
    "for veces in range(0,numRepeticiones):\n",
    "  print(\"*\")\n",
    "  "
   ]
  },
  {
   "cell_type": "markdown",
   "metadata": {
    "colab_type": "text",
    "id": "wENDRXRhxLxa"
   },
   "source": [
    "## Consideraciones sobre range\n",
    "\n",
    "Cuando en python escribimos range(ini, fin), lo que nos devuelve es el siguiente conjunto de valores:\n",
    "\n",
    "```\n",
    "[ini, fin)\n",
    "```\n",
    "es decir\n",
    "\n",
    "```\n",
    "ini, ini+1, ini+2,..., fin-2, fin-1\n",
    "```\n",
    "\n",
    "Si nos fijamos el valor superior no forma parte del rango, el rango es tal que nos devuelve todos los enteros entre ini y fin sin incluir este último valor. Por eso el rango de la línea 9 del código es (0, numRepeticiones), así nos aseguramos que vaya desde 0 hasta numRepeticiones - 1 (no incluye numRepeticiones). Si quieres entenderlo mejor...\n",
    "\n",
    "### Haz la prueba\n",
    "\n",
    "Cambia la línea 9 por `for veces in range(1, numRepeticiones)` y mira cuantos asteriscos imprime si le pides 3 por ejemplo.\n",
    "\n",
    "Aún mejor, haz que el programa de arriba imprima el valor de veces en lugar de un asterisco. Intentalo antes de ver la [solución](https://colab.research.google.com/drive/1iCnLo-RdIT8Dl9n36iYUQUNf4mjzYvWn#scrollTo=VIrGrahde1H8&line=10&uniqifier=1).\n",
    "\n",
    "## Conclusión\n",
    "\n",
    "Un punto interesante como programador es que te atrevas a experimentar tal y como hemos visto con range y preguntarle al código que está haciendo por medio de visualización de valores cuando interese (print en su forma más básica o utilizando otras técnicas que iremos viendo).\n",
    "\n"
   ]
  }
 ],
 "metadata": {
  "colab": {
   "name": "083 Estructuras de control - Bucle For.ipynb",
   "provenance": [],
   "version": "0.3.2"
  },
  "kernelspec": {
   "display_name": "Python 3",
   "language": "python",
   "name": "python3"
  },
  "language_info": {
   "codemirror_mode": {
    "name": "ipython",
    "version": 3
   },
   "file_extension": ".py",
   "mimetype": "text/x-python",
   "name": "python",
   "nbconvert_exporter": "python",
   "pygments_lexer": "ipython3",
   "version": "3.7.1"
  }
 },
 "nbformat": 4,
 "nbformat_minor": 1
}
