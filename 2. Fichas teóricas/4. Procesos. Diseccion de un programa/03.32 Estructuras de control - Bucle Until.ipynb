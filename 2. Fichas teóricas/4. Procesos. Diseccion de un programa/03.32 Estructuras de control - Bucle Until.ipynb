{
 "cells": [
  {
   "cell_type": "markdown",
   "metadata": {
    "colab_type": "text",
    "id": "XJfqOhC1r6PK"
   },
   "source": [
    "# Estructuras de control - Bucle Until\n",
    "\n",
    "Este bucle no puede implementarse en python veamoslo en Visual Basic\n",
    "```\n",
    "01 condition = false\n",
    "02\tDo Until condition = true\n",
    "03\t\tInstruccion 01\n",
    "04\t\tInstruccion 02\n",
    "05\t\tcondition = comprobarCondition()\n",
    "06\tLoop\n",
    "07\tInstruccion 03\n",
    "```\n",
    "\n",
    "En este caso para entrar en el bucle *condition* no debe ser verdadera y así se hace en la línea 02. El bloque de código está formado por las líneas comprendidas entre el Do y el Loop por lo que las líneas 03, 04 y 05 se ejecutaran las veces necesarias hasta que condition pase a ser verdadera.\n",
    "\n",
    "La línea 05 es esencial, si no se comprobara en cada ciclo la variable condition la **repetición** sería **infinita**. En el momento que la ejecución de la línea 05 asigne un valor true a condition[1] finalizará el bucle y se podrá ejecutar la línea 07.\n",
    "\n",
    "\n",
    "￼\n",
    "[1] comprobarCondition() es una función. Básicamente ejecuta un bloque de código situado en otra parte. Esto se verá en otro apartado de la documentación"
   ]
  },
  {
   "cell_type": "markdown",
   "metadata": {
    "colab_type": "text",
    "id": "fc1fPY1huJl_"
   },
   "source": [
    "## Para pensar\n",
    "\n",
    "Python no implementa este tipo de bucle porque **el bucle until y el bucle while** son equivalentes. Para convertir uno en otro basta con cambiar la condición a su contraria y el while pasa a ser until y viceversa. Aunque no podamos probarlo con python si [volvemos al código del bucle while](https://colab.research.google.com/drive/1L_k37omDC_9RzXS2TtCuBZBJOt4ok0Yx#scrollTo=rg76VB32oAJu&line=2&uniqifier=1) podemos ver que basta con cambiar la condición a su contraria para ser equivalentes. Así\n"
   ]
  },
  {
   "cell_type": "markdown",
   "metadata": {
    "colab_type": "text",
    "id": "DoFVOO_WtKda"
   },
   "source": [
    "```\n",
    "indicadorDeContinuacion = \"S\"\n",
    "while indicadorDeContinuacion == 'S' or indicadorDeContinuacion == 's':\n",
    "  print(\"Pues yo sigo...\")\n",
    "  indicadorDeContinuacion = input(\"¿Sigo? \")\n",
    "print(\"Vaaale, acabo\")\n",
    "```\n",
    "\n",
    "Es equivalente a:\n",
    "```\n",
    "indicadorDeContinuacion = \"S\"\n",
    "until indicadorDeContinuacion != 'S' and indicadorDeContinuacion != 's':\n",
    "  print(\"Pues yo sigo...\")\n",
    "  indicadorDeContinuacion = input(\"¿Sigo? \")\n",
    "print(\"Vaaale, acabo\")\n",
    "```\n",
    "\n",
    "código que no puede ejecutarse en python, pero vemos que la condición \n",
    "```\n",
    "mientras indicadorDeContinuacion sea igual a 'S' o 's'\n",
    "``` \n",
    "es la misma que\n",
    "```\n",
    "hasta que indicadorDeContinuacion sea distinto de 'S' y distinto de 's'\n",
    "```\n",
    "\n",
    "En ambos casos si yo pulso cualquier tecla que no sea la s (mayúscula o minúscula) el bucle acabará y también en ambos casos está asegurado que se ejecute el bucle una primera vez al poner el ** *indicadorDeContinuacion* a 'S'** al comienzo del programa\n"
   ]
  }
 ],
 "metadata": {
  "colab": {
   "name": "082 Estructuras de control - Bucle Until.ipynb",
   "provenance": [],
   "version": "0.3.2"
  },
  "kernelspec": {
   "display_name": "Python 3",
   "language": "python",
   "name": "python3"
  },
  "language_info": {
   "codemirror_mode": {
    "name": "ipython",
    "version": 3
   },
   "file_extension": ".py",
   "mimetype": "text/x-python",
   "name": "python",
   "nbconvert_exporter": "python",
   "pygments_lexer": "ipython3",
   "version": "3.7.1"
  }
 },
 "nbformat": 4,
 "nbformat_minor": 1
}
