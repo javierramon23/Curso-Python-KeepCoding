{
 "cells": [
  {
   "cell_type": "markdown",
   "metadata": {
    "colab_type": "text",
    "id": "C7V-H4QgUQJ3"
   },
   "source": [
    "# Argumentos de una función\n",
    "\n",
    "Ya hemos visto que los argumentos de una función son los datos de entrada de la función que serán procesados por esta. Y en principio hemos visto la forma más sencilla de los mismos.\n",
    "\n",
    "No obstante podemor reconocer, en python, los siguientes tipos de argumentos:\n",
    "\n",
    "- argumentos **fijos**\n",
    "- argumentos **por defecto**\n",
    "- argumentos **variables**\n",
    "- argumentos **variables clave-valor**\n",
    "\n",
    "\n"
   ]
  },
  {
   "cell_type": "markdown",
   "metadata": {
    "colab_type": "text",
    "id": "QNtkWlIMVXTr"
   },
   "source": [
    "## Argumentos fijos\n",
    "\n",
    "Los vistos hasta ahora. Si no se informan todos se produce un error"
   ]
  },
  {
   "cell_type": "code",
   "execution_count": 0,
   "metadata": {
    "colab": {
     "base_uri": "https://localhost:8080/",
     "height": 219
    },
    "colab_type": "code",
    "executionInfo": {
     "elapsed": 860,
     "status": "error",
     "timestamp": 1540841701485,
     "user": {
      "displayName": "Ramón Maldonado Rodríguez",
      "photoUrl": "https://lh3.googleusercontent.com/-ljH7hLMa7no/AAAAAAAAAAI/AAAAAAAAAAg/pf-fwlCU1Eg/s64/photo.jpg",
      "userId": "17580681743975451950"
     },
     "user_tz": -60
    },
    "id": "g2cLFTqNSXPT",
    "outputId": "d633b2cf-6770-4a08-87a8-526e357a4ed1"
   },
   "outputs": [
    {
     "ename": "TypeError",
     "evalue": "ignored",
     "output_type": "error",
     "traceback": [
      "\u001b[0;31m---------------------------------------------------------------------------\u001b[0m",
      "\u001b[0;31mTypeError\u001b[0m                                 Traceback (most recent call last)",
      "\u001b[0;32m<ipython-input-1-05728f255129>\u001b[0m in \u001b[0;36m<module>\u001b[0;34m()\u001b[0m\n\u001b[1;32m      2\u001b[0m   \u001b[0;32mreturn\u001b[0m \u001b[0ms1\u001b[0m \u001b[0;34m+\u001b[0m \u001b[0ms2\u001b[0m\u001b[0;34m\u001b[0m\u001b[0m\n\u001b[1;32m      3\u001b[0m \u001b[0;34m\u001b[0m\u001b[0m\n\u001b[0;32m----> 4\u001b[0;31m \u001b[0madd\u001b[0m\u001b[0;34m(\u001b[0m\u001b[0;36m1\u001b[0m\u001b[0;34m)\u001b[0m\u001b[0;34m\u001b[0m\u001b[0m\n\u001b[0m",
      "\u001b[0;31mTypeError\u001b[0m: add() missing 1 required positional argument: 's2'"
     ]
    }
   ],
   "source": [
    "def add(s1, s2):\n",
    "  return s1 + s2\n",
    "\n",
    "add(1)"
   ]
  },
  {
   "cell_type": "markdown",
   "metadata": {
    "colab_type": "text",
    "id": "W0z1Y8iCWfe0"
   },
   "source": [
    "## Argumentos por defecto\n",
    "\n",
    "Este es un caso especial de los argumentos fijos. A propuesta del programador puede haber algunos argumentos que si no se informan tengan un valor por defecto, así:\n"
   ]
  },
  {
   "cell_type": "code",
   "execution_count": 0,
   "metadata": {
    "colab": {
     "base_uri": "https://localhost:8080/",
     "height": 94
    },
    "colab_type": "code",
    "executionInfo": {
     "elapsed": 593,
     "status": "ok",
     "timestamp": 1540847808532,
     "user": {
      "displayName": "Ramón Maldonado Rodríguez",
      "photoUrl": "https://lh3.googleusercontent.com/-ljH7hLMa7no/AAAAAAAAAAI/AAAAAAAAAAg/pf-fwlCU1Eg/s64/photo.jpg",
      "userId": "17580681743975451950"
     },
     "user_tz": -60
    },
    "id": "--KZ3tDyrJjE",
    "outputId": "d6d7ca23-d7eb-4179-9e01-ea4587c4ebb9"
   },
   "outputs": [
    {
     "name": "stdout",
     "output_type": "stream",
     "text": [
      "1028.5\n",
      "425.0\n",
      "93.60000000000001\n",
      "217.79999999999998\n"
     ]
    }
   ],
   "source": [
    "def factura_neta(bruto, iva=21, irpf=15):\n",
    "  iva = iva/100\n",
    "  irpf = irpf/100\n",
    "  return bruto * (1 - irpf) * (1 + iva)\n",
    "\n",
    "\n",
    "print(factura_neta(1000))\n",
    "print(factura_neta(500, 0))\n",
    "print(factura_neta(100, 4, 10))\n",
    "\n",
    "print(factura_neta(200, irpf=10))"
   ]
  },
  {
   "cell_type": "markdown",
   "metadata": {
    "colab_type": "text",
    "id": "p0Yaf_mxsRl6"
   },
   "source": [
    "Puede verse que python facilita que se informe por nombre el argumento que se envía y no sólo por orden."
   ]
  },
  {
   "cell_type": "markdown",
   "metadata": {
    "colab_type": "text",
    "id": "ZqbAqoaoViHE"
   },
   "source": [
    "## Argumentos variables\n",
    "\n",
    "Estamos hablando en este caso de funciones que pueden recibir un número variable de argumentos. Por ejemplo una función que calcula la media de una cantidad indeterminada de números. \n",
    "\n",
    "En este caso se identifica la lista indeterminada de valores con el nombre antecedido por un asterisco.\n",
    "\n",
    "En código queda más claro..."
   ]
  },
  {
   "cell_type": "code",
   "execution_count": 0,
   "metadata": {
    "colab": {
     "base_uri": "https://localhost:8080/",
     "height": 56
    },
    "colab_type": "code",
    "executionInfo": {
     "elapsed": 526,
     "status": "ok",
     "timestamp": 1540849066593,
     "user": {
      "displayName": "Ramón Maldonado Rodríguez",
      "photoUrl": "https://lh3.googleusercontent.com/-ljH7hLMa7no/AAAAAAAAAAI/AAAAAAAAAAg/pf-fwlCU1Eg/s64/photo.jpg",
      "userId": "17580681743975451950"
     },
     "user_tz": -60
    },
    "id": "PvrPscSbV6Dm",
    "outputId": "f7da3dcd-dcfd-4924-92d4-021185204c3b"
   },
   "outputs": [
    {
     "name": "stdout",
     "output_type": "stream",
     "text": [
      "3.0\n",
      "6.0\n"
     ]
    }
   ],
   "source": [
    "def media(*numeros):\n",
    "  suma = 0\n",
    "  for medida in numeros:\n",
    "    suma = suma + medida\n",
    "    \n",
    "  return suma/len(numeros)\n",
    "\n",
    "print(media(1,2,3,4,5))\n",
    "lista = [2, 4, 6, 8, 10]\n",
    "print(media(*lista))"
   ]
  },
  {
   "cell_type": "markdown",
   "metadata": {
    "colab_type": "text",
    "id": "ZVprqRIlxPBf"
   },
   "source": [
    "Vemos en el ejemplo que si pasamos n argumentos,  los toma como una lista de n elementos que era lo esperable.\n",
    "\n",
    "Pero podemos utilizar esta misma función pasándole la lista, siempre y cuando tengamos el cuidado de añadir el asterisco inicial al invocar la funcion"
   ]
  },
  {
   "cell_type": "markdown",
   "metadata": {
    "colab_type": "text",
    "id": "joEYu308WcLw"
   },
   "source": [
    "## Argumentos variables por clave - valor\n",
    "\n",
    "Son similares a los argumentos variables pero en este caso se informan por pares clave valor. En este caso el diccionario de argumentos se pasa con dos astericos antecediendo a su nombre\n",
    "\n",
    "Veamos un ejemplo"
   ]
  },
  {
   "cell_type": "code",
   "execution_count": 0,
   "metadata": {
    "colab": {
     "base_uri": "https://localhost:8080/",
     "height": 133
    },
    "colab_type": "code",
    "executionInfo": {
     "elapsed": 504,
     "status": "ok",
     "timestamp": 1540848884709,
     "user": {
      "displayName": "Ramón Maldonado Rodríguez",
      "photoUrl": "https://lh3.googleusercontent.com/-ljH7hLMa7no/AAAAAAAAAAI/AAAAAAAAAAg/pf-fwlCU1Eg/s64/photo.jpg",
      "userId": "17580681743975451950"
     },
     "user_tz": -60
    },
    "id": "U3JmfIems9BY",
    "outputId": "3458aa44-b2f8-4811-9d0b-b4d41c5dc595"
   },
   "outputs": [
    {
     "name": "stdout",
     "output_type": "stream",
     "text": [
      "lengua :  8\n",
      "matematicas :  7.5\n",
      "ciencias_naturales :  6\n",
      "ciencias_sociales :  8\n",
      "  ***  \n",
      "Nota Media:  7.375\n"
     ]
    }
   ],
   "source": [
    "def NotasyMedia(**notas):\n",
    "\n",
    "  media = 0\n",
    "  for asignatura, nota in notas.items():\n",
    "    print(asignatura, \": \", nota)\n",
    "    media = media + nota\n",
    "    \n",
    "  print(\"  ***  \")\n",
    "  print(\"Nota Media: \", media/len(notas))\n",
    "  \n",
    "NotasyMedia(lengua = 8, matematicas = 7.5, ciencias_naturales = 6, ciencias_sociales= 8)"
   ]
  },
  {
   "cell_type": "markdown",
   "metadata": {
    "colab_type": "text",
    "id": "xgh_J2x0xm0r"
   },
   "source": [
    "De igual modo que con los argumentos variables (como listas). Vemos que en el caso de argumentos variables por clave-valor, podemos pasar el diccionario como argumento si al invocar le añadimos los dos asteriscos."
   ]
  },
  {
   "cell_type": "code",
   "execution_count": 0,
   "metadata": {
    "colab": {
     "base_uri": "https://localhost:8080/",
     "height": 114
    },
    "colab_type": "code",
    "executionInfo": {
     "elapsed": 575,
     "status": "ok",
     "timestamp": 1540848996781,
     "user": {
      "displayName": "Ramón Maldonado Rodríguez",
      "photoUrl": "https://lh3.googleusercontent.com/-ljH7hLMa7no/AAAAAAAAAAI/AAAAAAAAAAg/pf-fwlCU1Eg/s64/photo.jpg",
      "userId": "17580681743975451950"
     },
     "user_tz": -60
    },
    "id": "hG1rOAPTtl1U",
    "outputId": "2c5ac7c1-f609-473a-d841-b9f38a478bf8"
   },
   "outputs": [
    {
     "name": "stdout",
     "output_type": "stream",
     "text": [
      "Bioquímica I :  6.7\n",
      "Histología :  9.5\n",
      "Botánica :  7\n",
      "  ***  \n",
      "Nota Media:  7.733333333333333\n"
     ]
    }
   ],
   "source": [
    "misNotas = {\"Bioquímica I\": 6.7, \"Histología\": 9.5, \"Botánica\": 7}\n",
    "NotasyMedia(**misNotas)"
   ]
  },
  {
   "cell_type": "markdown",
   "metadata": {
    "colab_type": "text",
    "id": "cF8iBgj0yLf6"
   },
   "source": [
    "## Orden de argumentos\n",
    "\n",
    "En el caso de que la función requiera argumentos de varios tipos el orden de los mismos será:\n",
    "- Primero los posicionales\n",
    "- Después los variables (listas)\n",
    "- Después los variables por clave - valor (diccionarios)"
   ]
  }
 ],
 "metadata": {
  "colab": {
   "collapsed_sections": [],
   "name": "01.4 Argumentos de una función.ipynb",
   "provenance": [],
   "version": "0.3.2"
  },
  "kernelspec": {
   "display_name": "Python 3",
   "language": "python",
   "name": "python3"
  },
  "language_info": {
   "codemirror_mode": {
    "name": "ipython",
    "version": 3
   },
   "file_extension": ".py",
   "mimetype": "text/x-python",
   "name": "python",
   "nbconvert_exporter": "python",
   "pygments_lexer": "ipython3",
   "version": "3.7.1"
  }
 },
 "nbformat": 4,
 "nbformat_minor": 1
}
