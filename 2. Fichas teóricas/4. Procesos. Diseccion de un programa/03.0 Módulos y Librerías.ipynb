{
 "cells": [
  {
   "cell_type": "markdown",
   "metadata": {
    "colab_type": "text",
    "id": "HpkELDob4AQp"
   },
   "source": [
    "# Módulos\n",
    "\n",
    "Hagamos un programa que nos diga que sandwich preparar. Tendremos tipo de pan, untables y un par de ingredientes más. El programa nos indicará que sandwich toca hoy:"
   ]
  },
  {
   "cell_type": "code",
   "execution_count": 6,
   "metadata": {
    "colab": {
     "base_uri": "https://localhost:8080/",
     "height": 56
    },
    "colab_type": "code",
    "executionInfo": {
     "elapsed": 532,
     "status": "ok",
     "timestamp": 1540884560224,
     "user": {
      "displayName": "Ramón Maldonado Rodríguez",
      "photoUrl": "https://lh3.googleusercontent.com/-ljH7hLMa7no/AAAAAAAAAAI/AAAAAAAAAAg/pf-fwlCU1Eg/s64/photo.jpg",
      "userId": "17580681743975451950"
     },
     "user_tz": -60
    },
    "id": "4LRIP9HP3_TX",
    "outputId": "eae88219-3c01-40cb-dcce-208434679e5e"
   },
   "outputs": [
    {
     "name": "stdout",
     "output_type": "stream",
     "text": [
      "MI SANDWICH HOY\n",
      "Un sandwich de pepinillos y lechuga en pan centeno con mermelada\n"
     ]
    }
   ],
   "source": [
    "import random\n",
    "\n",
    "panes = ['blanco', 'integral', 'de espelta', 'de centeno', 'de mollete', 'de semillas', 'de pasas', 'viena']\n",
    "untables = ['mantequilla', 'aceite de oliva', 'mayonesa', 'margarina', 'crema de cacahuete', 'nocilla', 'mermelada']\n",
    "lodecomel = ['jamon serrano', 'jamon cocido', 'tomate', 'lechuga', 'atún', 'pepinillos', 'carne mechá', 'esparrágos']\n",
    "\n",
    "pan = random.randint(0, len(panes)-1)\n",
    "untable = random.randint(0, len(untables)-1)\n",
    "ingrediente1 = random.randint(0, len(lodecomel)-1)\n",
    "ingrediente2 = ingrediente1\n",
    "while ingrediente2 == ingrediente1:\n",
    "  ingrediente2 = random.randint(0, len(lodecomel))\n",
    "  \n",
    "print('MI SANDWICH HOY')\n",
    "print('Un sandwich de', lodecomel[ingrediente1], 'y', lodecomel[ingrediente2], 'en pan', panes[pan], 'con', untables[untable])\n"
   ]
  },
  {
   "cell_type": "markdown",
   "metadata": {
    "colab_type": "text",
    "id": "OtUtWCNg4NEK"
   },
   "source": [
    "Dejo para el lector la comprensión fina del programa. Primero definimos tres listas de ingredientes para el sandwich y luego elegimos al azar un ingrediente de cada lista, excepto de la lista `lodecomel` que elegimos dos.\n",
    "\n",
    "Lo importante del programa es que el sandwich es elegido al azar. Para esto necesitamos una función que nos dé un número al azar entre 0 y la longitud de la lista que vamos a usar (¿por qué menos uno?):\n",
    "\n",
    "```\n",
    "pan = random.randint(0, len(panes) - 1)\n",
    "```\n",
    "\n",
    "La funcionalidad de obtener un entero entre 0 y 7 (sentencia de arriba) no forma parte del núcleo de python y debemos utilizarla del módulo random que debe ser importado a nuestro programa.\n",
    "\n",
    "```\n",
    "import random\n",
    "```\n",
    "\n",
    "Para utilizar la funcionalidad de este módulo, invocaremos las funciones que pertenecen a él por medio del operador `.`\n",
    "\n",
    "```\n",
    "random.randint(entero_inferior, entero_superior)\n",
    "```"
   ]
  },
  {
   "cell_type": "markdown",
   "metadata": {
    "colab_type": "text",
    "id": "6X1yFi3l5bB8"
   },
   "source": [
    "## Algunas consideraciones sobre los módulos\n",
    "\n",
    "Python viene con un conjunto de modulos por defecto (turtle y random son un par de ellos) que pueden importarse cuando se necesiten.\n",
    "\n",
    "Cuando se incluye la sentencia `import module` en python,\n",
    "1. Python busca module entre sus módulos por defecto\n",
    "2. Si no lo encuentra busca en el directorio donde se está ejecutando el programa para encontrar el modulo\n",
    "3. Si no lo encuentra da error\n",
    "\n",
    "Cualquier fichero.py (es decir cualquier programa) puede ser importado como módulo por otro fichero.py. \n",
    "\n",
    "\n"
   ]
  },
  {
   "cell_type": "markdown",
   "metadata": {
    "colab_type": "text",
    "id": "zOpDqBcy9o1Y"
   },
   "source": [
    "## Creando nuestros propios módulos\n",
    "\n",
    "De esta forma podríamos tomar el [programa que dibuja un triángulo equilatero de lado l](https://colab.research.google.com/drive/1x56Lq6QeAzMOf6Kr4Ys-F6Jfr2E2CF1L#scrollTo=c8tHi4y2y5h0), calcula su perímetro y su superficie e importarlo como módulo en otro programa para acceder a su funcionalidad.\n",
    "\n",
    "Sin embargo si revisamos el código vemos que en las líneas finales este programa dibuja un triángulo de 150 puntos de lado.\n",
    "\n",
    "Esta funcionalidad no nos interesa cuando lo utilizamos como módulo.\n",
    "\n",
    "Se plantea así una duda, ¿**como se sabe si un programa se está ejecutando como módulo** dentro de otro programa o ha sido invocado directamente desde la consola?.\n",
    "\n"
   ]
  },
  {
   "cell_type": "markdown",
   "metadata": {
    "colab_type": "text",
    "id": "dbT7wGRR-QCW"
   },
   "source": [
    "### Programa principal o módulo (dentro de otro programa)\n",
    "\n",
    "Cuando se lanza la ejecución de un programa python el interprete crea una variable globla llamada `__name__` en la que indica si el programa ha sido invocado directamente de la consola o si ha sido importado como módulo dentro de otro programa.\n",
    "- `__name__`: es `__main__` si `fichero.py` se llama directamente desde la consola\n",
    "- `__name__`: es `fichero` si `fichero.py` está importado desde otro programa invocado desde la consola\n",
    "\n",
    "Esto nos permite crear modulos.\n",
    "\n",
    "Modifiquemos el programa de los triángulos equiláteros para transformarlo en módulo"
   ]
  },
  {
   "cell_type": "code",
   "execution_count": 0,
   "metadata": {
    "colab": {},
    "colab_type": "code",
    "id": "8J8cXyim_NUO"
   },
   "outputs": [],
   "source": [
    "from turtle import Turtle\n",
    "\n",
    "def drawTriangle(tortuga, x, y, lado):\n",
    "    tortuga.penup()\n",
    "    tortuga.setposition(x, y)\n",
    "    tortuga.pendown()\n",
    "    \n",
    "    for _ in range(0, 3):\n",
    "        tortuga.forward(lado)\n",
    "        tortuga.left(120)\n",
    "        \n",
    "def alturaEquilatero(lado):\n",
    "  return 3 ** 0.5 * lado / 2\n",
    "\n",
    "def perimetroEquilatero(lado):\n",
    "  return 3 * lado\n",
    "\n",
    "def superficieEquilatero(lado):\n",
    "  return lado * alturaEquilatero(lado) / 2\n",
    "\n",
    "def triangulo(tortuga, lado, x=0, y=0):\n",
    "  drawTriangle(tortuga, x, y, lado)\n",
    "  print(\"Perímetro:  \", perimetroEquilatero(lado), \" pixels\")\n",
    "  print(\"Superficie: \", superficieEquilatero(lado), \" pixels^2\")\n",
    "  \n",
    "\n",
    "if __name__ == '__main__':\n",
    "  triggy = turtle.Turtle()\n",
    "  triggy.speed(99)\n",
    "\n",
    "  triangulo(triggy, 150)"
   ]
  },
  {
   "cell_type": "markdown",
   "metadata": {
    "colab_type": "text",
    "id": "0mkhONoQ_W83"
   },
   "source": [
    "Ahora podemos utilizarlo como módulo. Si creamos un fichero `triangulos.py` en IDLE con el código de arriba podemos crear otro fichero como el de abajo que lo utilice."
   ]
  },
  {
   "cell_type": "code",
   "execution_count": 0,
   "metadata": {
    "colab": {},
    "colab_type": "code",
    "id": "8UHroNn73qrN"
   },
   "outputs": [],
   "source": [
    "import triangulos\n",
    "\n",
    "miTortuga = triangulos.Turtle()\n",
    "triangulos.triangulo(miTortuga, 80)"
   ]
  },
  {
   "cell_type": "markdown",
   "metadata": {
    "colab_type": "text",
    "id": "ID013Cma_3sf"
   },
   "source": [
    "Pero también podemos importar sólo la parte que nos interesa. \n",
    "\n",
    "Antes de verlo seamos conscientes que cuando importamos una función que llama a otras funciones importamos la función principal y de forma implícita todas las [funciones anidadas](https://colab.research.google.com/drive/1x56Lq6QeAzMOf6Kr4Ys-F6Jfr2E2CF1L#scrollTo=RSQIUZD6fU--&line=3&uniqifier=1) de forma que tendremos la funcionalidad completa. Sin embargo las funciones anidadas no pueden llamarse.\n",
    "\n",
    "Veamos como queda la importación parcial de un módulo:"
   ]
  },
  {
   "cell_type": "code",
   "execution_count": 0,
   "metadata": {
    "colab": {},
    "colab_type": "code",
    "id": "a-RFFiBfBe7I"
   },
   "outputs": [],
   "source": [
    "from triangulos import superficieEquilatero, alturaEquilatero\n",
    "\n",
    "lado = \"\"\n",
    "while not lado.isdigit():\n",
    "    lado = input(\"Lado: \")\n",
    "\n",
    "l = int(lado)\n",
    "print(\"Triangulo equilatero de lado\", l)\n",
    "print(\"---\")\n",
    "print(\"Perímetro:\", l * 3)\n",
    "print(\"Superficie:\", superficieEquilatero(l))\n",
    "print(\"Altura:\", alturaEquilatero(l))\n"
   ]
  },
  {
   "cell_type": "markdown",
   "metadata": {
    "colab_type": "text",
    "id": "gcjOU4atChvD"
   },
   "source": [
    "# Librerías\n",
    "\n",
    "Una librería es una palabra que puede usarse como sinónimo de módulo o como conjunto de módulos para una determinada funcionalidad.\n",
    "\n",
    "Normalmente una librería es un conjunto de módulos que se publican para que sean de uso público. Se suelen publicar en forma de paquetes.\n",
    "\n",
    "Paquetes conocidos pueden ser librerías para desarrollo web como `flask` o `Django` o librerías para desarrollo de juegos como `pygame`.  \n",
    "\n",
    "Estas librerías suelen instalarse con gestores de paquetes, dos de los más conocidos para python son `pip` y `pygame`.\n",
    "\n",
    "Aún es pronto para ver como funcionan. \n",
    "\n",
    "Por ahora basta con saber que podemos importar funciones en nuestros programas tomándolas de otros programas como si fueran módulo.\n",
    "\n"
   ]
  }
 ],
 "metadata": {
  "colab": {
   "collapsed_sections": [],
   "name": "02.0 Módulos y Librerías.ipynb",
   "provenance": [],
   "version": "0.3.2"
  },
  "kernelspec": {
   "display_name": "Python 3",
   "language": "python",
   "name": "python3"
  },
  "language_info": {
   "codemirror_mode": {
    "name": "ipython",
    "version": 3
   },
   "file_extension": ".py",
   "mimetype": "text/x-python",
   "name": "python",
   "nbconvert_exporter": "python",
   "pygments_lexer": "ipython3",
   "version": "3.7.1"
  }
 },
 "nbformat": 4,
 "nbformat_minor": 1
}
