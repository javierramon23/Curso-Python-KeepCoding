{
 "cells": [
  {
   "cell_type": "markdown",
   "metadata": {
    "colab_type": "text",
    "id": "v_RFZVy757Er"
   },
   "source": [
    "# Gestión de errores\n",
    "\n",
    "## Los errores se llaman excepciones\n",
    "\n",
    "Un error en un programa se produce cuando, durante la ejecución del programa al llegar a una determinada instrucción el procesador no sabe que hacer con ella (bien porque espere un tipo de dato y se le de otro, bien porque se le esté pidiendo una instrucción imposible sobre un determinado tipo de dato,...).\n",
    "\n",
    "Lo habitual es que el programa pare su ejecución y de un mensaje de error lo más exhaustivo posible sobre donde se ha producido el error y el contexto en el que se ha producido (datos y ultimas instrucciones ejecutadas,...)\n",
    "\n",
    "Para poder hacer esto los compiladores o interpretes de los distintos lenguajes de programación manejan una estructura de datos llamada excepción que mantiene toda la información relativa al error indicada en el párrafo anterior.\n",
    "\n",
    "Esta categoría, la excepción, nos permite dos cosas.\n",
    "\n",
    "1 Obtener toda la información significativa de donde, como y porqué se ha producido la excepción\n",
    "2 Controlar la excepción de manera que no se produzca un fallo catastrófico del programa (apagón del mismo)\n",
    "\n",
    "## Importancia de la gestión controlada de excepciones\n",
    "\n",
    "Hay que considerar adecuadamente la importancia del control de excepciones. Puede verse con un sencillo ejemplo. Si mi procesador de texto falla y se bloquea mientras estoy trabajando lo peor que puede pasarme es que pierda el trabajo de las últimas horas.\n",
    "\n",
    "Si el programa que controla una máquina de respiración artificial, la termorregulación de un reactor nuclear o el piloto automático de un avión o coche (acelerador automático) falla alguien puede morir. Evidentemente hay programas que tienen que ser más resistentes frente a errores no controlados que otros, pero como buena costumbre debemos intentar evitar que se produzcan excepciones no controladas.\n",
    "\n",
    "Veamos un ejemplo...\n"
   ]
  },
  {
   "cell_type": "code",
   "execution_count": 1,
   "metadata": {
    "colab": {
     "base_uri": "https://localhost:8080/",
     "height": 172
    },
    "colab_type": "code",
    "executionInfo": {
     "elapsed": 716,
     "status": "error",
     "timestamp": 1553261988945,
     "user": {
      "displayName": "Ramón Maldonado Rodríguez",
      "photoUrl": "https://lh3.googleusercontent.com/-ljH7hLMa7no/AAAAAAAAAAI/AAAAAAAAAAg/pf-fwlCU1Eg/s64/photo.jpg",
      "userId": "17580681743975451950"
     },
     "user_tz": -60
    },
    "id": "UDOC8thWoOOz",
    "outputId": "96eb9714-46e5-4b72-bf7e-ccacc676a993"
   },
   "outputs": [
    {
     "ename": "ZeroDivisionError",
     "evalue": "ignored",
     "output_type": "error",
     "traceback": [
      "\u001b[0;31m---------------------------------------------------------------------------\u001b[0m",
      "\u001b[0;31mZeroDivisionError\u001b[0m                         Traceback (most recent call last)",
      "\u001b[0;32m<ipython-input-1-0106664d39e8>\u001b[0m in \u001b[0;36m<module>\u001b[0;34m()\u001b[0m\n\u001b[0;32m----> 1\u001b[0;31m \u001b[0;36m5\u001b[0m\u001b[0;34m/\u001b[0m\u001b[0;36m0\u001b[0m\u001b[0;34m\u001b[0m\u001b[0;34m\u001b[0m\u001b[0m\n\u001b[0m",
      "\u001b[0;31mZeroDivisionError\u001b[0m: division by zero"
     ]
    }
   ],
   "source": [
    "5/0"
   ]
  },
  {
   "cell_type": "markdown",
   "metadata": {
    "colab_type": "text",
    "id": "VYHLvjtooSBm"
   },
   "source": [
    "Al ejecutar una división por cero se lanza la excepción `ZeroDivisionError`"
   ]
  },
  {
   "cell_type": "markdown",
   "metadata": {
    "colab_type": "text",
    "id": "GE5fycZ8nmfL"
   },
   "source": [
    "## Manejo de excepciones (programación defensiva)\n",
    "\n",
    "Por mucho que lo intentemos es bastante probable que se produzcan errores (excepciones) en nuestro programa. Tipos de datos incorrectos enviados por otros programas, módulos o usuarios, situaciones límite en bucles que no hemos controlado,...\n",
    "\n",
    "Por eso cada lenguaje de programación tiene su propio mecanismo de manejo y control de excepciones, para evitar fallos catastróficos que paren el programa.\n",
    "\n",
    "En python utilizamos el bloque `try-except-finally` para controlar la excepción. Arriba hemos visto como se ha producido una excepción al hacer una división por cero. Veamos ahora como controlarla\n"
   ]
  },
  {
   "cell_type": "code",
   "execution_count": 2,
   "metadata": {
    "colab": {
     "base_uri": "https://localhost:8080/",
     "height": 208
    },
    "colab_type": "code",
    "executionInfo": {
     "elapsed": 703,
     "status": "error",
     "timestamp": 1553262218482,
     "user": {
      "displayName": "Ramón Maldonado Rodríguez",
      "photoUrl": "https://lh3.googleusercontent.com/-ljH7hLMa7no/AAAAAAAAAAI/AAAAAAAAAAg/pf-fwlCU1Eg/s64/photo.jpg",
      "userId": "17580681743975451950"
     },
     "user_tz": -60
    },
    "id": "gfEM6YcW56gt",
    "outputId": "ce677d8c-7051-437e-bd46-7386e3cae02b"
   },
   "outputs": [
    {
     "ename": "ZeroDivisionError",
     "evalue": "ignored",
     "output_type": "error",
     "traceback": [
      "\u001b[0;31m---------------------------------------------------------------------------\u001b[0m",
      "\u001b[0;31mZeroDivisionError\u001b[0m                         Traceback (most recent call last)",
      "\u001b[0;32m<ipython-input-2-2dcea8c62f58>\u001b[0m in \u001b[0;36m<module>\u001b[0;34m()\u001b[0m\n\u001b[1;32m      1\u001b[0m \u001b[0mdividendo\u001b[0m \u001b[0;34m=\u001b[0m \u001b[0;36m5\u001b[0m\u001b[0;34m\u001b[0m\u001b[0;34m\u001b[0m\u001b[0m\n\u001b[1;32m      2\u001b[0m \u001b[0mdivisor\u001b[0m \u001b[0;34m=\u001b[0m \u001b[0;36m0\u001b[0m\u001b[0;34m\u001b[0m\u001b[0;34m\u001b[0m\u001b[0m\n\u001b[0;32m----> 3\u001b[0;31m \u001b[0mcociente\u001b[0m \u001b[0;34m=\u001b[0m \u001b[0mdividendo\u001b[0m \u001b[0;34m/\u001b[0m \u001b[0mdivisor\u001b[0m\u001b[0;34m\u001b[0m\u001b[0;34m\u001b[0m\u001b[0m\n\u001b[0m",
      "\u001b[0;31mZeroDivisionError\u001b[0m: division by zero"
     ]
    }
   ],
   "source": [
    "dividendo = 5\n",
    "divisor = 0\n",
    "cociente = dividendo / divisor"
   ]
  },
  {
   "cell_type": "code",
   "execution_count": 3,
   "metadata": {
    "colab": {
     "base_uri": "https://localhost:8080/",
     "height": 35
    },
    "colab_type": "code",
    "executionInfo": {
     "elapsed": 721,
     "status": "ok",
     "timestamp": 1553262289039,
     "user": {
      "displayName": "Ramón Maldonado Rodríguez",
      "photoUrl": "https://lh3.googleusercontent.com/-ljH7hLMa7no/AAAAAAAAAAI/AAAAAAAAAAg/pf-fwlCU1Eg/s64/photo.jpg",
      "userId": "17580681743975451950"
     },
     "user_tz": -60
    },
    "id": "krOO3P_EpJrm",
    "outputId": "531684d2-f57d-45be-d494-96bc2d6cd94a"
   },
   "outputs": [
    {
     "name": "stdout",
     "output_type": "stream",
     "text": [
      "Operación imposible de realizar: 5/0\n"
     ]
    }
   ],
   "source": [
    "try:\n",
    "  dividendo = 5\n",
    "  divisor = 0\n",
    "  cociente = dividendo / divisor\n",
    "except:\n",
    "  print(\"Operación imposible de realizar: {}/{}\".format(dividendo, divisor))"
   ]
  },
  {
   "cell_type": "markdown",
   "metadata": {
    "colab_type": "text",
    "id": "Y8_OANHipdgB"
   },
   "source": [
    "Hemos visto que al incluir el bloque de código que puede fallar entre un `try-except` de manera que si todo va bien se ignoran las instrucciones tras `except` pero si se produce un error, en lugar de enviar la excepcion de forma incontrolada hacia arriba hasta que el interprete finalice la ejecución del programa, se controla y se procesa. En nuestro caso se informa un mensaje indicando que la operación es incorrecta."
   ]
  },
  {
   "cell_type": "markdown",
   "metadata": {
    "colab_type": "text",
    "id": "2EZCPtqcqQ0y"
   },
   "source": [
    "## try - except - finally con algo más de detalle\n",
    "\n",
    "Una disección de estas instrucciones quedaría así\n",
    "```\n",
    "try:\n",
    "    # Aquí nuestro código normal... el que puede fallar\n",
    "except IOError:\n",
    "    # Código que se ejecutara si se produce la excepcion IOError (se lanza en un proceso de entrada/salida por ejemplo un print)\n",
    "except ZeroDivisionError:\n",
    "    # Código que se ejecutara si se produce una división por cero (visto arriba)\n",
    "except:\n",
    "    # Código que se ejecutará si se produce cualquier otro tipo de excepcion.\n",
    "finally:\n",
    "    # Código que se ejecutará tanto si se produce error como si no. Por ejemplo cierre de un fichero, desconexión de una base de datos o devolución de un resultado\n",
    "    \n",
    "```\n",
    "(*) Más información en la [documentación](https://docs.python.org/3/library/exceptions.html)\n",
    "\n",
    "Por último podemos no sólo capturar la excepción por tipo sino todos sus datos para procesarlos en el bloque de código adecuado. Así:\n",
    "```\n",
    "try:\n",
    "    # Aquí nuestro código normal... el que puede fallar    \n",
    "except Exception as e:\n",
    "    # puede procesarse la variable e para obtener más detalle de la excepcion\n",
    "```\n",
    "\n",
    "Como puede verse `finally` es opcional.\n",
    "\n",
    "Veamos algunos ejemplos\n",
    "    "
   ]
  },
  {
   "cell_type": "code",
   "execution_count": 0,
   "metadata": {
    "colab": {},
    "colab_type": "code",
    "id": "HHCJxWaEuBMn"
   },
   "outputs": [],
   "source": [
    "def dividir(dividendo, divisor):\n",
    "  try:\n",
    "    resultado = dividendo / divisor\n",
    "  except ZeroDivisionError:\n",
    "    print(\"No se puede dividir un número por cero\")\n",
    "    resultado = None\n",
    "  except TypeError:\n",
    "    print(\"Debes informar números\")\n",
    "    resultado = None\n",
    "  except Exception as e:\n",
    "    print(\"Error {}\".format(e))\n",
    "    resultado = None\n",
    "  finally:\n",
    "    return resultado"
   ]
  },
  {
   "cell_type": "code",
   "execution_count": 7,
   "metadata": {
    "colab": {
     "base_uri": "https://localhost:8080/",
     "height": 35
    },
    "colab_type": "code",
    "executionInfo": {
     "elapsed": 766,
     "status": "ok",
     "timestamp": 1553263774743,
     "user": {
      "displayName": "Ramón Maldonado Rodríguez",
      "photoUrl": "https://lh3.googleusercontent.com/-ljH7hLMa7no/AAAAAAAAAAI/AAAAAAAAAAg/pf-fwlCU1Eg/s64/photo.jpg",
      "userId": "17580681743975451950"
     },
     "user_tz": -60
    },
    "id": "G895sgk0uy_-",
    "outputId": "fc4826be-05a0-41e9-964a-18ffe4bc3529"
   },
   "outputs": [
    {
     "data": {
      "text/plain": [
       "1.5"
      ]
     },
     "execution_count": 7,
     "metadata": {
      "tags": []
     },
     "output_type": "execute_result"
    }
   ],
   "source": [
    "dividir(3, 2)"
   ]
  },
  {
   "cell_type": "code",
   "execution_count": 8,
   "metadata": {
    "colab": {
     "base_uri": "https://localhost:8080/",
     "height": 35
    },
    "colab_type": "code",
    "executionInfo": {
     "elapsed": 689,
     "status": "ok",
     "timestamp": 1553263777020,
     "user": {
      "displayName": "Ramón Maldonado Rodríguez",
      "photoUrl": "https://lh3.googleusercontent.com/-ljH7hLMa7no/AAAAAAAAAAI/AAAAAAAAAAg/pf-fwlCU1Eg/s64/photo.jpg",
      "userId": "17580681743975451950"
     },
     "user_tz": -60
    },
    "id": "4jWimROYu2X7",
    "outputId": "992847f8-fba5-47b0-a184-7a64c72c7400"
   },
   "outputs": [
    {
     "name": "stdout",
     "output_type": "stream",
     "text": [
      "No se puede dividir un número por cero\n"
     ]
    }
   ],
   "source": [
    "dividir(3, 0)"
   ]
  },
  {
   "cell_type": "code",
   "execution_count": 9,
   "metadata": {
    "colab": {
     "base_uri": "https://localhost:8080/",
     "height": 35
    },
    "colab_type": "code",
    "executionInfo": {
     "elapsed": 772,
     "status": "ok",
     "timestamp": 1553263781066,
     "user": {
      "displayName": "Ramón Maldonado Rodríguez",
      "photoUrl": "https://lh3.googleusercontent.com/-ljH7hLMa7no/AAAAAAAAAAI/AAAAAAAAAAg/pf-fwlCU1Eg/s64/photo.jpg",
      "userId": "17580681743975451950"
     },
     "user_tz": -60
    },
    "id": "5HJTHDUGu68y",
    "outputId": "5df025e6-11df-4483-af8a-3593053094f7"
   },
   "outputs": [
    {
     "name": "stdout",
     "output_type": "stream",
     "text": [
      "Debes informar números\n"
     ]
    }
   ],
   "source": [
    "dividir('3', 1)"
   ]
  },
  {
   "cell_type": "markdown",
   "metadata": {
    "colab_type": "text",
    "id": "rXIB22FDwAF-"
   },
   "source": [
    "Para forzar otro tipo de error vamos a tener que tocar el código. En la línea 3 de la definición de `dividir` cambiemos el nombre `divisor` por `Divisor` y veamos que pasa"
   ]
  },
  {
   "cell_type": "code",
   "execution_count": 0,
   "metadata": {
    "colab": {},
    "colab_type": "code",
    "id": "QC9LFBSfu4RK"
   },
   "outputs": [],
   "source": [
    "def dividir(dividendo, divisor):\n",
    "  try:\n",
    "    resultado = dividendo / Divisor\n",
    "  except ZeroDivisionError:\n",
    "    print(\"No se puede dividir un número por cero\")\n",
    "    resultado = None\n",
    "  except TypeError:\n",
    "    print(\"Debes informar números\")\n",
    "    resultado = None\n",
    "  except Exception as e:\n",
    "    print(\"Error {}\".format(e))\n",
    "    resultado = None\n",
    "  finally:\n",
    "    return resultado"
   ]
  },
  {
   "cell_type": "code",
   "execution_count": 22,
   "metadata": {
    "colab": {
     "base_uri": "https://localhost:8080/",
     "height": 35
    },
    "colab_type": "code",
    "executionInfo": {
     "elapsed": 750,
     "status": "ok",
     "timestamp": 1553264092066,
     "user": {
      "displayName": "Ramón Maldonado Rodríguez",
      "photoUrl": "https://lh3.googleusercontent.com/-ljH7hLMa7no/AAAAAAAAAAI/AAAAAAAAAAg/pf-fwlCU1Eg/s64/photo.jpg",
      "userId": "17580681743975451950"
     },
     "user_tz": -60
    },
    "id": "gvdyYOVhvAvq",
    "outputId": "8a6982eb-1b0a-457a-da85-5fa770e4e519"
   },
   "outputs": [
    {
     "name": "stdout",
     "output_type": "stream",
     "text": [
      "Error name 'Divisor' is not defined\n"
     ]
    }
   ],
   "source": [
    "dividir(3,1)"
   ]
  },
  {
   "cell_type": "markdown",
   "metadata": {
    "colab_type": "text",
    "id": "D9gBBEcuvAT2"
   },
   "source": []
  }
 ],
 "metadata": {
  "colab": {
   "collapsed_sections": [],
   "name": "105.0 Gestión de errores.ipynb",
   "provenance": [],
   "version": "0.3.2"
  },
  "kernelspec": {
   "display_name": "Python 3",
   "language": "python",
   "name": "python3"
  },
  "language_info": {
   "codemirror_mode": {
    "name": "ipython",
    "version": 3
   },
   "file_extension": ".py",
   "mimetype": "text/x-python",
   "name": "python",
   "nbconvert_exporter": "python",
   "pygments_lexer": "ipython3",
   "version": "3.7.1"
  }
 },
 "nbformat": 4,
 "nbformat_minor": 1
}
