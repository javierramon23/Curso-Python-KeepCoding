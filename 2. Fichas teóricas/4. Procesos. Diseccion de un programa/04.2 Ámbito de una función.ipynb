{
 "cells": [
  {
   "cell_type": "markdown",
   "metadata": {
    "colab_type": "text",
    "id": "KeNXrggZoHpy"
   },
   "source": [
    "# Ámbito de una función. Variables locales y globales.\n",
    "\n",
    "Ya hemos visto lo que son las variables y como actúan tanto como contenedores como como etiquetas.\n",
    "\n",
    "En los programas vistos hasta aquí las [variables](https://drive.google.com/open?id=1H2wuYsRp61r71skL0KuXGWLBt4w9ol2M) se definen (normalmente según se van necesitando) y luego se pueden ir utilizando en todo el programa. Sin embargo al encapsular porciones de código en funciones que actúan como cajas negras se presentan nuevas situaciones para crear y definir variables. De forma que quizás no todas las variables que se declaren sean alcanzables desde todas las partes del código.\n",
    "\n",
    "Sigamos con nuestra tortuga y con las funciones de dibujo de polígonos y veamos los diferentes ámbitos y alcances que pueden tener las variables según donde se creen.\n",
    "\n"
   ]
  },
  {
   "cell_type": "markdown",
   "metadata": {
    "colab_type": "text",
    "id": "oo7F_hxKqNQZ"
   },
   "source": [
    "## Variables globales y variables locales\n",
    "\n",
    "Una **variable es global** si se define en el cuerpo principal del programa.\n",
    "\n",
    "Una **variable es local** si se define en el cuerpo de una función.\n",
    "\n",
    "Una variable global puede ser utilizada en cualquier parte del programa (incluso dentro de las funciones).\n",
    "\n",
    "Una variable local sólo puede ser utilizada dentro de la función que la ha creado. De hecho la variable local sólo existe durante el tiempo que la función se está ejecutando.\n",
    "\n",
    "Esto tiene varias implicaciones\n",
    "\n",
    "### El nombre de una variable se refiere a su valor en su ámbito\n",
    "\n",
    "Si hay conflicto entre dos nombres de variable (en el código siguiente las variables globales `a`, `b` y `c` *versus*  las variables locales `a`, `b`y `c`)"
   ]
  },
  {
   "cell_type": "code",
   "execution_count": 5,
   "metadata": {
    "colab": {
     "base_uri": "https://localhost:8080/",
     "height": 191
    },
    "colab_type": "code",
    "executionInfo": {
     "elapsed": 636,
     "status": "ok",
     "timestamp": 1540832550990,
     "user": {
      "displayName": "Ramón Maldonado Rodríguez",
      "photoUrl": "https://lh3.googleusercontent.com/-ljH7hLMa7no/AAAAAAAAAAI/AAAAAAAAAAg/pf-fwlCU1Eg/s64/photo.jpg",
      "userId": "17580681743975451950"
     },
     "user_tz": -60
    },
    "id": "41mxbwVJj2UO",
    "outputId": "973fda95-b09b-4f1c-a286-f011001c16a4"
   },
   "outputs": [
    {
     "name": "stdout",
     "output_type": "stream",
     "text": [
      "[antes de llamar a blackBox] valor de a en programa:  5\n",
      "[antes de llamar a blackBox] valor de b en programa:  6\n",
      "[antes de llamar a blackBox] valor de c en programa:  15\n",
      "[dentro de blackBox] valor de a:  3\n",
      "[dentro de blackBox] valor de b:  1\n",
      "[dentro de blackBox] valor de c: 4\n",
      "[despues de llamar a blackBox] valor de a en programa:  5\n",
      "[despues de llamar a blackBox] valor de b en programa:  6\n",
      "[despues de llamar a blackBox] valor de c en programa:  15\n"
     ]
    }
   ],
   "source": [
    "def blackBox(a, b):\n",
    "  print('[dentro de blackBox] valor de a: ', a)\n",
    "  print('[dentro de blackBox] valor de b: ', b)\n",
    "  c = a + b\n",
    "  print(\"[dentro de blackBox] valor de c: \"+  str(c))\n",
    "  return c\n",
    "\n",
    "a = 5\n",
    "b = 6\n",
    "c = 15\n",
    "\n",
    "print('[antes de llamar a blackBox] valor de a en programa: ', a)\n",
    "print('[antes de llamar a blackBox] valor de b en programa: ', b)\n",
    "print('[antes de llamar a blackBox] valor de c en programa: ', c)\n",
    "\n",
    "blackBox(3,1)\n",
    "\n",
    "print('[despues de llamar a blackBox] valor de a en programa: ', a)\n",
    "print('[despues de llamar a blackBox] valor de b en programa: ', b)\n",
    "print('[despues de llamar a blackBox] valor de c en programa: ', c)\n",
    "\n"
   ]
  },
  {
   "cell_type": "markdown",
   "metadata": {
    "colab_type": "text",
    "id": "7kraQg2-v0RW"
   },
   "source": [
    "Se ve claramente que las variables globales `a`, `b` y `c` no se modifican por la ejecución de la función `blackBox`. Es decir, `blackBox` crea sus propias variables ( [asignándoles la memoria necesaria](https://colab.research.google.com/drive/1xhG2UZ_0dLX4QTkatHGa7lr-jpPIpTUO#scrollTo=KKmAQ3r1fEHa)) sin modificar ni considerar las variables globales de igual nombre.\n",
    "\n",
    "Al imprimir los valores de `a`, `b` y `c`tras la ejecución de `blackBox` se sobreentiende que se trata de las variables globales, puesto que en este ámbito las variables locales de `blackBox` del mismo nombre son totalmente desconocidas.\n",
    "\n"
   ]
  },
  {
   "cell_type": "markdown",
   "metadata": {
    "colab_type": "text",
    "id": "JWz3C5fqw8js"
   },
   "source": [
    "## Dentro de una función se puede acceder a una variable global\n",
    "\n",
    "Modificando el código anterior para incluir una variable global nueva vemos que se puede imprimir y utilizar.\n",
    "\n"
   ]
  },
  {
   "cell_type": "code",
   "execution_count": 6,
   "metadata": {
    "colab": {
     "base_uri": "https://localhost:8080/",
     "height": 56
    },
    "colab_type": "code",
    "executionInfo": {
     "elapsed": 554,
     "status": "ok",
     "timestamp": 1540832615614,
     "user": {
      "displayName": "Ramón Maldonado Rodríguez",
      "photoUrl": "https://lh3.googleusercontent.com/-ljH7hLMa7no/AAAAAAAAAAI/AAAAAAAAAAg/pf-fwlCU1Eg/s64/photo.jpg",
      "userId": "17580681743975451950"
     },
     "user_tz": -60
    },
    "id": "mhKEPtBcxhxE",
    "outputId": "46c9e309-9138-4d70-9c89-bb9dda54065c"
   },
   "outputs": [
    {
     "name": "stdout",
     "output_type": "stream",
     "text": [
      "[dentro de anotherBlackBox] valor de d: 1\n",
      "5\n"
     ]
    }
   ],
   "source": [
    "def anotherBlackBox(a, b):\n",
    "  c = a + b + d\n",
    "  print('[dentro de anotherBlackBox] valor de d:', d)\n",
    "  return c\n",
    "\n",
    "a = 5\n",
    "b = 6\n",
    "c = 15\n",
    "d = 1\n",
    "\n",
    "print(anotherBlackBox(3, 1))"
   ]
  },
  {
   "cell_type": "markdown",
   "metadata": {
    "colab_type": "text",
    "id": "FGDzGz8YyAGg"
   },
   "source": [
    "Vemos que la ejecución de anotherBlackBox realiza la suma de los dos parámetros de entrada `3` y `1` pero también suma el valor de la variable global `d` en este caso `1`. Devuelve 5.\n",
    "\n",
    "No se han puesto las comprobaciones del caso anterior porque ya ha quedado demostrado que no hay conflicto posible para las variables del mismo nombre en ámbitos global y local.\n",
    "\n"
   ]
  },
  {
   "cell_type": "markdown",
   "metadata": {
    "colab_type": "text",
    "id": "Ucd1qmmtyhq4"
   },
   "source": [
    "#[En python] Dentro de una función no se puede modificar una variable global\n",
    "\n",
    "Python no permite modificar una variable global dentro de una función (a no ser que se indique explícitamente, como veremos a continuación).\n",
    "\n",
    "Modificando el código anterior..."
   ]
  },
  {
   "cell_type": "code",
   "execution_count": 7,
   "metadata": {
    "colab": {
     "base_uri": "https://localhost:8080/",
     "height": 355
    },
    "colab_type": "code",
    "executionInfo": {
     "elapsed": 556,
     "status": "error",
     "timestamp": 1540832918379,
     "user": {
      "displayName": "Ramón Maldonado Rodríguez",
      "photoUrl": "https://lh3.googleusercontent.com/-ljH7hLMa7no/AAAAAAAAAAI/AAAAAAAAAAg/pf-fwlCU1Eg/s64/photo.jpg",
      "userId": "17580681743975451950"
     },
     "user_tz": -60
    },
    "id": "98FMrpbBr8Xo",
    "outputId": "083d049a-282f-4bf5-8ba9-75558f631a5a"
   },
   "outputs": [
    {
     "ename": "UnboundLocalError",
     "evalue": "ignored",
     "output_type": "error",
     "traceback": [
      "\u001b[0;31m---------------------------------------------------------------------------\u001b[0m",
      "\u001b[0;31mUnboundLocalError\u001b[0m                         Traceback (most recent call last)",
      "\u001b[0;32m<ipython-input-7-8f23db107a1e>\u001b[0m in \u001b[0;36m<module>\u001b[0;34m()\u001b[0m\n\u001b[1;32m     10\u001b[0m \u001b[0md\u001b[0m \u001b[0;34m=\u001b[0m \u001b[0;36m1\u001b[0m\u001b[0;34m\u001b[0m\u001b[0m\n\u001b[1;32m     11\u001b[0m \u001b[0;34m\u001b[0m\u001b[0m\n\u001b[0;32m---> 12\u001b[0;31m \u001b[0mprint\u001b[0m\u001b[0;34m(\u001b[0m\u001b[0myetAnotherBlackBox\u001b[0m\u001b[0;34m(\u001b[0m\u001b[0;36m3\u001b[0m\u001b[0;34m,\u001b[0m \u001b[0;36m1\u001b[0m\u001b[0;34m)\u001b[0m\u001b[0;34m)\u001b[0m\u001b[0;34m\u001b[0m\u001b[0m\n\u001b[0m",
      "\u001b[0;32m<ipython-input-7-8f23db107a1e>\u001b[0m in \u001b[0;36myetAnotherBlackBox\u001b[0;34m(a, b)\u001b[0m\n\u001b[1;32m      1\u001b[0m \u001b[0;32mdef\u001b[0m \u001b[0myetAnotherBlackBox\u001b[0m\u001b[0;34m(\u001b[0m\u001b[0ma\u001b[0m\u001b[0;34m,\u001b[0m \u001b[0mb\u001b[0m\u001b[0;34m)\u001b[0m\u001b[0;34m:\u001b[0m\u001b[0;34m\u001b[0m\u001b[0m\n\u001b[0;32m----> 2\u001b[0;31m   \u001b[0md\u001b[0m \u001b[0;34m=\u001b[0m \u001b[0md\u001b[0m \u001b[0;34m*\u001b[0m \u001b[0;36m2\u001b[0m\u001b[0;34m\u001b[0m\u001b[0m\n\u001b[0m\u001b[1;32m      3\u001b[0m   \u001b[0mc\u001b[0m \u001b[0;34m=\u001b[0m \u001b[0ma\u001b[0m \u001b[0;34m+\u001b[0m \u001b[0mb\u001b[0m \u001b[0;34m+\u001b[0m \u001b[0md\u001b[0m\u001b[0;34m\u001b[0m\u001b[0m\n\u001b[1;32m      4\u001b[0m   \u001b[0mprint\u001b[0m\u001b[0;34m(\u001b[0m\u001b[0;34m'[dentro de anotherBlackBox] valor de d:'\u001b[0m\u001b[0;34m,\u001b[0m \u001b[0md\u001b[0m\u001b[0;34m)\u001b[0m\u001b[0;34m\u001b[0m\u001b[0m\n\u001b[1;32m      5\u001b[0m   \u001b[0;32mreturn\u001b[0m \u001b[0mc\u001b[0m\u001b[0;34m\u001b[0m\u001b[0m\n",
      "\u001b[0;31mUnboundLocalError\u001b[0m: local variable 'd' referenced before assignment"
     ]
    }
   ],
   "source": [
    "def yetAnotherBlackBox(a, b):\n",
    "  d = d * 2\n",
    "  c = a + b + d\n",
    "  print('[dentro de anotherBlackBox] valor de d:', d)\n",
    "  return c\n",
    "\n",
    "a = 5\n",
    "b = 6\n",
    "c = 15\n",
    "d = 1\n",
    "\n",
    "print(yetAnotherBlackBox(3, 1))"
   ]
  },
  {
   "cell_type": "markdown",
   "metadata": {
    "colab_type": "text",
    "id": "blz7GXdfzKId"
   },
   "source": [
    "El mensaje es claro `local variable 'd' referenced before assignment`. Si se pretende modificar una variable dentro de la función se la considera local y no se puede modificar algo que aún no tiene asignado un valor."
   ]
  },
  {
   "cell_type": "markdown",
   "metadata": {
    "colab_type": "text",
    "id": "JRa58fyazfBn"
   },
   "source": [
    "# [En python] Dentro de una función se puede modificar una variable global si se indica explícitamente\n",
    "\n",
    "Si queremos modificar una variable global dentro de una función debemos indicar explícitament que vamos a utilizar la variable global y su nombre. \n",
    "\n",
    "Corrijamos el código anterior para que no de error"
   ]
  },
  {
   "cell_type": "code",
   "execution_count": 9,
   "metadata": {
    "colab": {
     "base_uri": "https://localhost:8080/",
     "height": 94
    },
    "colab_type": "code",
    "executionInfo": {
     "elapsed": 513,
     "status": "ok",
     "timestamp": 1540833195201,
     "user": {
      "displayName": "Ramón Maldonado Rodríguez",
      "photoUrl": "https://lh3.googleusercontent.com/-ljH7hLMa7no/AAAAAAAAAAI/AAAAAAAAAAg/pf-fwlCU1Eg/s64/photo.jpg",
      "userId": "17580681743975451950"
     },
     "user_tz": -60
    },
    "id": "SSaSE9xCzHhM",
    "outputId": "9817f143-9e16-42f3-cb8b-1f627f535314"
   },
   "outputs": [
    {
     "name": "stdout",
     "output_type": "stream",
     "text": [
      "[antes de llamar a yetAnotherBlackBox] valor de d: 1\n",
      "[dentro de anotherBlackBox] valor de d: 2\n",
      "6\n",
      "[después de llamar a yetAnotherBlackBox] valor de d: 2\n"
     ]
    }
   ],
   "source": [
    "def yetAnotherBlackBox(a, b):\n",
    "  global d        # <----- Indicamos que vamos a utilizar d y la vamos a modificar\n",
    "  d = d * 2\n",
    "  c = a + b + d\n",
    "  print('[dentro de anotherBlackBox] valor de d:', d)\n",
    "  return c\n",
    "\n",
    "a = 5\n",
    "b = 6\n",
    "c = 15\n",
    "d = 1\n",
    "\n",
    "print('[antes de llamar a yetAnotherBlackBox] valor de d:', d)\n",
    "print(yetAnotherBlackBox(3, 1))\n",
    "print('[después de llamar a yetAnotherBlackBox] valor de d:', d)"
   ]
  },
  {
   "cell_type": "markdown",
   "metadata": {
    "colab_type": "text",
    "id": "NRFrd6jk0NKD"
   },
   "source": [
    "Se ve claramente que ahora la función `yetAnotherBlackBox` accede y modifica la variable global `d` y que esta mantiene la modificación después de la ejecución de la función.\n",
    "\n",
    "# Conclusión\n",
    "\n",
    "En python se distinguen claramente las variables locales de las globales, siendo estas últimas accesibles desde cualquier parte del programa y modificables sólo desde el cuerpo principal del mismo o desde una función si se indica explícitamente.\n",
    "\n",
    "Todas las variables asignadas o modificadas en una función son locales (su ámbito será sólo la función) a no ser que se indique lo contrario.\n",
    "\n",
    "Otros lenguajes pueden distinguir entre variables locales y globales con otras normas.\n",
    "\n",
    "## Excepciones.\n",
    "\n",
    "Sin embargo la cosa se complica, ya que todo lo dicho sirve para variables que son consideradas contenedores, aquellas que son consideradas etiquetas no actúan así. Esto se llama pasar [parámetros de una función por valor o por referencia](https://drive.google.com/open?id=1lg_0_qwG8g_er_MxOJml_GI_sX48o9W_)\n",
    "\n"
   ]
  }
 ],
 "metadata": {
  "colab": {
   "name": "01.2 Ámbito de una función.ipynb",
   "provenance": [],
   "version": "0.3.2"
  },
  "kernelspec": {
   "display_name": "Python 3",
   "language": "python",
   "name": "python3"
  },
  "language_info": {
   "codemirror_mode": {
    "name": "ipython",
    "version": 3
   },
   "file_extension": ".py",
   "mimetype": "text/x-python",
   "name": "python",
   "nbconvert_exporter": "python",
   "pygments_lexer": "ipython3",
   "version": "3.7.1"
  }
 },
 "nbformat": 4,
 "nbformat_minor": 1
}
