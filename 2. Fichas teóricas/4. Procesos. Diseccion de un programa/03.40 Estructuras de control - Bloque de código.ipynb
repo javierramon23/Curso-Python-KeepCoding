{
 "cells": [
  {
   "cell_type": "markdown",
   "metadata": {
    "colab_type": "text",
    "id": "FxE_FiuDcuz9"
   },
   "source": [
    "# Estructuras de control - Bloque de código\n",
    "\n",
    "En los siguientes apartados de la documentación relativa a las estructuras de control tendremos que diferenciar unas partes de la secuencia de instrucciones de otras, en la selección para distinguir cuales se ejecutan y cuales no y en los bucles para repetirlas tantas veces como sea necesario.\n",
    "\n",
    "Para distinguir unas partes de otras de la secuencia de código se utilizan los bloques de código. Podemos pensar en los **bloques de código** como partes de la receta que estamos haciendo que se agrupan por algún motivo. Así imaginemos que vamos a cocinar arroz con pollo. Podemos poner toda la receta desde el principio al fin en forma de secuencia o dividirla en bloques que la hacen más organizada. Veamoslo.\n",
    "\n",
    "Receta seguida\n",
    "\t1.\tPicar ajo\n",
    "\t2.\tPicar cebolla\n",
    "\t3.\tPicar pimiento verde\n",
    "\t4.\tSofreir ajo y cebolla \n",
    "\t5.\tCuando la cebolla esté transparente añadir el pimiento y sofreir durante 4 minutos\n",
    "\t6.\tReservar el sofrito\n",
    "\t7.\tTrocear y limpiar el pollo\n",
    "\t8.\tSofreir el pollo en la misma sarten durante 5 minutos\n",
    "\t9.\tAñadir el sofrito reservado y mantener al fuego durante 3 minutos\n",
    "\t10.\tAñadir sal y especias al gusto\n",
    "\t11.\tAñadir arroz y sofreir durante un par de minutos\n",
    "\t12.\tAñadir el doble de agua que de arroz \n",
    "\t13.\tCocer durante 20 minutos cuidando de añadir agua caliente si se secara antes de los 20 minutos\n",
    "\t14.\tDejar reposar 5 minutos\n",
    "\t15.\tServir\n",
    "Receta organizada en bloques\n",
    "\n",
    "HACER SOFRITO\n",
    "\t1.\tPicar ajo\n",
    "\t2.\tPicar cebolla\n",
    "\t3.\tPicar pimiento verde\n",
    "\t4.\tSofreir ajo y cebolla \n",
    "\t5.\tCuando la cebolla esté transparente añadir el pimiento y sofreir durante 4 minutos\n",
    "\t6.\tReservar el sofrito\n",
    "PREPARAR POLLO\n",
    "\t1.\tTrocear y limpiar el pollo\n",
    "\t2.\tSofreir el pollo en la misma sarten durante 5 minutos\n",
    "\t3.\tAñadir el sofrito reservado y mantener al fuego durante 3 minutos\n",
    "SAZON Y ALIÑO\n",
    "\t1.\tAñadir sal y especias al gusto\n",
    "\t2.\tAñadir arroz y sofreir durante un par de minutos\n",
    "COCER EL ARROZ\n",
    "\t1.\tAñadir el doble de agua que de arroz \n",
    "\t2.\tCocer durante 20 minutos cuidando de añadir agua caliente si se secara antes de los 20 minutos\n",
    "\t3.\tDejar reposar 5 minutos\n",
    "\t4.\tServir\n",
    "\n",
    "No hay ninguna diferencia entre ambas recetas, pero la segunda está más organizada. La hemos organizado en **bloques**. Este punto se relaciona con las primeras fases de la [abstracción](https://drive.google.com/open?id=18IcmpoctWUt2e7MhoWJlhcq0B0IvuVLa) y [descomposición](https://drive.google.com/open?id=1WpgT3nke7l-L8kuSkh28Rm4dB_GK_wPg) de las que ya hemos hablado, dividimos el qué de hacer arroz con pollo en 4 qués más sencillos y nos permitiría en su caso cambiar la receta utilizando la selección o los bucles como veremos a continuación. \n",
    "\n",
    "Sirva como ejemplo el hecho de tener restos de pollo asado de la cena del día anterior, podríamos sustituir el segundo bloque por Añadir el pollo asado y pasar directamente al bloque sazón y aliño y terminar el guiso.\n",
    "\n",
    "En programación los bloques se utilizan no tanto para organizar una secuencia sino como formas de permitir la variación de la secuencia con [selección](https://drive.google.com/open?id=15x2ZTYS5g6ycgndMgFc4Gu09smN1HpHO) y [bucles](https://drive.google.com/open?id=1-yvREfRi0rO21zqLSHqZJiSLj8aVdKdz).\n",
    "\n",
    "Cada lenguaje de programación marca los bloques de código a su manera. Por ahora nos interesa simplemente tener el concepto de que un grupo de instrucciones en secuencia pueden formar un bloque de código que podrá utilizarse más adelante.\n"
   ]
  },
  {
   "cell_type": "code",
   "execution_count": 0,
   "metadata": {
    "colab": {},
    "colab_type": "code",
    "id": "ND45hYgQcrKS"
   },
   "outputs": [],
   "source": []
  }
 ],
 "metadata": {
  "colab": {
   "name": "06.0 Estructuras de control - Bloque de código.ipynb",
   "provenance": [],
   "version": "0.3.2"
  },
  "kernelspec": {
   "display_name": "Python 3",
   "language": "python",
   "name": "python3"
  },
  "language_info": {
   "codemirror_mode": {
    "name": "ipython",
    "version": 3
   },
   "file_extension": ".py",
   "mimetype": "text/x-python",
   "name": "python",
   "nbconvert_exporter": "python",
   "pygments_lexer": "ipython3",
   "version": "3.7.1"
  }
 },
 "nbformat": 4,
 "nbformat_minor": 1
}
