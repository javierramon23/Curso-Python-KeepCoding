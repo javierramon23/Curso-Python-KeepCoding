{
 "cells": [
  {
   "cell_type": "markdown",
   "metadata": {
    "colab_type": "text",
    "id": "eatOOGW73D_d"
   },
   "source": [
    "# Funciones en detalle\n",
    "\n",
    "Como ya hemos visto las funciones encapsulan cierta funcionalidad de modo que se informan algunos datos de entrada se procesan y, o bien realizan una acción (como printf()) o bien devuelven un valor que puede almacenarse en una variable (como input()). Si lo pensamos bien, las funciones responden al modelo E → P → S igual que los programas, por lo que bien podrían considerarse subprogramas.\n",
    "\n",
    "Veamos como trabajan las funciones en detalle.\n",
    "\n",
    "Para ello vamos a utilizar una funcionalidad de python que sirve para dibujar y que se utiliza para enseñar programación a los niños, la tortuga.\n",
    "\n",
    "No es una funcionalidad que jupyter soporte demasiado bien, así que este código es mejor ejecutarlo localmente con IDLE."
   ]
  },
  {
   "cell_type": "markdown",
   "metadata": {
    "colab_type": "text",
    "id": "i9m8T78oeJhH"
   },
   "source": [
    "## Necesidad de las funciones\n",
    "\n",
    "Ya hemos trabajado con este ejemplo. Supongamos que queremos dibujar 3 triangulos equiláteros de 50, 100 y 150 puntos de lado.\n",
    "\n",
    "La forma más sencilla es"
   ]
  },
  {
   "cell_type": "code",
   "execution_count": 0,
   "metadata": {
    "colab": {},
    "colab_type": "code",
    "id": "GrKpf6yz3Cv3"
   },
   "outputs": [],
   "source": [
    "from turtle import Turtle\n",
    "\n",
    "# Creamos la tortuga\n",
    "drawy = turtle.Turtle()\n",
    "drawy.speed(99)\n",
    "\n",
    "# La llevamos a su posición inicial\n",
    "drawy.penup()\n",
    "drawy.setposition(20, 225)\n",
    "\n",
    "# Dibujamos un triángulo de 25 puntos de lado\n",
    "drawy.pendown()\n",
    "drawy.forward(25)\n",
    "drawy.left(120)\n",
    "drawy.forward(25)\n",
    "drawy.left(120)\n",
    "drawy.forward(25)\n",
    "drawy.left(120)\n",
    "\n",
    "# La llevamos a la posición donde queremos el segundo triángulo\n",
    "drawy.penup()\n",
    "drawy.setposition (65, 225)\n",
    "\n",
    "# Dibujamos un triángulo de 50 puntos de lado\n",
    "drawy.pendown()\n",
    "drawy.forward(50)\n",
    "drawy.left(120)\n",
    "drawy.forward(50)\n",
    "drawy.left(120)\n",
    "drawy.forward(50)\n",
    "drawy.left(120)\n",
    "\n",
    "# La llevamos a la posición donde queremos el tercer triángulo\n",
    "drawy.penup()\n",
    "drawy.setposition (150, 225)\n",
    "\n",
    "# Dibujamos un triángulo de 75 puntos de lado\n",
    "drawy.pendown()\n",
    "drawy.forward(75)\n",
    "drawy.left(120)\n",
    "drawy.forward(75)\n",
    "drawy.left(120)\n",
    "drawy.forward(75)\n",
    "drawy.left(120)"
   ]
  },
  {
   "cell_type": "markdown",
   "metadata": {
    "colab_type": "text",
    "id": "WTUmb1DveRf1"
   },
   "source": [
    "<img src=\"https://docs.google.com/uc?export=download&id=1nhWmUZnFUal_OVSnm13GGNc5w02GmySn\" height=\"150\">\n",
    "\n",
    "Si nos fijamos aparte de la inicialización de `drawy` repetimos tres veces el código de pintar un triángulo modificando sólo la posición inicial y la longitud de su lado.\n",
    "\n",
    "Ya sabemos que una función triangulo podría hacernos más limpio el código. Lo razonable es hacer que la función no dependa de ninguna variable externa así que deberá tener 4 [parámetros de entrada](https://):\n",
    "- la tortuga\n",
    "- posición x inicial del triángulo\n",
    "- posición y inicial del triángulo\n",
    "- longitud del lado del triángulo\n",
    "\n",
    "Quedaría algo así:"
   ]
  },
  {
   "cell_type": "code",
   "execution_count": 0,
   "metadata": {
    "colab": {},
    "colab_type": "code",
    "id": "la8CG6XSeZhg"
   },
   "outputs": [],
   "source": [
    "def triangulo(tortuga, x, y, lado):\n",
    "    tortuga.penup()\n",
    "    tortuga.setposition(x, y)\n",
    "    tortuga.pendown()\n",
    "    \n",
    "    for _ in range(0, 3):\n",
    "        tortuga.forward(lado)\n",
    "        tortuga.left(120)\n",
    "        "
   ]
  },
  {
   "cell_type": "markdown",
   "metadata": {
    "colab_type": "text",
    "id": "KfojqFV5ecgP"
   },
   "source": [
    "Como ya sabemos, el hecho de ejecutar esta porcion de código no devuelve nada, simplemente le dice al interprete de python que a partir de ahora hay una nueva función que se puede llamar con 4 parámetros y que deberán procesarse con el código del bloque. \n",
    "\n",
    "Hagamos funcionar el programa de arriba con esta nueva función. Para hacerlo funcionar en local deberíamos fusionar ambas porciones de código en un fichero a ejecutar por IDLE."
   ]
  },
  {
   "cell_type": "code",
   "execution_count": 0,
   "metadata": {
    "colab": {},
    "colab_type": "code",
    "id": "ChwOKjlgehNS"
   },
   "outputs": [],
   "source": [
    "from turtle import Turtle\n",
    "\n",
    "# Creamos la tortuga\n",
    "drawy = turtle.Turtle()\n",
    "drawy.speed(99)\n",
    "\n",
    "triangulo(drawy, 20, 225, 25)\n",
    "triangulo(drawy, 65, 225, 50)\n",
    "triangulo(drawy, 150, 225, 75)"
   ]
  },
  {
   "cell_type": "markdown",
   "metadata": {
    "colab_type": "text",
    "id": "EuTOWSGQxI4Q"
   },
   "source": [
    "## Devolviendo cosas\n",
    "\n",
    "Las funciones no sólo realizan acciones, también pueden devolver datos transformados. Por ejemplo se pueden obtener datos relativos a los polígonos que estamos dibujando.\n",
    "\n",
    "Podríamos crear dos funciones que calculen el perímetro y el área del triángulo dibujado.\n",
    "\n",
    "El perímetro es sencillo, simplemente es sumar la longitud del lado 3 veces (3 lados).\n",
    "\n",
    "> $ P = lado · 3 $\n",
    "\n",
    "La superficie requiere aplicar la fórmula\n",
    "\n",
    "> $ A = \\frac{base · altura} {2} $ \n",
    "\n",
    "La base es el lado y la altura, consultando en internet o recordando el teorema de pitágoras se puede comprobar que es \n",
    " \n",
    " > $ h = \\frac{\\sqrt{3} · lado}{2}$\n",
    " \n",
    " Con estos datos podemos contruir un programa que dibuje un triángulo, calcule su perímetro y su superficie.\n",
    " \n",
    " Veámoslo"
   ]
  },
  {
   "cell_type": "code",
   "execution_count": 0,
   "metadata": {
    "colab": {},
    "colab_type": "code",
    "id": "c8tHi4y2y5h0"
   },
   "outputs": [],
   "source": [
    "from turtle import Turtle\n",
    "\n",
    "\n",
    "def drawTriangle(tortuga, x, y, lado):\n",
    "    tortuga.penup()\n",
    "    tortuga.setposition(x, y)\n",
    "    tortuga.pendown()\n",
    "    \n",
    "    for _ in range(0, 3):\n",
    "        tortuga.forward(lado)\n",
    "        tortuga.left(120)\n",
    "        \n",
    "def alturaEquilatero(lado):\n",
    "  return 3 ** 0.5 * lado / 2\n",
    "\n",
    "def perimetroEquilatero(lado):\n",
    "  return 3 * lado\n",
    "\n",
    "def superficieEquilatero(lado):\n",
    "  return lado * alturaEquilatero(lado) / 2\n",
    "\n",
    "def triangulo(tortuga, lado, x=0, y=0):\n",
    "  drawTriangle(tortuga, x, y, lado)\n",
    "  print(\"Perímetro:  \", perimetroEquilatero(lado), \" pixels\")\n",
    "  print(\"Superficie: \", superficieEquilatero(lado), \" pixels^2\")\n",
    "  \n",
    "\n",
    "triggy = turtle.Turtle()\n",
    "triggy.speed(99)\n",
    "\n",
    "triangulo(triggy, 150)"
   ]
  },
  {
   "cell_type": "markdown",
   "metadata": {
    "colab_type": "text",
    "id": "RSQIUZD6fU--"
   },
   "source": [
    "## Funciones anidadas\n",
    "\n",
    "Básicamente son **funciones que llaman a otras funciones**. En el caso de arriba la función `superficieEquilatero` llama a la función `alturaEquilatero`"
   ]
  },
  {
   "cell_type": "markdown",
   "metadata": {
    "colab_type": "text",
    "id": "E3jq3OvLenle"
   },
   "source": [
    "## DRY - Don't Repeat Yourself\n",
    "\n",
    "Este es uno de los principios básicos de la programación, en el primer programa para dibujar triángulos repetíamos mucho código, lo cual además de ser muy pesado y una posible fuente de errores hace más difícil mantener el programa.\n",
    "\n",
    "Con la segunda versión basada en funciones, encapsulamos el proceso de dibujar el triángulo, lo parametrizamos de modo que dibujar un triángulo se ha transformado en una caja negra que recibe 4 parámetros y se encarga del trabajo.\n",
    "\n",
    "Si ahora hubiera que dibujar cuadrados en vez de triángulos, la modificación del programa estaría mucho más localizada y sería más sencilla. (Sería un interesante ejercicio).\n",
    "\n"
   ]
  },
  {
   "cell_type": "markdown",
   "metadata": {
    "colab_type": "text",
    "id": "04-R6G-4gH96"
   },
   "source": [
    "## Reutilización\n",
    "\n",
    "Pero otra ventaja es que ahora podemos reutilizar esa función, por ejemplo para dibujar una rueda. Observa este último código"
   ]
  },
  {
   "cell_type": "code",
   "execution_count": 0,
   "metadata": {
    "colab": {},
    "colab_type": "code",
    "id": "WeXoJCYCgRzL"
   },
   "outputs": [],
   "source": [
    "roty = turtle.Turtle()\n",
    "roty.speed(99)\n",
    "\n",
    "for angulo in range (0, 360, 15):\n",
    "    roty.setheading(angulo)\n",
    "    triangulo(roty, 50, 50, 50)"
   ]
  },
  {
   "cell_type": "markdown",
   "metadata": {
    "colab_type": "text",
    "id": "YoIlM3VagVZc"
   },
   "source": [
    "Creamos una tortuga nueva a la que llamamos roty. La hacemos veloz y luego vamos cambiando el ángulo de inicio del triángulo manteniendo el mismo origen y lado. Este debería ser el resultado\n",
    "\n",
    "<img src=\"https://docs.google.com/uc?export=download&id=1X2y5U3Bd2prEJ0RFUp1Y7mWvSWI1aNkS\" height=\"150\">\n"
   ]
  }
 ],
 "metadata": {
  "colab": {
   "collapsed_sections": [],
   "name": "01.1 Funciones en Detalle.ipynb",
   "provenance": [],
   "version": "0.3.2"
  },
  "kernelspec": {
   "display_name": "Python 3",
   "language": "python",
   "name": "python3"
  },
  "language_info": {
   "codemirror_mode": {
    "name": "ipython",
    "version": 3
   },
   "file_extension": ".py",
   "mimetype": "text/x-python",
   "name": "python",
   "nbconvert_exporter": "python",
   "pygments_lexer": "ipython3",
   "version": "3.7.1"
  }
 },
 "nbformat": 4,
 "nbformat_minor": 1
}
