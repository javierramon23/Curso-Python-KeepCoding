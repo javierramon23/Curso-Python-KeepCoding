{
 "cells": [
  {
   "cell_type": "markdown",
   "metadata": {
    "colab_type": "text",
    "id": "jcCa_S8n3zAw"
   },
   "source": [
    "# Recursión o recursividad\n",
    "\n",
    "Una** función es recursiva** si para definirse sólo se necesita a sí misma.\n",
    "\n",
    "Esta definición parece difícil pero viene a decir que una función es recursiva si en su resolución sólo se invoca a si misma de forma repetida.\n",
    "\n",
    "Sin embargo, y esto es importante, una función que se invoque a sí misma sin límite caera en un bucle infinito, bloqueando nuestro programa.\n",
    "\n",
    "Veamos esto en detalle.\n",
    "\n"
   ]
  },
  {
   "cell_type": "markdown",
   "metadata": {
    "colab_type": "text",
    "id": "zEMc5-_7WPMl"
   },
   "source": [
    "## Un contador hacia atrás\n",
    "\n",
    "Queremos implementar un contador hacia atrás como el que utiliza la NASA al lanzar un cohete. Que cuente desde el punto inicial hacia atrás hasta llegar a 0.\n",
    "\n",
    "Conocemos tres formas de implementar un contador así, con un bucle [FOR](https://drive.google.com/open?id=1LN1Fmj6lO1406Y5xHKZfyaKxpCrg-4dZ), [WHILE](https://drive.google.com/open?id=1L_k37omDC_9RzXS2TtCuBZBJOt4ok0Yx) o [UNTIL](https://drive.google.com/open?id=1caDwYDv61ASAgeTYebK_NnAmGVcmXo6o). En python podemos implementar dos de ellas. \n",
    "\n",
    "Para facilitar la visualización, voy a utilizar una forma de `print()` en la que  se sustituye el retorno de línea del final por una coma.\n",
    "```\n",
    "print(c, end=',')\n",
    "```\n",
    "\n",
    "Así:\n",
    "\n"
   ]
  },
  {
   "cell_type": "code",
   "execution_count": 10,
   "metadata": {
    "colab": {
     "base_uri": "https://localhost:8080/",
     "height": 94
    },
    "colab_type": "code",
    "executionInfo": {
     "elapsed": 575,
     "status": "ok",
     "timestamp": 1540876860014,
     "user": {
      "displayName": "Ramón Maldonado Rodríguez",
      "photoUrl": "https://lh3.googleusercontent.com/-ljH7hLMa7no/AAAAAAAAAAI/AAAAAAAAAAg/pf-fwlCU1Eg/s64/photo.jpg",
      "userId": "17580681743975451950"
     },
     "user_tz": -60
    },
    "id": "yA4R2DFCXBc4",
    "outputId": "ddbe27c3-c257-4ffb-b0fc-cecca5fffb1c"
   },
   "outputs": [
    {
     "name": "stdout",
     "output_type": "stream",
     "text": [
      "Contador FOR\n",
      "10,9,8,7,6,5,4,3,2,1,0,FIN CONTADOR\n",
      "Contador WHILE\n",
      "10,9,8,7,6,5,4,3,2,1,0,FIN CONTADOR\n"
     ]
    }
   ],
   "source": [
    "def contador_hacia_atras_for(c):\n",
    "  for i in range(c, -1, -1):\n",
    "    print(i, end=',')\n",
    "  print('FIN CONTADOR')\n",
    "  \n",
    "def contador_hacia_atras_while(c):\n",
    "  i = c\n",
    "  while i>=0:\n",
    "    print(i, end=',')\n",
    "    i = i - 1\n",
    "  print('FIN CONTADOR')\n",
    "    \n",
    "print(\"Contador FOR\")\n",
    "contador_hacia_atras_for(10)\n",
    "\n",
    "print(\"Contador WHILE\")\n",
    "contador_hacia_atras_while(10)\n"
   ]
  },
  {
   "cell_type": "markdown",
   "metadata": {
    "colab_type": "text",
    "id": "FzXUbemEXHJm"
   },
   "source": [
    "Hagámoslo ahora con una función que sólo pueda utilizarse a sí misma\n",
    "\n"
   ]
  },
  {
   "cell_type": "code",
   "execution_count": 17,
   "metadata": {
    "colab": {
     "base_uri": "https://localhost:8080/",
     "height": 114
    },
    "colab_type": "code",
    "executionInfo": {
     "elapsed": 556,
     "status": "ok",
     "timestamp": 1540877617810,
     "user": {
      "displayName": "Ramón Maldonado Rodríguez",
      "photoUrl": "https://lh3.googleusercontent.com/-ljH7hLMa7no/AAAAAAAAAAI/AAAAAAAAAAg/pf-fwlCU1Eg/s64/photo.jpg",
      "userId": "17580681743975451950"
     },
     "user_tz": -60
    },
    "id": "PVxV50DV3xsr",
    "outputId": "707e66cb-f7fe-4c40-eece-2ef15c5b495b"
   },
   "outputs": [
    {
     "name": "stdout",
     "output_type": "stream",
     "text": [
      "10,9,8,7,6,5,4,3,2,1,0,FIN CONTADOR\n",
      "***\n",
      "FIN CONTADOR\n",
      "FIN CONTADOR\n",
      "FIN CONTADOR\n"
     ]
    }
   ],
   "source": [
    "def cuenta_hacia_atras(c):\n",
    "    if c >= 0:\n",
    "        print(c, end=',')\n",
    "        return cuenta_hacia_atras(c-1)\n",
    "    print('FIN CONTADOR')\n",
    "    return\n",
    "  \n",
    "cuenta_hacia_atras(10)\n",
    "\n",
    "# ¿Qué pasa con números de entrada?\n",
    "print('***')\n",
    "contador_hacia_atras_for(-10)\n",
    "contador_hacia_atras_while(-10)\n",
    "cuenta_hacia_atras(-10)\n"
   ]
  },
  {
   "cell_type": "markdown",
   "metadata": {
    "colab_type": "text",
    "id": "Z8BwU9LSbCfY"
   },
   "source": [
    "Vemos que esta forma de definir la función solo necesita un contador (`c`) y no dos (`c` e `i`) como en la otra forma de los bucles. \n",
    "\n",
    "Esto es así porque siempre que se hace una iteración de código se intenta que esta sea limitada. Lo habitual es que cualquier bucle tenga un límite de salida, o si como veremos en [programación orientada a eventos](https://) el límite sea un evento que se produzca en el sistema (tal como la entrada de una medida de un dispositivo externo o una acción del usuario).\n",
    "\n",
    "En el caso de nuestra función recursiva, el límite de salida está definido directamente en ella (línea 3). Mientras el argumento de entrada sea mayor que cero la función se invocará a si misma, en cuanto se alcance cero (o si el argumento de entrada fuera negativo) imprimirá el mensaje `'FIN CONTADOR'` y se acabará la iteración\n",
    "\n",
    "## Como crear una función iterativa\n",
    "\n",
    "- **Primero** se debe establecer cual es la** operación básica** a realizar (en nuestro caso restar uno a un contador).\n",
    "- **Segundo** debe establecerse cual es el **punto de salida** de modo que la función deje de invocarse a sí misma (en nuestro caso que el contador sea < 0)\n",
    "\n",
    "Este último punto es esencial, si no se tiene cuidado y se controla la función puede volverse un bucle infinito y colapsar el programa.\n"
   ]
  },
  {
   "cell_type": "markdown",
   "metadata": {
    "colab_type": "text",
    "id": "okyNJXRueePT"
   },
   "source": [
    "## Conclusión\n",
    "\n",
    "La recursividad es una forma principal y basica de programación funcional que requiere bastante práctica hasta comprenderse bien.\n",
    "\n",
    "Conceptualmente es más limpia que las formas imperativas utilizando los bucles FOR, WHILE, UNTIL"
   ]
  }
 ],
 "metadata": {
  "colab": {
   "collapsed_sections": [],
   "name": "01.5 Funciones. Recursividad.ipynb",
   "provenance": [],
   "version": "0.3.2"
  },
  "kernelspec": {
   "display_name": "Python 3",
   "language": "python",
   "name": "python3"
  },
  "language_info": {
   "codemirror_mode": {
    "name": "ipython",
    "version": 3
   },
   "file_extension": ".py",
   "mimetype": "text/x-python",
   "name": "python",
   "nbconvert_exporter": "python",
   "pygments_lexer": "ipython3",
   "version": "3.7.1"
  }
 },
 "nbformat": 4,
 "nbformat_minor": 1
}
