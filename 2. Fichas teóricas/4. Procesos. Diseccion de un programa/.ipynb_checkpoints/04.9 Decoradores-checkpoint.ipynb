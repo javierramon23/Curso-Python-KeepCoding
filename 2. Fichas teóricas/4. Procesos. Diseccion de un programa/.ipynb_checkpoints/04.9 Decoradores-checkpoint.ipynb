{
 "cells": [
  {
   "cell_type": "markdown",
   "metadata": {
    "colab_type": "text",
    "id": "xH59FtIbeuTL"
   },
   "source": [
    "# Decoradores\n",
    "\n",
    "Un decorador es una función que se aplica a otra incrementando o modificando su funcionalidad.  En python se utiliza una notación especial que los hace fácilmente reconocibles y muy útiles.\n",
    "\n",
    "De hecho un decorador toma una función de entrada y la devuelve modificada como resultado.\n",
    "\n",
    "Imaginemos que queremos comprobar (imprimir) los parámetros de algunas de las funciones que utilizamos en un programa. Podríamos ir modificando cada una de esas funciones añadiéndoles las instrucciones `print` necesarias, pero también podríamos crear un decorador y aplicarselo a las funciones que deseemos.\n",
    "\n",
    "Veamos como hacerlo:\n",
    "\n",
    "Primero creemos 2 o tres funciones para nuestro programa:"
   ]
  },
  {
   "cell_type": "code",
   "execution_count": 0,
   "metadata": {
    "colab": {},
    "colab_type": "code",
    "id": "Ih49S_LHesRs"
   },
   "outputs": [],
   "source": [
    "def add(a, b):\n",
    "  return a+b\n",
    "\n",
    "def square(a):\n",
    "  return a*a\n",
    "\n",
    "def triangle(b,h):\n",
    "  return b*h/2"
   ]
  },
  {
   "cell_type": "markdown",
   "metadata": {
    "colab_type": "text",
    "id": "cCAjGPMuf3ED"
   },
   "source": [
    "Si las ejecutamos, obtenemos resultados normalmente. Si queremos imprimir sus parámetros debermos modificarlas, así:"
   ]
  },
  {
   "cell_type": "code",
   "execution_count": 2,
   "metadata": {
    "colab": {
     "base_uri": "https://localhost:8080/",
     "height": 89
    },
    "colab_type": "code",
    "executionInfo": {
     "elapsed": 573,
     "status": "ok",
     "timestamp": 1549384363626,
     "user": {
      "displayName": "Ramón Maldonado Rodríguez",
      "photoUrl": "https://lh3.googleusercontent.com/-ljH7hLMa7no/AAAAAAAAAAI/AAAAAAAAAAg/pf-fwlCU1Eg/s64/photo.jpg",
      "userId": "17580681743975451950"
     },
     "user_tz": -60
    },
    "id": "aakVYMuEf_yo",
    "outputId": "75c03e19-e67e-45ee-9685-003799f26435"
   },
   "outputs": [
    {
     "name": "stdout",
     "output_type": "stream",
     "text": [
      "3\n",
      "parametro 1: 1\n",
      "parametro 2: 2\n",
      "3\n"
     ]
    }
   ],
   "source": [
    "print(add(1,2))\n",
    "\n",
    "def add(a, b):\n",
    "  print(\"parametro 1:\", a)\n",
    "  print(\"parametro 2:\", b)\n",
    "  return (a+b)\n",
    "    \n",
    "print(add(1,2))"
   ]
  },
  {
   "cell_type": "markdown",
   "metadata": {
    "colab_type": "text",
    "id": "9JMP2XypgUOl"
   },
   "source": [
    "Vemos que en el primer caso imprime directamente el resultado de la suma, mientras que en el segundo además imprime una línea por parámetro.\n",
    "\n",
    "Creemos ahora una función que llamaremos debug, cuyo parámetro de entrada será una función (cualquier función) y que tomándo esta función de entrada devolverá otra que\n",
    "1. Imprimirá los parámetros de la función de entrada\n",
    "2. Seguirá realizando la función de entrada\n",
    "\n",
    "Es decir, decorará la función de entrada con nueva funcionalidad y no la modificará (aunque se podría)\n",
    "\n",
    "Nuestra función `debub` quedaría así:"
   ]
  },
  {
   "cell_type": "code",
   "execution_count": 0,
   "metadata": {
    "colab": {},
    "colab_type": "code",
    "id": "iYPek5-Pg4w_"
   },
   "outputs": [],
   "source": [
    "def debug(f): # f es la función de entrada que será decorada por debug\n",
    "  def out_f(*args): # out_f será la función de salida que devolverá debug.\n",
    "                    # tendrá los mismos argumentos que f (con el truco de *args nos evitamos firma de función)\n",
    "    ''' Imprimir los argumentos de f '''\n",
    "    i = 1\n",
    "    for arg in args:\n",
    "      print(\"argumento {}: {}\".format(i, arg))\n",
    "      i += 1\n",
    "    ''' Devolver la ejecución de la función de entrada con sus parámetros.\n",
    "        Así no se modifica la acción de f\n",
    "    '''\n",
    "    return f(*args)\n",
    "  \n",
    "  return out_f #devuelve la función decorada con la impresión"
   ]
  },
  {
   "cell_type": "markdown",
   "metadata": {
    "colab_type": "text",
    "id": "LMWxy0Hvhwfp"
   },
   "source": [
    "Una vez creada la función `debug` con esa estructura de función dentro de función que es devuelta incluyendo la ejecución de la función de entrada, podemos aplicarlo como sigue:"
   ]
  },
  {
   "cell_type": "code",
   "execution_count": 7,
   "metadata": {
    "colab": {
     "base_uri": "https://localhost:8080/",
     "height": 71
    },
    "colab_type": "code",
    "executionInfo": {
     "elapsed": 612,
     "status": "ok",
     "timestamp": 1549384931802,
     "user": {
      "displayName": "Ramón Maldonado Rodríguez",
      "photoUrl": "https://lh3.googleusercontent.com/-ljH7hLMa7no/AAAAAAAAAAI/AAAAAAAAAAg/pf-fwlCU1Eg/s64/photo.jpg",
      "userId": "17580681743975451950"
     },
     "user_tz": -60
    },
    "id": "ngSGXJjEiaDR",
    "outputId": "e30665f5-470a-4473-a4cf-2f8aec87e2f0"
   },
   "outputs": [
    {
     "name": "stdout",
     "output_type": "stream",
     "text": [
      "3\n",
      "9\n",
      "10.0\n"
     ]
    }
   ],
   "source": [
    "print(add(1,2))\n",
    "print(square(3))\n",
    "print(triangle(4,5))"
   ]
  },
  {
   "cell_type": "code",
   "execution_count": 0,
   "metadata": {
    "colab": {},
    "colab_type": "code",
    "id": "i_KJkjmah-1v"
   },
   "outputs": [],
   "source": [
    "@debug\n",
    "def add(a, b):\n",
    "  return a+b\n",
    "\n",
    "@debug\n",
    "def square(a):\n",
    "  return a*a\n",
    "\n",
    "@debug\n",
    "def triangle(b,h):\n",
    "  return b*h/2"
   ]
  },
  {
   "cell_type": "markdown",
   "metadata": {
    "colab_type": "text",
    "id": "FVajD3dDiHqg"
   },
   "source": [
    "Y si ahora ejecutamos las funciones..."
   ]
  },
  {
   "cell_type": "code",
   "execution_count": 9,
   "metadata": {
    "colab": {
     "base_uri": "https://localhost:8080/",
     "height": 161
    },
    "colab_type": "code",
    "executionInfo": {
     "elapsed": 564,
     "status": "ok",
     "timestamp": 1549384942474,
     "user": {
      "displayName": "Ramón Maldonado Rodríguez",
      "photoUrl": "https://lh3.googleusercontent.com/-ljH7hLMa7no/AAAAAAAAAAI/AAAAAAAAAAg/pf-fwlCU1Eg/s64/photo.jpg",
      "userId": "17580681743975451950"
     },
     "user_tz": -60
    },
    "id": "5Dh6VJxyiKT3",
    "outputId": "05a23adb-e7c5-463a-df17-fc7afff06748"
   },
   "outputs": [
    {
     "name": "stdout",
     "output_type": "stream",
     "text": [
      "argumento 1: 1\n",
      "argumento 2: 2\n",
      "3\n",
      "argumento 1: 3\n",
      "9\n",
      "argumento 1: 4\n",
      "argumento 2: 5\n",
      "10.0\n"
     ]
    }
   ],
   "source": [
    "print(add(1,2))\n",
    "print(square(3))\n",
    "print(triangle(4,5))"
   ]
  },
  {
   "cell_type": "markdown",
   "metadata": {
    "colab_type": "text",
    "id": "a_ttB_sOikbk"
   },
   "source": [
    "Vemos que siguen ejecutándose como toca (línea 12 de la definición de `debug`) pero se ha incrementado su funcionalidad con la impresión de argumentos."
   ]
  },
  {
   "cell_type": "markdown",
   "metadata": {
    "colab_type": "text",
    "id": "FuCFXIJSixPe"
   },
   "source": [
    "## Y ¿esto para qué sirve?\n",
    "\n",
    "Se utiliza mucho en frameworks para tareas repetitivas y de infraestructura. Por ejemplo en Flask el decorador `@app.route(cadena_de_ruta)` aplicado a una función determinada le añade la funcionalidad necesaria para que cuando se produzca una llamada http de cadena_de_ruta desde un navegador se ejecute la función asociada.\n",
    "```\n",
    "@app.route('/')\n",
    "def hello_world():\n",
    "  return 'Hola, mundo!'\n",
    "```\n",
    "Hará que cuando al servidor llegue una petición con la ruta `\\` se muestre en él el mensaje `Hola, mundo!`. \n",
    "\n",
    "¿Cómo lo hace este decorador? No es necesario conocerlo, basta con saber que lo hace y utilizarlo para cada una de las rutas de nuestra aplicación"
   ]
  }
 ],
 "metadata": {
  "colab": {
   "collapsed_sections": [],
   "name": "5.0 Decoradores.ipynb",
   "provenance": [],
   "version": "0.3.2"
  },
  "kernelspec": {
   "display_name": "Python 3",
   "language": "python",
   "name": "python3"
  },
  "language_info": {
   "codemirror_mode": {
    "name": "ipython",
    "version": 3
   },
   "file_extension": ".py",
   "mimetype": "text/x-python",
   "name": "python",
   "nbconvert_exporter": "python",
   "pygments_lexer": "ipython3",
   "version": "3.7.1"
  }
 },
 "nbformat": 4,
 "nbformat_minor": 1
}
