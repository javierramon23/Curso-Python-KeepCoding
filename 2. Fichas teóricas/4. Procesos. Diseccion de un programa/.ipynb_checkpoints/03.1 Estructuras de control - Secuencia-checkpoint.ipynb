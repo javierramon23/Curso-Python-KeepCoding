{
 "cells": [
  {
   "cell_type": "markdown",
   "metadata": {
    "colab_type": "text",
    "id": "m_cEFqYmbNk3"
   },
   "source": [
    "# Estructuras de control\n",
    "\n",
    "El programa más sencillo no es más que una secuencia lineal de instrucciones que van modificando  los datos de entrada para conseguir el resultado de salida, tal y como se ve en el siguiente ejemplo Edad de perro simple, así\n",
    "\n",
    "## Secuencia\n"
   ]
  },
  {
   "cell_type": "code",
   "execution_count": 4,
   "metadata": {
    "colab": {
     "base_uri": "https://localhost:8080/",
     "height": 56
    },
    "colab_type": "code",
    "executionInfo": {
     "elapsed": 4016,
     "status": "ok",
     "timestamp": 1540306648548,
     "user": {
      "displayName": "Ramón Maldonado Rodríguez",
      "photoUrl": "",
      "userId": "17580681743975451950"
     },
     "user_tz": -120
    },
    "id": "emaTeTybbMpZ",
    "outputId": "67ee0ee7-a0da-47e0-8cae-3aca2a3282bc"
   },
   "outputs": [
    {
     "name": "stdout",
     "output_type": "stream",
     "text": [
      "Edad del perro: 7\n",
      "Su perro tiene 49 años humanos\n"
     ]
    }
   ],
   "source": [
    "strEdad = input(\"Edad del perro: \")\n",
    "edad = int(strEdad)\n",
    "edadHumana = edad * 7\n",
    "print(\"Su perro tiene %d años humanos\" % edadHumana)\n"
   ]
  },
  {
   "cell_type": "markdown",
   "metadata": {
    "colab_type": "text",
    "id": "bng63EwQbu5y"
   },
   "source": [
    "Se ve como el programa:\n",
    "\t1.\tpide el dato, \n",
    "\t2.\tlo transforma en número, \n",
    "\t3.\thace el cálculo y \n",
    "\t4.\tlo imprime.\n",
    "  \n",
    "  <img src=\"https://docs.google.com/uc?export=download&id=1Ve3oKHoyB9zg3jUZ5VjByrqAVmd3JaBt\" height=\"150\">\n",
    "  \n",
    "  Es la forma más sencilla de estructura de control, se sigue la secuencia de instrucciones hasta llegar a la última. Cuando no haya más instrucciones el programa para.\n"
   ]
  }
 ],
 "metadata": {
  "colab": {
   "name": "05.0 Estructuras de control - Secuencia.ipynb",
   "provenance": [],
   "version": "0.3.2"
  },
  "kernelspec": {
   "display_name": "Python 3",
   "language": "python",
   "name": "python3"
  },
  "language_info": {
   "codemirror_mode": {
    "name": "ipython",
    "version": 3
   },
   "file_extension": ".py",
   "mimetype": "text/x-python",
   "name": "python",
   "nbconvert_exporter": "python",
   "pygments_lexer": "ipython3",
   "version": "3.7.1"
  }
 },
 "nbformat": 4,
 "nbformat_minor": 1
}
