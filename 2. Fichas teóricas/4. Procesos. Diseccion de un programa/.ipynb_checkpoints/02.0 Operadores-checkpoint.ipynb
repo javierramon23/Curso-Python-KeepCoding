{
 "cells": [
  {
   "cell_type": "markdown",
   "metadata": {
    "colab_type": "text",
    "id": "bEZwpLk5A0Nm"
   },
   "source": [
    "# Operadores\n",
    "\n",
    "Son expresiones simbólicas que ejecutan una operación sobre un dato, por ejemplo en la expresión `3 + 2` 3 y 2 son los datos y `+` el operador. En este caso un operador aritmético y realiza la suma.\n",
    "\n",
    "Dependiendo del lenguaje y el tipo de dato se dispondrá de más o menos operadores, no obstante casi todos los lenguajes disponen de una batería mínima necesaria para hacer todas las transformaciones de los datos.\n",
    "\n",
    "No obstante si que podemos distinguirlos según sobre cuantos datos actúen o necesiten:\n",
    "- **Unarios**: Actúan sobre un solo dato por ejemplo el cambio de signo de un número `-` o la negación de un dato booleano `not`\n",
    "- **Binarios**: Actúan sobre dos datos por ejemplo el operador de comparación entre dos condiciones `==` o el operador suma `+`\n",
    "- **Ternario**: Sólo hay uno y sólo en algunos lenguajes es un operador para utilizar la estructura de control  if-else. Supongamos un dato `c` que es un booleano y dos datos `t` y `f` de cualquier clase. El operador ternario sustituye las siguientes líneas de código:\n",
    "```\n",
    "if c:\n",
    "    t\n",
    "else:\n",
    "    f\n",
    "```\n",
    "en los lenguajes de programación que existe toma la siguiente forma (o muy similar):\n",
    "```\n",
    "c ? t : f\n",
    "```\n",
    "\n",
    "en python no existe un operador ternario pero si hay una forma abreviada de if else que puede usarse en una sola línea de código.\n",
    "\n",
    "Del mismo modo que hay diferentes tipos de datos hay diferentes tipos de operadores. Veremos los operadores en los [tipos de datos](https://drive.google.com/open?id=1pcBNKNhKed3RjvcpsYfNPSIKdvfrt70P)"
   ]
  },
  {
   "cell_type": "markdown",
   "metadata": {
    "colab_type": "text",
    "id": "SKjgxX_nHvzs"
   },
   "source": [
    "## Ejemplos en python"
   ]
  },
  {
   "cell_type": "code",
   "execution_count": 1,
   "metadata": {
    "colab": {
     "base_uri": "https://localhost:8080/",
     "height": 36
    },
    "colab_type": "code",
    "executionInfo": {
     "elapsed": 732,
     "status": "ok",
     "timestamp": 1540569914582,
     "user": {
      "displayName": "Ramón Maldonado Rodríguez",
      "photoUrl": "https://lh3.googleusercontent.com/-ljH7hLMa7no/AAAAAAAAAAI/AAAAAAAAAAg/pf-fwlCU1Eg/s64/photo.jpg",
      "userId": "17580681743975451950"
     },
     "user_tz": -120
    },
    "id": "UgFiiMdKAzXd",
    "outputId": "748daeb5-d05b-4909-96a2-61204f9c8f6c"
   },
   "outputs": [
    {
     "data": {
      "text/plain": [
       "-3"
      ]
     },
     "execution_count": 1,
     "metadata": {
      "tags": []
     },
     "output_type": "execute_result"
    }
   ],
   "source": [
    "# Unario\n",
    "a = 3\n",
    "-a"
   ]
  },
  {
   "cell_type": "code",
   "execution_count": 2,
   "metadata": {
    "colab": {
     "base_uri": "https://localhost:8080/",
     "height": 36
    },
    "colab_type": "code",
    "executionInfo": {
     "elapsed": 515,
     "status": "ok",
     "timestamp": 1540569951150,
     "user": {
      "displayName": "Ramón Maldonado Rodríguez",
      "photoUrl": "https://lh3.googleusercontent.com/-ljH7hLMa7no/AAAAAAAAAAI/AAAAAAAAAAg/pf-fwlCU1Eg/s64/photo.jpg",
      "userId": "17580681743975451950"
     },
     "user_tz": -120
    },
    "id": "8p8ZkS3OH0mz",
    "outputId": "65e8e0ba-d605-45e5-a73d-f50c67a07084"
   },
   "outputs": [
    {
     "data": {
      "text/plain": [
       "3"
      ]
     },
     "execution_count": 2,
     "metadata": {
      "tags": []
     },
     "output_type": "execute_result"
    }
   ],
   "source": [
    "# Binarios\n",
    "a = 1\n",
    "b = 2\n",
    "a + b"
   ]
  },
  {
   "cell_type": "code",
   "execution_count": 4,
   "metadata": {
    "colab": {
     "base_uri": "https://localhost:8080/",
     "height": 36
    },
    "colab_type": "code",
    "executionInfo": {
     "elapsed": 665,
     "status": "ok",
     "timestamp": 1540570109276,
     "user": {
      "displayName": "Ramón Maldonado Rodríguez",
      "photoUrl": "https://lh3.googleusercontent.com/-ljH7hLMa7no/AAAAAAAAAAI/AAAAAAAAAAg/pf-fwlCU1Eg/s64/photo.jpg",
      "userId": "17580681743975451950"
     },
     "user_tz": -120
    },
    "id": "0QHyikWMIF9_",
    "outputId": "ff5e13b0-7c52-4098-d77a-049cec11cf7f"
   },
   "outputs": [
    {
     "data": {
      "text/plain": [
       "'Has respondido si'"
      ]
     },
     "execution_count": 4,
     "metadata": {
      "tags": []
     },
     "output_type": "execute_result"
    }
   ],
   "source": [
    "# Ternario\n",
    "resp = 'yes'\n",
    "datoBooleano = resp == 'yes'\n",
    "'Has respondido si' if datoBooleano else 'Has respondido no'"
   ]
  },
  {
   "cell_type": "markdown",
   "metadata": {
    "colab_type": "text",
    "id": "222uVwxiIofq"
   },
   "source": [
    "\n",
    "## Precedencia\n",
    "\n",
    "Cuando en una sentencia se utiliza más de un operador el lenguaje de programación ya tiene perfectamente determinado el orden en que se aplicarán los operadores.\n",
    "\n",
    "Lo hemos visto en la línea 3 del ejemplo de operador ternario en python `datoBooleano = resp == 'yes'`. Aquí hay 2 variables `datoBooleano` y `resp`, 1 datos `yes` y dos operadores binarios `==` e `=`. La forma en que se ejecuta es la siguiente.\n",
    "\n",
    "1. Se comprueba si resp es igual a 'yes'. Esto devolverá `True` o `False`\n",
    "2. El resultado de la operación anterior se asignará a la variable  `datoBooleano`\n",
    "\n",
    "Es lo lógico pero podría haberse hecho en el orden contrario, primero asignar el contenido de resp a datoBooleano y luego comparar cualquiera de las dos (son iguales) a `yes`.\n",
    "\n",
    "La razón por la que se ha hecho en el orden indicado y no en el contrario es porque todos los lenguajes de programación tienen perfectamente definida dicho orden. A esto se le llama** precedencia de operadores** y se puede consultar para cada lenguaje y tipo de operadores. Los veremos al estudiar los datos, especialmente los numéricos (ya que es donde más se usan muchos operadores en una única sentencia).\n",
    "\n",
    "### Haz la prueba\n",
    "\n",
    "Sólo por curiosidad alteremos la precedencia (puede hacerse con paréntesis) y veamos que ocurre\n",
    "\n"
   ]
  },
  {
   "cell_type": "code",
   "execution_count": 7,
   "metadata": {
    "colab": {
     "base_uri": "https://localhost:8080/",
     "height": 36
    },
    "colab_type": "code",
    "executionInfo": {
     "elapsed": 614,
     "status": "ok",
     "timestamp": 1540570721291,
     "user": {
      "displayName": "Ramón Maldonado Rodríguez",
      "photoUrl": "https://lh3.googleusercontent.com/-ljH7hLMa7no/AAAAAAAAAAI/AAAAAAAAAAg/pf-fwlCU1Eg/s64/photo.jpg",
      "userId": "17580681743975451950"
     },
     "user_tz": -120
    },
    "id": "7ufoou4aH-jS",
    "outputId": "9c07f837-3289-49b4-d097-10c3d44a7167"
   },
   "outputs": [
    {
     "data": {
      "text/plain": [
       "True"
      ]
     },
     "execution_count": 7,
     "metadata": {
      "tags": []
     },
     "output_type": "execute_result"
    }
   ],
   "source": [
    "# Precedencia normal \n",
    "a = 1\n",
    "b = 2\n",
    "b == a + a"
   ]
  },
  {
   "cell_type": "code",
   "execution_count": 8,
   "metadata": {
    "colab": {
     "base_uri": "https://localhost:8080/",
     "height": 36
    },
    "colab_type": "code",
    "executionInfo": {
     "elapsed": 566,
     "status": "ok",
     "timestamp": 1540570737997,
     "user": {
      "displayName": "Ramón Maldonado Rodríguez",
      "photoUrl": "https://lh3.googleusercontent.com/-ljH7hLMa7no/AAAAAAAAAAI/AAAAAAAAAAg/pf-fwlCU1Eg/s64/photo.jpg",
      "userId": "17580681743975451950"
     },
     "user_tz": -120
    },
    "id": "oAz0Sii7Kkpp",
    "outputId": "18c67609-e010-4efa-e299-8169a450c2bc"
   },
   "outputs": [
    {
     "data": {
      "text/plain": [
       "1"
      ]
     },
     "execution_count": 8,
     "metadata": {
      "tags": []
     },
     "output_type": "execute_result"
    }
   ],
   "source": [
    "# Precedencia invertida\n",
    "a = 1\n",
    "b = 2\n",
    "(b == a) + a"
   ]
  },
  {
   "cell_type": "code",
   "execution_count": 9,
   "metadata": {
    "colab": {
     "base_uri": "https://localhost:8080/",
     "height": 36
    },
    "colab_type": "code",
    "executionInfo": {
     "elapsed": 632,
     "status": "ok",
     "timestamp": 1540570803344,
     "user": {
      "displayName": "Ramón Maldonado Rodríguez",
      "photoUrl": "https://lh3.googleusercontent.com/-ljH7hLMa7no/AAAAAAAAAAI/AAAAAAAAAAg/pf-fwlCU1Eg/s64/photo.jpg",
      "userId": "17580681743975451950"
     },
     "user_tz": -120
    },
    "id": "0G4y0wMiLNUx",
    "outputId": "5e42cd56-cc47-49ad-edd7-dee030737028"
   },
   "outputs": [
    {
     "data": {
      "text/plain": [
       "2"
      ]
     },
     "execution_count": 9,
     "metadata": {
      "tags": []
     },
     "output_type": "execute_result"
    }
   ],
   "source": [
    "True + a"
   ]
  },
  {
   "cell_type": "markdown",
   "metadata": {
    "colab_type": "text",
    "id": "rprAij5XLBrp"
   },
   "source": [
    "En el primer caso primero se realiza la suma y luego la comparación.\n",
    "\n",
    "En el segundo primero hacemos la comparación y luego la suma. Dado que `True` es equivalente a 1 y `False` a 0. La suma da 1"
   ]
  }
 ],
 "metadata": {
  "colab": {
   "name": "12.0 Operadores.ipynb",
   "provenance": [],
   "version": "0.3.2"
  },
  "kernelspec": {
   "display_name": "Python 3",
   "language": "python",
   "name": "python3"
  },
  "language_info": {
   "codemirror_mode": {
    "name": "ipython",
    "version": 3
   },
   "file_extension": ".py",
   "mimetype": "text/x-python",
   "name": "python",
   "nbconvert_exporter": "python",
   "pygments_lexer": "ipython3",
   "version": "3.7.1"
  }
 },
 "nbformat": 4,
 "nbformat_minor": 1
}
