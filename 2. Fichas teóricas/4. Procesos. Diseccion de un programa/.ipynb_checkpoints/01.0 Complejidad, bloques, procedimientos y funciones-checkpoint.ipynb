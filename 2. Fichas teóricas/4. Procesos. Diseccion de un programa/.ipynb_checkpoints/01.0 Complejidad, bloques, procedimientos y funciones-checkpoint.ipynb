{
 "cells": [
  {
   "cell_type": "markdown",
   "metadata": {
    "colab_type": "text",
    "id": "w9liKf_2xPT5"
   },
   "source": [
    "# Programas cada vez más complejos\n",
    "\n",
    "En *[Cómo funciona un ordenador](https://colab.research.google.com/drive/1BDNigE3q4w-SQ9HDVgogE64WSszjoKJO#scrollTo=aZL50orPEghP)* hemos visto que un ordenador no es más que una calculadora multipropósito muy rápida y eficiente realizando cálculos.\n",
    "\n",
    "Revisando la historia de los computadores vemos que en principio se utilizaban para resolver cálculos complejos (cosa que se ve muy bien en las peliculas *The imitation game (Descifrando enigma)* o *Hidden Figures (Figuras ocultas)* ) pero a medida que los ordenadores ganaban en potencia y podían dedicar esa potencia a formatear datos para hacerlos más accesibles a usuarios normales (utilización de teclados y pantalla, gráficos más potentes, compresión y digitalización de video y música, control de dispositivos y en diferentes oleadas la inteligencia artificial) los programas pasaron de resolver problemas matemáticos a resolver problemas empresariales, científicos, técnicos, bancaria y en esta última fase a introducirse en todos los aspectos de la vida cotidiana.\n",
    "\n",
    "Todo eso, necesariamente, conlleva que los programas sean cada vez más complejos. En sentido estricto un complejo es una unidad formada por partes interrelacionadas que actúa de forma coherente y unitaria. Cuanto más complejo es el complejo, más partes tiene. "
   ]
  },
  {
   "cell_type": "markdown",
   "metadata": {
    "colab_type": "text",
    "id": "LHUqIZnO3BfR"
   },
   "source": [
    "## Formas de enfrentar la complejidad en programación\n",
    "\n",
    "El software actual resuelve problemas muy complejos. En nuestra práctica hasta ahora hemos sido capaces de resolver pequeños problemas con programas lineales, pero a medida que queremos enfrentar problemas mayores y teniendo en cuenta nuestras dos estrategias principales [descomposición](https://colab.research.google.com/drive/1WpgT3nke7l-L8kuSkh28Rm4dB_GK_wPg#scrollTo=qcsR3PGrAd2q&line=9&uniqifier=1) y [abstracción](https://colab.research.google.com/drive/18IcmpoctWUt2e7MhoWJlhcq0B0IvuVLa#scrollTo=X4onFUbdJ3fS) sabemos que más tarde o más temprano daremos con la forma de dividir un gran problema en problemas menores y menores. ¿Cómo lidiamos con estos pequeños problemas?\n",
    "\n",
    "Parte de la solución ya la conocemos. En la [iteración (bucles)](https://drive.google.com/open?id=1-yvREfRi0rO21zqLSHqZJiSLj8aVdKdz) vimos una estructura que se repetía el [bloque de código](https://drive.google.com/open?id=1GqKUm-o2uqeK2XAwfWaiQEihaVNkIFT4). Veamos ahora como este bloque evoluciona de manera que podemos romper una pieza lineal de software como las que hasta ahora hemos visto en piezas menores que a su vez nos permiten construir programas más complejos que realizan tareas más complejas.\n"
   ]
  },
  {
   "cell_type": "markdown",
   "metadata": {
    "colab_type": "text",
    "id": "ohKR3oQT9zYe"
   },
   "source": [
    "# Procedimientos, subrutinas o funciones.\n",
    "\n",
    "\n",
    "\n",
    "Ahora ya podemos ver el [código que utilizamos para dibujar un triángulo, un cuadrado y un pentángono](https://colab.research.google.com/drive/18IcmpoctWUt2e7MhoWJlhcq0B0IvuVLa#scrollTo=ldltar-FJ0wn&line=47&uniqifier=1) con algo más de profundidad.\n",
    "\n",
    "El asunto es dibujar las tres figuras utilizando la librería turtle de python. Vamos a centrarnos en el triángulo\n",
    "\n",
    "El código lineal directo es este (*Este código no funciona ni en collab ni en jupyter debe ejecutarse en local*):"
   ]
  },
  {
   "cell_type": "code",
   "execution_count": 0,
   "metadata": {
    "colab": {},
    "colab_type": "code",
    "id": "cQjOINsknkuA"
   },
   "outputs": [],
   "source": [
    "import turtle\n",
    "\n",
    "theTurtle = turtle.Turtle()\n",
    "\n",
    "theTurtle.goto(0,0)\n",
    "theTurtle.seth(0)\n",
    "theTurtle.fd(50)\n",
    "theTurtle.left(120)\n",
    "theTurtle.fd(50)\n",
    "theTurtle.left(120)\n",
    "theTurtle.fd(50)\n",
    "theTurtle.left(120)"
   ]
  },
  {
   "cell_type": "markdown",
   "metadata": {
    "colab_type": "text",
    "id": "vFi82fjKnqXT"
   },
   "source": [
    "Este es el código equivalente a resolver un cálculo complejo línea a línea. Vamos a arreglar el código paso a paso.\n",
    "\n",
    "1. Quitemos las repeticiones\n",
    "\n"
   ]
  },
  {
   "cell_type": "code",
   "execution_count": 0,
   "metadata": {
    "colab": {},
    "colab_type": "code",
    "id": "j-IX9LIwn54l"
   },
   "outputs": [],
   "source": [
    "import turtle\n",
    "\n",
    "theTurtle = turtle.Turtle()\n",
    "\n",
    "theTurtle.goto(0,0)\n",
    "theTurtle.seth(0)\n",
    "\n",
    "for _ in range(0,3):\n",
    "  theTurtle.fd(50)\n",
    "  theTurtle.left(120)"
   ]
  },
  {
   "cell_type": "markdown",
   "metadata": {
    "colab_type": "text",
    "id": "aAQxIKoxnqbw"
   },
   "source": [
    "## Procedimientos\n",
    "\n",
    "2. Encapsular cierta parte del código en un procedimiento que podemos llamar siempre que queramos. Para ello utilizamos la sentencia `def` para crear el procedimiento de la siguiente forma:\n",
    "```\n",
    "def <nombre_procedimiento>():\n",
    "     bloque de código\n",
    "```\n",
    "\n",
    "Tiene 3 partes bien definidas:\n",
    "- instrucción def (define):\n",
    "- <nombre_procedimiento>: sin espacios en blanco\n",
    "- los paréntesis: Esenciales, veremos para que sirven más abajo\n",
    "\n",
    "Veámoslo:\n"
   ]
  },
  {
   "cell_type": "code",
   "execution_count": 0,
   "metadata": {
    "colab": {},
    "colab_type": "code",
    "id": "WyQXbGTFpxQg"
   },
   "outputs": [],
   "source": [
    "import turtle\n",
    "\n",
    "theTurtle = turtle.Turtle()\n",
    "\n",
    "def triangulo():\n",
    "  theTurtle.goto(0,0)\n",
    "  theTurtle.seth(0)\n",
    "\n",
    "  for _ in range(0,3):\n",
    "    theTurtle.fd(50)\n",
    "    theTurtle.left(120)"
   ]
  },
  {
   "cell_type": "markdown",
   "metadata": {
    "colab_type": "text",
    "id": "Qq4diq7np_bX"
   },
   "source": [
    "Si lo ejecutamos vemos que no hace absolútamente nada. \n",
    "\n",
    "Esto es importante. Lo que hemos hecho en ese fragmento de código es definir el procedimiento pero en ningún momento los hemos ejecutado para ello hay que llamarlo explícitamente"
   ]
  },
  {
   "cell_type": "code",
   "execution_count": 0,
   "metadata": {
    "colab": {},
    "colab_type": "code",
    "id": "0THYM48op-FP"
   },
   "outputs": [],
   "source": [
    "import turtle\n",
    "\n",
    "theTurtle = turtle.Turtle()\n",
    "\n",
    "def triangulo():\n",
    "  theTurtle.goto(0,0)\n",
    "  theTurtle.seth(0)\n",
    "\n",
    "  for _ in range(0,3):\n",
    "    theTurtle.fd(50)\n",
    "    theTurtle.left(120)\n",
    "    \n",
    "triangulo()\n",
    "\n"
   ]
  },
  {
   "cell_type": "markdown",
   "metadata": {
    "colab_type": "text",
    "id": "eJXHQPDAwCr5"
   },
   "source": [
    "Es importante recalcar que la definición del procedimiento debe ir antes de su ejecución.\n",
    "\n",
    "## Funciones\n",
    "\n",
    "La ventaja de ir rompiendo el problema en partes pequeñas es que nos permite afinar en las pequeñas partes haciendo el código más eficiente cada vez. \n",
    "\n",
    "Imaginemos ahora que queremos dibujar varios triángulos con distintos tamaños. Bastaría con llamar a nuestro procedimiento informándole el tamaño del triángulo que queremos. Para esto es para lo que sirven los paréntesis. Podemos incluir ahí los **parámetros** que necesita nuestro procedimiento.\n",
    "\n",
    "En el momento que el procedimiento presenta parámetros de entrada (y ya veremos si de salida) por similitud con las funciones matemáticas empezamos a llamarles **funciones**.\n",
    "\n",
    "Veamos como quedaría:"
   ]
  },
  {
   "cell_type": "code",
   "execution_count": 0,
   "metadata": {
    "colab": {},
    "colab_type": "code",
    "id": "7jWr1wV3vWfn"
   },
   "outputs": [],
   "source": [
    "import turtle\n",
    "\n",
    "theTurtle = turtle.Turtle()\n",
    "\n",
    "def triangulo(lado):\n",
    "  theTurtle.goto(0,0)\n",
    "  theTurtle.seth(0)\n",
    "\n",
    "  for _ in range(0,3):\n",
    "    theTurtle.fd(lado)\n",
    "    theTurtle.left(120)\n",
    "    \n",
    "triangulo(50)\n",
    "triangulo(100)\n",
    "triangulo(150)\n"
   ]
  },
  {
   "cell_type": "markdown",
   "metadata": {
    "colab_type": "text",
    "id": "S-jWdZswxvjX"
   },
   "source": [
    "De este modo nos dibuja tres triángulos desde el mismo punto.\n",
    "\n",
    "Para finalizar una función puede devolver un resultado, imaginemos que nuestra función triángulo, aparte de dibujarlo nos devuelve lo que mide el perímetro del mismo. Simplemente debería calcular 3 x lado y devolverlo.\n",
    "\n",
    "¿Cómo se hace? con la instrucción **return** que indica el punto de salida de la función.\n",
    "\n",
    "Veamos como queda"
   ]
  },
  {
   "cell_type": "code",
   "execution_count": 0,
   "metadata": {
    "colab": {},
    "colab_type": "code",
    "id": "AGycf7aoyYoC"
   },
   "outputs": [],
   "source": [
    "import turtle\n",
    "\n",
    "theTurtle = turtle.Turtle()\n",
    "\n",
    "def triangulo(lado):\n",
    "  theTurtle.goto(0,0)\n",
    "  theTurtle.seth(0)\n",
    "\n",
    "  for _ in range(0,3):\n",
    "    theTurtle.fd(lado)\n",
    "    theTurtle.left(120)\n",
    "  \n",
    "  return lado * 3\n",
    "    \n",
    "print(triangulo(50))\n",
    "print(triangulo(100))\n",
    "print(triangulo(150))\n"
   ]
  },
  {
   "cell_type": "markdown",
   "metadata": {
    "colab_type": "text",
    "id": "m1ljd6J0y6Zt"
   },
   "source": [
    "En definitiva cuanto más complejo es nuestro programa más nos interesa identificar aquellos procedimientos que se pueden reutilizar o centralizar para ir haciendo más manejable la complejidad.\n",
    "\n",
    "Esos procedimientos los transformamos en funciones según el siguiente esquema:\n",
    "```\n",
    "def <nombre_funcion>(parametro1, parametro2, ... , parametroN):\n",
    "    instrucción 1\n",
    "    instrucción 2\n",
    "    ...\n",
    "    instrucción N\n",
    "    return resultado\n",
    "```\n",
    "\n",
    "y tras las definiciones cada vez que necesitemos ejecutar la funcion lo haremos invocándola por su nombre y parámetros:\n",
    "\n",
    "```\n",
    "variable = <nombre_funcion>(x, y, ..., n)\n",
    "\n",
    "\n",
    "  "
   ]
  },
  {
   "cell_type": "markdown",
   "metadata": {
    "colab_type": "text",
    "id": "GmtckkRwz2Ll"
   },
   "source": [
    "## Conclusión\n",
    "\n",
    "La principal forma de hacer manejable la complejidad de un programa es reducirlo a un conjunto de procedimientos o **funciones** que sean invocadas cada vez que se necesitan.\n",
    "\n",
    "Ahora ya estamos en disposición de entender porque algunas instrucciones de python son simplemente mandatos como por ejemplo `if`,  `for` o `def` y otras son funciones integradas en el lenguaje como `print()`,  `input()` o `range()`.\n",
    "\n",
    "Y vemos que son fáciles de distinguir las funciones siempre que se invocan van seguidas de paréntesis con o sin parámetros. \n",
    "\n",
    "Y pueden devolver resultados como en el caso de input(), o no devolver nada como en el caso de print().\n",
    "\n",
    "\n"
   ]
  },
  {
   "cell_type": "markdown",
   "metadata": {
    "colab_type": "text",
    "id": "FLxgnxlWz3dH"
   },
   "source": [
    "### Haz la prueba\n",
    "\n",
    "¿print() no devuelve nada?. Es interesante comprobarlo. print() realiza un trabajo que es mostrar lo que se le pida por pantalla, pero si almacenamos lo que devuelve en una variable veremos que esa variable no contiene nada."
   ]
  },
  {
   "cell_type": "code",
   "execution_count": 2,
   "metadata": {
    "colab": {
     "base_uri": "https://localhost:8080/",
     "height": 35
    },
    "colab_type": "code",
    "executionInfo": {
     "elapsed": 560,
     "status": "ok",
     "timestamp": 1550157528584,
     "user": {
      "displayName": "Ramón Maldonado Rodríguez",
      "photoUrl": "https://lh3.googleusercontent.com/-ljH7hLMa7no/AAAAAAAAAAI/AAAAAAAAAAg/pf-fwlCU1Eg/s64/photo.jpg",
      "userId": "17580681743975451950"
     },
     "user_tz": -60
    },
    "id": "z8yCPa-I1kr4",
    "outputId": "482d6a7e-0b93-4f49-e98d-a87c510a32e1"
   },
   "outputs": [
    {
     "name": "stdout",
     "output_type": "stream",
     "text": [
      "Hola\n"
     ]
    }
   ],
   "source": [
    "dev_print = print(\"Hola\")"
   ]
  },
  {
   "cell_type": "code",
   "execution_count": 0,
   "metadata": {
    "colab": {},
    "colab_type": "code",
    "id": "brSek7Br1oCW"
   },
   "outputs": [],
   "source": [
    "dev_print"
   ]
  },
  {
   "cell_type": "code",
   "execution_count": 4,
   "metadata": {
    "colab": {
     "base_uri": "https://localhost:8080/",
     "height": 35
    },
    "colab_type": "code",
    "executionInfo": {
     "elapsed": 584,
     "status": "ok",
     "timestamp": 1550157540087,
     "user": {
      "displayName": "Ramón Maldonado Rodríguez",
      "photoUrl": "https://lh3.googleusercontent.com/-ljH7hLMa7no/AAAAAAAAAAI/AAAAAAAAAAg/pf-fwlCU1Eg/s64/photo.jpg",
      "userId": "17580681743975451950"
     },
     "user_tz": -60
    },
    "id": "0hCLxYJb1pRq",
    "outputId": "a16b5b36-09b6-41aa-8faa-0b47004c07e7"
   },
   "outputs": [
    {
     "data": {
      "text/plain": [
       "True"
      ]
     },
     "execution_count": 4,
     "metadata": {
      "tags": []
     },
     "output_type": "execute_result"
    }
   ],
   "source": [
    "dev_print == None"
   ]
  },
  {
   "cell_type": "markdown",
   "metadata": {
    "colab_type": "text",
    "id": "IbJBIcIO1vy3"
   },
   "source": [
    "1. Vemos que la primera instrucción imprime `\"Hola\"` y guardamos lo que devuelve en `dev_print`.\n",
    "2. La segunda línea no muestra nada\n",
    "3. Por si acaso preguntamos si dev_print es igual a `None` la forma de preguntar en python si la variable está vacía y nos devuelve True\n",
    "\n",
    "1.   Elemento de lista\n",
    "2.   Elemento de lista\n",
    "\n"
   ]
  }
 ],
 "metadata": {
  "colab": {
   "collapsed_sections": [],
   "name": "01.0 Complejidad, bloques, procedimientos y funciones.ipynb",
   "provenance": [],
   "version": "0.3.2"
  },
  "kernelspec": {
   "display_name": "Python 3",
   "language": "python",
   "name": "python3"
  },
  "language_info": {
   "codemirror_mode": {
    "name": "ipython",
    "version": 3
   },
   "file_extension": ".py",
   "mimetype": "text/x-python",
   "name": "python",
   "nbconvert_exporter": "python",
   "pygments_lexer": "ipython3",
   "version": "3.7.1"
  }
 },
 "nbformat": 4,
 "nbformat_minor": 1
}
