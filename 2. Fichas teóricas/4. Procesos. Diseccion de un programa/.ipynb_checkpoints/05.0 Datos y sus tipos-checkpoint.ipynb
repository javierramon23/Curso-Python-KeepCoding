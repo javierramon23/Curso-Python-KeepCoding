{
 "cells": [
  {
   "cell_type": "markdown",
   "metadata": {
    "colab_type": "text",
    "id": "h5tNDTqVmDYJ"
   },
   "source": [
    "# Datos y sus tipos\n",
    "\n",
    "Ya hemos dicho que un programa básicamente se dedica a procesar datos para transformarlos en una salida que resuelva un determinado problema. Por ejemplo teniendo datos de entrada como altura, masa, velocidad y posición global el programa **piloto automático** de un reactor los transforma en potencia de salida de motores y angulo de giro de alerones y flaps.\n",
    "\n",
    "Un **dato** no **es** más que** un pedazo de información** el cual tendrá sentido sólo en su contexto y, por ahora, para el humano que utiliza el ordenador, así:\n",
    "\n",
    "\t"
   ]
  },
  {
   "cell_type": "markdown",
   "metadata": {
    "colab_type": "text",
    "id": "dU7QcLjfogsV"
   },
   "source": [
    "# Definicion de dato\n",
    "\n",
    "Un dato no es más que un pedazo de información el cual tendrá sentido sólo en su contexto y, por ahora, para el humano que utiliza el ordenador, así:\n",
    "\n",
    "- 39.951256, -0.041285, 235.6\n",
    "\n",
    "No es más que una lista de tres números reales a los que si les añadimos el **contexto** de considerarlos una **posición global** veremos que nos indican una determinada localización en el municipio de Almazora (Castellón) y una determinada altura que, teniendo en cuenta que Almazora se localiza a 31m sobre el nivel del mar, está sobre unos 200m por encima del nivel del suelo.\n",
    "\n",
    "En los contextos más habituales manejamos básicamente dos tipos de datos:\n",
    "\n",
    "- Números\n",
    "- Textos\n",
    "\n",
    "Ya hemos visto que para las estructuras de control de [selección](https://drive.google.com/open?id=15x2ZTYS5g6ycgndMgFc4Gu09smN1HpHO) y [bucles](https://drive.google.com/open?id=1-yvREfRi0rO21zqLSHqZJiSLj8aVdKdz) (ciclos) se necesita un tipo de dato que no es tan obvio como los anteriores el tipo\n",
    "\n",
    "- Lógico o Booleano\n",
    "\n",
    "Aunque los veremos con más detalle baste decir que el tipo de dato booleano es la respuesta a una pregunta de tipo Si/No o más estrictamente Verdadero/Falso.\n",
    "\n"
   ]
  },
  {
   "cell_type": "markdown",
   "metadata": {
    "colab_type": "text",
    "id": "XFNy_aaPldJ3"
   },
   "source": [
    "## Tipos primitivos\n",
    "\n",
    "Podemos distinguir entre tipos de datos primitivos y tipos compuestos. Enumeraremos a continuación los tipos primitivos, a saber:\n",
    "\n",
    "- [Caracteres](https://colab.research.google.com/drive/1zjfcBAGhuFRPSuOFU-vtb9mOGrdYQWNu)\n",
    "- [Numéricos](https://drive.google.com/open?id=1cZGY4mKGnyr3xzcsEOl-BYgRDxW5X-AO)\n",
    "- [Booleano](https://drive.google.com/open?id=1NIh3qj_MzV_4BoxpXJyW9-mUVLZFsyvM)\n",
    "\n",
    "Además, un programa puede combinar estos tipos de datos en otros más complejos\n"
   ]
  },
  {
   "cell_type": "markdown",
   "metadata": {
    "colab_type": "text",
    "id": "IWOlmAfMCpB8"
   },
   "source": [
    "## Tipos estructurados\n",
    "\n",
    "Datos formados por la combinación de datos primitivos. Surgen de la necesidad habitual de utilizar datos más complejos que los definidos arriba. Suelen incluir\n",
    "- **Arreglos** (Arrays): Lista de datos primitivos. Imaginemos una secuencia de 7 tiradas de dado. Sería algo parecido a la imagen.\n",
    "\n",
    "    <img src=\"https://docs.google.com/uc?export=download&id=1JWE4AJbb3ug-FLK7Przqgoqtj9T9pYiO\" width=\"250\">\n",
    "  \n",
    "  El acceso a cada tirada se haría por su posición así: `tirada[3]` es `6`\n",
    "\n",
    "- **Cadenas de caracteres**: Si los caracteres son las letras, las cadenas equivalen a palabras o frases. Funcionan de forma similar a los arreglos pero son tipos distintos.\n",
    "\n",
    "- **Registros o diccionarios**: Los datos se almacenan como estructuras en las que se indica que es cada uno de los elementos que lo componen. Sirven para almacenar distintos tipos de datos juntos.\n",
    "```\n",
    "{\n",
    "  nombre: `Oscar`,\n",
    "  apellidos: `Cubilla Zafra`,\n",
    "  edad: 25\n",
    "}\n",
    "```\n",
    " "
   ]
  }
 ],
 "metadata": {
  "colab": {
   "collapsed_sections": [],
   "name": "10.0 Datos y sus tipos.ipynb",
   "provenance": [],
   "version": "0.3.2"
  },
  "kernelspec": {
   "display_name": "Python 3",
   "language": "python",
   "name": "python3"
  },
  "language_info": {
   "codemirror_mode": {
    "name": "ipython",
    "version": 3
   },
   "file_extension": ".py",
   "mimetype": "text/x-python",
   "name": "python",
   "nbconvert_exporter": "python",
   "pygments_lexer": "ipython3",
   "version": "3.7.1"
  }
 },
 "nbformat": 4,
 "nbformat_minor": 1
}
