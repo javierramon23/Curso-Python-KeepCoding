{
 "cells": [
  {
   "cell_type": "markdown",
   "metadata": {
    "colab_type": "text",
    "id": "zdcNvAXh6ybd"
   },
   "source": [
    "# Funciones de alto nivel o funciones de nivel superior\n",
    "\n",
    "Una función es de alto nivel ([Higher Order Functions](https://en.wikipedia.org/wiki/Higher-order_function)) si acepta funciónes como parámetros o si devuelve una función\n",
    "\n",
    "Una función es de primera clase ([First Class Functions](https://en.wikipedia.org/wiki/First-class_function)) si el lenguaje de programación trata a las funciones como valores (pudiendo asignarlas a varibles, pasarlas a otras funciones, etc)\n",
    "\n",
    "Una función es anónima ([anonymous function](https://colab.research.google.com/drive/1u_XGL8jW_tLSGRIgoOO5AiUqsE3GnoiL#scrollTo=hQAKtweLdLKZ)) si no está enlazada con un nombre o identificador.\n",
    "\n",
    "En ultima instancia son distintas formas de trabajar con las funciones como si fueran objetos. \n",
    "\n",
    "Una forma de pensar en estas funciones es considerarlas como tarjetas de carton que te dicen lo que debes hacer. Puedes almacenar las tarjetas, clasificarlas, combinarlas todo eso sin necesidad de ejecutarlas.\n",
    "\n",
    "Y evidentemente puedes ejecutarlas cuando sea necesario.\n",
    "\n",
    "Python trata las funciones como funciones de primera clase, es decir se pueden asignar a variables. También trata las funciones como funciones de nivel superior.\n",
    "\n",
    "Veamos un ejemplo de como funciona en python. Podríamos crear tres funciones que encuentran el máximo, el mínimo y la media de una lista de valores numéricos y después podríamos crear una función en la que informaríamos la lista de números y lo que queremos obtener. Así"
   ]
  },
  {
   "cell_type": "markdown",
   "metadata": {
    "colab_type": "text",
    "id": "wyMH7SxAqOvK"
   },
   "source": [
    "## Funciones que admiten funciones como argumento"
   ]
  },
  {
   "cell_type": "code",
   "execution_count": 0,
   "metadata": {
    "colab": {
     "base_uri": "https://localhost:8080/",
     "height": 36
    },
    "colab_type": "code",
    "executionInfo": {
     "elapsed": 524,
     "status": "ok",
     "timestamp": 1540897256049,
     "user": {
      "displayName": "Ramón Maldonado Rodríguez",
      "photoUrl": "https://lh3.googleusercontent.com/-ljH7hLMa7no/AAAAAAAAAAI/AAAAAAAAAAg/pf-fwlCU1Eg/s64/photo.jpg",
      "userId": "17580681743975451950"
     },
     "user_tz": -60
    },
    "id": "dKW6z8SD6uCh",
    "outputId": "32ef4cfb-a467-4856-c055-e52223953765"
   },
   "outputs": [
    {
     "data": {
      "text/plain": [
       "2.6666666666666665"
      ]
     },
     "execution_count": 5,
     "metadata": {
      "tags": []
     },
     "output_type": "execute_result"
    }
   ],
   "source": [
    "def max(*l):\n",
    "    if len(l) == 0:\n",
    "        return 0\n",
    "    m = l[0]\n",
    "    for ix in range(1, len(l)):\n",
    "        if l[ix] > m:\n",
    "            m = l[ix]\n",
    "    return m\n",
    "\n",
    "\n",
    "def min(*l):\n",
    "    if len(l) == 0:\n",
    "        return 0\n",
    "    m = l[0]\n",
    "    for ix in range(1, len(l)):\n",
    "        if l[ix] < m:\n",
    "            m = l[ix]\n",
    "    return m\n",
    "    \n",
    "def media(*l):\n",
    "    if len(l) == 0:\n",
    "        return 0\n",
    "    suma = 0\n",
    "    for valor in l:\n",
    "        suma += valor\n",
    "    \n",
    "    return suma/len(l)\n",
    "  \n",
    "  \n",
    "  \n",
    "def stats(typeFunction, *l):\n",
    "  return typeFunction(*l)\n",
    "\n",
    "\n",
    "stats(media, 1,2,3,4,5,3,-2,6,2)\n",
    "  "
   ]
  },
  {
   "cell_type": "markdown",
   "metadata": {
    "colab_type": "text",
    "id": "72Y_V03KoSkc"
   },
   "source": [
    "Hemos creado 3 funciones que admiten una lista variable de parametros (no vamos a validar que sean numéricos) y que devuelven respectivamente\n",
    "- el mayor número de la lista\n",
    "- el menor número de la lista\n",
    "- el mínimo número de la lista\n",
    "\n",
    "Estas son funciones normales.\n",
    "\n",
    "Sin embargo también hemos creado la funcion stats que nos permite informar igualmente la lista de valores a procesar y el tipo de estadístico que queremos calcular.\n",
    "\n",
    "En este caso estamos hablando de una **función de nivel superior** porque acepta como parámetro otra función. En el ejemplo de arriba la función media.\n",
    "\n"
   ]
  },
  {
   "cell_type": "markdown",
   "metadata": {
    "colab_type": "text",
    "id": "P044lNd8xotY"
   },
   "source": [
    "### funcion vs funcion()\n",
    "\n",
    "Es importante que no pase desapercibido el siguiente detalle. \n",
    "- Cuando nos referimos a una función por su nombre (sin paréntesis), estamos tratando a la función como si fuera una tarjeta en la que figura la receta de como hacer su cometido. \n",
    "\n",
    ">Línea `31` del código. `typeFunction` aparece sin paréntesis, como una variable local que contiene una función.\n",
    "\n",
    "- Cuando nos referimos a una función con los paréntesis realmente la estamos ejecutando (o invocando, si se quiere)\n",
    "\n",
    ">Línea `32`del código. Donde se invoca `typeFunction(*l)` con la lista l como [lista de parámetros variables](https://colab.research.google.com/drive/1bBoxozHIEp69V-FF9c1nT22cBAFRdmYO#scrollTo=ZqbAqoaoViHE)"
   ]
  },
  {
   "cell_type": "markdown",
   "metadata": {
    "colab_type": "text",
    "id": "wDt7oufEqTAJ"
   },
   "source": [
    "## Funciones que devuelven funciones\n",
    "\n",
    "Por seguir con el ejemplo y viendo la posibilidad de crear una función que devuelva otra función. Vamos a solicitar al usuario que nos diga por escrito que estadístico (max, min o media) quiere aplicar a la lista (preexistente por facilitar).\n",
    "\n",
    "Veamos primero el código "
   ]
  },
  {
   "cell_type": "code",
   "execution_count": 0,
   "metadata": {
    "colab": {
     "base_uri": "https://localhost:8080/",
     "height": 94
    },
    "colab_type": "code",
    "executionInfo": {
     "elapsed": 10404,
     "status": "ok",
     "timestamp": 1540899269193,
     "user": {
      "displayName": "Ramón Maldonado Rodríguez",
      "photoUrl": "https://lh3.googleusercontent.com/-ljH7hLMa7no/AAAAAAAAAAI/AAAAAAAAAAg/pf-fwlCU1Eg/s64/photo.jpg",
      "userId": "17580681743975451950"
     },
     "user_tz": -60
    },
    "id": "uUK2I-tiqkDT",
    "outputId": "03dd9dc5-a996-44e2-f044-cbf7cc34464d"
   },
   "outputs": [
    {
     "name": "stdout",
     "output_type": "stream",
     "text": [
      "Escribe que tipo de función quieres (max, min, media)hola\n",
      "Escriba una de las funciones indicadas, por favor\n",
      "Escribe que tipo de función quieres (max, min, media)min\n"
     ]
    },
    {
     "data": {
      "text/plain": [
       "-2"
      ]
     },
     "execution_count": 17,
     "metadata": {
      "tags": []
     },
     "output_type": "execute_result"
    }
   ],
   "source": [
    "funciones = dict()\n",
    "funciones['MAX'] = max\n",
    "funciones['MIN'] = min\n",
    "funciones['MED'] = media\n",
    "\n",
    "def fstat(key):\n",
    "  if key in funciones.keys():\n",
    "    return funciones[key]\n",
    "  return None\n",
    "  \n",
    "  return funciones[key]\n",
    "\n",
    "def procesaEntrada(cadena):\n",
    "  return cadena.upper()[:3]\n",
    "\n",
    "\n",
    "lista = [1,2,3,4,5,3,-2,6,2]\n",
    "\n",
    "funcionSel = procesaEntrada(input(\"Escribe que tipo de función quieres (max, min, media): \"))\n",
    "while funcionSel not in funciones.keys():\n",
    "  print(\"Escriba una de las funciones indicadas, por favor\")\n",
    "  funcionSel = procesaEntrada(input(\"Escribe que tipo de función quieres (max, min, media): \"))\n",
    "\n",
    "  \n",
    "funcionACalcular = fstat(funcionSel)\n",
    "funcionACalcular(*lista)\n"
   ]
  },
  {
   "cell_type": "markdown",
   "metadata": {
    "colab_type": "text",
    "id": "RhqseHeaxIhn"
   },
   "source": [
    "Primero hemos creado un diccionario en el que las claves son literales (a introducir por el usuario) y los valores son funciones (otra prueba de que en python las funciones son de primer nivel).\n",
    "\n",
    "Después hemos creado una función sencillita (y ciertamente innecesaria) para que se vea que una función puede devolver otra función.\n",
    "\n",
    "Entre las líneas 13 y 22 hemos creado el código necesario para la elección de función por parte del usuario.\n",
    "\n",
    "Por último obtenemos la función y la guardamos en la variable `funcionACalcular` (línea `25`) y la ejecutamos en la línea `26`. Notese la diferencia entre `funcionACalcular` y `funcionACalcular()`\n",
    "\n"
   ]
  }
 ],
 "metadata": {
  "colab": {
   "name": "01.0 Funciones de nivel superior.ipynb",
   "provenance": [],
   "version": "0.3.2"
  },
  "kernelspec": {
   "display_name": "Python 3",
   "language": "python",
   "name": "python3"
  },
  "language_info": {
   "codemirror_mode": {
    "name": "ipython",
    "version": 3
   },
   "file_extension": ".py",
   "mimetype": "text/x-python",
   "name": "python",
   "nbconvert_exporter": "python",
   "pygments_lexer": "ipython3",
   "version": "3.7.1"
  }
 },
 "nbformat": 4,
 "nbformat_minor": 1
}
