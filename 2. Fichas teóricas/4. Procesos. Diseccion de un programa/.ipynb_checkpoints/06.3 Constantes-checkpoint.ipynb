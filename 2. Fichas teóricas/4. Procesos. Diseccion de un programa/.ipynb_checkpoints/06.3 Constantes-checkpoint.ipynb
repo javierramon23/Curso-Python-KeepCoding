{
 "cells": [
  {
   "cell_type": "code",
   "execution_count": 0,
   "metadata": {
    "colab": {},
    "colab_type": "code",
    "id": "N1kE6SXtZsXD"
   },
   "outputs": [],
   "source": []
  },
  {
   "cell_type": "markdown",
   "metadata": {
    "colab_type": "text",
    "id": "qa3YhIlQZxnp"
   },
   "source": [
    "# Constantes\n",
    "\n",
    "Todo lo dicho para variables puede servir para las constantes. Lo que diferencia a una constante de una variable lo dice ya el nombre.\n",
    "\n",
    "Una vez se crea una constante y se le asigna un valor, ese valor no podrá modificarse durante toda la ejecución del programa.\n",
    "\n",
    "No parece tener mucho sentido, pero en determinadas ocasiones nos puede interesar definir una constante que no cambie como por ejemplo:\n",
    "```\n",
    "IVA01 = 4\n",
    "IVA02 = 10\n",
    "IVA03 = 21\n",
    "IVA04 = 33\n",
    "```\n",
    "Y no queremos que esto cambie durante toda la ejecución del programa.\n",
    "\n",
    "## Algunas consideraciones\n",
    "\n",
    "1. python no tiene forma de crear constantes por lo que debemos asumir que si necesitamos constantes deberemos evitar su modificación por la forma de escribir el código.\n",
    "A menudo se usan convenciones, por ejemplo (si el nombre de la variable está en MAYUSCULAS se considerará constant, o si su nombre comienza por cte, o se define un  [diccionario](https://) o un [objeto](https://) de constantes, ...)\n",
    "\n",
    "2. En enfoques imperativos de la programación como el que abordaremos mayormente aquí tienen el sentido indicado, en programación funcional pura por ciertas consideraciones propias de su paradigma se utilizan mucho constantes llamándolas variables inmutables. De hecho en lenguajes con una fuerte orientación funcional como Swift la definición por defecto de una variable es inmutable, hay que especificar que se quiere crear una variable y no una constante.\n",
    "\n",
    "No obstante esto se escribe aquí por mor de la cultura general. Son detalles de implementación de algoritmos o programas.\n",
    "\n",
    "\n"
   ]
  }
 ],
 "metadata": {
  "colab": {
   "collapsed_sections": [],
   "name": "10.3 Constantes.ipynb",
   "provenance": [],
   "version": "0.3.2"
  },
  "kernelspec": {
   "display_name": "Python 3",
   "language": "python",
   "name": "python3"
  },
  "language_info": {
   "codemirror_mode": {
    "name": "ipython",
    "version": 3
   },
   "file_extension": ".py",
   "mimetype": "text/x-python",
   "name": "python",
   "nbconvert_exporter": "python",
   "pygments_lexer": "ipython3",
   "version": "3.7.1"
  }
 },
 "nbformat": 4,
 "nbformat_minor": 1
}
