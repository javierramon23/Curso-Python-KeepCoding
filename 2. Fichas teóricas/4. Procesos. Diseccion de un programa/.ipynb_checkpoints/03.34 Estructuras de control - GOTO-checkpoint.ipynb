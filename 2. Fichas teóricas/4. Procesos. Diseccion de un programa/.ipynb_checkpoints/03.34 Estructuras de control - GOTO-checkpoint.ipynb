{
 "cells": [
  {
   "cell_type": "markdown",
   "metadata": {
    "colab_type": "text",
    "id": "mumNzSWZfsQx"
   },
   "source": [
    "# Estructuras de control - Qué ocultan los bucles\n",
    "\n",
    "## GOTO, el Voldemort de la programación\n",
    "\n",
    "Si nos fijamos los tres tipos de bucle tienen una estructura común, de hecho todos pueden transformarse en un bucle **while**.\n",
    "\n",
    "La transformación de un bucle until en uno while o viceversa es inmediata, baste como ejemplo ([o mira aquí](https://colab.research.google.com/drive/1caDwYDv61ASAgeTYebK_NnAmGVcmXo6o#scrollTo=fc1fPY1huJl_)):\n",
    "\n",
    "- Añadir agua al bol hasta que rebose\n",
    "\n",
    "Es lo mismo que decir\n",
    "\n",
    "- Seguir añadiendo agua al bol mientras lo admita\n",
    "\n",
    "Ver que un bucle for es equivalente a un bucle while no es tan evidente. Veamoslo en detalle\n",
    "```\n",
    "01 for i in range(1, 10):\n",
    "02\t\tInstruccion 1\n",
    "03\t\tInstruccion 2\n",
    "04\tInstruccion 3\n",
    "```\n",
    "\n",
    "es lo mismo que\n",
    "```\n",
    "01 i = 1\n",
    "02 while i < 10:\n",
    "03\t\tInstruccion 1\n",
    "04\t\tInstruccion 2\n",
    "05\t\ti = i + 1\n",
    "06 Instruccion 3\n",
    "```\n",
    "\n",
    "Como ya se ha indicado en los bucles while debe existir una sentencia que recalcule la condición de permanencia del bucle, en este caso es la línea 05 que incrementa el contador i en una unidad.\n",
    "\n",
    "Aún así, detrás de cada uno de estos tipos de bucle se esconde una instrucción que hace años fue desterrada del maletín de herramientas de los programadores por los problemas que generaba, es la instrucción **GOTO**.\n",
    "\n",
    "Básicamente esta instrucción se ha convertido en la encarnación del mal y, como Voldemort, en la innombrable, tan es así que no se explica. Pero es interesante darse cuenta de que en el fondo el código:\n",
    "```\n",
    "01 i = 1\n",
    "02 while i < 10:\n",
    "03\t\tInstruccion 1\n",
    "04\t\tInstruccion 2\n",
    "05\t\ti = i + 1\n",
    "06\tInstruccion 3\n",
    "```\n",
    "Es realmente una utilización controlada del GOTO tal y como se muestra a continuación:\n",
    "```\n",
    "01 i = 1\n",
    "02\tInstruccion 1\n",
    "03\tInstruccion 2\n",
    "04\ti = i + 1\n",
    "05 if i < 10: GOTO 02\n",
    "06 Instruccion 3\n",
    "```\n",
    "\n",
    "Me parece muy interesante recordarlo porque hace evidente el hecho de que en un bucle cada vez que se ejecuta la última línea del bloque (**04**) se comprueba si se cumple la condición del bucle (**05**) de manera que si se cumple la de permanencia el flujo de la secuencia se devuelve a la instrucción inicial del bloque y si no se continua normalmente (**06**). Cada vez que vayas a usar un bucle recuerda dos cosas:\n",
    "\n",
    "- La penúltima sentencia del bucle es el cálculo de nuevo de la variable de condición de permanencia/salida\n",
    "- La última sentencia es la comprobación de la variable de condición de modo que si es adecuado se volverá (GOTO) a la primera instrucción del bloque de código o se finalizará el bucle y se continuará con la primera instrucción fuera del bloque de código del bucle.\n",
    "\n",
    "De ahí que el dibujo para representar un bucle haya sido\n",
    "\n",
    "<img src=\"https://docs.google.com/uc?export=download&id=1FPIgRE0PBDse_5Nr82n5pMMqedsVwQ_T\" height=\"250\">\n",
    "\n",
    "## Haz la prueba\n",
    "\n",
    "Puede resultar interesante jugar con los pseudocódigos de más arriba, transformando el de arriba en un bucle until y en un bucle for y ver luego como serían las versiones con GOTO. Ver [solucion](https://colab.research.google.com/drive/1iCnLo-RdIT8Dl9n36iYUQUNf4mjzYvWn#scrollTo=KIWosjNQiSy5&line=43&uniqifier=1)."
   ]
  },
  {
   "cell_type": "code",
   "execution_count": 0,
   "metadata": {
    "colab": {},
    "colab_type": "code",
    "id": "B5iwIMj-frnx"
   },
   "outputs": [],
   "source": []
  }
 ],
 "metadata": {
  "colab": {
   "name": "084 Estructuras de control - GOTO.ipynb",
   "provenance": [],
   "version": "0.3.2"
  },
  "kernelspec": {
   "display_name": "Python 3",
   "language": "python",
   "name": "python3"
  },
  "language_info": {
   "codemirror_mode": {
    "name": "ipython",
    "version": 3
   },
   "file_extension": ".py",
   "mimetype": "text/x-python",
   "name": "python",
   "nbconvert_exporter": "python",
   "pygments_lexer": "ipython3",
   "version": "3.7.1"
  }
 },
 "nbformat": 4,
 "nbformat_minor": 1
}
