{
 "cells": [
  {
   "cell_type": "markdown",
   "metadata": {
    "colab_type": "text",
    "id": "ydorGgiQCoNG"
   },
   "source": [
    "# Variables\n",
    "\n",
    "Entender que es una variable es importante a la hora de programar. Empezaremos diciendo que una variable es un contenedor de datos en el que pondremos un valor y que identificaremos por un nombre, a ser posible significativo.\n",
    "\n",
    "Imaginemos que queremos hacer un programa que calcule la edad en años humanos de un perro"
   ]
  },
  {
   "cell_type": "code",
   "execution_count": 0,
   "metadata": {
    "colab": {
     "base_uri": "https://localhost:8080/",
     "height": 75
    },
    "colab_type": "code",
    "executionInfo": {
     "elapsed": 11951,
     "status": "ok",
     "timestamp": 1540451575815,
     "user": {
      "displayName": "Ramón Maldonado Rodríguez",
      "photoUrl": "https://lh3.googleusercontent.com/-ljH7hLMa7no/AAAAAAAAAAI/AAAAAAAAAAg/pf-fwlCU1Eg/s64/photo.jpg",
      "userId": "17580681743975451950"
     },
     "user_tz": -120
    },
    "id": "aShclR5xq9ET",
    "outputId": "86aa725b-fdf0-4ce4-ff33-7361ab719fff"
   },
   "outputs": [
    {
     "name": "stdout",
     "output_type": "stream",
     "text": [
      "¿Cómo se llama el perro? Salchicho\n",
      "¿Cuantos años tiene (sin decimales)? 4\n",
      "Salchicho tiene 28 años humanos\n"
     ]
    }
   ],
   "source": [
    "nombrePerro = input(\"¿Cómo se llama el perro? \")\n",
    "edadPerroLiteral = input(\"¿Cuantos años tiene (sin decimales)? \")\n",
    "if edadPerroLiteral.isdigit():\n",
    "  edadPerroNumerica = int(edadPerroLiteral)\n",
    "  edadPerroHumana = edadPerroNumerica * 7\n",
    "  mensajeSalida = nombrePerro + \" tiene \" + str(edadPerroHumana) + \" años humanos\"\n",
    "  print(mensajeSalida)\n",
    "else:\n",
    "  print(\"Por favor edad en números enteros\")\n",
    "\n"
   ]
  },
  {
   "cell_type": "markdown",
   "metadata": {
    "colab_type": "text",
    "id": "cRACw_j5Eck7"
   },
   "source": [
    "Hemos definido un montón de variables (exagerando para que se vean bien) y con nombres significativos.\n",
    "- **nombrePerro** es una variable de tipo cadena que contendrá el nombre de nuestro perro\n",
    "- **edadPerroLiteral** es una variable de tipo cadena que contendrá los años de nuestro perro. Es literal porque así resulta de aplicar la función input() y eso permite escribir que Salchicho tiene `lakdjh` años sin que se produzca un error en el programa.\n",
    "- **edadPerroNumerica** como necesitamos hacer un cálculo numerico con la edad del perro transformamos la edadPerroLiteral en un número con la función int() y se la asignamos a edadPerroNumérica\n",
    "- **edadPerroHumana** le asignamos el resultado de multiplicar edadPerroNumérica por 7\n",
    "- **mensajeSalida** le asignamos el resultado de concatenar múltiples cadenas para dar el mensaje correcto.\n",
    "\n",
    "Podríamos reducir el número de variables, por ejemplo usando sólo edadPerroNumérica y eliminando EdadPerroHumana"
   ]
  },
  {
   "cell_type": "code",
   "execution_count": 0,
   "metadata": {
    "colab": {
     "base_uri": "https://localhost:8080/",
     "height": 75
    },
    "colab_type": "code",
    "executionInfo": {
     "elapsed": 8667,
     "status": "ok",
     "timestamp": 1540451874637,
     "user": {
      "displayName": "Ramón Maldonado Rodríguez",
      "photoUrl": "https://lh3.googleusercontent.com/-ljH7hLMa7no/AAAAAAAAAAI/AAAAAAAAAAg/pf-fwlCU1Eg/s64/photo.jpg",
      "userId": "17580681743975451950"
     },
     "user_tz": -120
    },
    "id": "ojzRnyTgD-v5",
    "outputId": "42e6155b-dd42-4e8d-8afa-0517d841acd9"
   },
   "outputs": [
    {
     "name": "stdout",
     "output_type": "stream",
     "text": [
      "¿Cómo se llama el perro? Salchicho\n",
      "¿Cuantos años tiene (sin decimales)? 4\n",
      "Salchicho tiene 28 años humanos\n"
     ]
    }
   ],
   "source": [
    "nombrePerro = input(\"¿Cómo se llama el perro? \")\n",
    "edadPerroLiteral = input(\"¿Cuantos años tiene (sin decimales)? \")\n",
    "if edadPerroLiteral.isdigit():\n",
    "  edadPerroNumerica = int(edadPerroLiteral)\n",
    "  edadPerroNumerica = edadPerroNumerica * 7                                           # Sentencia modificada eliminando edadPerroHumana\n",
    "  mensajeSalida = nombrePerro + \" tiene \" + str(edadPerroNumerica) + \" años humanos\"  # Sentencia modificada eliminando edadPerroHumana\n",
    "  print(mensajeSalida)\n",
    "else:\n",
    "  print(\"Por favor edad en números enteros\")\n",
    "\n"
   ]
  },
  {
   "cell_type": "markdown",
   "metadata": {
    "colab_type": "text",
    "id": "MzdLUtYfFkJ4"
   },
   "source": [
    "En esta segunda versión vemos una de las características de las variables, no sólo son un contenedor de valores que puede ser invocado cuando se necesite por su nombre.\n",
    "\n",
    "Además su contenido puede cambiar a lo largo del programa. En nuestro caso edadPerroNumérica empieza siendo `4` y acaba siendo `28`, de ahí el nombre de variable.\n",
    "\n"
   ]
  },
  {
   "cell_type": "markdown",
   "metadata": {
    "colab_type": "text",
    "id": "KdnAaNWbGH75"
   },
   "source": [
    "## Asignación de variables. Una posible dificultad\n",
    "\n",
    "La expresión \n",
    "```\n",
    "edadPerroNumerica = edadPerroNumerica * 7\n",
    "```\n",
    "\n",
    "puede llevar a confusión. Debe entenderse esta expresión de la siguiente forma\n",
    "```\n",
    "edadPerroNumerica ← edadPerroNumerica * 7\n",
    "```\n",
    "\n",
    "es decir, debe leerse como `edadPerroNumerica pasa a ser edadPerroNumerica * 7` o `edadPerroNumerica ahora es edadPerroNumerica * 7`.\n",
    "\n",
    "Es por esta razón que el `=` es un operador de asignación y no de igualdad (como en el algebra que aprendimos en el cole). Aquí no significa que la parte izquierda de la expresión es identica a la parte derecha, sino que\n",
    "\n",
    "> *La parte izquierda de la expresión se va a convertir en la parte derecha de la expresión*\n",
    "\n",
    "Esto nos permite que en la parte derecha de la expresión se realice una operación tan compleja como queramos y que su resultado final se asigne (almacene) en nuestra variable\n",
    "\n"
   ]
  },
  {
   "cell_type": "markdown",
   "metadata": {
    "colab_type": "text",
    "id": "U6BrZDRcHmoj"
   },
   "source": [
    "## Conclusión\n",
    "\n",
    "- Una variable no es más que un contenedor de datos identificado por un nombre. \n",
    "- Puede ser utilizada como dato en cualquier sentencia\n",
    "- Sobre ella se puede aplicar la operación de asignación cuyo operador es `=`  de forma que `v = expresion` se interpreta como *v se va a convertir en expresión*\n"
   ]
  }
 ],
 "metadata": {
  "colab": {
   "collapsed_sections": [],
   "name": "11.0 Variables.ipynb",
   "provenance": [],
   "version": "0.3.2"
  },
  "kernelspec": {
   "display_name": "Python 3",
   "language": "python",
   "name": "python3"
  },
  "language_info": {
   "codemirror_mode": {
    "name": "ipython",
    "version": 3
   },
   "file_extension": ".py",
   "mimetype": "text/x-python",
   "name": "python",
   "nbconvert_exporter": "python",
   "pygments_lexer": "ipython3",
   "version": "3.7.1"
  }
 },
 "nbformat": 4,
 "nbformat_minor": 1
}
