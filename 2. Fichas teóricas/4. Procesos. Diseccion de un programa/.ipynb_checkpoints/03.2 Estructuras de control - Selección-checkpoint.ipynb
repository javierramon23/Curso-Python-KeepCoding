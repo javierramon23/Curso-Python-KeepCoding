{
 "cells": [
  {
   "cell_type": "markdown",
   "metadata": {
    "colab_type": "text",
    "id": "IBCj5_pxeLje"
   },
   "source": [
    "# Estructuras de control - Selección\n",
    "\n",
    "Es una bifurcación en la secuencia debida a una condición lógica. Volvamos al ejemplo del cálculo de la edad del perro. En la [forma simple del programa](https://colab.research.google.com/drive/1v-YMzjls73Y_WyFZOxie36WdbQcK_rgP#scrollTo=emaTeTybbMpZ&line=2&uniqifier=1) damos por hecho que el usuario va a introducir un entero al preguntarle la edad del perro. Pero podrían darse diferentes situaciones, a saber: \n",
    "\t1.\tEl usuario se equivoca y no introduce ningún dato\n",
    "\t2.\tEl usuario mete la edad exacta con decimales (con coma o punto según su idioma)\n",
    "\t3.\tEl usuario se equivoca y mete un texto o la edad del perro en palabras.\n",
    "En cualquiera de estos casos el programa simple dará un error ya que en su segunda instruccion (o sentencia) intentará convertir en número entero una expresión que no puede transformarse en número entero (“”, “cinco”, “3.4” o “3,4”). Una forma de evitar esto es utilizar la selección tal y como se indica a continuación:\n",
    "\n",
    "```\n",
    "+- Si la expresión introducida al pedir la edad puede transformarse en entero:\n",
    "|      El programa calculará la edad humana ejecutando las instrucciones como en la forma simple\n",
    "+- En otro caso\n",
    "|      El programa mostrará un mensaje de error y terminará.\n",
    "+- Fin de condición\n",
    "\n",
    "```\n",
    "Veamos el código\n"
   ]
  },
  {
   "cell_type": "code",
   "execution_count": 0,
   "metadata": {
    "colab": {},
    "colab_type": "code",
    "id": "yDGAfx9keK-U"
   },
   "outputs": [],
   "source": [
    "strEdad = input(\"Edad del perro: \")\n",
    "if strEdad.isdigit():\n",
    "  edad = int(strEdad)\n",
    "  edadHumana = edad * 7\n",
    "  print(\"Su perro tiene %d años humanos\" % edadHumana)\n",
    "else:\n",
    "  print(\"Edad incorrecta, debe ser un número entero\")\n",
    "\n",
    "print(\"Fin de programa\")"
   ]
  },
  {
   "cell_type": "markdown",
   "metadata": {
    "colab_type": "text",
    "id": "p7Bcebcaf2q0"
   },
   "source": [
    "Aparece una nueva instrucción **if** (si condicional en inglés) y las instrucciones del cálculo de la edad se incluyen un poco más a la derecha justo debajo. A esto le llamamos un [bloque de código](https://drive.google.com/open?id=1GqKUm-o2uqeK2XAwfWaiQEihaVNkIFT4). Así el bloque de cálculo de la edad estará formado por las instrucciones 03, 04 y 05. En python los bloques se marcan así, la instrucción que utilizará el bloque termina en dos puntos `:` (no todas las sentencias python lo admiten) y el bloque estará definido por todas las instrucciones que, después de los dos puntos, estén tabuladas (_indentadas_) un nivel hacia la derecha. El fin de bloque es el fin de la indentación (en nuestro ejemplo las líneas 6 y 9). \n",
    "_(Nota): La linea 9 se ha puesto para que se vea que se ejecuta siempre ya que está fuera de cualquier bloque, es una linea del todo innecesaria._\n",
    "\n",
    "La condición de ejecución de el bloque es la instrucción 2, si strEdad puede convertirse en número entero (strEdad.isdigit() es verdadero)\n",
    "\n",
    "La condición de error es cualquier otra (**else** en inglés), instrucción 06 y su bloque está formado por una sola instrucción: la 07.\n",
    "\n",
    "Vemos así que la selección es una bifurcación de la secuencia. Si se una determinada condición lógica es verdadera se ejecutará un bloque de instrucciones. Si la condición es falsa se ejecutarán otras. \n",
    "\n",
    " <img src=\"https://docs.google.com/uc?export=download&id=1MRL4ui-1Bfyn6obU2hyF7YEmRDvecFWY\" height=\"150\">\n",
    "\n"
   ]
  },
  {
   "cell_type": "markdown",
   "metadata": {
    "colab_type": "text",
    "id": "Z5Dqn2pIhZJN"
   },
   "source": [
    "## Formas de selección\n",
    "\n",
    "En python encontramos tres:\n",
    "\n",
    "\t•\tIf - else\n",
    "```\n",
    "if condicion es verdadera:\n",
    "  Instruccion 1\n",
    "  Instruccion 2\n",
    "else:\n",
    "  Instruccion 3\n",
    "  Instruccion 4\n",
    "```\n",
    "En este caso o bien se ejecutan las instrucciones 1 y 2 o bien las 3 y 4, pero nunca pueden ejecutarse las cuatro\n",
    "\t•\tIf -\n",
    "```\n",
    "if condicion es verdadera:\n",
    "\tInstruccion 1\n",
    "\tInstruccion 2\n",
    "\n",
    "Instruccion 3\n",
    "Instruccion 4\n",
    "```\n",
    "\n",
    "En este caso o bien se ejecutan las instrucciones 1, 2, 3 y 4 o sólo las instrucciones 3 y 4 (no siempre debe utilizarse la instrucción **else**)\n",
    "\n",
    "\t1.\tIf - elif - elif - … - else\n",
    "\n",
    "```\n",
    "if condicion-1 es verdadera:\n",
    "\tInstruccion 1\n",
    "\tInstruccion 2\n",
    "elif condicion-2 es verdadera:\n",
    "   Instruccion 3\n",
    "   Instruccion 4\n",
    "elif condicion-3 es verdadera:\n",
    "   Instruccion 5\n",
    "   Instruccion 6\n",
    "else:\n",
    "\tInstruccion 7\n",
    "\tInstruccion 8\n",
    "```\n",
    "\n",
    "En este caso la selección es múltiple en función de la condición o en otro caso. Se ejecutarán 1 y 2, o 3 y 4 o 5 y 6 o 7 y 8, pero nunca se ejecutará ninguna otra combinación, es una forma de lograr un bifurcación en n bloques de código (4 en este caso). De igual manera la instrucción else: no es obligatoria.\n",
    "\n",
    "Puedes comprobarlo con el siguiente programita.\n",
    "\n"
   ]
  },
  {
   "cell_type": "code",
   "execution_count": 0,
   "metadata": {
    "colab": {},
    "colab_type": "code",
    "id": "JnfSfKo_i2V5"
   },
   "outputs": [],
   "source": [
    "letra = input(\"Elige una letra (A, B, C o D)\")\n",
    "if letra == 'A' or letra == 'a':\n",
    "  print(\"Hoy va a ser un gran día para tí, tu número de la suerte es el 8\")\n",
    "elif letra == 'B' or letra == 'b':\n",
    "  print(\"Nubes oscuras se ciernen sobre tu futuro laboral, atento a l@s envidios@s\")\n",
    "elif letra == 'C' or letra == 'c':\n",
    "  print(\"Parece que tu salud, en particular tus dientes, pueden resentirse hoy\")\n",
    "elif letra == 'D' or letra == 'd':\n",
    "  print(\"Día monótono en una vida monótona, quizás debieras cambiar de aires\")\n",
    "else:\n",
    "  print(\"Los revoltosos no van al cielo\")"
   ]
  },
  {
   "cell_type": "markdown",
   "metadata": {
    "colab_type": "text",
    "id": "UylvHv_3kDaD"
   },
   "source": [
    "## Qué permite la selección\n",
    "\n",
    "La selección permite romper la secuencia de instrucciones bifurcándola o desviándola en función del resultado de una comprobación lógica, es decir, si se da cierta condición se ejecutará un bloque de instrucciones que de no darse esa condición no se ejecutaría. Naturalmente estas bifurcaciones pueden darse de diferentes formas, de las que mostramos 3 habituales en python pero que en otros lenguajes podrían adoptar otras formas.\n",
    "Como nota cabe destacar que este tipo de estructura necesita de un tipo de dato que no es obvio al pensar en programación pero que es esencial, el tipo [booleano o lógico](https://)."
   ]
  }
 ],
 "metadata": {
  "colab": {
   "collapsed_sections": [],
   "name": "07 Estructuras de control - Selección.ipynb",
   "provenance": [],
   "version": "0.3.2"
  },
  "kernelspec": {
   "display_name": "Python 3",
   "language": "python",
   "name": "python3"
  },
  "language_info": {
   "codemirror_mode": {
    "name": "ipython",
    "version": 3
   },
   "file_extension": ".py",
   "mimetype": "text/x-python",
   "name": "python",
   "nbconvert_exporter": "python",
   "pygments_lexer": "ipython3",
   "version": "3.7.1"
  }
 },
 "nbformat": 4,
 "nbformat_minor": 1
}
