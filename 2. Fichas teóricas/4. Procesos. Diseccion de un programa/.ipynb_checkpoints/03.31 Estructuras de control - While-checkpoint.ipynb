{
 "cells": [
  {
   "cell_type": "markdown",
   "metadata": {
    "colab_type": "text",
    "id": "S9IzyabDoGa2"
   },
   "source": [
    "# Estructuras de control - Bucle While\n",
    "\n",
    "En python se vería como algo así\n",
    "\n",
    "```\n",
    "01\tcondition = True\n",
    "02\twhile condition == True:\n",
    "03\t\tInstruccion 1\n",
    "04 \tInstruccion 2\n",
    "05 \tcondition = comprobarCondition()\n",
    "06\n",
    "07\tInstruccion 3\n",
    "```\n",
    "\n",
    "En la línea 01 hacemos que *condition* sea verdadera, de este modo aseguramos que la línea 02 se cumpla (sea cierta) y por tanto se ejecutará el bloque de instrucciones de las líneas 03, 04 y 05\n",
    "\n",
    "La línea 05 es esencial, se vuelve a comprobar el valor de condition[1], si no se hiciera seguiría siendo True y el bucle sería una **repetición infinita**. Si se produce algún hecho que haga cambiar condition a *False*, la línea 02 dejará de ser cierta y se ejecutarán las líneas 06 y 07.\n",
    "\n",
    "Podemos ver un ejemplo de código\n",
    "\n",
    "￼\n",
    "[1] comprobarCondition() es una [función](https://). Básicamente ejecuta un bloque de código situado en otra parte. Esto se verá en otro apartado de la documentación"
   ]
  },
  {
   "cell_type": "code",
   "execution_count": 0,
   "metadata": {
    "colab": {
     "base_uri": "https://localhost:8080/",
     "height": 191
    },
    "colab_type": "code",
    "executionInfo": {
     "elapsed": 18715,
     "status": "ok",
     "timestamp": 1540310832265,
     "user": {
      "displayName": "Ramón Maldonado Rodríguez",
      "photoUrl": "",
      "userId": "17580681743975451950"
     },
     "user_tz": -120
    },
    "id": "rg76VB32oAJu",
    "outputId": "c175d3d3-8702-461a-9ee1-1ee1d5ebb970"
   },
   "outputs": [
    {
     "name": "stdout",
     "output_type": "stream",
     "text": [
      "Pues yo sigo...\n",
      "¿Sigo? S\n",
      "Pues yo sigo...\n",
      "¿Sigo? S\n",
      "Pues yo sigo...\n",
      "¿Sigo? S\n",
      "Pues yo sigo...\n",
      "¿Sigo? N\n",
      "Vaaale, acabo\n"
     ]
    }
   ],
   "source": [
    "indicadorDeContinuacion = \"S\"\n",
    "while indicadorDeContinuacion == 'S' or indicadorDeContinuacion == 's':\n",
    "  print(\"Pues yo sigo...\")\n",
    "  indicadorDeContinuacion = input(\"¿Sigo? \")\n",
    "print(\"Vaaale, acabo\")"
   ]
  }
 ],
 "metadata": {
  "colab": {
   "name": "08.1 Estructuras de control - While.ipynb",
   "provenance": [],
   "version": "0.3.2"
  },
  "kernelspec": {
   "display_name": "Python 3",
   "language": "python",
   "name": "python3"
  },
  "language_info": {
   "codemirror_mode": {
    "name": "ipython",
    "version": 3
   },
   "file_extension": ".py",
   "mimetype": "text/x-python",
   "name": "python",
   "nbconvert_exporter": "python",
   "pygments_lexer": "ipython3",
   "version": "3.7.1"
  }
 },
 "nbformat": 4,
 "nbformat_minor": 1
}
