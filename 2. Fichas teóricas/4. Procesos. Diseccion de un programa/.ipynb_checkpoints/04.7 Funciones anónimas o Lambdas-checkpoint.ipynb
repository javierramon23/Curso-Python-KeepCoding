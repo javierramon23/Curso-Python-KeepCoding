{
 "cells": [
  {
   "cell_type": "markdown",
   "metadata": {
    "colab_type": "text",
    "id": "hQAKtweLdLKZ"
   },
   "source": [
    "# Funciones anónimas o lambdas\n",
    "\n",
    "Hemos definido las funciones como bloques de código etiquetados por un nombre y que pueden ser invocados por ese nombre.\n",
    "\n",
    "No obstante hay casos en los que queremos enviar el bloque de código como función sin asignarle una etiqueta, esto es lo que se llama una **función anónima**. \n",
    "\n",
    "Python las define como sigue:\n",
    "\n",
    "```\n",
    "lambda arguments: expresion\n",
    "```\n",
    "\n",
    "Un posible ejemplo es el siguiente\n"
   ]
  },
  {
   "cell_type": "code",
   "execution_count": 0,
   "metadata": {
    "colab": {
     "base_uri": "https://localhost:8080/",
     "height": 35
    },
    "colab_type": "code",
    "executionInfo": {
     "elapsed": 1119,
     "status": "ok",
     "timestamp": 1546967820173,
     "user": {
      "displayName": "Ramón Maldonado Rodríguez",
      "photoUrl": "https://lh3.googleusercontent.com/-ljH7hLMa7no/AAAAAAAAAAI/AAAAAAAAAAg/pf-fwlCU1Eg/s64/photo.jpg",
      "userId": "17580681743975451950"
     },
     "user_tz": -60
    },
    "id": "r-2vqpyrdvEw",
    "outputId": "cd683008-61ca-47d2-e68d-f64d884a6ebf"
   },
   "outputs": [
    {
     "data": {
      "text/plain": [
       "10"
      ]
     },
     "execution_count": 1,
     "metadata": {
      "tags": []
     },
     "output_type": "execute_result"
    }
   ],
   "source": [
    "doble = lambda x: x * 2\n",
    "doble(5)"
   ]
  },
  {
   "cell_type": "markdown",
   "metadata": {
    "colab_type": "text",
    "id": "TyCFmv50d-zn"
   },
   "source": [
    "Esto no es más que otra forma de escribir lo siguiente"
   ]
  },
  {
   "cell_type": "code",
   "execution_count": 0,
   "metadata": {
    "colab": {
     "base_uri": "https://localhost:8080/",
     "height": 53
    },
    "colab_type": "code",
    "executionInfo": {
     "elapsed": 692,
     "status": "ok",
     "timestamp": 1546967963222,
     "user": {
      "displayName": "Ramón Maldonado Rodríguez",
      "photoUrl": "https://lh3.googleusercontent.com/-ljH7hLMa7no/AAAAAAAAAAI/AAAAAAAAAAg/pf-fwlCU1Eg/s64/photo.jpg",
      "userId": "17580681743975451950"
     },
     "user_tz": -60
    },
    "id": "-8dQdaLhd-OV",
    "outputId": "9b2e3f6a-60ba-4f63-9d48-a23946d07776"
   },
   "outputs": [
    {
     "name": "stdout",
     "output_type": "stream",
     "text": [
      "10\n",
      "10\n"
     ]
    }
   ],
   "source": [
    "def otroDoble(x):\n",
    "  return x * 2\n",
    "\n",
    "print(doble(5))\n",
    "print(otroDoble(5))"
   ]
  },
  {
   "cell_type": "markdown",
   "metadata": {
    "colab_type": "text",
    "id": "yc41IH17egkH"
   },
   "source": [
    "## Para que sirven las lambdas\n",
    "\n",
    "\n",
    "Las funciones anónimas pueden servir como argumentos de [funciones de nivel superior](https://colab.research.google.com/drive/13hmw16rypbf0AmDVOeiUyKMmCz5M3BuZ#scrollTo=zdcNvAXh6ybd). \n",
    "\n",
    "Supongamos que necesitamos realizar la suma de todos los elementos de una lista. Podríamos crear una función que lo realizara, así"
   ]
  },
  {
   "cell_type": "code",
   "execution_count": 0,
   "metadata": {
    "colab": {
     "base_uri": "https://localhost:8080/",
     "height": 35
    },
    "colab_type": "code",
    "executionInfo": {
     "elapsed": 754,
     "status": "ok",
     "timestamp": 1547197206901,
     "user": {
      "displayName": "Ramón Maldonado Rodríguez",
      "photoUrl": "https://lh3.googleusercontent.com/-ljH7hLMa7no/AAAAAAAAAAI/AAAAAAAAAAg/pf-fwlCU1Eg/s64/photo.jpg",
      "userId": "17580681743975451950"
     },
     "user_tz": -60
    },
    "id": "8bZdaf6ieIvM",
    "outputId": "b21f0996-66ea-43ac-a703-1b5fb7841270"
   },
   "outputs": [
    {
     "name": "stdout",
     "output_type": "stream",
     "text": [
      "31\n"
     ]
    }
   ],
   "source": [
    "def sumaTodos(*listaValores):\n",
    "    total = 0\n",
    "    for valor in listaValores:\n",
    "        total += valor\n",
    "        \n",
    "    return total\n",
    "    \n",
    "print(sumaTodos(2,5,8,9,7))"
   ]
  },
  {
   "cell_type": "markdown",
   "metadata": {
    "colab_type": "text",
    "id": "nOtnpKNhf55D"
   },
   "source": [
    "Supongamos que necesitamos transformar los valores antes de realizar la suma, por ejemplo calculando su cuadrado. Un enfoque clásico sería el siguiente, crear una nueva función que sume todos los cuadrados, así"
   ]
  },
  {
   "cell_type": "code",
   "execution_count": 0,
   "metadata": {
    "colab": {
     "base_uri": "https://localhost:8080/",
     "height": 35
    },
    "colab_type": "code",
    "executionInfo": {
     "elapsed": 574,
     "status": "ok",
     "timestamp": 1547197351271,
     "user": {
      "displayName": "Ramón Maldonado Rodríguez",
      "photoUrl": "https://lh3.googleusercontent.com/-ljH7hLMa7no/AAAAAAAAAAI/AAAAAAAAAAg/pf-fwlCU1Eg/s64/photo.jpg",
      "userId": "17580681743975451950"
     },
     "user_tz": -60
    },
    "id": "yhcUTDhMJPWu",
    "outputId": "9b39ecfe-4e38-4a9d-ba69-8572bae90c9b"
   },
   "outputs": [
    {
     "name": "stdout",
     "output_type": "stream",
     "text": [
      "223\n"
     ]
    }
   ],
   "source": [
    "def sumaTodosCuadrados(*listaValores):\n",
    "  total = 0\n",
    "  for valor in listaValores:\n",
    "    total += valor ** 2\n",
    "    \n",
    "  return total\n",
    "\n",
    "print(sumaTodosCuadrados(2,5,8,9,7))"
   ]
  },
  {
   "cell_type": "markdown",
   "metadata": {
    "colab_type": "text",
    "id": "EeakhCDzJxd8"
   },
   "source": [
    "Podría interesarnos separar las dos funcionalidades de cada una de ellas, lo que sería\n",
    "- la suma de todos los valores y\n",
    "- la transformación previa de dichos valores\n",
    "\n",
    "Esto es relativamente sencillo si utilizamos [funciones de nivel superior](https://drive.google.com/open?id=13hmw16rypbf0AmDVOeiUyKMmCz5M3BuZ). \n",
    "\n",
    "Quedaría como sigue:\n"
   ]
  },
  {
   "cell_type": "code",
   "execution_count": 0,
   "metadata": {
    "colab": {
     "base_uri": "https://localhost:8080/",
     "height": 54
    },
    "colab_type": "code",
    "executionInfo": {
     "elapsed": 692,
     "status": "ok",
     "timestamp": 1547197873992,
     "user": {
      "displayName": "Ramón Maldonado Rodríguez",
      "photoUrl": "https://lh3.googleusercontent.com/-ljH7hLMa7no/AAAAAAAAAAI/AAAAAAAAAAg/pf-fwlCU1Eg/s64/photo.jpg",
      "userId": "17580681743975451950"
     },
     "user_tz": -60
    },
    "id": "sFxUR5XHdI1D",
    "outputId": "a03a4faf-d816-4d47-ebcf-07b2c6abbcef"
   },
   "outputs": [
    {
     "name": "stdout",
     "output_type": "stream",
     "text": [
      "31\n",
      "223\n"
     ]
    }
   ],
   "source": [
    "def normal(x):\n",
    "    return x\n",
    "\n",
    "def cuadrado(x):\n",
    "    return x * x\n",
    "\n",
    "def sumaTodos(f, *listaValores):\n",
    "    total = 0\n",
    "    for valor in listaValores:\n",
    "        try:\n",
    "            total = total + f(valor)\n",
    "        except:\n",
    "            return None\n",
    "            \n",
    "    return total\n",
    "  \n",
    "\n",
    "print(sumaTodos(normal, 2, 5, 8, 9, 7))\n",
    "print(sumaTodos(cuadrado, 2, 5, 8, 9, 7))\n"
   ]
  },
  {
   "cell_type": "markdown",
   "metadata": {
    "colab_type": "text",
    "id": "nMBLuiIygb9B"
   },
   "source": [
    "El siguiente paso casi casi es automático. Imaginemos que lo que queremos es que cada elemento de la lista se transforme en su cubo.\n",
    "\n",
    "Según el enfoque anterior deberíamos crear una función clásica nueva llamada `cubo(x)` y luego aplicar la funcion `sumaTodos`. \n",
    "\n",
    "Algo así:"
   ]
  },
  {
   "cell_type": "code",
   "execution_count": 0,
   "metadata": {
    "colab": {
     "base_uri": "https://localhost:8080/",
     "height": 35
    },
    "colab_type": "code",
    "executionInfo": {
     "elapsed": 574,
     "status": "ok",
     "timestamp": 1547198125053,
     "user": {
      "displayName": "Ramón Maldonado Rodríguez",
      "photoUrl": "https://lh3.googleusercontent.com/-ljH7hLMa7no/AAAAAAAAAAI/AAAAAAAAAAg/pf-fwlCU1Eg/s64/photo.jpg",
      "userId": "17580681743975451950"
     },
     "user_tz": -60
    },
    "id": "yq0-k2nMgm9Q",
    "outputId": "5c47bfa4-6cd1-4a94-d203-accaeccc8800"
   },
   "outputs": [
    {
     "name": "stdout",
     "output_type": "stream",
     "text": [
      "1717\n"
     ]
    }
   ],
   "source": [
    "def cubo(x):\n",
    "  return x ** 3\n",
    "\n",
    "print(sumaTodos(cubo, 2, 5, 8, 9, 7))"
   ]
  },
  {
   "cell_type": "markdown",
   "metadata": {
    "colab_type": "text",
    "id": "NSGdlkdn6Txr"
   },
   "source": [
    "La utilizacion de una función anónima (al fin y al cabo cubo va a ser una función de usar y tirar) nos facilita el trabajo. Veamos como quedaría la línea 4 del código anterior usando una lambda."
   ]
  },
  {
   "cell_type": "code",
   "execution_count": 0,
   "metadata": {
    "colab": {
     "base_uri": "https://localhost:8080/",
     "height": 35
    },
    "colab_type": "code",
    "executionInfo": {
     "elapsed": 567,
     "status": "ok",
     "timestamp": 1547198319094,
     "user": {
      "displayName": "Ramón Maldonado Rodríguez",
      "photoUrl": "https://lh3.googleusercontent.com/-ljH7hLMa7no/AAAAAAAAAAI/AAAAAAAAAAg/pf-fwlCU1Eg/s64/photo.jpg",
      "userId": "17580681743975451950"
     },
     "user_tz": -60
    },
    "id": "qSXzoQc76YUw",
    "outputId": "60b2279b-aabb-40bf-b965-1ee3fa755957"
   },
   "outputs": [
    {
     "name": "stdout",
     "output_type": "stream",
     "text": [
      "1717\n"
     ]
    }
   ],
   "source": [
    "print(sumaTodos(lambda x: x**3, 2, 5, 8, 9, 7))"
   ]
  },
  {
   "cell_type": "markdown",
   "metadata": {
    "colab_type": "text",
    "id": "ioUPb97iNwZH"
   },
   "source": [
    "Es más, ya podemos escribir directamente la transformación sin preocuparnos de crear una función con su nombre y parámetros, como sumar todos los valores cambiados de signo. Así"
   ]
  },
  {
   "cell_type": "code",
   "execution_count": 0,
   "metadata": {
    "colab": {
     "base_uri": "https://localhost:8080/",
     "height": 35
    },
    "colab_type": "code",
    "executionInfo": {
     "elapsed": 820,
     "status": "ok",
     "timestamp": 1547198613541,
     "user": {
      "displayName": "Ramón Maldonado Rodríguez",
      "photoUrl": "https://lh3.googleusercontent.com/-ljH7hLMa7no/AAAAAAAAAAI/AAAAAAAAAAg/pf-fwlCU1Eg/s64/photo.jpg",
      "userId": "17580681743975451950"
     },
     "user_tz": -60
    },
    "id": "Zi5LucgZONwq",
    "outputId": "4c88af09-baab-406d-920d-08710b4d401d"
   },
   "outputs": [
    {
     "name": "stdout",
     "output_type": "stream",
     "text": [
      "-31\n"
     ]
    }
   ],
   "source": [
    "print(sumaTodos(lambda x: -x, 2, 5, 8, 9, 7))"
   ]
  },
  {
   "cell_type": "markdown",
   "metadata": {
    "colab_type": "text",
    "id": "tFxayEqRxuPy"
   },
   "source": [
    "En definitiva las funciones anónimas o lambdas nos permiten codificar directamente funciones y utilizarlas como parámetros. Especialmente en el caso de que necesitemos funciones de usar y tirar, ahorrándonos el tener que definirlas en otra parte del código."
   ]
  },
  {
   "cell_type": "markdown",
   "metadata": {
    "colab_type": "text",
    "id": "cb4CN6OE6ihH"
   },
   "source": [
    "## map, filter, reduce\n",
    "\n",
    "El enfoque planteado para justificar las lambdas en los párrafos anteriores (la transformación de listas de elementos) es una situación habitual en la programación de aplicaciones en las que se producen flujos de datos. Estos datos deben ser procesados (eso es lo que hacen los programas) y esas transformaciones son siempre las mismas. \n",
    "\n",
    "Imagina esta situación, tenemos lectores de datos de la calidad del aire que envían cada vez que consiguen conexión (o cada 30 minutos si la conexión es continua) datos de la calidad del aire según la siguiente trama.\n",
    "\n",
    "\n",
    "\n",
    "<img src=\"https://docs.google.com/uc?export=download&id=1SfrXXNeYvrmZj7Pr0TTaV6iJIkNEuMk2\" width=\"600\">\n",
    "\n",
    "\n",
    "\n",
    "- Fecha (yyyymmdd): Caracteres 1 - 8 \n",
    "- Hora (HHMMSSmmmmmm):  Caracteres 9 - 21\n",
    "- Modelo Lector (XXX): Caracteres 22 - 24\n",
    "- Datos de calidad del aire: Caracteres 24- 224\n",
    "- En función del número de lector. Los siguientes datos iran en tramas distintas. Por ejemplo\n",
    "  - número c23:\n",
    "    - polen: Caracteres 1 - 6 según el formato 4, 2 (por ejemplo 89,21 se escribirá 008921)\n",
    "    - NOx: Caracteres 7-12 formato 4,2\n",
    "    - 03: Caracteres 13-18 formato 4,2\n",
    "  - número c21:\n",
    "    - NOx: Caracteres 1-5 segun el formato 3,2\n",
    "    - polen: Caracteres 6-10 según el formato 2,2\n",
    "  \n",
    "  ...\n",
    "  \n",
    "Cada vez que recibamos una medida deberemos hacer dos transformaciones. Una común que reciba fecha, hora y número del lector. Y la segunda transformación dependerá del número del lector\n",
    "\n",
    "Debemos construir un código que reciba una lista de medidas y que para cada medida haga\n",
    "1. Obtención de datos generales \n",
    "2. Obtención de parámetros del aire\n",
    "\n",
    "Algo así:"
   ]
  },
  {
   "cell_type": "markdown",
   "metadata": {
    "colab_type": "text",
    "id": "Jb4Si18KxBkD"
   },
   "source": [
    "Primero definimos las funciones de procesamiento de trama, serán tres, una por cada transformación:\n",
    "- tramageneral\n",
    "- modelo c21\n",
    "- modelo c23"
   ]
  },
  {
   "cell_type": "code",
   "execution_count": 0,
   "metadata": {
    "colab": {},
    "colab_type": "code",
    "id": "F8T8WLMZkRdb"
   },
   "outputs": [],
   "source": [
    "'''\n",
    "  Funciones de procesamiento de tramas\n",
    "'''\n",
    "\n",
    "def c23(data):\n",
    "  resultado = {\n",
    "      'polen': float(data[:4] + \".\" + data[4:6]),\n",
    "      'NOx': float(data[6:10] + \".\" + data[10:12]),\n",
    "      'O3': float(data[12:16] + \".\" + data[16:18])\n",
    "  }\n",
    "  return resultado\n",
    "\n",
    "def c21(data):\n",
    "  resultado = {\n",
    "      'NOx': float(data[:3] + \".\" + data[3:5]),\n",
    "      'polen': float(data[5:7] + \".\" + data[7:9])\n",
    "  }\n",
    "  return resultado\n",
    "\n",
    "lectores = {}\n",
    "lectores['c21']=c21\n",
    "lectores['c23']=c23\n",
    "\n",
    "def tramageneral(t):\n",
    "  resultado = {\n",
    "      'año': int(t[:4]),\n",
    "      'mes': int(t[4:6]),\n",
    "      'dia': int(t[6:8]),\n",
    "      'hh': int(t[8:10]),\n",
    "      'mm': int(t[10:12]),\n",
    "      'ss': int(t[12:14]),\n",
    "      'milli': int(t[14:20]),\n",
    "      'matricula': t[20:23],\n",
    "      'data': t[23:]\n",
    "  }\n",
    "  \n",
    "  if resultado['matricula'] in lectores:\n",
    "    resultado['data'] = lectores[resultado['matricula']](resultado['data'])\n",
    "  return resultado\n",
    "\n"
   ]
  },
  {
   "cell_type": "markdown",
   "metadata": {
    "colab_type": "text",
    "id": "yrCmRveyxRr0"
   },
   "source": [
    "En segundo lugar el proceso que recibe las tramas y que las procesa en su totalidad"
   ]
  },
  {
   "cell_type": "code",
   "execution_count": 0,
   "metadata": {
    "colab": {},
    "colab_type": "code",
    "id": "PbqG36pHxQgP"
   },
   "outputs": [],
   "source": [
    "'''\n",
    "  Recepción de tramas\n",
    "'''\n",
    "def procesaLecturas(*listaMedidas):\n",
    "  resultado = []\n",
    "  for medida in listaMedidas:\n",
    "    fMedida = tramageneral(medida)\n",
    "    resultado.append(fMedida)\n",
    "  return resultado\n",
    "\n"
   ]
  },
  {
   "cell_type": "markdown",
   "metadata": {
    "colab_type": "text",
    "id": "Ui7lMhgOx7_p"
   },
   "source": [
    "Recibamos ahora algunas tramas..."
   ]
  },
  {
   "cell_type": "code",
   "execution_count": 0,
   "metadata": {
    "colab": {
     "base_uri": "https://localhost:8080/",
     "height": 484
    },
    "colab_type": "code",
    "executionInfo": {
     "elapsed": 738,
     "status": "ok",
     "timestamp": 1547241384582,
     "user": {
      "displayName": "Ramón Maldonado Rodríguez",
      "photoUrl": "https://lh3.googleusercontent.com/-ljH7hLMa7no/AAAAAAAAAAI/AAAAAAAAAAg/pf-fwlCU1Eg/s64/photo.jpg",
      "userId": "17580681743975451950"
     },
     "user_tz": -60
    },
    "id": "JB-ToU9xx7GR",
    "outputId": "3b912150-b5cb-4edd-fdec-4874862f22e1"
   },
   "outputs": [
    {
     "data": {
      "text/plain": [
       "[{'año': 2018,\n",
       "  'data': {'NOx': 9783.23, 'O3': 34.56, 'polen': 89.21},\n",
       "  'dia': 22,\n",
       "  'hh': 13,\n",
       "  'matricula': 'c23',\n",
       "  'mes': 12,\n",
       "  'milli': 98906,\n",
       "  'mm': 21,\n",
       "  'ss': 45},\n",
       " {'año': 2018,\n",
       "  'data': {'NOx': 23.99, 'polen': 45.34},\n",
       "  'dia': 21,\n",
       "  'hh': 0,\n",
       "  'matricula': 'c21',\n",
       "  'mes': 12,\n",
       "  'milli': 365729,\n",
       "  'mm': 17,\n",
       "  'ss': 26},\n",
       " {'año': 2019,\n",
       "  'data': {'NOx': 6543.21, 'O3': 9753.1, 'polen': 123.45},\n",
       "  'dia': 1,\n",
       "  'hh': 2,\n",
       "  'matricula': 'c23',\n",
       "  'mes': 1,\n",
       "  'milli': 986345,\n",
       "  'mm': 23,\n",
       "  'ss': 56}]"
      ]
     },
     "execution_count": 64,
     "metadata": {
      "tags": []
     },
     "output_type": "execute_result"
    }
   ],
   "source": [
    "'''\n",
    "  Ejemplo de funcionamiento\n",
    "'''\n",
    "tramaNuevosMinisterios = \"20181222132145098906c23008921978323003456\"\n",
    "tramaSol = \"20181221001726365729c21023994534\"\n",
    "tramaColon = \"20190101022356986345c23012345654321975310\"\n",
    "\n",
    "procesaLecturas(tramaNuevosMinisterios, tramaSol, tramaColon)"
   ]
  },
  {
   "cell_type": "markdown",
   "metadata": {
    "colab_type": "text",
    "id": "kCbY96tFy0tN"
   },
   "source": []
  },
  {
   "cell_type": "code",
   "execution_count": 0,
   "metadata": {
    "colab": {},
    "colab_type": "code",
    "id": "am0Do01gzx_o"
   },
   "outputs": [],
   "source": []
  },
  {
   "cell_type": "markdown",
   "metadata": {
    "colab_type": "text",
    "id": "68tVx5Oj1mVG"
   },
   "source": [
    "Si ejecutamos ahora procesaLecturas"
   ]
  },
  {
   "cell_type": "code",
   "execution_count": 0,
   "metadata": {
    "colab": {
     "base_uri": "https://localhost:8080/",
     "height": 294
    },
    "colab_type": "code",
    "executionInfo": {
     "elapsed": 594,
     "status": "ok",
     "timestamp": 1547240663501,
     "user": {
      "displayName": "Ramón Maldonado Rodríguez",
      "photoUrl": "https://lh3.googleusercontent.com/-ljH7hLMa7no/AAAAAAAAAAI/AAAAAAAAAAg/pf-fwlCU1Eg/s64/photo.jpg",
      "userId": "17580681743975451950"
     },
     "user_tz": -60
    },
    "id": "elSfqlma21o2",
    "outputId": "d33c65fa-2164-453e-931d-6ca379a99055"
   },
   "outputs": [
    {
     "data": {
      "text/plain": [
       "[{'año': 2018,\n",
       "  'data': {'NOx': 9783.23, 'O3': 34.56, 'polen': 89.21},\n",
       "  'dia': 13,\n",
       "  'hh': 21,\n",
       "  'matricula': 'c23',\n",
       "  'mes': 1222,\n",
       "  'milli': 98906,\n",
       "  'mm': 45},\n",
       " {'año': 2018,\n",
       "  'data': {'NOx': 23.99, 'polen': 45.34},\n",
       "  'dia': 0,\n",
       "  'hh': 17,\n",
       "  'matricula': 'c21',\n",
       "  'mes': 1221,\n",
       "  'milli': 365729,\n",
       "  'mm': 26}]"
      ]
     },
     "execution_count": 56,
     "metadata": {
      "tags": []
     },
     "output_type": "execute_result"
    }
   ],
   "source": [
    "procesaLecturas(tramaNuevosMinisterios, tramaSol)"
   ]
  },
  {
   "cell_type": "markdown",
   "metadata": {
    "colab_type": "text",
    "id": "LMheN1Eg3NPp"
   },
   "source": [
    "Al final lo que hacemos es procesar cada trama aplicando una función (con su lógica condicional interna). Podríamos haberlo hecho utilizando el operador map"
   ]
  },
  {
   "cell_type": "code",
   "execution_count": 0,
   "metadata": {
    "colab": {
     "base_uri": "https://localhost:8080/",
     "height": 294
    },
    "colab_type": "code",
    "executionInfo": {
     "elapsed": 523,
     "status": "ok",
     "timestamp": 1547240854918,
     "user": {
      "displayName": "Ramón Maldonado Rodríguez",
      "photoUrl": "https://lh3.googleusercontent.com/-ljH7hLMa7no/AAAAAAAAAAI/AAAAAAAAAAg/pf-fwlCU1Eg/s64/photo.jpg",
      "userId": "17580681743975451950"
     },
     "user_tz": -60
    },
    "id": "QD2285-JjjN2",
    "outputId": "446d97a7-e17f-4718-bb9b-0c1c7f12ee4a"
   },
   "outputs": [
    {
     "data": {
      "text/plain": [
       "[{'año': 2018,\n",
       "  'data': {'NOx': 9783.23, 'O3': 34.56, 'polen': 89.21},\n",
       "  'dia': 13,\n",
       "  'hh': 21,\n",
       "  'matricula': 'c23',\n",
       "  'mes': 1222,\n",
       "  'milli': 98906,\n",
       "  'mm': 45},\n",
       " {'año': 2018,\n",
       "  'data': {'NOx': 23.99, 'polen': 45.34},\n",
       "  'dia': 0,\n",
       "  'hh': 17,\n",
       "  'matricula': 'c21',\n",
       "  'mes': 1221,\n",
       "  'milli': 365729,\n",
       "  'mm': 26}]"
      ]
     },
     "execution_count": 58,
     "metadata": {
      "tags": []
     },
     "output_type": "execute_result"
    }
   ],
   "source": [
    "resultado = map(tramageneral, listaMedidas)\n",
    "list(resultado)"
   ]
  },
  {
   "cell_type": "code",
   "execution_count": 0,
   "metadata": {
    "colab": {},
    "colab_type": "code",
    "id": "aaw3sjBWl5NP"
   },
   "outputs": [],
   "source": [
    "\n"
   ]
  },
  {
   "cell_type": "code",
   "execution_count": 0,
   "metadata": {
    "colab": {
     "base_uri": "https://localhost:8080/",
     "height": 35
    },
    "colab_type": "code",
    "executionInfo": {
     "elapsed": 615,
     "status": "ok",
     "timestamp": 1547239701259,
     "user": {
      "displayName": "Ramón Maldonado Rodríguez",
      "photoUrl": "https://lh3.googleusercontent.com/-ljH7hLMa7no/AAAAAAAAAAI/AAAAAAAAAAg/pf-fwlCU1Eg/s64/photo.jpg",
      "userId": "17580681743975451950"
     },
     "user_tz": -60
    },
    "id": "Bb-DPIBnlCc7",
    "outputId": "1a273ff5-603d-470e-e6fc-1541903f307d"
   },
   "outputs": [
    {
     "data": {
      "text/plain": [
       "[{'NOx': 9783.23, 'O3': 34.56, 'polen': 89.21}]"
      ]
     },
     "execution_count": 48,
     "metadata": {
      "tags": []
     },
     "output_type": "execute_result"
    }
   ],
   "source": [
    "list(modC23)"
   ]
  },
  {
   "cell_type": "code",
   "execution_count": 0,
   "metadata": {
    "colab": {
     "base_uri": "https://localhost:8080/",
     "height": 52
    },
    "colab_type": "code",
    "executionInfo": {
     "elapsed": 599,
     "status": "ok",
     "timestamp": 1546975652483,
     "user": {
      "displayName": "Ramón Maldonado Rodríguez",
      "photoUrl": "https://lh3.googleusercontent.com/-ljH7hLMa7no/AAAAAAAAAAI/AAAAAAAAAAg/pf-fwlCU1Eg/s64/photo.jpg",
      "userId": "17580681743975451950"
     },
     "user_tz": -60
    },
    "id": "lNtOBDIf65VZ",
    "outputId": "d3f337c5-f55d-4d64-ac64-47605cacf5ed"
   },
   "outputs": [
    {
     "name": "stdout",
     "output_type": "stream",
     "text": [
      "5050\n",
      "338350\n"
     ]
    }
   ],
   "source": [
    "from functools import reduce\n",
    "print(reduce(lambda x,y: x + y, range(101)))\n",
    "print(reduce(lambda x,y: x + (lambda x: x*x)(y), range(101)))"
   ]
  },
  {
   "cell_type": "code",
   "execution_count": 0,
   "metadata": {
    "colab": {
     "base_uri": "https://localhost:8080/",
     "height": 34
    },
    "colab_type": "code",
    "executionInfo": {
     "elapsed": 610,
     "status": "ok",
     "timestamp": 1546975866135,
     "user": {
      "displayName": "Ramón Maldonado Rodríguez",
      "photoUrl": "https://lh3.googleusercontent.com/-ljH7hLMa7no/AAAAAAAAAAI/AAAAAAAAAAg/pf-fwlCU1Eg/s64/photo.jpg",
      "userId": "17580681743975451950"
     },
     "user_tz": -60
    },
    "id": "E7uC35oM74E1",
    "outputId": "6b49eee8-c0be-426f-c49b-dde56a0913b7"
   },
   "outputs": [
    {
     "data": {
      "text/plain": [
       "[0, 2, 4, 6, 8, 10]"
      ]
     },
     "execution_count": 33,
     "metadata": {
      "tags": []
     },
     "output_type": "execute_result"
    }
   ],
   "source": [
    "list(filter(lambda x: x%2 == 0, range(11)))"
   ]
  }
 ],
 "metadata": {
  "colab": {
   "name": "03.0 Lambdas.ipynb",
   "provenance": [],
   "version": "0.3.2"
  },
  "kernelspec": {
   "display_name": "Python 3",
   "language": "python",
   "name": "python3"
  },
  "language_info": {
   "codemirror_mode": {
    "name": "ipython",
    "version": 3
   },
   "file_extension": ".py",
   "mimetype": "text/x-python",
   "name": "python",
   "nbconvert_exporter": "python",
   "pygments_lexer": "ipython3",
   "version": "3.7.1"
  }
 },
 "nbformat": 4,
 "nbformat_minor": 1
}
