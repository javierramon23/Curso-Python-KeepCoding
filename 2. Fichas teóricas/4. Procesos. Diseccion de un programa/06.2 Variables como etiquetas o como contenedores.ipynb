{
 "cells": [
  {
   "cell_type": "markdown",
   "metadata": {
    "colab_type": "text",
    "id": "EJya-oVeci_R"
   },
   "source": [
    "# ¿Son las variables etiquetas o son contenedores?\n",
    "\n",
    "Hemos definido las variables como contenedores de datos. Hemos indicado también que según el lenguaje admita distintos tipos de datos para una variable se clasifica como de tipado fuerte o débil.\n",
    "\n",
    "Es decir hemos hecho dos analogías para las variables.\n",
    "- Una [variable es como una copa](https://colab.research.google.com/drive/1-JvbJmQBsYJtIRKnTutpRck54BdZKJA-#scrollTo=ydorGgiQCoNG)\n",
    "- Una [ variable es una etiqueta](https://colab.research.google.com/drive/1_ob96dheQuqkm6uuSWibOQOlhjznXrOk#scrollTo=InpmaGnc8V5B&line=25&uniqifier=1) que permite acceder a direcciones específicas de memoria\n",
    "\n",
    "Ambas analogías son ciertas y conviene tener ambas presentes cuando se programa.\n",
    "\n",
    "Según el tipo y la estructura de los datos los lenguajes de programación deciden utilizar las variables más como etiquetas que como contenedores en unos casos y al revés.\n",
    "\n",
    "Veámoslo\n"
   ]
  },
  {
   "cell_type": "code",
   "execution_count": 0,
   "metadata": {
    "colab": {},
    "colab_type": "code",
    "id": "rUHWUwzscbpc"
   },
   "outputs": [],
   "source": [
    "# Números enteros\n",
    "\n",
    "a = 10\n",
    "b = a\n",
    "a = a + 1\n"
   ]
  },
  {
   "cell_type": "markdown",
   "metadata": {
    "colab_type": "text",
    "id": "KKmAQ3r1fEHa"
   },
   "source": [
    "Si a y b actúan principalmente como contenedores cabe esperar que:\n",
    "- el valor de a sea 11\n",
    "- el valor de b sea 10\n",
    "\n",
    "Si a y b actúan principalmente como etiquetas (apuntan al mismo casillero que contiene el dato) cabría esperar que:\n",
    "- el valor de a sea 11\n",
    "- el valor de b sea 11\n",
    "\n",
    "Gráficamente se entiende mejor\n",
    "\n",
    "<img src=\"https://docs.google.com/uc?export=download&id=1L1wq8_p8ZUbHj_rnYbnVIW3rG-RsCIH8\" >\n",
    "\n",
    "Si a y b actúan como etiquetas apuntarán a la misma dirección de memoria de modo que si modificamos a (modificamos el contenido del casillero), también modificaremos b\n",
    "\n",
    "Si a y b actúan como contenedores, cada una de ellas apuntarán a un casillero distinto, con lo que la modificación de a no implica la modificación de b\n",
    "\n",
    "Es importante indicar que esto es una decisión que se toma al diseñar el lenguaje, cada lenguaje actuará como sus creadores quieran, existan o no ciertas convenciones no obligatorias.\n",
    "\n",
    "Veamos como funciona python\n"
   ]
  },
  {
   "cell_type": "code",
   "execution_count": 3,
   "metadata": {
    "colab": {
     "base_uri": "https://localhost:8080/",
     "height": 51
    },
    "colab_type": "code",
    "executionInfo": {
     "elapsed": 1246,
     "status": "ok",
     "timestamp": 1540627354889,
     "user": {
      "displayName": "Ramón Maldonado Rodríguez",
      "photoUrl": "https://lh3.googleusercontent.com/-ljH7hLMa7no/AAAAAAAAAAI/AAAAAAAAAAg/pf-fwlCU1Eg/s64/photo.jpg",
      "userId": "17580681743975451950"
     },
     "user_tz": -120
    },
    "id": "ZmNzWkykizCH",
    "outputId": "45256d52-22a5-4e38-e01a-24e82cfd51c5"
   },
   "outputs": [
    {
     "name": "stdout",
     "output_type": "stream",
     "text": [
      "11\n",
      "10\n"
     ]
    }
   ],
   "source": [
    "print(a)\n",
    "print(b)"
   ]
  },
  {
   "cell_type": "markdown",
   "metadata": {
    "colab_type": "text",
    "id": "sYaBWP5Li4-S"
   },
   "source": [
    "Claramente para variables de tipo número entero python las utiliza como contenedores (vasitos de chupito)\n",
    "\n"
   ]
  },
  {
   "cell_type": "markdown",
   "metadata": {
    "colab_type": "text",
    "id": "Sc249gLejS2L"
   },
   "source": [
    "## Las variables que apuntan a listas son etiquetas\n",
    "\n",
    "Veamos ahora un ejemplo de variables que actúan como etiquetas y no como contenedores, las listas.\n",
    "\n",
    "Dejemos hablar al código"
   ]
  },
  {
   "cell_type": "code",
   "execution_count": 4,
   "metadata": {
    "colab": {
     "base_uri": "https://localhost:8080/",
     "height": 51
    },
    "colab_type": "code",
    "executionInfo": {
     "elapsed": 517,
     "status": "ok",
     "timestamp": 1540627778728,
     "user": {
      "displayName": "Ramón Maldonado Rodríguez",
      "photoUrl": "https://lh3.googleusercontent.com/-ljH7hLMa7no/AAAAAAAAAAI/AAAAAAAAAAg/pf-fwlCU1Eg/s64/photo.jpg",
      "userId": "17580681743975451950"
     },
     "user_tz": -120
    },
    "id": "hmm6AvPui29M",
    "outputId": "47444fed-af94-4e7e-9a5d-8b9ba062ef5f"
   },
   "outputs": [
    {
     "name": "stdout",
     "output_type": "stream",
     "text": [
      "[1, 2, 3, 4, 5, 6, 7]\n",
      "[1, 2, 3, 4, 5, 6, 7]\n"
     ]
    }
   ],
   "source": [
    "# variables que contienen listas. realmente apuntan a listas\n",
    "lista_original = [1, 2, 3, 4, 5, 6]\n",
    "falsa_copia = lista_original\n",
    "lista_original.append(7)\n",
    "print(lista_original)\n",
    "print(falsa_copia)"
   ]
  },
  {
   "cell_type": "markdown",
   "metadata": {
    "colab_type": "text",
    "id": "D9h850jzkmEQ"
   },
   "source": [
    "Vemos que hemos cambiado las dos variables, si vemos la imagen de arriba, está claro que las variables que contienen tablas son etiquetas que apuntan a tablas.\n",
    "\n",
    "Si [copiamos realmente la tabla](https://colab.research.google.com/drive/1gAt1VSmkb-V9enz4Oqf76yYG3L0jebKC#scrollTo=LkCH2fz0jnRC&line=10&uniqifier=1)"
   ]
  },
  {
   "cell_type": "code",
   "execution_count": 5,
   "metadata": {
    "colab": {
     "base_uri": "https://localhost:8080/",
     "height": 68
    },
    "colab_type": "code",
    "executionInfo": {
     "elapsed": 634,
     "status": "ok",
     "timestamp": 1540627957808,
     "user": {
      "displayName": "Ramón Maldonado Rodríguez",
      "photoUrl": "https://lh3.googleusercontent.com/-ljH7hLMa7no/AAAAAAAAAAI/AAAAAAAAAAg/pf-fwlCU1Eg/s64/photo.jpg",
      "userId": "17580681743975451950"
     },
     "user_tz": -120
    },
    "id": "DvoSzxQ2kkpO",
    "outputId": "99b20a2d-c152-429c-faed-95fbe02f2cb6"
   },
   "outputs": [
    {
     "name": "stdout",
     "output_type": "stream",
     "text": [
      "[1, 2, 3, 4, 5, 6, 7]\n",
      "[1, 2, 3, 4, 5, 6, 7]\n",
      "[1, 2, 3, 4, 5, 6]\n"
     ]
    }
   ],
   "source": [
    "lista_original = [1, 2, 3, 4, 5, 6]\n",
    "falsa_copia = lista_original\n",
    "clon_real = lista_original[:]         # Se obtiene una sublista nueva que contiene todos los elementos de la lista\n",
    "lista_original.append(7)\n",
    "print(lista_original)\n",
    "print(falsa_copia)\n",
    "print(clon_real)\n"
   ]
  },
  {
   "cell_type": "markdown",
   "metadata": {
    "colab_type": "text",
    "id": "dHyb9PWRlR3T"
   },
   "source": [
    "Se ve que ahora clon_real es una copia y queda claro que clon_real apunta a una lista y lista_original y falsa_copia apuntan ambas a otra lista.\n",
    "\n"
   ]
  },
  {
   "cell_type": "markdown",
   "metadata": {
    "colab_type": "text",
    "id": "ZBQQrThnlee-"
   },
   "source": [
    "## Conclusión\n",
    "\n",
    "Siempre que vayamos a copiar variables debemos recordar que según el lenguaje pueden actuar como etiquetas o como contenedores y que, aunque hay convenciones, cada lenguaje actúa a su manera.\n",
    "\n",
    "Si empieza a hacer cosas raras será necesario buscar en la documentación si las variables de ese tipo en ese lenguaje actúan de una manera o de otra."
   ]
  },
  {
   "cell_type": "code",
   "execution_count": 0,
   "metadata": {
    "colab": {},
    "colab_type": "code",
    "id": "Sfugla16lQVc"
   },
   "outputs": [],
   "source": []
  }
 ],
 "metadata": {
  "colab": {
   "name": "10.2 Variables como etiquetas o como contenedores.ipynb",
   "provenance": [],
   "version": "0.3.2"
  },
  "kernelspec": {
   "display_name": "Python 3",
   "language": "python",
   "name": "python3"
  },
  "language_info": {
   "codemirror_mode": {
    "name": "ipython",
    "version": 3
   },
   "file_extension": ".py",
   "mimetype": "text/x-python",
   "name": "python",
   "nbconvert_exporter": "python",
   "pygments_lexer": "ipython3",
   "version": "3.7.1"
  }
 },
 "nbformat": 4,
 "nbformat_minor": 1
}
