{
 "cells": [
  {
   "cell_type": "markdown",
   "metadata": {
    "colab_type": "text",
    "id": "8zAU9sX3lBw5"
   },
   "source": [
    "# Estructuras de control - Iteración (Bucle o ciclo)\n",
    "\n",
    "Es el último tipo de estructura de control que puede formar parte de un programa, en términos normales un bucle o ciclo no es más que la repetición de un bloque de código (una o más sentencias/instrucciones) un número determinado de veces.\n",
    "\n",
    "Existen tres formas de implementar un bucle o ciclo, verbigracia:\n",
    "\n",
    "- **[HASTA](https://drive.google.com/open?id=1caDwYDv61ASAgeTYebK_NnAmGVcmXo6o)**: Repetir el bloque de instrucciones hasta que se cumpla una determinada condición, por ejemplo* introducir cánicas en un bol hasta que rebose*.\n",
    "- **[MIENTRAS](https://drive.google.com/open?id=1L_k37omDC_9RzXS2TtCuBZBJOt4ok0Yx)**: Repetir el bloque de instrucciones mientras se cumpla una determinada condición, por ejemplo *introducir huevos en una huevera mientras queden huecos libres*. \n",
    "- **[FOR](https://drive.google.com/open?id=1LN1Fmj6lO1406Y5xHKZfyaKxpCrg-4dZ)**: Repetir el bloque de instrucciones un número determinado de veces[1], por ejemplo, *levante las mancuernas de 5 kg 15 veces*.\n",
    "Gráficamente\n",
    "\n",
    "<img src=\"https://docs.google.com/uc?export=download&id=1FPIgRE0PBDse_5Nr82n5pMMqedsVwQ_T\" height=\"250\">\n",
    "\n",
    "\n",
    "￼\n",
    "[1] Se llama bucle for por ser la forma inglesa de la expresión \"*Para el índice * **I** * desde 1 hasta 10 repite el siguiente bloque de código*\" o dicho de otra forma \"*for i=1 to 10*\". En python no se escribe exactamente así pero esa es la idea de un bucle for. "
   ]
  },
  {
   "cell_type": "markdown",
   "metadata": {
    "colab_type": "text",
    "id": "de2fnW9BVx7G"
   },
   "source": [
    "## Nota importante\n",
    "\n",
    "En este punto solo trataremos la iteración tal y como se trabaja en la programación declarativa. Para una visión funcional ver [recursividad](https://colab.research.google.com/drive/1H2wuYsRp61r71skL0KuXGWLBt4w9ol2M#scrollTo=jcCa_S8n3zAw&line=11&uniqifier=1)"
   ]
  }
 ],
 "metadata": {
  "colab": {
   "collapsed_sections": [],
   "name": "08.0 Estructuras de control - Iteracion, bucles o ciclos.ipynb",
   "provenance": [],
   "version": "0.3.2"
  },
  "kernelspec": {
   "display_name": "Python 3",
   "language": "python",
   "name": "python3"
  },
  "language_info": {
   "codemirror_mode": {
    "name": "ipython",
    "version": 3
   },
   "file_extension": ".py",
   "mimetype": "text/x-python",
   "name": "python",
   "nbconvert_exporter": "python",
   "pygments_lexer": "ipython3",
   "version": "3.7.1"
  }
 },
 "nbformat": 4,
 "nbformat_minor": 1
}
