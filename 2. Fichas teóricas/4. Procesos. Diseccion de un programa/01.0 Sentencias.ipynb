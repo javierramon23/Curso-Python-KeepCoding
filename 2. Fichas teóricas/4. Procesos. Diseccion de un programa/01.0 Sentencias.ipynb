{
 "cells": [
  {
   "cell_type": "markdown",
   "metadata": {
    "colab_type": "text",
    "id": "KFot2lpq3tSI"
   },
   "source": [
    "# Procesos - Sentencias\n",
    "\n",
    "La sentencia es la unidad ejecutable más pequeña de un programa, en su mínima expresión equivale a una línea de código.\n",
    "\n",
    "```\n",
    "print(\"Hola, mundo!\")\n",
    "```\n",
    "\n",
    "Es una sentencia que escribe la cadena (literal) `Hola, mundo!` en el dispositivo de salida del ordenador (lo habitual es la pantalla). La salida no muestra las comillas porque no forman parte del dato, lo delimitan y definen su tipo (cadena [texto del enlace](https://colab.research.google.com/drive/1zjfcBAGhuFRPSuOFU-vtb9mOGrdYQWNu))"
   ]
  },
  {
   "cell_type": "code",
   "execution_count": 2,
   "metadata": {
    "colab": {
     "base_uri": "https://localhost:8080/",
     "height": 36
    },
    "colab_type": "code",
    "executionInfo": {
     "elapsed": 644,
     "status": "ok",
     "timestamp": 1540448580552,
     "user": {
      "displayName": "Ramón Maldonado Rodríguez",
      "photoUrl": "https://lh3.googleusercontent.com/-ljH7hLMa7no/AAAAAAAAAAI/AAAAAAAAAAg/pf-fwlCU1Eg/s64/photo.jpg",
      "userId": "17580681743975451950"
     },
     "user_tz": -120
    },
    "id": "wZMNaEKb4sQ5",
    "outputId": "0245f472-a2cf-476e-b848-44894986b7fd"
   },
   "outputs": [
    {
     "name": "stdout",
     "output_type": "stream",
     "text": [
      "Hola, mundo!\n"
     ]
    }
   ],
   "source": [
    "print(\"Hola, mundo!\")"
   ]
  },
  {
   "cell_type": "markdown",
   "metadata": {
    "colab_type": "text",
    "id": "AvBFLdHV4s7l"
   },
   "source": [
    "Una sentencia siempre consiste en realizar una operación o más operaciones sobre uno o más datos. Los **datos** pueden encontrarse en la sentencia\n",
    "\n",
    "- de **forma directa**: como en la sentencia de arriba\n",
    "- utilizando **contenedores**: bien sean [variables](https://) o [constantes](https://)\n",
    "\n",
    "y las **operaciones** se indican por medio de\n",
    "- **palabras clave** del lenguaje tales como **if**, **while** que ya hemos visto [aquí](https://drive.google.com/open?id=15x2ZTYS5g6ycgndMgFc4Gu09smN1HpHO) y [aquí](https://drive.google.com/open?id=1L_k37omDC_9RzXS2TtCuBZBJOt4ok0Yx)\n",
    "- **operadores** expresiones simbólicas que realizan una operación sobre un dato, por ejemplo el signo `+`, la expresión `==`,...\n",
    "- **funciones** llamadas a funciones complejas que pueden ser específicas del lenguaje como `print()`usada más arriba o definidas por el usuario. De las funciones se habla [aqui](https://)\n",
    "\n",
    "Ejemplos de sentencias son:\n"
   ]
  },
  {
   "cell_type": "code",
   "execution_count": 0,
   "metadata": {
    "colab": {},
    "colab_type": "code",
    "id": "dH-tD9zQ7ciM"
   },
   "outputs": [],
   "source": [
    "a = 1"
   ]
  },
  {
   "cell_type": "markdown",
   "metadata": {
    "colab_type": "text",
    "id": "rXk8A5ha8FAt"
   },
   "source": [
    "Esta sentencia es una asignación. Se crea la variable a y se le asigna el valor 1. Se compone de:\n",
    "- Un contenedor → La variable a\n",
    "- Un operador → = como operador de asignacion\n",
    "- Un dato → 1"
   ]
  },
  {
   "cell_type": "code",
   "execution_count": 6,
   "metadata": {
    "colab": {
     "base_uri": "https://localhost:8080/",
     "height": 36
    },
    "colab_type": "code",
    "executionInfo": {
     "elapsed": 519,
     "status": "ok",
     "timestamp": 1540449293920,
     "user": {
      "displayName": "Ramón Maldonado Rodríguez",
      "photoUrl": "https://lh3.googleusercontent.com/-ljH7hLMa7no/AAAAAAAAAAI/AAAAAAAAAAg/pf-fwlCU1Eg/s64/photo.jpg",
      "userId": "17580681743975451950"
     },
     "user_tz": -120
    },
    "id": "mI6E7n6u7eCU",
    "outputId": "79876b82-6a59-448e-a623-a6cf346685a0"
   },
   "outputs": [
    {
     "name": "stdout",
     "output_type": "stream",
     "text": [
      "a es igual a 1\n"
     ]
    }
   ],
   "source": [
    "print(\"a es igual a {}\".format(a))"
   ]
  },
  {
   "cell_type": "markdown",
   "metadata": {
    "colab_type": "text",
    "id": "e3FXaelR8kpU"
   },
   "source": [
    "Esta sentencia realiza una operación de salida, imprime un valor pero es una sentencia compuesta ya que también formatea el dato de salida. Se compone de:\n",
    "- Dos funciones: → print() y format()\n",
    "- Tres datos, a saber:\n",
    "  - Dos datos explícitos: \n",
    "    -  de forma directa → \"a es igual a {}\"\n",
    "    - con un contenedor → la variable a\n",
    "  - Un dato implícito\n",
    "    - El resultado de la función format → \"a es igual a [valor de a]\" actúa como dato directo de entrada para print\n",
    "- Un operador: → `.` El punto que indica que se debe ejecutar la funcion format sobre la cadena. Es un operador de [objetos](https://), pero en este momento nos sirve indicar que es un operador de pertenencia, la función format pertenece a la cadena en cuestión y le pedimos que la ejecute."
   ]
  },
  {
   "cell_type": "code",
   "execution_count": 8,
   "metadata": {
    "colab": {
     "base_uri": "https://localhost:8080/",
     "height": 36
    },
    "colab_type": "code",
    "executionInfo": {
     "elapsed": 503,
     "status": "ok",
     "timestamp": 1540449373250,
     "user": {
      "displayName": "Ramón Maldonado Rodríguez",
      "photoUrl": "https://lh3.googleusercontent.com/-ljH7hLMa7no/AAAAAAAAAAI/AAAAAAAAAAg/pf-fwlCU1Eg/s64/photo.jpg",
      "userId": "17580681743975451950"
     },
     "user_tz": -120
    },
    "id": "e8cxW8N_7kXE",
    "outputId": "920d0819-6cb4-4dc7-de0f-3835fd3a0a76"
   },
   "outputs": [
    {
     "name": "stdout",
     "output_type": "stream",
     "text": [
      "1 es impar\n"
     ]
    }
   ],
   "source": [
    "print (\"{} es par\".format(a)) if a%2 == 0 else print(\"{} es impar\".format(a))"
   ]
  },
  {
   "cell_type": "markdown",
   "metadata": {
    "colab_type": "text",
    "id": "3I6nx9ct-Auf"
   },
   "source": [
    "Esta sentencia es mucho más complicada de hecho se identifican al menos tres sentencias en una y alguna de ellas compuesta a su vez por otras. Podemos distinguir\n",
    "- funciones: → print() y format()\n",
    "- palabras clave: → `if` y  `else`\n",
    "- variables (datos): → `a`\n",
    "- datos directos (explícitos): → `\"{} es par\"`,  `\"{} es impar\"`, `2` y `0` de forma explícita\n",
    "- operadores: `%`, `==` y `.`"
   ]
  },
  {
   "cell_type": "markdown",
   "metadata": {
    "colab_type": "text",
    "id": "jHyGmeMt_RTl"
   },
   "source": [
    "## Tipos de sentencias\n",
    "\n",
    "Cuando hemos hablado de estructuras de control hemos indicado que hay tres, [secuencia](https://drive.google.com/open?id=1v-YMzjls73Y_WyFZOxie36WdbQcK_rgP), [selección](https://drive.google.com/open?id=15x2ZTYS5g6ycgndMgFc4Gu09smN1HpHO) e [iteración](https://drive.google.com/open?id=1-yvREfRi0rO21zqLSHqZJiSLj8aVdKdz) (bucles)\n",
    "\n",
    "Teniendo esto en cuenta y las operaciones que se pueden realizar podemos destacar algunos tipos de sentencia (no es una enumeración exhaustiva):\n",
    "\n",
    "- **asignación**: se asigna un valor a una variable o constante\n",
    "- **declaración**: se crea una variable o una función\n",
    "- **operación**: Se modifica un dato bien por operaciones aritméticas, de transformación, lógicas, ...\n",
    "- **seleccion**: Se bifurca la secuencia en función de una condición lógica\n",
    "- **iteracion**: Se repiten bloques de códigos en función de una condición lógica\n",
    "...\n",
    "\n",
    "Son nuevas para nosotros la asignación, declaración y operación. La primera se ve en [variables](https://), la segunda en [funciones](https://) y las operaciones en las fichas de cada tipo de datos (cadenas [texto del enlace](https://drive.google.com/open?id=1zjfcBAGhuFRPSuOFU-vtb9mOGrdYQWNu), [números](https://drive.google.com/open?id=1rdKa0XNt5Nfz5aNK7fC0rhnUgvq3bKq3), [booleanos](https://))\n",
    "\n"
   ]
  }
 ],
 "metadata": {
  "colab": {
   "name": "11. Sentencias.ipynb",
   "provenance": [],
   "version": "0.3.2"
  },
  "kernelspec": {
   "display_name": "Python 3",
   "language": "python",
   "name": "python3"
  },
  "language_info": {
   "codemirror_mode": {
    "name": "ipython",
    "version": 3
   },
   "file_extension": ".py",
   "mimetype": "text/x-python",
   "name": "python",
   "nbconvert_exporter": "python",
   "pygments_lexer": "ipython3",
   "version": "3.7.1"
  }
 },
 "nbformat": 4,
 "nbformat_minor": 1
}
