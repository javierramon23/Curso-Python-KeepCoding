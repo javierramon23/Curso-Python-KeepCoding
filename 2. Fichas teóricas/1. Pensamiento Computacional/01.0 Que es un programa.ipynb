{
 "cells": [
  {
   "cell_type": "markdown",
   "metadata": {
    "colab_type": "text",
    "id": "fl2KscOx-7E1"
   },
   "source": [
    "# Qué es y para que sirve programar\n",
    "\n",
    "## ¿Qué es un programa?\n",
    "\n",
    "La definición más cómoda es una receta para ordenadores. ¿Para que escribimos una receta para ordenadores?, para resolver un problema concreto.\n",
    "\n",
    "\n",
    "De una forma más rigurosa y concreta podría valer cualquiera de estas tres definiciones. \n",
    "\t1.\tUn programa es una secuencia de instrucciones escritas para realizar una tarea específica en una computadora.\n",
    "\t2.\tUna secuencia de instrucciones determinada de entre el conjunto finito de instrucciones de una máquina multipropósito que resuelve un problema concreto.\n",
    "\t3.\tSecuencia de instrucciones que, ejecutada por una máquina multipropósito,  toma unos datos de entrada, los manipula y obtiene unos datos de salida\n",
    "Los aspectos a destacar de estas definiciones son:\n",
    "\t1.\tUn programa resuelve un problema\n",
    "\t2.\tUn programa tiene datos de entrada y de salida\n",
    "\t3.\tUn programa es una secuencia de instrucciones a realizar sobre los datos de entrada\n",
    "\t4.\tUn ordenador tiene un conjunto finito de instrucciones que sabe/puede ejecutar correctamente. \n",
    "\t5.\tLa secuencia de instrucciones de un programa es un subconjunto del conjuto finito de instrucciones del ordenador (lenguaje de programación).\n",
    "  \n",
    "## Para qué sirve programar\n",
    "\n",
    "Programar sirve para que un ordenador nos resuelva un problema concreto. No hay más. "
   ]
  },
  {
   "cell_type": "code",
   "execution_count": 1,
   "metadata": {
    "colab": {
     "base_uri": "https://localhost:8080/",
     "height": 35
    },
    "colab_type": "code",
    "executionInfo": {
     "elapsed": 681,
     "status": "ok",
     "timestamp": 1543661549294,
     "user": {
      "displayName": "Ramón Maldonado Rodríguez",
      "photoUrl": "https://lh3.googleusercontent.com/-ljH7hLMa7no/AAAAAAAAAAI/AAAAAAAAAAg/pf-fwlCU1Eg/s64/photo.jpg",
      "userId": "17580681743975451950"
     },
     "user_tz": -60
    },
    "id": "65qtfycpZW8R",
    "outputId": "62936421-62f9-4589-e915-85417cb39783"
   },
   "outputs": [
    {
     "name": "stdout",
     "output_type": "stream",
     "text": [
      "Hello, world\n"
     ]
    }
   ],
   "source": [
    "print(\"Hello, world\")"
   ]
  }
 ],
 "metadata": {
  "colab": {
   "name": "01.0 Que es un programa.ipynb",
   "provenance": [],
   "version": "0.3.2"
  },
  "kernelspec": {
   "display_name": "Python 3",
   "language": "python",
   "name": "python3"
  },
  "language_info": {
   "codemirror_mode": {
    "name": "ipython",
    "version": 3
   },
   "file_extension": ".py",
   "mimetype": "text/x-python",
   "name": "python",
   "nbconvert_exporter": "python",
   "pygments_lexer": "ipython3",
   "version": "3.7.1"
  }
 },
 "nbformat": 4,
 "nbformat_minor": 1
}
