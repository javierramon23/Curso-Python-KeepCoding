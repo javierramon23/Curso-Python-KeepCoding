{
 "cells": [
  {
   "cell_type": "markdown",
   "metadata": {
    "colab_type": "text",
    "id": "qcsR3PGrAd2q"
   },
   "source": [
    "# ¿Cómo resolvemos un problema?\n",
    "\n",
    "## Descomposición\n",
    "\n",
    "La idea principal a la hora de resolver un problema *complejo*, ya sea nosotros directamente, o con un ordenador y un programa en un lenguaje de programación, responde al principio “**Divide y vencerás**”. Se trata de descomponer el problema en problemas más pequeños hasta que lleguemos a un problema lo bastante pequeño, para que podamos resolverlo.\n",
    "\n",
    "Veamos un ejemplo sencillo. Imaginemos que queremos hacer un programa que calcula la edad de un perro en años humanos. \n",
    "Partiendo de la idea de que un programa es el proceso de datos de entrada para obtener datos de salida correctos quedaría algo así:\n",
    "\n",
    "<!--img src=\"https://docs.google.com/uc?export=download&id=1z4aT_ZPoZrg1H2bUTM3nlWJ70N0oYD8l\" height=\"150\"-->\n",
    "![Figure 1](https://docs.google.com/uc?id=1z4aT_ZPoZrg1H2bUTM3nlWJ70N0oYD8l)\n",
    "\n",
    "Si dividimos nuestro problema en partes más pequeñas encontramos tres procesos menores, a saber:\n",
    "\t1.\tLectura edad del perro\n",
    "\t2.\tCálculo edad humana del perro\n",
    "\t3.\tMostrar edad humana\n",
    "\n",
    "<!--img src=\"https://docs.google.com/uc?export=download&id=1rvu5uw5h_cci0W6hzKe3Sp4Do7clemGG\" height=\"150\"-->\n",
    "![Figure 2](https://docs.google.com/uc?id=1rvu5uw5h_cci0W6hzKe3Sp4Do7clemGG)\n",
    "\n",
    "Si el problema que quisiéramos resolver fuera más complejo cada uno de los procesos menores podrían/deberían a su vez descomponerse en procesos menores. El nivel de descomposición dependerá en gran medida de nuestra aptitud como programadores y de nuestra experiencia (cuando se han visto mas problemas y patrones de soluciones de los mismos puede reducirse el proceso de descomposición).\n",
    "\n",
    "Si somos capaces de transformar esos procesos menores en bloques de código operativos ya no debemos bajar más en el nivel de descomposición.\n",
    "\n",
    "Como ejemplo sirva una implementación de este programa en python (*No importa si no se entiende todo el programa si no la división en los tres procesos.*)"
   ]
  },
  {
   "cell_type": "code",
   "execution_count": 0,
   "metadata": {
    "colab": {
     "base_uri": "https://localhost:8080/",
     "height": 56
    },
    "colab_type": "code",
    "executionInfo": {
     "elapsed": 11131,
     "status": "ok",
     "timestamp": 1540301863212,
     "user": {
      "displayName": "Ramón Maldonado Rodríguez",
      "photoUrl": "",
      "userId": "17580681743975451950"
     },
     "user_tz": -120
    },
    "id": "NJ9v9wBEEiE6",
    "outputId": "7e83ec4b-6be8-44d8-acfa-4a0877f914ad"
   },
   "outputs": [
    {
     "name": "stdout",
     "output_type": "stream",
     "text": [
      "Edad del perro: 5\n",
      "Su perro tiene 35 años humanos\n"
     ]
    }
   ],
   "source": [
    "'''\n",
    "    Introducir Edad del perro\n",
    "'''\n",
    "strEdad = \"\"\n",
    "\n",
    "while strEdad == \"\":\n",
    "  strEdad = input(\"Edad del perro: \")\n",
    "  if not strEdad.isdigit():\n",
    "    print(\"La edad del perro ha de ser un número entero\")\n",
    "    strEdad = \"\"\n",
    "\n",
    "edad = int(strEdad)\n",
    "\n",
    "'''\n",
    "    Calcular edad humana del perro\n",
    "'''\n",
    "edadHumana = edad * 7\n",
    "\n",
    "'''\n",
    "    Mostrar edad del perro\n",
    "'''\n",
    "print(\"Su perro tiene %d años humanos\" % edadHumana)\n"
   ]
  },
  {
   "cell_type": "markdown",
   "metadata": {
    "colab_type": "text",
    "id": "RxWKLtZ7JXXk"
   },
   "source": [
    "Puede verse que el primer proceso, la lectura de la edad del perro, incluye la validación de que la edad sea un número entero, mientras que los otros dos procesos son simplemente instrucciones.\n",
    "Lo interesante aquí, es que un problema banal como es el cálculo de la edad humana de un perro (su edad multiplicada por 7) se descompone en n procesos menores que a su vez siguen el esquema E → P → S. De ahí que también se diga que programar consiste básicamente en procesar datos."
   ]
  }
 ],
 "metadata": {
  "colab": {
   "collapsed_sections": [],
   "name": "02.0 ¿Cómo resolvemos un problema? Descomposicion.ipynb",
   "provenance": [],
   "version": "0.3.2"
  },
  "kernelspec": {
   "display_name": "Python 3",
   "language": "python",
   "name": "python3"
  },
  "language_info": {
   "codemirror_mode": {
    "name": "ipython",
    "version": 3
   },
   "file_extension": ".py",
   "mimetype": "text/x-python",
   "name": "python",
   "nbconvert_exporter": "python",
   "pygments_lexer": "ipython3",
   "version": "3.7.1"
  }
 },
 "nbformat": 4,
 "nbformat_minor": 1
}
