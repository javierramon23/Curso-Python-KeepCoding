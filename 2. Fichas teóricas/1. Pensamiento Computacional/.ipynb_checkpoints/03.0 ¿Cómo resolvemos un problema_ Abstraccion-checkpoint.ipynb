{
 "cells": [
  {
   "cell_type": "markdown",
   "metadata": {
    "colab_type": "text",
    "id": "X4onFUbdJ3fS"
   },
   "source": [
    "# ¿Cómo resolvemos un problema?\n",
    "\n",
    "## Abstracción\n",
    "\n",
    "Este procedimiento está muy asociado al de [descomposición](https://colab.research.google.com/drive/1WpgT3nke7l-L8kuSkh28Rm4dB_GK_wPg#scrollTo=qcsR3PGrAd2q). Se trata de aislar un elemento de su contexto o del resto de los elementos que lo acompañan. En el proceso de descomposición rompemos un problema en distintos procesos que desde el punto de vista de la abstracción deberían actuar como una caja negra.\n",
    "A la hora de enfocar la abstracción lo que hacemos es descomponer un problema en procesos/elementos/objetos que actúan como cajas negras y en los que nos interesa más el QUÉ hacen  que el CÓMO lo hacen.\n",
    "Dado que estos procesos/elementos/objetos actúan a su vez según el modelo E → P → S si que nos interesa definir cuales son los datos de entrada de cada uno de ellos y los de salida, no tanto así cual es el proceso concreto que se hace con ellos. \n",
    "De igual modo la abstracción se aplica a los datos de entrada y salida. En el modelo de caja negra nos interesa el contenido de los datos y no tanto así su estructura e implementación.\n",
    "De nuevo podemos ver un ejemplo en python en el que se intuye como el proceso de dibujar poligonos de diferentes números de lados se va abstrayendo hasta llegar a una generalización lo suficientemente cómoda.\n",
    "\n",
    "\n"
   ]
  },
  {
   "cell_type": "markdown",
   "metadata": {
    "colab_type": "text",
    "id": "pBlYmnFbKZUr"
   },
   "source": [
    "### Problema: Crear un programa que dibuje un triángulo, un cuadrado y un pentágono\n",
    "\n",
    "<img src=\"https://docs.google.com/uc?export=download&id=1yluoyrK4fG_YLI9gRCdfm52cb5-LRJBG\" height=\"150\">\n",
    "\n",
    "Vemos que el programa no tiene ninguna entrada y que la salida son tres dibujos.\n",
    "\n",
    "Veamos como se puede conseguir que el programa funcione sin ninguna abstracción y con abstracción creciente.\n",
    "\n",
    "(Nota) Los tres programas no pueden ejecutarse en este entorno al no ser compatible con turtle. Pero pueden ejecutarse en local. Lo interesante aquí es como la abstracción va ordenando el código y los procesos"
   ]
  },
  {
   "cell_type": "markdown",
   "metadata": {
    "colab_type": "text",
    "id": "UiBQPAaFLR9_"
   },
   "source": [
    "## Ninguna abstracción\n"
   ]
  },
  {
   "cell_type": "code",
   "execution_count": 0,
   "metadata": {
    "colab": {},
    "colab_type": "code",
    "id": "ldltar-FJ0wn"
   },
   "outputs": [],
   "source": [
    "import turtle\n",
    "\n",
    "theTurtle = turtle\n",
    "\n",
    "'''\n",
    "    Triangle\n",
    "'''\n",
    "theTurtle.goto(0,0)\n",
    "theTurtle.seth(0)\n",
    "theTurtle.fd(50)\n",
    "theTurtle.left(120)\n",
    "theTurtle.fd(50)\n",
    "theTurtle.left(120)\n",
    "theTurtle.fd(50)\n",
    "theTurtle.left(120)\n",
    "\n",
    "'''\n",
    "    Square\n",
    "'''\n",
    "theTurtle.goto(0,0)\n",
    "theTurtle.seth(0)\n",
    "theTurtle.fd(50)\n",
    "theTurtle.left(90)\n",
    "theTurtle.fd(50)\n",
    "theTurtle.left(90)\n",
    "theTurtle.fd(50)\n",
    "theTurtle.left(90)\n",
    "theTurtle.fd(50)\n",
    "theTurtle.left(90)\n",
    "\n",
    "\n",
    "'''\n",
    "    Pentagon\n",
    "'''\n",
    "theTurtle.goto(0,0)\n",
    "theTurtle.seth(0)\n",
    "theTurtle.fd(50)\n",
    "theTurtle.left(72)\n",
    "theTurtle.fd(50)\n",
    "theTurtle.left(72)\n",
    "theTurtle.fd(50)\n",
    "theTurtle.left(72)\n",
    "theTurtle.fd(50)\n",
    "theTurtle.left(72)\n",
    "theTurtle.fd(50)\n",
    "theTurtle.left(72)\n"
   ]
  },
  {
   "cell_type": "markdown",
   "metadata": {
    "colab_type": "text",
    "id": "uKPMDT-PPtii"
   },
   "source": [
    "## Abstracción en el nivel que pide el programa\n",
    "\n",
    "Aunque aún no se ha visto el concepto de función, en el código puede intuirse. Ahora las instrucciones necesarias para cada figura se han extraido del flujo normal del programa en unas estructuras denominadas funciones (líneas 4, 14, y 26) y se ejecutan (o invocan - como los conjuros -) en las líneas 44, 45 y 46\n",
    "\n",
    "### Haz la prueba\n",
    "\n",
    "Un buen ejercicio de investigación es copiar el programa en local con IDLE y probar a:\n",
    " \n",
    "- añadir en la línea 47 la siguiente instrucción `drawTriangle((50,0),50) y ver que ocurre\n",
    "- modificar la línea 47 parámetro a parámetro dentro del paréntesis e intentar con la prueba y la definición de la función en la línea 4 entender como funciona la función.\n",
    "\n",
    "### Conclusión\n",
    "\n",
    "Al abstraer el programa en tres procesos diferentes, uno para cada tipo de figura, hemos logrado mayor orden y sobre todo la posibilidad de evolución sencilla de nuestro programa en el caso de tener que dibujar dos triángulos tal y como se pedía en **Haz la prueba**.\n",
    "\n",
    "Si nos fijamos nuestro proceso de abstracción ha consistido en crear tres módulos (drawTriangle, drawSquare y drawPentagon) que actúan como cajas negras. Les decimos el origen de nuestro polígono y el tamaño de su lado y lo dibujan. \n",
    "\n",
    "Esto permite incrementar la complejidad de nuestro programa. Imaginad que otra persona ha creado la función drawSquare(origen, lado), si nos pidieran un programa que dibujara una ventana formada por 4 cuadrados idénticos bastaría con invocar **drawSquare** 4 veces con las coordenadas y lado adecuados. Sin importarnos como está construido ese proceso **drawSquare**. En concreto esto es la abstracción, puedo confiar en que el proceso *dibujarCuadrado(origen, lado)* puede construirse, encargarle la construcción a otro o asumir que me dedicaré a ella cuando pueda y yo dedicarme a otros asuntos. \n",
    "\n",
    "Con la abstracción (como con la [descomposición](https://colab.research.google.com/drive/1WpgT3nke7l-L8kuSkh28Rm4dB_GK_wPg#scrollTo=qcsR3PGrAd2q)) también puedo simplificar problemas complejos."
   ]
  },
  {
   "cell_type": "code",
   "execution_count": 0,
   "metadata": {
    "colab": {},
    "colab_type": "code",
    "id": "PFIk_6d4NPH0"
   },
   "outputs": [],
   "source": [
    "import turtle\n",
    "theTurtle = turtle.Turtle()\n",
    "\n",
    "def drawTriangle(origin, size):\n",
    "    theTurtle.goto(origin[0], origin[1])\n",
    "    theTurtle.seth(0)\n",
    "    theTurtle.fd(size)\n",
    "    theTurtle.left(120)\n",
    "    theTurtle.fd(size)\n",
    "    theTurtle.left(120)\n",
    "    theTurtle.fd(size)\n",
    "    theTurtle.left(120)\n",
    "\n",
    "def drawSquare(origin, size):\n",
    "    theTurtle.goto(origin[0], origin[1])\n",
    "    theTurtle.seth(0)\n",
    "    theTurtle.fd(size)\n",
    "    theTurtle.left(90)\n",
    "    theTurtle.fd(size)\n",
    "    theTurtle.left(90)\n",
    "    theTurtle.fd(size)\n",
    "    theTurtle.left(90)\n",
    "    theTurtle.fd(size)\n",
    "    theTurtle.left(90)\n",
    "\n",
    "def drawPentagon(origin, size):\n",
    "    theTurtle.goto(origin[0], origin[1])\n",
    "    theTurtle.seth(0)\n",
    "    theTurtle.fd(size)\n",
    "    theTurtle.left(72)\n",
    "    theTurtle.fd(size)\n",
    "    theTurtle.left(72)\n",
    "    theTurtle.fd(size)\n",
    "    theTurtle.left(72)\n",
    "    theTurtle.fd(size)\n",
    "    theTurtle.left(72)\n",
    "    theTurtle.fd(size)\n",
    "    theTurtle.left(72)\n",
    "\n",
    "‘’’\n",
    "\tAbstracción de los procesos de dibujar Triangulo, cuadrado y pentagono\n",
    "‘’’\n",
    "\n",
    "drawTriangle((0,0), 50)\n",
    "drawSquare((0,0), 50)\n",
    "drawPentagon((0,0), 50)\n"
   ]
  },
  {
   "cell_type": "markdown",
   "metadata": {
    "colab_type": "text",
    "id": "KAtTtCY3UB4f"
   },
   "source": [
    "## Abstracción superior al nivel que pide el programa - Generalización\n",
    "\n",
    "En este caso consideramos que un triangulo, un cuadrado y un pentágono son polígonos con 3, 4 y 5 lados respectivamente y decidimos abstraer el proceso de dibujar un polígono. Apreciamos el hecho de que el giro entre dos lados contiguos de un polígono de n lados es 360º/n y utilizamos la repetición de dibuja + gira 360/n tantas veces como lados tiene nuestro polígono.\n",
    "\n",
    "Crearemos una función que sea drawPoligon y le informaremos, como antes, la posición y el lado del polígono y además el número de lados del polígono. De nuevo nos importa el qué (dibujar un triángulo, cuadrado y pentágono) y no el como. Los procesos de dibujo son ahora cajas negras que llaman a otra caja negra. Puede vislumbrarse así la potencia de la abstracción, el ir atacando cada aspecto del problema de esta manera nos permite crear sistemas muy complejos formados por piezas muy pequeñas que hacen bien su trabajo y que según el nivel en el que estemos programando nos interesará como lo hacen o sólo lo qué hacen."
   ]
  },
  {
   "cell_type": "code",
   "execution_count": 0,
   "metadata": {
    "colab": {},
    "colab_type": "code",
    "id": "xrsZkCLfX3cT"
   },
   "outputs": [],
   "source": [
    "import turtle\n",
    "theTurtle = turtle.Turtle()\n",
    "\n",
    "'''\n",
    "    Polygon\n",
    "'''\n",
    "\n",
    "def drawPolygon(origin, size, sides):\n",
    "    theTurtle.goto(origin[0], origin[1])\n",
    "    theTurtle.seth(0)\n",
    "    angle = 360/sides\n",
    "    for i in range(0, sides):\n",
    "        theTurtle.fd(size)\n",
    "        theTurtle.left(angle)    \n",
    "\n",
    "\n",
    "def drawTriangle(origin, size):\n",
    "    drawPolygon(origin, size, 3)\n",
    "\n",
    "def drawSquare(origin, size):\n",
    "    drawPolygon(origin, size, 4)\n",
    "\n",
    "def drawPentagon(origin, size):\n",
    "    drawPolygon(origin, size, 5)\n",
    "\n",
    "drawTriangle((0,0), 50)\n",
    "drawSquare((0,0), 50)\n",
    "drawPentagon((0,0), 50)\n",
    "\n",
    "‘’’\n",
    "\tAbstraccion que permite dibujar un poligono con n lados\n",
    "   Aquí n = 6\n",
    "‘’’\n",
    "drawPolygon((0,0), 50, 6)"
   ]
  },
  {
   "cell_type": "markdown",
   "metadata": {
    "colab_type": "text",
    "id": "Ogr0bWVRX_gZ"
   },
   "source": [
    "Como se ve el código queda más limpio, se lee más claramente lo que hace cada parte y vemos que los procesos (funciones) _drawTriangle_, _drawSquare_ y _drawPentagon_ ahora invocan a otro proceso que abstrae la creación de polígonos regulares _drawPoligon_. \n",
    "\n",
    "<img src=\"https://docs.google.com/uc?export=download&id=1di8V_xz8o4fvi0hSy4T0GGmsu4gidzST\" width=\"540\">\n",
    "\n",
    "Gráficamente vemos como un programa se va llenando de cajas negras. Esto también nos permite el enfoque divide y vencerás, primero me ocupo del dibujo general y luego ya veré como dibujo cada parte (asumiendo que encontraré una forma de programarlo o una pieza de software que ya lo haga)\n"
   ]
  }
 ],
 "metadata": {
  "colab": {
   "name": "03.0 ¿Cómo resolvemos un problema? Abstraccion.ipynb",
   "provenance": [],
   "version": "0.3.2"
  },
  "kernelspec": {
   "display_name": "Python 3",
   "language": "python",
   "name": "python3"
  },
  "language_info": {
   "codemirror_mode": {
    "name": "ipython",
    "version": 3
   },
   "file_extension": ".py",
   "mimetype": "text/x-python",
   "name": "python",
   "nbconvert_exporter": "python",
   "pygments_lexer": "ipython3",
   "version": "3.7.1"
  }
 },
 "nbformat": 4,
 "nbformat_minor": 1
}
