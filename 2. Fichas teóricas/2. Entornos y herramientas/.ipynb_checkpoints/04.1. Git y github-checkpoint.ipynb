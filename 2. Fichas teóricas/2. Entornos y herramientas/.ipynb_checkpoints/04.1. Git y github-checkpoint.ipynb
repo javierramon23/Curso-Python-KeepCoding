{
 "cells": [
  {
   "cell_type": "markdown",
   "metadata": {
    "colab_type": "text",
    "id": "Fpd6bcLBzeuK"
   },
   "source": [
    "# Git y Github\n",
    "\n",
    "## Principales características\n",
    "\n",
    "Dos características definen a git como sistema de control de versiones:\n",
    "- **Es un sistema distribuido**: es decir, aunque existe un repositorio central que actua como origen y almacén del trabajo, cada persona que trabaja sobre el software tiene una copia completa del mismo (un repositorio completo) en su equipo. Puede modificarlo y trabajar a su gusto, incluso sin conexión a internet. En su momento podrá actualizarlo con el repositorio principal. Si otro miembro del equipo hubiera modificado los mismos ficheros y partes del fichero, git detectará el conflicto y avisará a los miembros del equipo para que lo resuelvan.\n",
    "- **Guarda _instantáneas_ de los archivos y no sólo sus modificaciones**: La mayoría de los sistemas de control de versiones hacen una copia inicial del repositorio y en las siguientes versiones indican como estos archivos van modificándose. Git almacena en la primera versión todos los ficheros, en las siguientes versiones se guardarán los archivos modificados o nuevos (todo el archivo, no sólo las modificaciones) mientras que de los no modificados sólo mantiene un enlace a la versión original.\n",
    "\n",
    "<img src=\"https://docs.google.com/uc?export=download&id=1k-Y9lJhRM_gEsaVX0jEVUxWSusfEIHfF\" height=\"300\">\n",
    "\n",
    ">**fig. 1.** Control de versiones guardando las modificaciones. \n",
    "\n",
    "<img src=\"https://docs.google.com/uc?export=download&id=1pUa71MNTTMFpuSmVW94gSewIsLt__VmM\" height=\"300\">\n",
    "\n",
    ">**fig. 2.** Control de versiones guardando instantáneas de cada fichero. \n",
    "\n",
    "Así para funcionar con git, necesitamos dos cosas. Una instalar _git_, el software de control de versiones en nuestro equipo y otra disponer de un repositorio central tal como [github](https://github.com/)."
   ]
  },
  {
   "cell_type": "markdown",
   "metadata": {
    "colab_type": "text",
    "id": "jYWMXoSm8hxR"
   },
   "source": [
    "## Áreas de trabajo\n",
    "\n",
    "Una vez tenemos un repositorio git en local (en nuestro ordenador) los ficheros (archivos) sobre los que estamos trabajando podrán estar en diferentes zonas de trabajo. O dicho de otro modo, git define tres espacios de trabajo o modos de considerar el estado de un fichero.\n",
    "- **Working area**: Los ficheros de nuestro proyecto en nuestro ordenador.\n",
    "- **Staging area**: Ficheros preparados para ser incluidos en el repositorio\n",
    "- **Repository**: Ficheros incluidos en el repositorio local\n",
    "\n",
    "Según la página de git:\n",
    "\n",
    "\n",
    "\n",
    "> El directorio de Git es donde Git almacena los metadatos y la base de datos de objetos para tu proyecto. Es la parte más importante de Git, y es lo que se copia cuando clonas un repositorio desde otro ordenador.\n",
    "\n",
    "> El directorio de trabajo es una copia de una versión del proyecto. Estos archivos se sacan de la base de datos comprimida en el directorio de Git, y se colocan en disco para que los puedas usar o modificar.\n",
    "\n",
    "> El área de preparación es un sencillo archivo, generalmente contenido en tu directorio de Git, que almacena información acerca de lo que va a ir en tu próxima confirmación. A veces se le denomina índice, pero se está convirtiendo en estándar el referirse a ella como el área de preparación.\n",
    "\n",
    "> El flujo de trabajo básico en Git es algo así:\n",
    "\n",
    "> - Modificas una serie de archivos en tu directorio de trabajo\n",
    "> - Preparas los archivos, añadiendolos a tu área de preparación.\n",
    "> - Confirmas los cambios, lo que toma los archivos tal y como están en el área de preparación, y almacena esas instantáneas de manera permanente en tu directorio de Git.\n",
    "\n",
    "\n",
    ">> <img src=\"https://docs.google.com/uc?export=download&id=162II3IfGYU90csBSy_rRRwgsjkdTArAv\" height=\"400\">\n",
    ">>**fig. 3.** Áreas de trabajo. \n",
    "---\n",
    "\n",
    "\n",
    "\n",
    "\n",
    "\n"
   ]
  }
 ],
 "metadata": {
  "colab": {
   "collapsed_sections": [],
   "name": "04.1. Git y github.ipynb",
   "provenance": [],
   "version": "0.3.2"
  },
  "kernelspec": {
   "display_name": "Python 3",
   "language": "python",
   "name": "python3"
  },
  "language_info": {
   "codemirror_mode": {
    "name": "ipython",
    "version": 3
   },
   "file_extension": ".py",
   "mimetype": "text/x-python",
   "name": "python",
   "nbconvert_exporter": "python",
   "pygments_lexer": "ipython3",
   "version": "3.7.1"
  }
 },
 "nbformat": 4,
 "nbformat_minor": 1
}
