{
 "cells": [
  {
   "cell_type": "markdown",
   "metadata": {
    "colab_type": "text",
    "id": "8K9LN3TD8Ba1"
   },
   "source": [
    "# El sistema de archivos\n",
    "\n",
    "Ya hemos visto que un ordenador dispone de [memoria](https://colab.research.google.com/drive/1_ob96dheQuqkm6uuSWibOQOlhjznXrOk#scrollTo=InpmaGnc8V5B&line=27&uniqifier=1) para almacenar los programas y datos necesarios para operar y de dispositivos de [almacenamiento permanente](https://colab.research.google.com/drive/1_ob96dheQuqkm6uuSWibOQOlhjznXrOk#scrollTo=G0JamwVw_c98&line=7&uniqifier=1).\n",
    "\n",
    "El acceso a la memoria es cosa de nuestro programa, el compilador y el procesador, pero el acceso a las unidades de almacenamiento puede ser hecho tanto por un programa como por un usuario y además utiliza bloques de información mucho mayores que los datos primarios que maneja un programa, tales como el propio programa, imágenes, videos, textos,...\n",
    "\n",
    "Para facilitar el acceso a esos paquetes de información se ha creado el **sistema de archivos**.\n",
    "\n",
    "## Estructura\n",
    "\n",
    "El sistema de archivos contiene básicamente de 2 tipos de estructuras, a saber:\n",
    "\n",
    "- **Archivos de datos o documentos**: Los paquetes de información de los que hablamos más arriba (fotos, videos, textos, programas, hojas de cálculo,...)\n",
    "- **Carpetas o directorios**: Contenedores de documentos o de otras carpetas\n",
    "\n",
    "Con sólo estas dos estructuras podemos organizar (con cuidado y tiempo) toda la información almacenada en una estructura de árbol.\n",
    "\n"
   ]
  },
  {
   "cell_type": "markdown",
   "metadata": {
    "colab_type": "text",
    "id": "LB_FK6ieFVls"
   },
   "source": [
    "## Ejemplo\n",
    "\n",
    "Veamos un ejemplo básico, una únidad USB en la que llevo información para trabajar un fin de semana:\n",
    "\n",
    "```\n",
    "MI_USB\n",
    "    · reserva.pdf\n",
    "    📁 trabajo\n",
    "             · casos.xlsx\n",
    "             · informe.doc\n",
    "    📁 ocio\n",
    "        📁 peliculas\n",
    "                  · wind river.mp4\n",
    "                  · vengadores3.mp4\n",
    "        📁 música\n",
    "            📁 sabina\n",
    "                📁 9 días y 500 noches\n",
    "                   · pista01.mp3\n",
    "                   ...\n",
    "```\n",
    "\n",
    "La unidad se llama MI_USB, esto se utiliza por si el ordenador está conectado a más de una unidad y poder distinguirlas.\n",
    "Ella misma actúa como una carpeta a la que se llama **carpeta ráiz**, podemos ver que esa carpeta contiene 1 documento y 2 carpetas, `reserva.pdf`, `trabajo` y `ocio` respectivamente.\n",
    "\n",
    "A su vez las carpetas `trabajo` y `ocio` tienen más carpetas y/o documentos dentro"
   ]
  },
  {
   "cell_type": "markdown",
   "metadata": {
    "colab_type": "text",
    "id": "LtJpFujSHULd"
   },
   "source": [
    "## Enrutamiento\n",
    "\n",
    "Para acceder a un documento o carpeta determinado hemos de tener en cuenta dos aspectos:\n",
    "- Desde donde estoy mirando en la unidad\n",
    "- Adonde quiero llegar.\n",
    "\n",
    "Entendamos esto, cuando tanto desde la consola de comandos, como desde mi programa intento acceder a un documento específico, debo conocer desde que punto de la unidad he ejecutado la consola o el programa.\n",
    "\n",
    "Imaginemos que estoy ejecutando la hoja `casos.xlsx` desde la carpeta trabajo y que quiero acceder a la pista de música `pista01.mp3` para incluirla en ella ¿cómo lo hago?\n",
    "\n",
    "Hay dos formas:\n",
    "- **Ruta absoluta**: Se especifica toda la ruta del fichero empezando por la unidad. Quedaría algo así\n",
    "\n",
    "    MI_USB → ocio → música → sabina → 9 días y 500 noches → pista01.mp3\n",
    "\n",
    "- **Ruta relativa**: Se especifica la ruta desde la posición actual indicando si se debe subir en la estructura o bajar. Algo así:\n",
    "\n",
    "    ← ocio → música → sabina → 9 días y 500 noches → pista.mp3\n",
    "\n",
    "En este caso se le indica que suba un nivel (llega a la carpeta ráiz) y desde ahí baja hasta `pista01.mp3`\n",
    "\n",
    "**¿Cómo hacemos esto en lugar de con flechas?**\n",
    "\n",
    "Accedemos a un directorio o documento por su nombre y separamos las carpetas entre si por el carácter `/` en linux y mac o `\\` en windows. En linux y mac la carpeta raíz se indica con el símbolo `/` como primer carácter. Sabiendo esto la ruta absoluta es fácil:\n",
    "```\n",
    "/ocio/música/sabina/9 días y 500 noches/pista01.mp3\n",
    "```\n",
    "\n",
    "En windows la carpeta raiz se indica poniendo la unidad (windows asigna a las unidades externas letras consecutivas a partir de la `C` asignada a su propio disco duro), dos puntos y luego la barra invertida `\\` de windows.\n",
    "\n",
    "```\n",
    "E:\\ocio\\música\\sabina\\9 días y 500 noches\\pista01.mp3\n",
    "```\n",
    "\n",
    "\n",
    "Ahora bien ¿cómo se indica subir de nivel?. Se hace con el siguiente símbolo `../` mientras que el directorio o carpeta en la que me encuentro se escribe `./`. Así nuestra ruta relativa quedaría:\n",
    "```\n",
    "../ocio/música/sabina/9 días y 500 noches/pista01.mp3\n",
    "```\n",
    "o para windows\n",
    "\n",
    "```\n",
    "..\\ocio\\música\\sabina\\9 días y 500 noches\\pista01.mp3\n",
    "```\n",
    "\n",
    "En resumen (cambiar `/` por `\\` para windows):\n",
    " - `/   ` separa un directorio de otro o de un documento\n",
    " - `/   ` si se usa en primera posición indica carpeta raíz\n",
    " - `./  ` utilizado en primera posición indica carpeta en la que me encuentro\n",
    " - `./`solo puede utilizarse en primera posición\n",
    " - `../ ` indica subir un nivel\n",
    " - `../` se pueden encadenar para subir más de un nivel\n",
    " \n",
    " De esta manera y con los nombres de archivo o carpeta se puede acceder a cualquier punto de la unidad desde cualquier punto de la unidad\n",
    " \n",
    " \n",
    "  \n",
    "\n"
   ]
  },
  {
   "cell_type": "markdown",
   "metadata": {
    "colab_type": "text",
    "id": "pVGrnh3EO4yL"
   },
   "source": [
    "## Enrutamiento en windows.\n",
    "\n",
    "Es exactamente igual pero debe cambiarse el carácter `/` por el carácter `\\`."
   ]
  },
  {
   "cell_type": "markdown",
   "metadata": {
    "colab_type": "text",
    "id": "gyoonve9ziHG"
   },
   "source": [
    "## Nombre de archivos\n",
    "\n",
    "Los archivos se identifican por un nombre que debe ser único en su carpeta (lo que es único es el nombre completo - ruta absoluta + nombre).\n",
    "\n",
    "La longitud máxima del nombre dependerá del sistema operativo. \n",
    "- **W10**: 260 carácteres incluyendo la ruta absoluta, pero puede ampliarse en caso necesario\n",
    "- **macOS**: 255 caracteres también incluyendo la ruta absoluta\n",
    "- **linux**: 255 incluyendo la ruta absoluta\n",
    "\n"
   ]
  }
 ],
 "metadata": {
  "colab": {
   "name": "02.0 El sistema de archivos.ipynb",
   "provenance": [],
   "version": "0.3.2"
  },
  "kernelspec": {
   "display_name": "Python 3",
   "language": "python",
   "name": "python3"
  },
  "language_info": {
   "codemirror_mode": {
    "name": "ipython",
    "version": 3
   },
   "file_extension": ".py",
   "mimetype": "text/x-python",
   "name": "python",
   "nbconvert_exporter": "python",
   "pygments_lexer": "ipython3",
   "version": "3.7.1"
  }
 },
 "nbformat": 4,
 "nbformat_minor": 1
}
