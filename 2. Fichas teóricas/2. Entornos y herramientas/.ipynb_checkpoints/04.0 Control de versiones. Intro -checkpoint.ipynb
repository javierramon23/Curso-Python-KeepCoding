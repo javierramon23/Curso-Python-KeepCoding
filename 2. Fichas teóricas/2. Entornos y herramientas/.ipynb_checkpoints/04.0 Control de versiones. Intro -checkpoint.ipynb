{
 "cells": [
  {
   "cell_type": "markdown",
   "metadata": {
    "colab_type": "text",
    "id": "lttfHe4KhOfU"
   },
   "source": [
    "# Control de versiones\n",
    "\n",
    "## Que es\n",
    "\n",
    "El sistema de control de versiones es un sistema que registra los cambiso realizados sobre un fichero o conjunto de ficheros (archivos) a lo largo del tiempo. Así  pueden recuperarse versiones específicas en un momento determinado.\n",
    "\n",
    "## Necesidad\n",
    "\n",
    "La siguiente imagen ilustra la necesidad de un sistema de control de versiones. El software es un producto vivo sujeto a muchos y continuados cambios y, a veces, esos cambios no tienen el efecto deseado y deben revertirse. Antes de los sistemas de control de versiones la forma en que esto se conseguía era teniendo muchas copias del software en diferentes estados.\n",
    "\n",
    "<img src=\"https://docs.google.com/uc?export=download&id=1fQurNgr0Mz3NMkEtWrxxx2FPI3QgNu3Q\" height=\"400\">\n",
    "\n",
    "Una buena introducción a como funcionan los sistemas de control de versiones figura [aquí](https://medium.com/@jointdeveloper/sistemas-de-control-de-versiones-qu%C3%A9-son-y-por-qu%C3%A9-amarlos-24b6957e716e).\n",
    "\n",
    "Nosotros usaremos el sistema distribuido [git y github](https://)  para el control de versiones."
   ]
  }
 ],
 "metadata": {
  "colab": {
   "name": "04.0 Control de versiones. Intro .ipynb",
   "provenance": [],
   "version": "0.3.2"
  },
  "kernelspec": {
   "display_name": "Python 3",
   "language": "python",
   "name": "python3"
  },
  "language_info": {
   "codemirror_mode": {
    "name": "ipython",
    "version": 3
   },
   "file_extension": ".py",
   "mimetype": "text/x-python",
   "name": "python",
   "nbconvert_exporter": "python",
   "pygments_lexer": "ipython3",
   "version": "3.7.1"
  }
 },
 "nbformat": 4,
 "nbformat_minor": 1
}
