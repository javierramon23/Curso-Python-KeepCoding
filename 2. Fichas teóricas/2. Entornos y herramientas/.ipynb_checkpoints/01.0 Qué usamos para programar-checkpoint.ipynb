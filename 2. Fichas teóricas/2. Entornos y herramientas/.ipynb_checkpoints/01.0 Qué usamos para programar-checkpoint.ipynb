{
 "cells": [
  {
   "cell_type": "markdown",
   "metadata": {
    "colab_type": "text",
    "id": "tmzGP-JmCSCn"
   },
   "source": [
    "# Qué usamos para programar\n",
    "\n",
    "Se necesitan varios ingredientes para contruir un programa y hacerlo funcionar. Los dos más evidentes son:\n",
    "\n",
    "* Un ordenador\n",
    "* Un editor de texto\n",
    "\n",
    "El ordenador ejecutará el programa y con el editor de texto crearemos un fichero de texto escrito en el lenguaje de nuestra elección (compatible con el ordenador de que disponemos) que será ejecutado por el ordenador. A este fichero le denominamos **código fuente**.\n",
    "\n",
    "## ¿Cómo sabe el ordenador lo que tiene que hacer?\n",
    "\n",
    "El ordenador no entiende directamente las instrucciones codificadas en nuestro lenguaje de programación en el fichero de texto. Este lenguaje es lo que se llama un lenguaje de alto nivel, creado para facilitar la tarea de programar a las personas y, aunque muy antinatural y restringido en su expresion, muy similar al lenguaje hablado. El ordenador sólo entiende las instrucciones en **código máquina** un lenguaje de programación escrito en ceros y unos, por tanto necesitaremos de un programa o una batería de programas que sean capaces de traducir el lenguaje de programación que hayamos elegido a código máquina ejecutable por nuestro ordenador.\n",
    "\n",
    "Estos programas son los llamados **interpretes** o **compiladores** que en última instancia transforman nuestro código fuente en código máquina. La diferencia de nombre alude al modo en como se hace esa transformación pero en este momento eso no es relevante, así que es otra historia que será contada en otra ocasión.\n",
    "\n",
    "En definitiva esto hace que aparte del ordenador y el editor de texto, necesitemos un software específico para traducir nuestro programa a código máquina. Nosotros hemos elegido python y procedemos a [descargarlo desde su web](https://) (https://www.python.org/)\n"
   ]
  },
  {
   "cell_type": "markdown",
   "metadata": {
    "colab_type": "text",
    "id": "RJspgvbMDdpP"
   },
   "source": [
    "## ¿Cómo y cuando ejecutamos el programa?\n",
    "\n",
    "Como usuarios normales de software, sea en nuestro ordenador o en nuestro dispositivo móvil, estamos acostumbrados a ejecutar los programas desde la interfaz grafica que nuestro dispositivo nos presenta y sólo tenemos que hacer doble clic o tap en el icono de nuestra aplicacion. Esto equivale a manejar un coche desde el habitáculo del conductor con su panel de mandos, pero si queremos aprender mecánica debemos levantar el capó del coche. Si queremos aprender a programar debemos levantar el capó de la interfaz gráfica y ejecutar los programas con la consola de texto.\n",
    "\n",
    "Esto nos permite un mayor control en la interacción con el sistema operativo que, en última instancia, es quien controla la ejecución de todos los programas del ordenador.\n",
    "\n"
   ]
  },
  {
   "cell_type": "markdown",
   "metadata": {
    "colab_type": "text",
    "id": "XTgAfh3YDrgR"
   },
   "source": [
    "## Inventario\n",
    "\n",
    "En definitiva para programar un ordenador necesitamos\n",
    "\n",
    "*\tUn ordenador\n",
    "*\tUn editor de texto\n",
    "*\tUn compilador/interprete del lenguaje de programación elegido\n",
    "*\tAcceso a la consola para testear, ejecutar nuestro programa\n",
    "\n",
    "Es deseable además que se tenga una cierta noción de arquitectura de ordenadores de modo que se entienda bien la estructura de ficheros del ordenador así como el acceso a distintos periféricos (teclados, pantallas, impresoras, altavoces, discos externos,…)"
   ]
  }
 ],
 "metadata": {
  "colab": {
   "name": "01 Qué usamos para programar.ipynb",
   "provenance": [],
   "version": "0.3.2"
  },
  "kernelspec": {
   "display_name": "Python 3",
   "language": "python",
   "name": "python3"
  },
  "language_info": {
   "codemirror_mode": {
    "name": "ipython",
    "version": 3
   },
   "file_extension": ".py",
   "mimetype": "text/x-python",
   "name": "python",
   "nbconvert_exporter": "python",
   "pygments_lexer": "ipython3",
   "version": "3.7.1"
  }
 },
 "nbformat": 4,
 "nbformat_minor": 1
}
