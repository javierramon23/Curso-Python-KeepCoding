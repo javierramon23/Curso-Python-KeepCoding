{
 "cells": [
  {
   "cell_type": "markdown",
   "metadata": {
    "colab_type": "text",
    "id": "aZL50orPEghP"
   },
   "source": [
    "# Como funciona un ordenador\n",
    "\n",
    "Un ordenador no es más que una calculadora multipropósito, o dicho de otra manera una calculadora con esteroides. En el fondo un ordenador sólo realiza cálculos a gran velocidad. Entonces ¿como se explica que pueda hacer cosas con textos, imágenes, audios, manejar motores, conducir coches,...?\n",
    "\n",
    "El asunto es que un ordenador transforma todos esos datos en números con los que si puede realizar operaciones matemáticas y lógicas, y esos datos numéricos debidamente interpretados por los dispositivos de salida vuelven a transformarse en textos, imágenes, sonidos,...\n",
    "\n",
    "Para entender mínimamente como funciona un ordenador y facilitar en cierta medida la comprensión de lo que ocurre con nuestros programas podemos imaginarnos un ordenador como una caja negra con estos componentes\n",
    "\n",
    "- Procesador (CPU)\n",
    "- Memoria\n",
    "- Dispositivos de entrada\n",
    "- Dispositivos de salida\n",
    "\n",
    "<img src=\"https://docs.google.com/uc?export=download&id=1DnpPu39twlTDKkwa7UYZaxC_YqlNLOw2\" height=\"300\">\n",
    "\n",
    "\n",
    "El procesador accede a la memoria de donde toma el programa y en cada ciclo del reloj ejecuta una instrucción del mismo en secuencia (a no ser que la instrucción en sí sea un salto de secuencia).\n",
    "\n",
    "El procesador dispone de un conjunto finito de instrucciones que pueden clasificarse en los siguientes tipos:\n",
    "\n",
    "- **Aritméticas**. Sumas, restas, multiplicaciones y desde hace algún tiempo incorpora un coprocesador matemático capaz de trabajar con número reales y con operaciones mucho más complejas.\n",
    "- **Lógicas**. Incluídas las comparaciones, muy importantes para cualquier tipo de programa.\n",
    "- **Control de flujo**. Permiten saltar a otra parte a veces se combinan con las anteriores para permitir el salto en caso de ser necesario.\n",
    "- **Transferencia de datos**. Lectura y escritura de datos y movimiento de datos entre los registros del procesador.\n",
    "\n",
    "De este modo un programa escrito en python u otro lenguaje de alto nivel ha de pasar por un proceso de compilación o interpretación que transforma las instrucciones del lenguaje de alto nivel en una secuencia de instrucciones de entre las del conjunto del procesador.\n",
    "\n",
    "Un ejemplo de instrucciones que acepta un procesador es\n",
    "\n",
    "```\n",
    "LD A,3 → 3E 03 → 00111110 00000011\n",
    "```\n",
    "\n",
    "Que significa algo así como carga en el registro A del procesador (un hueco para almacenar datos), el valor 3. Y esta instrucción aún está escrita para humanos, realmente el procesador entiende las dos ristras de ocho ceros y unos **00111110** y **00000011**\n",
    "\n",
    "Cuando en un pulso del reloj, el procesador lee `00111110` sabe que en su registro A debe cargar el valor de la siguiente instrucción, en un segundo pulso del reloj moverá el valor `00000011` a su registro A. En siguientes instrucciones hará algo con A, por ejemplo sumarle lo que haya en B, o mover ese valor a la memoria de la pantalla,...\n",
    "\n",
    "Así una instrucción tan sencilla como `imprime 'Hola, mundo!'`  se transformará en un conjunto de instrucciones del procesador posible tales como \n",
    "```\n",
    "Carga en el registro A la dirección de memoria donde está 'Hola, mundo!'\n",
    "Carga en el registro B la dirección de memoria de la pantalla\n",
    "ini_bucle\n",
    "Carga el contenido de la celda de memoria A en la celda de memoria B\n",
    "Suma 1 a A\n",
    "Suma 1 a B\n",
    "Si el contenido de A <> 0 vuelve ini_bucle\n",
    "Carga el contenido de la celda de memoria A en la celda de memoria B\n",
    "\n",
    "```\n",
    "\n",
    "Si tuviéramos una situación como la de la figura \n",
    "\n",
    "<img src=\"https://docs.google.com/uc?export=download&id=14YV-ogY4beb_MpFtyCpwqEIcnqMP8yl2\" height=\"400\">\n",
    "\n",
    "Lo que haría el programita del procesador sería\n",
    "\n",
    "```\n",
    "Carga en registro A el valor 11 (celda de memoria donde está la H)\n",
    "Carga en registro B el valor 60 (dirección de memoria de la pantalla, en naranja)\n",
    "Carga 'H' en la celda 60\n",
    "Pon A a 12\n",
    "Pon B a 61\n",
    "Es el contenido de la celda 12 <> 0 → Si, entonces vuelve a ini_bucle\n",
    "Carga 'o' en la celda 61\n",
    "Pon A a 13\n",
    "Pon B a 62\n",
    "...\n",
    "Pon A a 22\n",
    "Pon B a 71\n",
    "Es el contenido de la celda 22 <> 0 → Si, entonces vuelve a ini_bucle\n",
    "Carga '!' en la celda 71\n",
    "Pon A a 23\n",
    "Pon B a 72\n",
    "Es el contenido de la celda 23 <> 0 → No, continua ejecución\n",
    "Carga '\\0' en la celda 72\n",
    "FIN PROGRAMA\n",
    "```\n",
    "\n",
    "Como vemos una instrucción sencilla del lenguaje de alto nivel python se ha convertido en muchas instrucciones sencillas del compilador, cada una de las cuales realmente es un valor binario.\n",
    "\n"
   ]
  },
  {
   "cell_type": "markdown",
   "metadata": {
    "colab_type": "text",
    "id": "MzHCHPqAlFj-"
   },
   "source": [
    "### La memoria\n",
    "\n",
    "Sin entrar en [detalle](https://colab.research.google.com/drive/1_ob96dheQuqkm6uuSWibOQOlhjznXrOk#scrollTo=InpmaGnc8V5B&line=3&uniqifier=1), según la figura de arriba, podemos asumir que la memoria de un ordenador es un casillero numerado en el que podemos poner en cada casilla un dato de los [tipos primitivos](https://colab.research.google.com/drive/19zQfzOwWOsflSLS7h-MA8mbE9vszQA3T#scrollTo=XFNy_aaPldJ3), esto es un carácter, un número o un booleano."
   ]
  },
  {
   "cell_type": "markdown",
   "metadata": {
    "colab_type": "text",
    "id": "MDswGMBPiYZm"
   },
   "source": [
    "## Conclusión\n",
    "\n",
    "Al final un ordenador lo que hace realmente es mover y modificar datos numéricos de unas direcciones de memoria a otras, necesita por tanto \n",
    "\n",
    "- un **limitado juego de instrucciones** con el que al transcurrir el tiempo hemos creado instrucciones más complejas en forma de lenguajes de alto nivel\n",
    "- memoria donde colocar, mover y modificar (procesar) datos\n",
    "- Dispositivos de entrada y salida que le permitan introducir nuevos datos y devolver resultados"
   ]
  },
  {
   "cell_type": "markdown",
   "metadata": {
    "colab_type": "text",
    "id": "_M3N1gS4ssmd"
   },
   "source": [
    "## Simulación sencilla de procesador\n",
    "\n",
    "Si nos vamos al siguiente proyecto de [scratch](https://scratch.mit.edu/projects/255833731/) podemos controlar la luminosidad de una bombilla (dispositivo de salida) con procesador específico para ello.\n",
    "\n",
    "Con sólo 8 instrucciones y sin ningún tipo de registro se pueden generar patrones de luminosidad variable para una bombilla.\n",
    "\n",
    "Las instrucciones son\n",
    "```\n",
    "000 - STOP. Para el programa\n",
    "001 - BULB_ON: Enciende la bombilla (100%)\n",
    "010 - BULB_OFF: Apaga la bombilla (0%)\n",
    "011 - BRIGTH10: Incrementa el brillo de la bombilla en 10%\n",
    "100 - DIM10: Decrementa el brillo de la bombilla en 10%\n",
    "101 - SKIP_ON: Si la bombilla está al 100% se salta la siguiente instrucción\n",
    "110 - SKIP_OFF: Si la bombilla está al 0% se salta la siguiente instrucción\n",
    "111 - GOTO_INI: Empieza el programa desde el principio otra vez.\n",
    "```\n",
    "\n",
    "El programa precargado es\n",
    "```\n",
    "DIM10\n",
    "SKIP_OFF\n",
    "GOTO_INI\n",
    "BULB_ON\n",
    "GOTO_INI\n",
    "```\n",
    "\n",
    "Se consigue así un ciclo de fade off de la bombilla, y cuando se apaga se enciende y vuelve a empezar.\n",
    "\n",
    "Un buen ejercicio sería invertir el proceso, fade on, ir encendiendo la bombilla y cuando esté al 100% volver a apagar para volver a encender\n",
    "\n",
    "O bien hacer un patrón de encendido apagado infinito\n",
    "\n"
   ]
  }
 ],
 "metadata": {
  "colab": {
   "name": "01.1 Cómo funciona un ordenador.ipynb",
   "provenance": [],
   "version": "0.3.2"
  },
  "kernelspec": {
   "display_name": "Python 3",
   "language": "python",
   "name": "python3"
  },
  "language_info": {
   "codemirror_mode": {
    "name": "ipython",
    "version": 3
   },
   "file_extension": ".py",
   "mimetype": "text/x-python",
   "name": "python",
   "nbconvert_exporter": "python",
   "pygments_lexer": "ipython3",
   "version": "3.7.1"
  }
 },
 "nbformat": 4,
 "nbformat_minor": 1
}
