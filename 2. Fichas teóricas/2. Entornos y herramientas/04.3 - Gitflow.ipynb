{
 "cells": [
  {
   "cell_type": "markdown",
   "metadata": {
    "colab_type": "text",
    "id": "hL2fMh0dMz2-"
   },
   "source": [
    "# Git flow\n",
    "\n",
    "Git flow es un modelo de desarrollo utilizando las ramas de git basado en el [siguiente artículo](https://nvie.com/posts/a-successful-git-branching-model/) y que se ha convertido en un estandar de facto para el desarrollo de aplicaciones.\n",
    "\n",
    "Para entenderlo bien debemos conocer las ramas de git.\n",
    "\n"
   ]
  },
  {
   "cell_type": "markdown",
   "metadata": {
    "colab_type": "text",
    "id": "JQtQnAr9P6lo"
   },
   "source": [
    "## Ramas\n",
    "\n",
    "Una rama representa una línea independiente de desarrollo. Cada rama, una vez creada tendrá su historial de commits. Al crear un repositorio siempre se crea una única rama denominada por convenio **master**. Podemos crear ramas a partir de ella y luego fusionarlas de nuevo. Esto permite trabajar a diferentes usuarios en el mismo proyecto. Cada uno se crearía su propia rama de trabajo. Y cuando finalizara la fusionaría con master. Como ya sabemos si se producen conflictos en el commit, git nos los indica y permite resolverlos.\n",
    "\n",
    "### Listar ramas.\n",
    "```\n",
    "git branch\n",
    "```\n",
    "Nos muestra una lista de las ramas y marca con `*` en la que estamos posicionados\n",
    "\n",
    "### Crear rama nueva\n",
    "```\n",
    "git branch <nombre_de_rama>\n",
    "```\n",
    "Crea una nueva rama con el nombre <nombre_de_rama>. Sin embargo no nos posiciona en ella. Seguimos en la que estuviéramos\n",
    "\n",
    "### Cambiar de rama (movernos entre ellas)\n",
    "```\n",
    "git checkout <nombre_de_rama>\n",
    "```\n",
    "Nos posiciona en la rama <nombre_de_rama>. Si listamos veremos que el asterisco aparece ahora en <nombre_de_rama>\n",
    "\n",
    "### Borrado de rama\n",
    "```\n",
    "git branch -d <nombre_de_rama>\n",
    "```\n",
    "\n",
    "Borra una rama.\n",
    "\n",
    "### Fusión de ramas\n",
    "\n",
    "Lo habitual es que de una rama común (master o develop en gitflow) creemos nuevas ramas para construir o modificar funcionalidades de nuestra aplicación. Una vez terminada y probada la nueva funcionalidad debemos fusionar la nueva rama con la de origen (master o develop). Eso se hace\n",
    "```\n",
    "git checkout <rama_principal>\n",
    "git merge <rama_derivada>\n",
    "```\n",
    "Primero nos situamos en la rama principal a la que queremos fusionar la rama derivada y luego ejecutamos el merge. Si hay conflictos se reflejaran en ficheros que quedarán en el área de trabajo para revisar manualmente. Se ve con un git status"
   ]
  },
  {
   "cell_type": "markdown",
   "metadata": {
    "colab_type": "text",
    "id": "DOAnZkAbVzZU"
   },
   "source": [
    "## Volviendo a gitflow\n",
    "\n",
    "Con este modelo se consigue tener una rama principal (master) en la que figura la versión de producción (la que todo el mundo ejecuta) de nuestro producto. Además existe otra rama para trabajar en el desarrollo de la aplicación (develop). Existen más ramas, a saber, feature, release y hotfix que servirán para el mantenimiento de la aplicación. En detalle\n",
    "\n",
    "- **master**: rama principal, contiene la última versión de nuestro proyecto. La que está en producción (en la calle, funcionando).\n",
    "- **develop**: rama que contiene la versión de desarrollo (en la que estamos trabajando). Normalmente suele ser diferente a la master, ya que suele ir más avanzada y suele contener errores (en tanto se acaba una fase de desarrollo para hacer una nueva versión en producción).\n",
    "- **feature**: son ramas que se usarán para desarrollar nuevas funcionalidades (normalmente atómicas). Se crearán desde la rama **develop** y se fusionarán con ella una vez se acabe su desarrollo.\n",
    "- **release**: ramas específicas para la creación de una nueva versión de producción. Sirven para los últimos retoques (normalmente cambios de configuración y pequeños detalles) que permitan pasar la versión de desarrollo a producción. Parten de la rama **develop** y se fusionan con **develop** y **master**\n",
    "- **hotfix**: rama de resolución de problemas en la versión de producción. Parten de **master** y se fusionan con **master** y **develop**\n",
    "\n",
    "Para no tener que hacer esto manualmente existen extensiones de git que lo hacen. Pero la manera más cómoda de hacerlo es utilizando [SourceTree](https://www.sourcetreeapp.com/). [Ver aquí](https://)"
   ]
  },
  {
   "cell_type": "code",
   "execution_count": 0,
   "metadata": {
    "colab": {},
    "colab_type": "code",
    "id": "xH8Kx-vKMw_X"
   },
   "outputs": [],
   "source": []
  }
 ],
 "metadata": {
  "colab": {
   "name": "4.03 - Gitflow.ipynb",
   "provenance": [],
   "version": "0.3.2"
  },
  "kernelspec": {
   "display_name": "Python 3",
   "language": "python",
   "name": "python3"
  },
  "language_info": {
   "codemirror_mode": {
    "name": "ipython",
    "version": 3
   },
   "file_extension": ".py",
   "mimetype": "text/x-python",
   "name": "python",
   "nbconvert_exporter": "python",
   "pygments_lexer": "ipython3",
   "version": "3.7.1"
  }
 },
 "nbformat": 4,
 "nbformat_minor": 1
}
