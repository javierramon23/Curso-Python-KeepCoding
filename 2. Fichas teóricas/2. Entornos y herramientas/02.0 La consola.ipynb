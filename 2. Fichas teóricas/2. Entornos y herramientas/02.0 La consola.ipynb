{
 "cells": [
  {
   "cell_type": "markdown",
   "metadata": {
    "colab_type": "text",
    "id": "dlTKczy0D_9k"
   },
   "source": [
    "# La consola\n",
    "\n",
    "Antes de que existieran las interfaces gráficas tipo windows y macOS la forma de interactuar con un ordenador era por medio de comandos de texto. El ordenador al encenderse presentaba una pantalla monocolor con un cursor parpadeando esperando recibir una orden escrita. Estas órdenes escritas se llaman comandos y esa pantalla monocolor se ha mantenido en los SO actuales y se denomina consola. A través de ella podemos hacer lo mismo que con el gestor de archivos de nuestra interfaz grafica y será con ella con la que ejecutemos y probemos nuestros primeros programas en python.\n",
    "\n",
    "\n",
    "<img src=\"https://docs.google.com/uc?export=download&id=1sfZ8mh3V7Kf4jGxaU3kUjie0Zx_7-fhx\" height=\"400\">\n",
    "\n",
    "La manera de comunicarse con el ordenador a través de la consola es escribiendo comandos con el teclado. Una vez se ha terminado de escribir el comando se pulsa la tecla *Enter* y entonces se ejecuta. \n",
    "\n",
    "Un comando es una palabra reservada que invoca un programa o utilidad del sistema operativo y realiza una tarea concreta, habitualmente muestra el resultado por la pantalla, pero podría ser que estuviéramos invocando un comando que actuara sobre otro [dispositivo de salida](https://colab.research.google.com/drive/1BDNigE3q4w-SQ9HDVgogE64WSszjoKJO#scrollTo=aZL50orPEghP).\n",
    "\n",
    "Un comando puede incluir además una serie de parámetros (otras palabras o números) que actúan como datos de entradas para la utilidad invocada y afectan a su actuación.\n",
    "\n",
    "Vamos a ver primero como acceder a la consola y luego los comandos básicos para empezar a programar en python\n",
    "\n"
   ]
  },
  {
   "cell_type": "markdown",
   "metadata": {
    "colab_type": "text",
    "id": "YAu2wgM9gbHt"
   },
   "source": [
    "## Comandos necesarios para empezar a trabajar con python\n",
    "\n",
    "Empezaremos a trabajar con python creando scripts y ejecutándolos directamente desde la consola. Así que necesitaremos dos cosas:\n",
    "- Saber como acceder a ella\n",
    "- Los principales comandos para empezar a utilizarla.\n",
    "\n",
    "### Acceso a la consola\n",
    "\n",
    "- **Windows**. En la zona de búsqueda localizar la aplicacion **`cmd`**  y ejecutarla\n",
    "- **Mac**. De igual forma, localizar la aplicación **`Terminal`** bien con spotlight, en la carpeta de aplicaciones o con el launchpad\n",
    "- **Linux**. Hay muchas versiones de Ubuntu por lo que es difícil dar con un método único. Lo más sencillo es buscar la aplicacion **`Terminal`** y ejecutarla.\n",
    "\n",
    "En todos los casos se nos abrirá una ventana parecida a la de arriba en la que veremos un cursor parpadeante esperando órdenes.\n",
    "\n",
    "### Principales comandos\n",
    "\n",
    "Linux y Mac están basados en unix por lo que, compartiendo la misma base, sus comandos son casi iguales y en lo que respecta a nosotros no hay variación.\n",
    "\n",
    "Windows se basa en MSDOS y sus comandos son distintos, equivalentes en cuanto al uso pero distintos en cuanto a su nombre.\n",
    "\n",
    "#### Linux/Mac\n",
    "\n",
    "*Generalistas*\n",
    "- **clear**: borra la pantalla\n",
    "- **exit**: cierra la ventana del terminal\n",
    "- **help**: muestra todos los comandos disponible y para que sirven\n",
    "\n",
    "*Navegación por sistema de ficheros*\n",
    "- **pwd**: informa de la posición en la que nos encontramos\n",
    "- **cd**: permite moverse entre carpetas (*c*hange *d*irectory) desde la carpeta en la que se ha abierto la consola al directorio de destino (ver [sistema de archivos](https://drive.google.com/open?id=1iARB0lqjFOPt539S1lAHKlFbdycnKAFF))\n",
    "- **mkdir** {name}: *m*ake *d*irectory crea una carpeta en carpeta en la que se ejecuta. Debe informarse el nombre del directorio\n",
    "- **cp** {origen} {destino}: copia un fichero en otra ubicacion y/o con otro nombre\n",
    "- **mv** {origen} {destino}: igual que copy pero borrando el origen (se mueve el fichero)\n",
    "- **rm** {archivo}: borra un archivo\n",
    "- **rmdir** {archivo}: borra una carpeta\n",
    "- **tree** {carpeta}: vista completa del arbol de directorios de la ruta (no funciona en mac)\n",
    "\n",
    "\n",
    "#### Windows\n",
    "\n",
    "*Generalistas*\n",
    "- **cls**: borra la pantalla\n",
    "- **exit**: cierra la ventana del terminal\n",
    "- **help**: muestra todos los comandos disponible y para que sirven. Si se informa un comando da información de como usarlo.\n",
    "\n",
    "*Navegación por sistema de ficheros*\n",
    "- **cd**: permite moverse entre carpetas (*c*hange *d*irectory) desde la carpeta en la que se ha abierto la consola al directorio de destino (ver [sistema de archivos](https://drive.google.com/open?id=1iARB0lqjFOPt539S1lAHKlFbdycnKAFF))\n",
    "- **md** o **mkdir** {name}: *m*ake *d*irectory crea una carpeta en carpeta en la que se ejecuta. Debe informarse el nombre del directorio\n",
    "- **copy** {origen} {destino}: copia un fichero en otra ubicacion y/o con otro nombre\n",
    "- **move** {origen} {destino}: igual que copy pero borrando el origen (se mueve el fichero)\n",
    "- **del** {archivo}: borra un archivo\n",
    "- **rd** {archivo}: borra una carpeta\n",
    "- **tree** {carpeta}: vista completa del arbol de directorios de la ruta\n",
    "\n"
   ]
  }
 ],
 "metadata": {
  "colab": {
   "name": "02.0 La consola.ipynb",
   "provenance": [],
   "version": "0.3.2"
  },
  "kernelspec": {
   "display_name": "Python 3",
   "language": "python",
   "name": "python3"
  },
  "language_info": {
   "codemirror_mode": {
    "name": "ipython",
    "version": 3
   },
   "file_extension": ".py",
   "mimetype": "text/x-python",
   "name": "python",
   "nbconvert_exporter": "python",
   "pygments_lexer": "ipython3",
   "version": "3.7.1"
  }
 },
 "nbformat": 4,
 "nbformat_minor": 1
}
