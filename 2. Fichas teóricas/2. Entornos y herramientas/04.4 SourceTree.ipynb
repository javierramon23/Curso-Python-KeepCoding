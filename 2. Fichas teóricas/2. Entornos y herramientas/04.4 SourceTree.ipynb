{
 "cells": [
  {
   "cell_type": "markdown",
   "metadata": {
    "colab_type": "text",
    "id": "zk5DJr5rWNgg"
   },
   "source": [
    "# SourceTree\n",
    "\n",
    "Es un programa de Atlassian Software que nos facilita la gestión de versiones con una interfaz gráfica. Particularmente el uso de gitflow.\n",
    "\n",
    "Lo descargamos desde su [web](https://www.sourcetreeapp.com/) haciendo clic en Download free (arriba a la derecha) y aceptando las condiciones de uso.\n",
    "\n",
    "Una vez descargado debemos instalarlo. Dependiendo del sistema operativo habrá que hacerlo de una u otra forma, pero en todos los casos nos pedirá:\n",
    "- que nos demos de alta en Atlassian, ya sea en bitbucket o en Atlassian directamente. Si tenemos una cuenta la usaremos, si no la crearemos.\n",
    "- que nos sincronicemos con github o bitbucket. Este paso nos lo saltaremos\n",
    "\n",
    "Utilizaremos el programa para nuestros repositorios locales (hechos a mano).\n"
   ]
  },
  {
   "cell_type": "markdown",
   "metadata": {
    "colab_type": "text",
    "id": "E-L0jGgwmVHP"
   },
   "source": [
    "## Mac\n",
    "\n",
    "Una vez instalado y evitado el sincronizar con cuentas remotas aparecerá la siguiente pantalla\n",
    "\n",
    "<img src=\"https://docs.google.com/uc?export=download&id=1K26WYRhxHpCBsJigVAnY8e0EZNRK79HP\" border=\"1\" width=\"482\">\n",
    "\n",
    "Haciendo clic sobre `Nuevo...`\n",
    "\n",
    "<img src=\"https://docs.google.com/uc?export=download&id=1n0r5ONk9AKaLJXPeIZpf1E9bwKij_BQy\" border=\"1\" width=\"482\">\n",
    "\n",
    "Y ahora sobre `Añadir repositorio local existente`\n",
    "\n",
    "Se selecciona la carpeta de nuestro repositorio, apareciendo en nuestro listado de repositorios gestionados con SourceTree\n",
    "\n",
    "<img src=\"https://docs.google.com/uc?export=download&id=1f5bAZfYXIhTQigiiEXLaIWOBLz_0Np2z\" border=\"1\" width=\"482\">\n",
    "\n",
    "Finalmente si queremos gestionar byestri repositorio sólo habrá que hacer doble clic en él.\n",
    "\n",
    "<img src=\"https://docs.google.com/uc?export=download&id=1t0Zg7fUhkQXr5Z17hG7Rjb5IBsqSJ9yj\" border=\"1\" height=\"482\">\n"
   ]
  }
 ],
 "metadata": {
  "colab": {
   "name": "4.04 SourceTree.ipynb",
   "provenance": [],
   "version": "0.3.2"
  },
  "kernelspec": {
   "display_name": "Python 3",
   "language": "python",
   "name": "python3"
  },
  "language_info": {
   "codemirror_mode": {
    "name": "ipython",
    "version": 3
   },
   "file_extension": ".py",
   "mimetype": "text/x-python",
   "name": "python",
   "nbconvert_exporter": "python",
   "pygments_lexer": "ipython3",
   "version": "3.7.1"
  }
 },
 "nbformat": 4,
 "nbformat_minor": 1
}
