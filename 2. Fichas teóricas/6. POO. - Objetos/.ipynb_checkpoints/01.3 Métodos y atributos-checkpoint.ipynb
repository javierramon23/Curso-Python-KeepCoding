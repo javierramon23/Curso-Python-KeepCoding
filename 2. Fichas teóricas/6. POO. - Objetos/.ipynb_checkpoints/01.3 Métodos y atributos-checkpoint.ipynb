{
 "cells": [
  {
   "cell_type": "code",
   "execution_count": 0,
   "metadata": {
    "colab": {},
    "colab_type": "code",
    "id": "XYMSbDHqqpJW"
   },
   "outputs": [],
   "source": [
    "class Perro:\n",
    "  def __init__(self, nombre, edad, peso):\n",
    "    self.nombre = nombre\n",
    "    self.edad = edad\n",
    "    self.peso = peso\n",
    "    \n",
    "  def ladrido(self):\n",
    "    print('{} dice guau'.format(self.nombre))"
   ]
  },
  {
   "cell_type": "markdown",
   "metadata": {
    "colab_type": "text",
    "id": "ZMAEPW_U9bkI"
   },
   "source": [
    "# Métodos\n",
    "\n",
    "Son las funciones propias de la clase. Como tales observamos en ellas dos características:\n",
    "- Cuando se definen deben incluir necesariamente un primer parámetro que se referirá a la propia instancia. Por convención se llama self, pero podría llamarse de cualquier otra forma"
   ]
  },
  {
   "cell_type": "code",
   "execution_count": 0,
   "metadata": {
    "colab": {
     "base_uri": "https://localhost:8080/",
     "height": 35
    },
    "colab_type": "code",
    "executionInfo": {
     "elapsed": 584,
     "status": "ok",
     "timestamp": 1547056328213,
     "user": {
      "displayName": "Ramón Maldonado Rodríguez",
      "photoUrl": "https://lh3.googleusercontent.com/-ljH7hLMa7no/AAAAAAAAAAI/AAAAAAAAAAg/pf-fwlCU1Eg/s64/photo.jpg",
      "userId": "17580681743975451950"
     },
     "user_tz": -60
    },
    "id": "gc-4r6T59bCS",
    "outputId": "eb9bf3d5-2df0-4f15-d6d6-8a6dd81b9cc0"
   },
   "outputs": [
    {
     "name": "stdout",
     "output_type": "stream",
     "text": [
      "Kitty dice miau\n"
     ]
    }
   ],
   "source": [
    "class Gato:\n",
    "  def __init__(self, nombre, edad, peso):\n",
    "    self.nombre = nombre\n",
    "    self.edad = edad\n",
    "    self.peso = peso\n",
    "    \n",
    "  def maullido(c):\n",
    "    print('{} dice miau'.format(c.nombre))\n",
    "    \n",
    "kitty = Gato('Kitty', 2, 1)\n",
    "kitty.maullido()"
   ]
  },
  {
   "cell_type": "markdown",
   "metadata": {
    "colab_type": "text",
    "id": "XkR0Yjqnri_M"
   },
   "source": [
    "- Cuando se invocan debe hacerse siempre asociado a una instancia de su clase. De ahí ese primer parámetro (`self`)"
   ]
  },
  {
   "cell_type": "code",
   "execution_count": 0,
   "metadata": {
    "colab": {
     "base_uri": "https://localhost:8080/",
     "height": 172
    },
    "colab_type": "code",
    "executionInfo": {
     "elapsed": 580,
     "status": "error",
     "timestamp": 1547055334735,
     "user": {
      "displayName": "Ramón Maldonado Rodríguez",
      "photoUrl": "https://lh3.googleusercontent.com/-ljH7hLMa7no/AAAAAAAAAAI/AAAAAAAAAAg/pf-fwlCU1Eg/s64/photo.jpg",
      "userId": "17580681743975451950"
     },
     "user_tz": -60
    },
    "id": "z9DcFIN9rAmH",
    "outputId": "5c367f37-9542-41b8-d18b-2c55dd56aa3a"
   },
   "outputs": [
    {
     "ename": "TypeError",
     "evalue": "ignored",
     "output_type": "error",
     "traceback": [
      "\u001b[0;31m---------------------------------------------------------------------------\u001b[0m",
      "\u001b[0;31mTypeError\u001b[0m                                 Traceback (most recent call last)",
      "\u001b[0;32m<ipython-input-7-3299edb8bfb5>\u001b[0m in \u001b[0;36m<module>\u001b[0;34m()\u001b[0m\n\u001b[0;32m----> 1\u001b[0;31m \u001b[0mGato\u001b[0m\u001b[0;34m.\u001b[0m\u001b[0mmaullido\u001b[0m\u001b[0;34m(\u001b[0m\u001b[0;34m)\u001b[0m\u001b[0;34m\u001b[0m\u001b[0;34m\u001b[0m\u001b[0m\n\u001b[0m",
      "\u001b[0;31mTypeError\u001b[0m: maullido() missing 1 required positional argument: 'c'"
     ]
    }
   ],
   "source": [
    "Gato.maullido()"
   ]
  },
  {
   "cell_type": "markdown",
   "metadata": {
    "colab_type": "text",
    "id": "ygdkb_dcsSqz"
   },
   "source": [
    "Arriba se produce un error por que Gato es la clase y maullido no tiene asociado el primer parámetro (la instancia en si misma).\n",
    "\n",
    "Cuando se ejecuta un método de una instancia de un objeto los parámetros que se le envían se denominan mensaje. Veamoslo con otro objeto "
   ]
  },
  {
   "cell_type": "markdown",
   "metadata": {
    "colab_type": "text",
    "id": "ghGxzdf9r2Cg"
   },
   "source": [
    "## Atributos\n",
    "\n",
    "Son las variables propias de la clase y cuyo valor concreto define el estado de una instancia. Se puede acceder a ellos y asignarles valor de forma similar a como se invocan los métodos. Así\n",
    "\n",
    "- acceso al atributo: `kitty.nombre``\n",
    "- modificacion del atributo: `kitty.nombre=\"nuevoNombre\"`"
   ]
  },
  {
   "cell_type": "code",
   "execution_count": 0,
   "metadata": {
    "colab": {
     "base_uri": "https://localhost:8080/",
     "height": 53
    },
    "colab_type": "code",
    "executionInfo": {
     "elapsed": 768,
     "status": "ok",
     "timestamp": 1547056333934,
     "user": {
      "displayName": "Ramón Maldonado Rodríguez",
      "photoUrl": "https://lh3.googleusercontent.com/-ljH7hLMa7no/AAAAAAAAAAI/AAAAAAAAAAg/pf-fwlCU1Eg/s64/photo.jpg",
      "userId": "17580681743975451950"
     },
     "user_tz": -60
    },
    "id": "KB7joaY9tx_m",
    "outputId": "37d8b27c-379c-435d-e621-a09f957f7f99"
   },
   "outputs": [
    {
     "name": "stdout",
     "output_type": "stream",
     "text": [
      "Kitty\n",
      "La Gatica Kitty\n"
     ]
    }
   ],
   "source": [
    "print(kitty.nombre)\n",
    "kitty.nombre = \"La Gatica Kitty\"\n",
    "print(kitty.nombre)"
   ]
  }
 ],
 "metadata": {
  "colab": {
   "name": "01.3 Métodos y atributos.ipynb",
   "provenance": [],
   "version": "0.3.2"
  },
  "kernelspec": {
   "display_name": "Python 3",
   "language": "python",
   "name": "python3"
  },
  "language_info": {
   "codemirror_mode": {
    "name": "ipython",
    "version": 3
   },
   "file_extension": ".py",
   "mimetype": "text/x-python",
   "name": "python",
   "nbconvert_exporter": "python",
   "pygments_lexer": "ipython3",
   "version": "3.7.1"
  }
 },
 "nbformat": 4,
 "nbformat_minor": 1
}
