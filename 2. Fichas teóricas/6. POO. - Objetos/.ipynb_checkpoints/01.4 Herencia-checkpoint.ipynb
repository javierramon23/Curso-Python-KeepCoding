{
 "cells": [
  {
   "cell_type": "code",
   "execution_count": 0,
   "metadata": {
    "colab": {},
    "colab_type": "code",
    "id": "iQxMrgp6x-8m"
   },
   "outputs": [],
   "source": [
    "class Perro:\n",
    "  def __init__(self, nombre, edad, peso):\n",
    "    self.nombre = nombre\n",
    "    self.edad = edad\n",
    "    self.peso = peso\n",
    "    \n",
    "  def ladrido(self):\n",
    "    print('{} dice guau'.format(self.nombre))\n",
    "    \n"
   ]
  },
  {
   "cell_type": "markdown",
   "metadata": {
    "colab_type": "text",
    "id": "hKOoEZyN9mSn"
   },
   "source": [
    "# Herencia\n",
    "\n",
    "La ventaja que presentan los objetos a la hora de modularizar funcionalidades de una aplicación o sistema informático es que se pueden definir Clases que heredan de otras clases de forma que mantienen los atributos y métodos de la clase padre y añaden nuevos métodos o atributos a la clase hija.\n",
    "\n",
    "Si continuamos con el ejemplo de los perros podríamos necesitar un tipo de objetos que fueran [`Perros de asistencia`](https://es.wikipedia.org/wiki/Perro_de_asistencia) y lo definiríamos como sigue\n",
    "\n",
    "<img src=\"https://docs.google.com/uc?export=download&id=12CQBRZSbj17omrELLkjfzM8IeWVpSpQM\" width=\"150\">\n",
    "\n",
    "Que se lee PerroAsistencia hereda de Perro o que PerroAsistencia es una subclase de Perro\n",
    "\n",
    "Esto quedaría..."
   ]
  },
  {
   "cell_type": "code",
   "execution_count": 0,
   "metadata": {
    "colab": {},
    "colab_type": "code",
    "id": "jFDutbde9lnI"
   },
   "outputs": [],
   "source": [
    "class PerroAsistencia(Perro):\n",
    "  \n",
    "  def __init__(self, nombre, edad, peso, amo):\n",
    "    Perro.__init__(self, nombre, edad, peso)\n",
    "    self.amo = amo\n",
    "    \n",
    "  def pasear(self):\n",
    "    print(\"{} ayuda a su dueño {} a {}\".format(self.nombre, self.amo, 'caminar'))"
   ]
  },
  {
   "cell_type": "code",
   "execution_count": 4,
   "metadata": {
    "colab": {
     "base_uri": "https://localhost:8080/",
     "height": 53
    },
    "colab_type": "code",
    "executionInfo": {
     "elapsed": 467,
     "status": "ok",
     "timestamp": 1547057203767,
     "user": {
      "displayName": "Ramón Maldonado Rodríguez",
      "photoUrl": "https://lh3.googleusercontent.com/-ljH7hLMa7no/AAAAAAAAAAI/AAAAAAAAAAg/pf-fwlCU1Eg/s64/photo.jpg",
      "userId": "17580681743975451950"
     },
     "user_tz": -60
    },
    "id": "Xz8EFA0dyeGc",
    "outputId": "b35444e4-13d4-4c56-dad4-ba6609bab2f5"
   },
   "outputs": [
    {
     "name": "stdout",
     "output_type": "stream",
     "text": [
      "Ran Tan Plan dice guau\n",
      "Ran Tan Plan ayuda a su dueño Juanlu a caminar\n"
     ]
    }
   ],
   "source": [
    "rantamplan = PerroAsistencia('Ran Tan Plan', 4, 8, 'Juanlu')\n",
    "rantamplan.ladrido()\n",
    "rantamplan.pasear()"
   ]
  },
  {
   "cell_type": "markdown",
   "metadata": {
    "colab_type": "text",
    "id": "fNzmQfEdzd0n"
   },
   "source": [
    "## Sobreescritura de métodos\n",
    "\n",
    "La herencia permite que las subclases sobrescriban los métodos de la clase de la que heredan para adecuarse mejor a su funcionalidad.\n",
    "\n",
    "Imaginemos que el perro de asistencia tiene prohibido ladrar cuando está trabajando (acompañando a su amo en una salido). Deberíamos\n",
    "1. añadir un atributo booleano que indique si está trabajando o no\n",
    "2. modificar el método ladrido en función de si está trabajando o no\n",
    "\n",
    "Veámoslo"
   ]
  },
  {
   "cell_type": "code",
   "execution_count": 0,
   "metadata": {
    "colab": {},
    "colab_type": "code",
    "id": "ouOeEdqSy4f9"
   },
   "outputs": [],
   "source": [
    "class PerroAsistencia(Perro):\n",
    "  \n",
    "  def __init__(self, nombre, edad, peso, amo):\n",
    "    Perro.__init__(self, nombre, edad, peso)\n",
    "    self.amo = amo\n",
    "    self.trabajando = False\n",
    "    \n",
    "  def pasear(self):\n",
    "    print(\"{} ayuda a su dueño {} a {}\".format(self.nombre, self.amo, 'caminar'))\n",
    "    \n",
    "  def ladrido(self):\n",
    "    if self.trabajando:\n",
    "      print(\"shhhh, no puedo ladrar. Estoy trabajando\")\n",
    "    else:\n",
    "      Perro.ladrido(self)\n",
    "      \n",
    "      "
   ]
  },
  {
   "cell_type": "code",
   "execution_count": 8,
   "metadata": {
    "colab": {
     "base_uri": "https://localhost:8080/",
     "height": 53
    },
    "colab_type": "code",
    "executionInfo": {
     "elapsed": 591,
     "status": "ok",
     "timestamp": 1547058394051,
     "user": {
      "displayName": "Ramón Maldonado Rodríguez",
      "photoUrl": "https://lh3.googleusercontent.com/-ljH7hLMa7no/AAAAAAAAAAI/AAAAAAAAAAg/pf-fwlCU1Eg/s64/photo.jpg",
      "userId": "17580681743975451950"
     },
     "user_tz": -60
    },
    "id": "K4G8glQa0Ni9",
    "outputId": "3a7a3789-8da3-492e-8db8-d694066c8a09"
   },
   "outputs": [
    {
     "name": "stdout",
     "output_type": "stream",
     "text": [
      "Ran Tan Plan dice guau\n",
      "shhhh, no puedo ladrar. Estoy trabajando\n"
     ]
    }
   ],
   "source": [
    "rantamplan = PerroAsistencia('Ran Tan Plan', 4, 8, 'Lucky Luke')\n",
    "rantamplan.ladrido()\n",
    "rantamplan.trabajando=True\n",
    "rantamplan.ladrido()"
   ]
  }
 ],
 "metadata": {
  "colab": {
   "name": "01.4 Herencia.ipynb",
   "provenance": [],
   "version": "0.3.2"
  },
  "kernelspec": {
   "display_name": "Python 3",
   "language": "python",
   "name": "python3"
  },
  "language_info": {
   "codemirror_mode": {
    "name": "ipython",
    "version": 3
   },
   "file_extension": ".py",
   "mimetype": "text/x-python",
   "name": "python",
   "nbconvert_exporter": "python",
   "pygments_lexer": "ipython3",
   "version": "3.7.1"
  }
 },
 "nbformat": 4,
 "nbformat_minor": 1
}
