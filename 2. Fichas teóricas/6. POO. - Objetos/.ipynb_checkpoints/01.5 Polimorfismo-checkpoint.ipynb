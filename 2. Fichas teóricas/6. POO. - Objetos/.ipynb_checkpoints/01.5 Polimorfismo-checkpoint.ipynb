{
 "cells": [
  {
   "cell_type": "markdown",
   "metadata": {
    "colab_type": "text",
    "id": "_cGWG-mFt2ew"
   },
   "source": [
    "# Polimorfismo\n",
    "\n",
    "Cuando hemos visto la herencia hemos mencionado la [sobreescritura de métodos](https://colab.research.google.com/drive/1bVqGOtwnm4tCNoTeONkxXAIaJ4DuEFpH#scrollTo=fNzmQfEdzd0n). Esta es una forma de polimormismo. Es decir objetos distintos comparten métodos con igual sintáxis (mismos parámetros) y realizan funciones distintas en función de la naturaleza del objeto.\n",
    "\n",
    "Esto lo hemos visto con el método ladrido() de un perro normal y de un perro de asistencia.\n",
    "\n",
    "Sin embargo se puede conseguir el mismo resultado sin la sobreescritura. Podemos crear un objeto padre indicando que presentará un médodo determinado (sin definición alguna) y luego definirlo de forma distinta en los objetos que heredan de él.\n",
    "\n",
    "Así:"
   ]
  },
  {
   "cell_type": "code",
   "execution_count": 8,
   "metadata": {
    "colab": {
     "base_uri": "https://localhost:8080/",
     "height": 89
    },
    "colab_type": "code",
    "executionInfo": {
     "elapsed": 807,
     "status": "ok",
     "timestamp": 1553517570400,
     "user": {
      "displayName": "Ramón Maldonado Rodríguez",
      "photoUrl": "https://lh3.googleusercontent.com/-ljH7hLMa7no/AAAAAAAAAAI/AAAAAAAAAAg/pf-fwlCU1Eg/s64/photo.jpg",
      "userId": "17580681743975451950"
     },
     "user_tz": -60
    },
    "id": "wHjk964Wtzn7",
    "outputId": "7fd092b7-7990-44a1-b7c8-2d48b3ee7e61"
   },
   "outputs": [
    {
     "name": "stdout",
     "output_type": "stream",
     "text": [
      "13.44030650891055\n",
      "7.5\n",
      "16\n",
      "15\n"
     ]
    }
   ],
   "source": [
    "class Figura():\n",
    "  def __init__(self, base, altura=None):\n",
    "    self.base = base\n",
    "    self.altura = altura\n",
    "    \n",
    "  def perimetro(self):\n",
    "    pass\n",
    "  \n",
    "  def superficie(self):\n",
    "    pass\n",
    "  \n",
    "  \n",
    "class Triangulo(Figura):\n",
    "  def __init__(self, base, altura):\n",
    "    Figura.__init__(self, base, altura)\n",
    "  \n",
    "  def perimetro(self):\n",
    "    return self.base + 2 * ((self.base/2) ** 2 + self.altura ** 2)**0.5\n",
    "    \n",
    "  def superficie(self):\n",
    "    return self.base * self.altura / 2\n",
    "  \n",
    "  \n",
    "class Rectangulo(Figura):\n",
    "  def __init__(self, base, altura):\n",
    "    Figura.__init__(self, base, altura)\n",
    "    \n",
    "  def perimetro(self):\n",
    "    return 2*(self.base + self.altura)\n",
    "  \n",
    "  def superficie(self):\n",
    "    return self.base * self.altura\n",
    " \n",
    "\n",
    "T = Triangulo(3, 5)\n",
    "R = Rectangulo(3, 5)\n",
    "\n",
    "print(T.perimetro())\n",
    "print(T.superficie())\n",
    "print(R.perimetro())\n",
    "print(R.superficie())\n",
    "\n",
    "\n"
   ]
  },
  {
   "cell_type": "markdown",
   "metadata": {
    "colab_type": "text",
    "id": "IQA2taGE3SWP"
   },
   "source": [
    "Como puede verse tanto Triangulo como Rectángulo comparten método (y sintáxis) pero se ejecutan de forma distinta. Y como se ve no es por sobreescritura. Dependiendo del lenguaje el polimorfismo puede implantarse de diferentes formas, pero la idea es la ya dicha:\n",
    "\n",
    "> _objetos distintos comparten métodos con igual sintáxis (mismos parámetros) y realizan funciones distintas en función de la naturaleza del objeto_"
   ]
  },
  {
   "cell_type": "code",
   "execution_count": 0,
   "metadata": {
    "colab": {},
    "colab_type": "code",
    "id": "I_DZPzoJ3spC"
   },
   "outputs": [],
   "source": []
  }
 ],
 "metadata": {
  "colab": {
   "collapsed_sections": [],
   "name": "01.5 Polimorfismo.ipynb",
   "provenance": [],
   "version": "0.3.2"
  },
  "kernelspec": {
   "display_name": "Python 3",
   "language": "python",
   "name": "python3"
  },
  "language_info": {
   "codemirror_mode": {
    "name": "ipython",
    "version": 3
   },
   "file_extension": ".py",
   "mimetype": "text/x-python",
   "name": "python",
   "nbconvert_exporter": "python",
   "pygments_lexer": "ipython3",
   "version": "3.7.1"
  }
 },
 "nbformat": 4,
 "nbformat_minor": 1
}
