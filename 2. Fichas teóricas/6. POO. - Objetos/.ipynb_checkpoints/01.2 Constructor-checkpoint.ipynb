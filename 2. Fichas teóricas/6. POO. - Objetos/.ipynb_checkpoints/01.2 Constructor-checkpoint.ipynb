{
 "cells": [
  {
   "cell_type": "markdown",
   "metadata": {
    "colab_type": "text",
    "id": "O2v9UbMj9VFd"
   },
   "source": [
    "# Objetos. Constructor"
   ]
  },
  {
   "cell_type": "code",
   "execution_count": 0,
   "metadata": {
    "colab": {},
    "colab_type": "code",
    "id": "EIowvSejiJo1"
   },
   "outputs": [],
   "source": [
    "class Perro:\n",
    "  def __init__(self, nombre, edad, peso):\n",
    "    self.nombre = nombre\n",
    "    self.edad = edad\n",
    "    self.peso = peso\n",
    "    \n",
    "  def ladrido(self):\n",
    "    print('{} dice guau'.format(self.nombre))"
   ]
  },
  {
   "cell_type": "markdown",
   "metadata": {
    "colab_type": "text",
    "id": "EiMPoATuiK29"
   },
   "source": [
    "Ya hemos visto [como definir una clase](https://colab.research.google.com/drive/1uSG50o1Mf6fjKTlourRtE5tfcPBqlz9D#scrollTo=QFc1dUrpfWKE&line=29&uniqifier=1). En el caso que nos ocupa tenemos la clase `Perro` con los siguientes atributos y métodos\n",
    "\n",
    "<img src=\"https://docs.google.com/uc?export=download&id=19GUq1faBFOO1FvQ0Uu0pc4G1N6RA-xs3\" height=\"125\">\n",
    "\n",
    "No obstante en la definición de la clase de arriba vemos un método `__init__` que no está definido en nuestro modelo de clase (sólo figura ladrido). Este es un método obligado en todas las clases que se llama **Constructor**"
   ]
  },
  {
   "cell_type": "markdown",
   "metadata": {
    "colab_type": "text",
    "id": "yrSfr3TDjM4w"
   },
   "source": [
    "## Función del constructor de una clase\n",
    "\n",
    "Debemos recordar que estamos escribiendo software y que la definición de arriba no es más que un bloque de código de tipo clase y que lo que pretendemos es crear una porcion de código que sea capaz de replicarse en multiples instancias y que cada una de estas instancias pueda tener un estado diferente.\n",
    "\n",
    "El método constructor es la función que permite a la clase crear una instancia nueva e inicializarla con un estado dado (determinado por sus parámetros). \n",
    "\n",
    "En nuestro caso al crear la función `__init__` con los parámetros `nombre`, `edad` y `peso` forzamos que la creación de una instancia de la clase Perro se haga así:\n",
    "```\n",
    "nueva_instancia = Perro('nombre', edad, peso)\n",
    "````\n",
    "\n",
    "Realmente lo que hace es \n",
    "1. Crear una instancia nueva de Perro vacía a la que en la clase nos referimos como `self``\n",
    "2. Invocar la función `__init__` con la instancia vacía (`self`) y con los parámetros de entrada (`nombre`, `edad` y `peso`) y aquí se establece el estado inicial de la instancia. Diferentes instancias tendrán diferentes estados (nombres, edades, pesos)\n",
    "3. Devuelve dicha instancia. Lo hace de forma implícita no hay que incluir el return, de hecho, si se hace, da error"
   ]
  },
  {
   "cell_type": "code",
   "execution_count": 0,
   "metadata": {
    "colab": {},
    "colab_type": "code",
    "id": "GNNOfHkepuDI"
   },
   "outputs": [],
   "source": [
    "salchicho = Perro('Salchicho', 8, 13)"
   ]
  },
  {
   "cell_type": "code",
   "execution_count": 9,
   "metadata": {
    "colab": {
     "base_uri": "https://localhost:8080/",
     "height": 35
    },
    "colab_type": "code",
    "executionInfo": {
     "elapsed": 559,
     "status": "ok",
     "timestamp": 1547058506726,
     "user": {
      "displayName": "Ramón Maldonado Rodríguez",
      "photoUrl": "https://lh3.googleusercontent.com/-ljH7hLMa7no/AAAAAAAAAAI/AAAAAAAAAAg/pf-fwlCU1Eg/s64/photo.jpg",
      "userId": "17580681743975451950"
     },
     "user_tz": -60
    },
    "id": "XPwBBgwzpxjW",
    "outputId": "ba3bbc81-fba9-4f53-fac6-f6575ffe2509"
   },
   "outputs": [
    {
     "name": "stdout",
     "output_type": "stream",
     "text": [
      "<__main__.Perro object at 0x7f4caa2dfe80>\n"
     ]
    }
   ],
   "source": [
    "print(salchicho)"
   ]
  },
  {
   "cell_type": "markdown",
   "metadata": {
    "colab_type": "text",
    "id": "4nBV29Wp3q0u"
   },
   "source": [
    "## Imprimiento una clase\n",
    "\n",
    "Cuando pedimos a python que imprima una clase por defecto nos devuelve la clase y la dirección de memoria donde se aloja tal y como vemos arriba. Esto es poco operativo\n",
    "\n",
    "Podemos definir la forma en que queremos que se imprima con el método `__str__``\n"
   ]
  },
  {
   "cell_type": "code",
   "execution_count": 0,
   "metadata": {
    "colab": {},
    "colab_type": "code",
    "id": "SCyqZ7qa4FOH"
   },
   "outputs": [],
   "source": [
    "class Perro:\n",
    "  def __init__(self, nombre, edad, peso):\n",
    "    self.nombre = nombre\n",
    "    self.edad = edad\n",
    "    self.peso = peso\n",
    "    \n",
    "  def ladrido(self):\n",
    "    print('{} dice guau'.format(self.nombre))\n",
    "    \n",
    "  def __str__(self):\n",
    "    return \"Soy el perro \" + self.nombre"
   ]
  },
  {
   "cell_type": "code",
   "execution_count": 13,
   "metadata": {
    "colab": {
     "base_uri": "https://localhost:8080/",
     "height": 35
    },
    "colab_type": "code",
    "executionInfo": {
     "elapsed": 668,
     "status": "ok",
     "timestamp": 1547058649042,
     "user": {
      "displayName": "Ramón Maldonado Rodríguez",
      "photoUrl": "https://lh3.googleusercontent.com/-ljH7hLMa7no/AAAAAAAAAAI/AAAAAAAAAAg/pf-fwlCU1Eg/s64/photo.jpg",
      "userId": "17580681743975451950"
     },
     "user_tz": -60
    },
    "id": "B6wXXnY84TeI",
    "outputId": "61601f4a-17f1-469c-e23d-7082bb782aa8"
   },
   "outputs": [
    {
     "name": "stdout",
     "output_type": "stream",
     "text": [
      "Soy el perro Salchicho\n"
     ]
    }
   ],
   "source": [
    "salchicho = Perro('Salchicho', 8, 13)\n",
    "print(salchicho)"
   ]
  }
 ],
 "metadata": {
  "colab": {
   "name": "01.2 Constructor.ipynb",
   "provenance": [],
   "version": "0.3.2"
  },
  "kernelspec": {
   "display_name": "Python 3",
   "language": "python",
   "name": "python3"
  },
  "language_info": {
   "codemirror_mode": {
    "name": "ipython",
    "version": 3
   },
   "file_extension": ".py",
   "mimetype": "text/x-python",
   "name": "python",
   "nbconvert_exporter": "python",
   "pygments_lexer": "ipython3",
   "version": "3.7.1"
  }
 },
 "nbformat": 4,
 "nbformat_minor": 1
}
