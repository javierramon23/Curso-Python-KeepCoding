{
 "cells": [
  {
   "cell_type": "markdown",
   "metadata": {
    "colab_type": "text",
    "id": "WvBXtY-89I8N"
   },
   "source": [
    "# Objetos y clases\n",
    "\n",
    "En el ejemplo de las [dos tortugas](https://colab.research.google.com/drive/1cuK8qYBxmSNi-f_PFLdl0LtRYa7aOFi5#scrollTo=v-0e0DqRTj-E&line=5&uniqifier=1) hemos hablado de la diferencia entre instancia de un objeto y tipo de un objeto.\n",
    "\n",
    "En sentido estricto hablamos de **clases** e **instancias**. \n",
    "\n",
    "## Clases\n",
    "\n",
    "La clase de un objeto es el molde o prototipo, el bloque de código base en el que se definen todas sus funcionalidades y las variables que determinan sus estados. \n",
    "\n",
    "- *Métodos*: A las funciones que un objeto puede realizar (según se define en su clase) se les denomina **métodos**\n",
    "- *Atributos*: A las variables que determinan el estado de una instancia del objeto (definidas también en su clase) se les denomina **atributos**"
   ]
  },
  {
   "cell_type": "markdown",
   "metadata": {
    "colab_type": "text",
    "id": "QFc1dUrpfWKE"
   },
   "source": [
    "## Ejemplo\n",
    "\n",
    "Como ejemplo podemos tomar el objeto perro. El objeto perro se caracteriza por\n",
    "- atributos\n",
    "  - nombre\n",
    "  - edad\n",
    "  - peso\n",
    "- métodos\n",
    "  - ladrido()\n",
    "\n",
    "lo que podemos representar de la siguiente forma:\n",
    "\n",
    "<img src=\"https://docs.google.com/uc?export=download&id=19GUq1faBFOO1FvQ0Uu0pc4G1N6RA-xs3\" height=\"125\">\n",
    "\n",
    "Y la idea de utilizarlo en nuestros programas en la siguiente.\n",
    "\n",
    "Podremos:\n",
    "1. crear instancias de la clase Perro\n",
    "```\n",
    "salchicho = Perro('Salchicho', 5, 16)\n",
    "lola = Perro('Lola', 8, 3.5)\n",
    "miko = Perro('Miko', 8, 8 )\n",
    "```\n",
    "  - Son tres perros llamados Salchicho, Lola y Miko. Salchicho tiene 5 años y pesa 16 kg, Lola tiene 8 años y pesa 3,5 Kg y Miko tiene 8 años y pesa 8 Kg\n",
    "  \n",
    "2. hacer ladrar a cualquiera de las instancias, `salchicho.ladrido()` que nos mostrará `guau`\n",
    "\n",
    "Esto se traduce en el siguiente código\n"
   ]
  },
  {
   "cell_type": "code",
   "execution_count": 0,
   "metadata": {
    "colab": {},
    "colab_type": "code",
    "id": "Jjf57uZpgsxo"
   },
   "outputs": [],
   "source": [
    "class Perro:\n",
    "  def __init__(self, nombre, edad, peso):\n",
    "    self.nombre = nombre\n",
    "    self.edad = edad\n",
    "    self.peso = peso\n",
    "    \n",
    "  def ladrido(self):\n",
    "    print('{} dice guau'.format(self.nombre))"
   ]
  },
  {
   "cell_type": "code",
   "execution_count": 5,
   "metadata": {
    "colab": {
     "base_uri": "https://localhost:8080/",
     "height": 53
    },
    "colab_type": "code",
    "executionInfo": {
     "elapsed": 543,
     "status": "ok",
     "timestamp": 1547052939618,
     "user": {
      "displayName": "Ramón Maldonado Rodríguez",
      "photoUrl": "https://lh3.googleusercontent.com/-ljH7hLMa7no/AAAAAAAAAAI/AAAAAAAAAAg/pf-fwlCU1Eg/s64/photo.jpg",
      "userId": "17580681743975451950"
     },
     "user_tz": -60
    },
    "id": "BIWV7on39Iad",
    "outputId": "842cce9b-4753-466b-d837-1dd35a9be415"
   },
   "outputs": [
    {
     "name": "stdout",
     "output_type": "stream",
     "text": [
      "Salchicho dice guau\n",
      "5\n"
     ]
    }
   ],
   "source": [
    "salchicho = Perro('Salchicho', 5, 16)\n",
    "salchicho.ladrido()\n",
    "print(salchicho.edad)"
   ]
  },
  {
   "cell_type": "markdown",
   "metadata": {
    "colab_type": "text",
    "id": "JbJykRNs3k9o"
   },
   "source": []
  },
  {
   "cell_type": "code",
   "execution_count": 0,
   "metadata": {
    "colab": {},
    "colab_type": "code",
    "id": "dAO1jSDehOlx"
   },
   "outputs": [],
   "source": []
  }
 ],
 "metadata": {
  "colab": {
   "name": "01.1 Objetos y clases.ipynb",
   "provenance": [],
   "version": "0.3.2"
  },
  "kernelspec": {
   "display_name": "Python 3",
   "language": "python",
   "name": "python3"
  },
  "language_info": {
   "codemirror_mode": {
    "name": "ipython",
    "version": 3
   },
   "file_extension": ".py",
   "mimetype": "text/x-python",
   "name": "python",
   "nbconvert_exporter": "python",
   "pygments_lexer": "ipython3",
   "version": "3.7.1"
  }
 },
 "nbformat": 4,
 "nbformat_minor": 1
}
