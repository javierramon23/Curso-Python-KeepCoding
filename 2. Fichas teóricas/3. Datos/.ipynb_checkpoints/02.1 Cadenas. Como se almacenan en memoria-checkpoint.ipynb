{
 "cells": [
  {
   "cell_type": "markdown",
   "metadata": {
    "colab_type": "text",
    "id": "GihQ1VB-pgeZ"
   },
   "source": [
    "# Como almacenamos valores de cadena\n",
    "\n",
    "Para entender este punto es importante entender antes [como funciona un ordenador](https://drive.google.com/open?id=1BDNigE3q4w-SQ9HDVgogE64WSszjoKJO) por lo que quizás fuera conveniente leer esa ficha.\n",
    "\n",
    "Dado que el tipo primitivo de dato es el caracter y una cadena es una lista de los mismos y sabiendo que la memoria es básicamente un casillero de celdas numeradas en las que sólo cabe un tipo de dato primitivo, cada caracter de la cadena se almacena en una posición contigua de memoria y el final de cadena se marca por un dato específico, normalmente el valor 00 o null (equivalente a celda vacía). \n",
    "\n",
    "Así la cadena 'Hola, mundo!' en la siguiente figura ocupa las celdas 11 a 23 teniendo una longitud de 12 caracteres (aunque ocupa 13 posiciones) y, a nivel del procesador podría queda definida como\n",
    "```\n",
    " posicion inicial: 11\n",
    " longitud: 12\n",
    " ```\n",
    "\n",
    "<img src=\"https://docs.google.com/uc?export=download&id=1KlaAk09DW90oavyTQqmK4nlOreP4mJLR\" height=\"250\">\n",
    "\n",
    "\n"
   ]
  },
  {
   "cell_type": "markdown",
   "metadata": {
    "colab_type": "text",
    "id": "65VIerzhaPoe"
   },
   "source": [
    "## Las cadenas son listas de caracteres\n",
    "\n",
    "Se ve claramente en la figura superior que un literal (cadena) es una lista (ristra, hilera) de caracteres. Veamos como python maneja las listas.\n",
    "\n",
    "Si imaginamos  una lista como una secuencia de celdas podemos saber que posición ocupa cada caracter en la cadena, así para la cadena `Hola, mundo!`:\n",
    "- la `H` ocupa la posición `1`\n",
    "- la `o` ocupa la posición `2`\n",
    "- y así sucesivamente.\n",
    "\n",
    "Sin embargo por temas prácticos los informáticos solemos empezar a contar por el número cero (como puede verse en la primera celda de memoria de la figura de arriba), así que realmente\n",
    "- la `H` ocupa la posición `0`\n",
    "- la `o` ocupa la posición `1`\n",
    "- y así sucesivamente\n",
    "\n",
    "Esto implica que si queremos acceder al 9º carácter de la cadena debemos hacerlo por el índice 8 y la manera de hacerlo en python es `cadena[8]`"
   ]
  },
  {
   "cell_type": "code",
   "execution_count": 1,
   "metadata": {
    "colab": {
     "base_uri": "https://localhost:8080/",
     "height": 36
    },
    "colab_type": "code",
    "executionInfo": {
     "elapsed": 716,
     "status": "ok",
     "timestamp": 1540474559649,
     "user": {
      "displayName": "Ramón Maldonado Rodríguez",
      "photoUrl": "https://lh3.googleusercontent.com/-ljH7hLMa7no/AAAAAAAAAAI/AAAAAAAAAAg/pf-fwlCU1Eg/s64/photo.jpg",
      "userId": "17580681743975451950"
     },
     "user_tz": -120
    },
    "id": "NALiLdGRbzkU",
    "outputId": "439cdc53-ce18-4221-a736-5b29925d9aae"
   },
   "outputs": [
    {
     "data": {
      "text/plain": [
       "'e'"
      ]
     },
     "execution_count": 1,
     "metadata": {
      "tags": []
     },
     "output_type": "execute_result"
    }
   ],
   "source": [
    "#0         1         2         3\n",
    "#0123456789012345678901234567890\n",
    "#        ∨\n",
    "'Una frase cualquiera'[8]"
   ]
  },
  {
   "cell_type": "markdown",
   "metadata": {
    "colab_type": "text",
    "id": "_mxPcTXWcw3z"
   },
   "source": [
    "Si lo que queremos es acceder a un fragmento de la cadena, por ejemplo, la palabra `frase` usamos el índice `[4:9]`,  o dicho de otra forma:\n",
    "```\n",
    "[posicion_desde, posicion_hasta+1]\n",
    "```"
   ]
  },
  {
   "cell_type": "code",
   "execution_count": 3,
   "metadata": {
    "colab": {
     "base_uri": "https://localhost:8080/",
     "height": 36
    },
    "colab_type": "code",
    "executionInfo": {
     "elapsed": 527,
     "status": "ok",
     "timestamp": 1540474868030,
     "user": {
      "displayName": "Ramón Maldonado Rodríguez",
      "photoUrl": "https://lh3.googleusercontent.com/-ljH7hLMa7no/AAAAAAAAAAI/AAAAAAAAAAg/pf-fwlCU1Eg/s64/photo.jpg",
      "userId": "17580681743975451950"
     },
     "user_tz": -120
    },
    "id": "Tw7V4eMIcEnm",
    "outputId": "91ed6ed7-eeb0-45cd-f741-70c2a07c9f29"
   },
   "outputs": [
    {
     "data": {
      "text/plain": [
       "'frase'"
      ]
     },
     "execution_count": 3,
     "metadata": {
      "tags": []
     },
     "output_type": "execute_result"
    }
   ],
   "source": [
    "#0         1         2         3\n",
    "#0123456789012345678901234567890\n",
    "#    ∨    ∨    \n",
    "'Una frase cualquiera'[4:9]"
   ]
  },
  {
   "cell_type": "markdown",
   "metadata": {
    "colab_type": "text",
    "id": "rqp9pbbKdabz"
   },
   "source": [
    "También podemos tomar caracteres desde el final, así:\n",
    "- el último carácter sera el -1\n",
    "- el penúltimo será el -2 \n",
    "- y así sucesivamente\n",
    "\n",
    "Tomemos el último carácter"
   ]
  },
  {
   "cell_type": "code",
   "execution_count": 13,
   "metadata": {
    "colab": {
     "base_uri": "https://localhost:8080/",
     "height": 36
    },
    "colab_type": "code",
    "executionInfo": {
     "elapsed": 484,
     "status": "ok",
     "timestamp": 1540475263573,
     "user": {
      "displayName": "Ramón Maldonado Rodríguez",
      "photoUrl": "https://lh3.googleusercontent.com/-ljH7hLMa7no/AAAAAAAAAAI/AAAAAAAAAAg/pf-fwlCU1Eg/s64/photo.jpg",
      "userId": "17580681743975451950"
     },
     "user_tz": -120
    },
    "id": "wJQWBDrIdKjS",
    "outputId": "8787a03f-076e-416f-eebd-503663cbcd1b"
   },
   "outputs": [
    {
     "data": {
      "text/plain": [
       "'a'"
      ]
     },
     "execution_count": 13,
     "metadata": {
      "tags": []
     },
     "output_type": "execute_result"
    }
   ],
   "source": [
    "#0         1         2         3\n",
    "#0123456789012345678901234567890\n",
    "#        \n",
    "'Una frase cualquiera'[-1]\n",
    "#                   ∧\n",
    "#09876543210987654321 (con signo -)\n",
    "#          1        "
   ]
  },
  {
   "cell_type": "markdown",
   "metadata": {
    "colab_type": "text",
    "id": "kjSSjyC2e14g"
   },
   "source": [
    "Ahora el tercero por la cola"
   ]
  },
  {
   "cell_type": "code",
   "execution_count": 14,
   "metadata": {
    "colab": {
     "base_uri": "https://localhost:8080/",
     "height": 36
    },
    "colab_type": "code",
    "executionInfo": {
     "elapsed": 503,
     "status": "ok",
     "timestamp": 1540475309538,
     "user": {
      "displayName": "Ramón Maldonado Rodríguez",
      "photoUrl": "https://lh3.googleusercontent.com/-ljH7hLMa7no/AAAAAAAAAAI/AAAAAAAAAAg/pf-fwlCU1Eg/s64/photo.jpg",
      "userId": "17580681743975451950"
     },
     "user_tz": -120
    },
    "id": "4X846JpbdpQj",
    "outputId": "003c27b6-872a-4ed9-c7eb-b07912d7e5a2"
   },
   "outputs": [
    {
     "data": {
      "text/plain": [
       "'e'"
      ]
     },
     "execution_count": 14,
     "metadata": {
      "tags": []
     },
     "output_type": "execute_result"
    }
   ],
   "source": [
    "#0         1         2         3\n",
    "#0123456789012345678901234567890\n",
    "#        \n",
    "'Una frase cualquiera'[-3]\n",
    "#                 ∧\n",
    "#09876543210987654321 (con signo -)\n",
    "#          1        "
   ]
  },
  {
   "cell_type": "markdown",
   "metadata": {
    "colab_type": "text",
    "id": "GLmEPxOte_q5"
   },
   "source": [
    "De igual modo que antes si queremos fragmentos debemos indicarlo así  `[posicion_ini, posicion_fin +1]`. Tomemos de nuevo la palabra frase, vemos que va desde la posición -16 hasta la -12, así que:"
   ]
  },
  {
   "cell_type": "code",
   "execution_count": 18,
   "metadata": {
    "colab": {
     "base_uri": "https://localhost:8080/",
     "height": 36
    },
    "colab_type": "code",
    "executionInfo": {
     "elapsed": 520,
     "status": "ok",
     "timestamp": 1540475487405,
     "user": {
      "displayName": "Ramón Maldonado Rodríguez",
      "photoUrl": "https://lh3.googleusercontent.com/-ljH7hLMa7no/AAAAAAAAAAI/AAAAAAAAAAg/pf-fwlCU1Eg/s64/photo.jpg",
      "userId": "17580681743975451950"
     },
     "user_tz": -120
    },
    "id": "PhboQz7Ne8rr",
    "outputId": "74540cea-5839-4b0c-f707-f2d620902866"
   },
   "outputs": [
    {
     "data": {
      "text/plain": [
       "'frase'"
      ]
     },
     "execution_count": 18,
     "metadata": {
      "tags": []
     },
     "output_type": "execute_result"
    }
   ],
   "source": [
    "#0         1         2         3\n",
    "#0123456789012345678901234567890\n",
    "#        \n",
    "'Una frase cualquiera'[-16:-11]\n",
    "#    ∧    ∧\n",
    "#09876543210987654321 (con signo -)\n",
    "#          1        "
   ]
  },
  {
   "cell_type": "markdown",
   "metadata": {
    "colab_type": "text",
    "id": "k2-ZfW9Nfq66"
   },
   "source": [
    "Para finalizar veamos que ocurre si tomamos fragmentos sin indicar uno de los índices\n"
   ]
  },
  {
   "cell_type": "code",
   "execution_count": 20,
   "metadata": {
    "colab": {
     "base_uri": "https://localhost:8080/",
     "height": 36
    },
    "colab_type": "code",
    "executionInfo": {
     "elapsed": 521,
     "status": "ok",
     "timestamp": 1540475736348,
     "user": {
      "displayName": "Ramón Maldonado Rodríguez",
      "photoUrl": "https://lh3.googleusercontent.com/-ljH7hLMa7no/AAAAAAAAAAI/AAAAAAAAAAg/pf-fwlCU1Eg/s64/photo.jpg",
      "userId": "17580681743975451950"
     },
     "user_tz": -120
    },
    "id": "DndeyDDQfz1y",
    "outputId": "daf19116-a0f4-46fe-ad63-495f1afd2ec3"
   },
   "outputs": [
    {
     "data": {
      "text/plain": [
       "'cualquiera'"
      ]
     },
     "execution_count": 20,
     "metadata": {
      "tags": []
     },
     "output_type": "execute_result"
    }
   ],
   "source": [
    "#0         1         2         3\n",
    "#0123456789012345678901234567890\n",
    "#          ∨\n",
    "'Una frase cualquiera'[10:]\n",
    "#          ∧\n",
    "#09876543210987654321 (con signo -)\n",
    "#          1        "
   ]
  },
  {
   "cell_type": "code",
   "execution_count": 0,
   "metadata": {
    "colab": {},
    "colab_type": "code",
    "id": "tfzk68XGgJjl"
   },
   "outputs": [],
   "source": []
  },
  {
   "cell_type": "code",
   "execution_count": 21,
   "metadata": {
    "colab": {
     "base_uri": "https://localhost:8080/",
     "height": 36
    },
    "colab_type": "code",
    "executionInfo": {
     "elapsed": 529,
     "status": "ok",
     "timestamp": 1540475740518,
     "user": {
      "displayName": "Ramón Maldonado Rodríguez",
      "photoUrl": "https://lh3.googleusercontent.com/-ljH7hLMa7no/AAAAAAAAAAI/AAAAAAAAAAg/pf-fwlCU1Eg/s64/photo.jpg",
      "userId": "17580681743975451950"
     },
     "user_tz": -120
    },
    "id": "nhQv9kbmgPqY",
    "outputId": "e59f0049-cc43-4194-e2c0-16f7e05b475e"
   },
   "outputs": [
    {
     "data": {
      "text/plain": [
       "'Una frase '"
      ]
     },
     "execution_count": 21,
     "metadata": {
      "tags": []
     },
     "output_type": "execute_result"
    }
   ],
   "source": [
    "#0         1         2         3\n",
    "#0123456789012345678901234567890\n",
    "#          ∨\n",
    "'Una frase cualquiera'[:10]\n",
    "#          ∧\n",
    "#09876543210987654321 (con signo -)\n",
    "#          1        "
   ]
  },
  {
   "cell_type": "code",
   "execution_count": 22,
   "metadata": {
    "colab": {
     "base_uri": "https://localhost:8080/",
     "height": 36
    },
    "colab_type": "code",
    "executionInfo": {
     "elapsed": 505,
     "status": "ok",
     "timestamp": 1540475746755,
     "user": {
      "displayName": "Ramón Maldonado Rodríguez",
      "photoUrl": "https://lh3.googleusercontent.com/-ljH7hLMa7no/AAAAAAAAAAI/AAAAAAAAAAg/pf-fwlCU1Eg/s64/photo.jpg",
      "userId": "17580681743975451950"
     },
     "user_tz": -120
    },
    "id": "5KV7P8e5gOzm",
    "outputId": "57f5966c-81d1-4b68-9ad3-b111ea098c10"
   },
   "outputs": [
    {
     "data": {
      "text/plain": [
       "'cualquiera'"
      ]
     },
     "execution_count": 22,
     "metadata": {
      "tags": []
     },
     "output_type": "execute_result"
    }
   ],
   "source": [
    "#0         1         2         3\n",
    "#0123456789012345678901234567890\n",
    "#          ∨\n",
    "'Una frase cualquiera'[-10:]\n",
    "#          ∧\n",
    "#09876543210987654321 (con signo -)\n",
    "#          1        "
   ]
  },
  {
   "cell_type": "code",
   "execution_count": 23,
   "metadata": {
    "colab": {
     "base_uri": "https://localhost:8080/",
     "height": 36
    },
    "colab_type": "code",
    "executionInfo": {
     "elapsed": 704,
     "status": "ok",
     "timestamp": 1540475753618,
     "user": {
      "displayName": "Ramón Maldonado Rodríguez",
      "photoUrl": "https://lh3.googleusercontent.com/-ljH7hLMa7no/AAAAAAAAAAI/AAAAAAAAAAg/pf-fwlCU1Eg/s64/photo.jpg",
      "userId": "17580681743975451950"
     },
     "user_tz": -120
    },
    "id": "OFBI3wkDgPbP",
    "outputId": "f4bdf251-bb0a-45ae-fa4c-917bf21c60c9"
   },
   "outputs": [
    {
     "data": {
      "text/plain": [
       "'Una frase '"
      ]
     },
     "execution_count": 23,
     "metadata": {
      "tags": []
     },
     "output_type": "execute_result"
    }
   ],
   "source": [
    "#0         1         2         3\n",
    "#0123456789012345678901234567890\n",
    "#          ∨\n",
    "'Una frase cualquiera'[:-10]\n",
    "#          ∧\n",
    "#09876543210987654321 (con signo -)\n",
    "#          1        "
   ]
  },
  {
   "cell_type": "markdown",
   "metadata": {
    "colab_type": "text",
    "id": "by3gR1V5grQr"
   },
   "source": [
    "Vemos que la posición vacía significa *desde el inicio* si va delante de los dos puntos y *hasta el final* si va detrás de los dos puntos.\n",
    "\n",
    "Una buena práctica para terminar de entender los índices en las cadenas (y por ende en las [listas](https://)) es jugar a cambiar el orden de los mismos tanto negativos como positivos y ver que pasa"
   ]
  }
 ],
 "metadata": {
  "colab": {
   "name": "02.1 Cadenas. Como se almacenan en memoria.ipynb",
   "provenance": [],
   "version": "0.3.2"
  },
  "kernelspec": {
   "display_name": "Python 3",
   "language": "python",
   "name": "python3"
  },
  "language_info": {
   "codemirror_mode": {
    "name": "ipython",
    "version": 3
   },
   "file_extension": ".py",
   "mimetype": "text/x-python",
   "name": "python",
   "nbconvert_exporter": "python",
   "pygments_lexer": "ipython3",
   "version": "3.7.1"
  }
 },
 "nbformat": 4,
 "nbformat_minor": 1
}
