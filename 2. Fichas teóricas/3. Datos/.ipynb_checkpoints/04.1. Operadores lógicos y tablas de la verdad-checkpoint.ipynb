{
 "cells": [
  {
   "cell_type": "markdown",
   "metadata": {
    "colab_type": "text",
    "id": "XznuTLzngu4H"
   },
   "source": [
    "# Operadores lógicos\n",
    "\n",
    "## Operadores de comparación\n",
    "\n",
    "El tipo de dato booleano es el resultado de una operación de comparación (como ya [hemos visto](https://colab.research.google.com/drive/1NIh3qj_MzV_4BoxpXJyW9-mUVLZFsyvM#scrollTo=aJlWS9zEdsUK)). Los operadores de comparación pueden considerarse de forma amplia operadores lógicos. Los operadores lógico *Sensu estricto* se verán más abajo.\n",
    "\n",
    "Estos son los operadores de comparación aceptados por python:\n",
    "- **`==`**:  ¿ _es igual a_?\n",
    "- **`!=`**:  ¿_es diferente a_?\n",
    "- **`>`**:  ¿_es mayor que_?\n",
    "- **`<`**:  ¿_es menor que_?\n",
    "- **`>=`**:  ¿_es mayor o igual que_?\n",
    "- **`<=`**:  ¿_es menor o igual a_?\n",
    "\n",
    "La aplicación debe darse entre datos/variables/constantes que sean del mismo tipo y que sean comparables.\n",
    "\n",
    "Y el resultado de la operación siempre será `True` o `False``\n",
    "\n",
    "Veámoslo en código\n"
   ]
  },
  {
   "cell_type": "code",
   "execution_count": 0,
   "metadata": {
    "colab": {
     "base_uri": "https://localhost:8080/",
     "height": 221
    },
    "colab_type": "code",
    "executionInfo": {
     "elapsed": 559,
     "status": "ok",
     "timestamp": 1540660964363,
     "user": {
      "displayName": "Ramón Maldonado Rodríguez",
      "photoUrl": "https://lh3.googleusercontent.com/-ljH7hLMa7no/AAAAAAAAAAI/AAAAAAAAAAg/pf-fwlCU1Eg/s64/photo.jpg",
      "userId": "17580681743975451950"
     },
     "user_tz": -120
    },
    "id": "1_7nB6w7gl0q",
    "outputId": "c121e5a3-fbae-4bdb-f7c1-a229f3befec1"
   },
   "outputs": [
    {
     "name": "stdout",
     "output_type": "stream",
     "text": [
      "True\n",
      "False\n",
      "False\n",
      "True\n",
      "False\n",
      "False\n",
      "True\n",
      "False\n",
      "False\n",
      "True\n",
      "True\n",
      "True\n"
     ]
    }
   ],
   "source": [
    "print(4 == 4)\n",
    "print(4 == 5)\n",
    "print(4 != 4)\n",
    "print(4 != 5)\n",
    "print(4 > 4)\n",
    "print(4 > 5)\n",
    "print(4 >= 4)\n",
    "print(4 >= 5)\n",
    "print(4 < 4)\n",
    "print(4 < 5)\n",
    "print(4 <= 4)\n",
    "print(4 <= 5)\n"
   ]
  },
  {
   "cell_type": "markdown",
   "metadata": {
    "colab_type": "text",
    "id": "4YclhN6wjRir"
   },
   "source": [
    "## Operadores lógicos\n",
    "\n",
    "Vienen de los operadores de la lógica booleana y permiten relacionar proposiciones lógicas entre sí.\n",
    "\n",
    "Aunque suena raro, los usamos todos los días, son los operadores\n",
    "- Y\n",
    "- O\n",
    "- NO\n",
    "\n",
    "Imaginemos que buscamos todos los alumnos varones de un instituto cuya altura sea mayor de 1,60m. Para seleccionarlos debemos realizar dos comparaciones\n",
    "- `sexo == 'masculino'`\n",
    "- `altura >= 1.60``\n",
    "\n",
    "Sólo nos servirán los alumnos que cumplan ambas condiciones por tanto la comparación real será:\n",
    "1. `sexo == 'masculino' and altura > 1.60`\n",
    "\n",
    "Vemos claramente que el grupo de los alumnos varones y con altura mayor a 1.60, es más restrictivo que el grupo de alumnos varones o con altura mayor de 1.60.\n",
    "\n",
    "2. `sexo == 'masculino' or altura > 1.60`\n",
    "\n",
    "Es evidente que el grupo 2 podrá contener mujeres siempre que midan más de 1.60 o varones de 1.59 o menos.\n",
    "\n",
    "Con este ejemplo vemos más claro que los operadores lógicos relacionan datos booleanos.\n",
    "\n",
    "- **`Y`** (and): Para obtener un valor `True` los dos datos booleanos que se relacionan deben ser verdaderos\n",
    "- **`O`** (or): Para obtener un valor `True` al menos uno de los datos ha de ser `True`\n",
    "- **`NO`** (not): Es un operador unario, sólo actúa sobre un dato booleano y lo que hace es cambiarlo por su contrario.\n",
    "\n",
    "Una manera de ver como operan son las llamadas tablas de la verdad. Suponiendo dos datos booleanos `A` y `B` veamos como se relacionan según los operadores lógicos según A y B sean True o False.\n",
    "\n"
   ]
  },
  {
   "cell_type": "markdown",
   "metadata": {
    "colab_type": "text",
    "id": "MnawNnx6Q_mh"
   },
   "source": [
    "### Y (and)\n",
    "\n",
    "```\n",
    "\n",
    "           \\ B |   True   |   False   |\n",
    "            \\  |          |           |\n",
    "          A  \\ |          |           |\n",
    "        -------+----------+-----------+-\n",
    "               |          |           |                \n",
    "        True   |   True   |   False   |\n",
    "               |          |           |        \n",
    "        -------+----------+-----------+-\n",
    "               |          |           |               \n",
    "        False  |   False  |   False   |\n",
    "               |          |           |                \n",
    "        -------+----------+-----------+-\n",
    "\n",
    "```\n",
    "\n",
    "Así, la tabla del operador `Y` se lee así\n",
    "\n",
    "```\n",
    "True and True = True\n",
    "True and False = False\n",
    "False and True = False\n",
    "False and False = False\n",
    "```\n",
    "\n",
    "\n"
   ]
  },
  {
   "cell_type": "markdown",
   "metadata": {
    "colab_type": "text",
    "id": "CaAo8L-CRFY6"
   },
   "source": [
    "### O (or)\n",
    "```\n",
    "\n",
    "           \\ B |   True   |   False   |\n",
    "            \\  |          |           |\n",
    "          A  \\ |          |           |\n",
    "        -------+----------+-----------+-\n",
    "               |          |           |                \n",
    "        True   |   True   |   True    |\n",
    "               |          |           |        \n",
    "        -------+----------+-----------+-\n",
    "               |          |           |               \n",
    "        False  |   True   |   False   |\n",
    "               |          |           |                \n",
    "        -------+----------+-----------+-\n",
    "\n",
    "```\n",
    "\n"
   ]
  },
  {
   "cell_type": "markdown",
   "metadata": {
    "colab_type": "text",
    "id": "0wU-qz0XROJz"
   },
   "source": []
  },
  {
   "cell_type": "markdown",
   "metadata": {
    "colab_type": "text",
    "id": "UuXViOxzROU6"
   },
   "source": [
    "Su tabla se lee:\n",
    "\n",
    "```\n",
    "True or True = True\n",
    "True or False = True\n",
    "False or True = True\n",
    "False or False = False\n",
    "```\n"
   ]
  },
  {
   "cell_type": "markdown",
   "metadata": {
    "colab_type": "text",
    "id": "hkfe75I0RJ08"
   },
   "source": [
    "### NO (not)\n",
    "\n",
    "```\n",
    "\n",
    "NO\n",
    "               |   True   |   False   |\n",
    "         A     |          |           |\n",
    "               |          |           |\n",
    "        -------+----------+-----------+-\n",
    "               |          |           |                \n",
    "               |   False  |   True    |\n",
    "               |          |           |        \n",
    "        -------+----------+-----------+-\n",
    "\n",
    "\n",
    "```"
   ]
  },
  {
   "cell_type": "markdown",
   "metadata": {
    "colab_type": "text",
    "id": "Pp8oavtzRaYA"
   },
   "source": [
    "Y su tabla se lee:\n",
    "\n",
    "```\n",
    "not False = True\n",
    "not True = False"
   ]
  }
 ],
 "metadata": {
  "colab": {
   "collapsed_sections": [],
   "name": "04.1. Operadores lógicos y tablas de la verdad.ipynb",
   "provenance": [],
   "version": "0.3.2"
  },
  "kernelspec": {
   "display_name": "Python 3",
   "language": "python",
   "name": "python3"
  },
  "language_info": {
   "codemirror_mode": {
    "name": "ipython",
    "version": 3
   },
   "file_extension": ".py",
   "mimetype": "text/x-python",
   "name": "python",
   "nbconvert_exporter": "python",
   "pygments_lexer": "ipython3",
   "version": "3.7.1"
  }
 },
 "nbformat": 4,
 "nbformat_minor": 1
}
