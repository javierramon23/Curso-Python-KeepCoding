{
 "cells": [
  {
   "cell_type": "markdown",
   "metadata": {
    "colab_type": "text",
    "id": "9UHvHiGLn1rD"
   },
   "source": [
    "# Datos y sus tipos - Caracteres y cadenas\n",
    "\n",
    "Es el tipo de dato más obvio, de hecho en todos los ejemplos utilizados hasta ahora cada vez que pedimos un dato por la pantalla con la instrucción `input` lo que introducimos es un texto.\n",
    "\n",
    "Un texto no es más que una ristra de caracteres alfanuméricos. Como se decía en la [definición](https://colab.research.google.com/drive/19zQfzOwWOsflSLS7h-MA8mbE9vszQA3T#scrollTo=dU7QcLjfogsV&line=18&uniqifier=1), este dato sólo tiene sentido en su contexto, en nuestro caso si el texto está escrito en castellano seremos capaces de leerlo, pero para el ordenador es simplemente una ristra de caracteres sin sentido. \n",
    "\n",
    "Sirva como ejemplo...\n",
    "\n",
    "```\n",
    "      'Un texto cualquiera'\n",
    "      'Any text'\n",
    "      '任意のテキスト'\n",
    "```\n",
    "\n",
    "son tres textos que significan lo mismo para un hispanoparlante, angloparlante y una persona de habla japonesa. Siendo el mismo dato en su contexto son tres cadenas de caracteres totalmente distintas para un ordenador.\n",
    "\n",
    "\n"
   ]
  },
  {
   "cell_type": "markdown",
   "metadata": {
    "colab_type": "text",
    "id": "YJiVS4LUtqO_"
   },
   "source": [
    "## Consideraciones\n",
    "\n",
    "En informática el tipo de dato texto se denomina 'Cadena de caracteres' o más sencillamente 'cadena'.\n",
    "\n",
    "El tipo cadena es un tipo compuesto ya que está formado por una ristra de datos más sencillos de tipo carácter. La forma correcta de referirnos a la ristra según la terminología informática es [lista](https://). Como ya he dicho es un tipo compuesto que se verá más adelante.\n",
    "\n",
    "La manera de representar un carácter o una cadena como valor es incluir su valor entre comilla sencilla `'`o comilla doble `\"` dependiendo del lenguaje de programación. Así se distingue de las palabras reservadas del lenguaje de programacion o de los valores numéricos. Veamos ejemplos:\n",
    "```\n",
    " 'A'            → carácter A\n",
    " 'Hola, mundo'  → cadena de caracteres Hola, mundo\n",
    " A              → variable A, ver tema de variables\n",
    " if             → palabra reservada if del lenguaje de programacion\n",
    " '4'            → carácter 4\n",
    " 4              → número 4\n",
    "```\n",
    "Cuando en un programa utilizamos un carácter sin comillas el lenguaje de programación intentará interpretarlo como una de las palabras reservadas que forman parte de sus instrucciones o lo considerará una [variable](https://). Para distinguir estas palabras de los datos de tipo texto se utilizan las comillas como se ve en los 4 primeros ejemplos.\n",
    "\n",
    "Otro punto importante a considerar es la diferencia entre '4' y 4. \n",
    "\n",
    "- En el primer caso, '4', hablamos de carácter 4 tal y como se interpretaría en un número de telefono, de tarjeta de crédito o de calle, con estos datos no se realizan operaciones aritméticas ni se considera su valor numérico. Es más pueden concatenarse con caracteres alfabéticos para dar lugar a una expresión de cadena tal como '4bis'.\n",
    "- En el segundo caso, 4, hablamos del número 4 tal y como se usa en la clase de matemáticas para contar, indicar una cantidad y realizar operaciones aritméticas con él."
   ]
  },
  {
   "cell_type": "markdown",
   "metadata": {
    "colab_type": "text",
    "id": "p9S_0vuktr5R"
   },
   "source": [
    "## Haz la prueba\n",
    "\n",
    "Una forma sencilla de entender la diferencia entre '4' y 4 es jugar con ellos con python. Mira los siguientes resultados al sumarlos. Observa con atención que pasa en el tercer caso ('4' + 1). Intenta entender que es lo que pasa antes de ir al tema [tipado de lenguajes](https://).\n",
    "\n",
    "Lo interesante en este punto es que se entienda que es el tipo de dato Cadena"
   ]
  },
  {
   "cell_type": "code",
   "execution_count": 1,
   "metadata": {
    "colab": {
     "base_uri": "https://localhost:8080/",
     "height": 36
    },
    "colab_type": "code",
    "executionInfo": {
     "elapsed": 742,
     "status": "ok",
     "timestamp": 1540361798134,
     "user": {
      "displayName": "Ramón Maldonado Rodríguez",
      "photoUrl": "",
      "userId": "17580681743975451950"
     },
     "user_tz": -120
    },
    "id": "Ezr1T8Xzn0uA",
    "outputId": "f20fa128-0ee9-446d-ec61-5166bdb26661"
   },
   "outputs": [
    {
     "data": {
      "text/plain": [
       "'41'"
      ]
     },
     "execution_count": 1,
     "metadata": {
      "tags": []
     },
     "output_type": "execute_result"
    }
   ],
   "source": [
    "'4' + '1'"
   ]
  },
  {
   "cell_type": "code",
   "execution_count": 2,
   "metadata": {
    "colab": {
     "base_uri": "https://localhost:8080/",
     "height": 36
    },
    "colab_type": "code",
    "executionInfo": {
     "elapsed": 500,
     "status": "ok",
     "timestamp": 1540361805443,
     "user": {
      "displayName": "Ramón Maldonado Rodríguez",
      "photoUrl": "",
      "userId": "17580681743975451950"
     },
     "user_tz": -120
    },
    "id": "g6-YruLjt65a",
    "outputId": "6a6aee97-87d3-438f-bcc0-bddd49f99051"
   },
   "outputs": [
    {
     "data": {
      "text/plain": [
       "5"
      ]
     },
     "execution_count": 2,
     "metadata": {
      "tags": []
     },
     "output_type": "execute_result"
    }
   ],
   "source": [
    "4+1"
   ]
  },
  {
   "cell_type": "code",
   "execution_count": 3,
   "metadata": {
    "colab": {
     "base_uri": "https://localhost:8080/",
     "height": 180
    },
    "colab_type": "code",
    "executionInfo": {
     "elapsed": 530,
     "status": "error",
     "timestamp": 1540361811857,
     "user": {
      "displayName": "Ramón Maldonado Rodríguez",
      "photoUrl": "",
      "userId": "17580681743975451950"
     },
     "user_tz": -120
    },
    "id": "HL63oQiKt9uz",
    "outputId": "129261ba-273d-4a5f-e5e8-2759e7972e1f"
   },
   "outputs": [
    {
     "ename": "TypeError",
     "evalue": "ignored",
     "output_type": "error",
     "traceback": [
      "\u001b[0;31m---------------------------------------------------------------------------\u001b[0m",
      "\u001b[0;31mTypeError\u001b[0m                                 Traceback (most recent call last)",
      "\u001b[0;32m<ipython-input-3-29564b0c0b24>\u001b[0m in \u001b[0;36m<module>\u001b[0;34m()\u001b[0m\n\u001b[0;32m----> 1\u001b[0;31m \u001b[0;34m'4'\u001b[0m\u001b[0;34m+\u001b[0m\u001b[0;36m1\u001b[0m\u001b[0;34m\u001b[0m\u001b[0m\n\u001b[0m",
      "\u001b[0;31mTypeError\u001b[0m: must be str, not int"
     ]
    }
   ],
   "source": [
    "'4'+1"
   ]
  },
  {
   "cell_type": "markdown",
   "metadata": {
    "colab_type": "text",
    "id": "fuF4RYDQp7iy"
   },
   "source": [
    "En relación al tipo de dato cadena, nos queda por ver\n",
    "\n",
    "- [Como se almacenan en memoria](https://drive.google.com/open?id=1OW1c1I6qccbBln0RFJBKMYs_LXeLe6HR)\n",
    "- Operadores y Operaciones con cadenas"
   ]
  }
 ],
 "metadata": {
  "colab": {
   "name": "02 Datos y sus tipos - Caracteres y cadenas.ipynb",
   "provenance": [],
   "version": "0.3.2"
  },
  "kernelspec": {
   "display_name": "Python 3",
   "language": "python",
   "name": "python3"
  },
  "language_info": {
   "codemirror_mode": {
    "name": "ipython",
    "version": 3
   },
   "file_extension": ".py",
   "mimetype": "text/x-python",
   "name": "python",
   "nbconvert_exporter": "python",
   "pygments_lexer": "ipython3",
   "version": "3.7.1"
  }
 },
 "nbformat": 4,
 "nbformat_minor": 1
}
