{
 "cells": [
  {
   "cell_type": "markdown",
   "metadata": {
    "colab_type": "text",
    "id": "SXMO2w0X9bSP"
   },
   "source": [
    "# Datos y sus tipos - Números\n",
    "\n",
    "Es el tipo fundamental de dato que puede procesar un programa, de hecho las computadoras son calculadoras de propósito general, es decir, se construyeron con la idea de realizar cualquier cálculo. Por lo tanto este tipo de dato es esencial cuando queremos realizar operaciones matemáticas o llevar la contabilidad.\n",
    "\n",
    "Es el único caso en que la computadora si entiende, al menos parcialmente, el significado del dato. Mientras que el tipo caracter no son más que símbolos alfanuméricos, en el tipo numérico lo que se almacena es el valor. Así, si volvemos al valor 4 ya hemos visto que la computadora entiende su valor y es capaz de realizar operaciones aritméticas con el.\n",
    "\n",
    "Miremos los siguientes ejemplos"
   ]
  },
  {
   "cell_type": "code",
   "execution_count": 0,
   "metadata": {
    "colab": {
     "base_uri": "https://localhost:8080/",
     "height": 36
    },
    "colab_type": "code",
    "executionInfo": {
     "elapsed": 508,
     "status": "ok",
     "timestamp": 1540366217128,
     "user": {
      "displayName": "Ramón Maldonado Rodríguez",
      "photoUrl": "",
      "userId": "17580681743975451950"
     },
     "user_tz": -120
    },
    "id": "8NFI_yQR9ap5",
    "outputId": "6689065c-e9ca-43b0-efc2-0b1ff1da01b6"
   },
   "outputs": [
    {
     "data": {
      "text/plain": [
       "5"
      ]
     },
     "execution_count": 3,
     "metadata": {
      "tags": []
     },
     "output_type": "execute_result"
    }
   ],
   "source": [
    "4 + 1"
   ]
  },
  {
   "cell_type": "code",
   "execution_count": 0,
   "metadata": {
    "colab": {
     "base_uri": "https://localhost:8080/",
     "height": 36
    },
    "colab_type": "code",
    "executionInfo": {
     "elapsed": 524,
     "status": "ok",
     "timestamp": 1540366224218,
     "user": {
      "displayName": "Ramón Maldonado Rodríguez",
      "photoUrl": "",
      "userId": "17580681743975451950"
     },
     "user_tz": -120
    },
    "id": "-u9th24A-uV-",
    "outputId": "1bd7a3e6-7d2a-499e-cc2f-2e2e8c4ec2fa"
   },
   "outputs": [
    {
     "data": {
      "text/plain": [
       "20"
      ]
     },
     "execution_count": 4,
     "metadata": {
      "tags": []
     },
     "output_type": "execute_result"
    }
   ],
   "source": [
    "4 * 5"
   ]
  },
  {
   "cell_type": "code",
   "execution_count": 0,
   "metadata": {
    "colab": {
     "base_uri": "https://localhost:8080/",
     "height": 36
    },
    "colab_type": "code",
    "executionInfo": {
     "elapsed": 491,
     "status": "ok",
     "timestamp": 1540366228081,
     "user": {
      "displayName": "Ramón Maldonado Rodríguez",
      "photoUrl": "",
      "userId": "17580681743975451950"
     },
     "user_tz": -120
    },
    "id": "kjRBIueb-0if",
    "outputId": "0bacdef3-a89c-467a-ef8e-0efba92000c1"
   },
   "outputs": [
    {
     "data": {
      "text/plain": [
       "1.3333333333333333"
      ]
     },
     "execution_count": 5,
     "metadata": {
      "tags": []
     },
     "output_type": "execute_result"
    }
   ],
   "source": [
    "4/3"
   ]
  },
  {
   "cell_type": "markdown",
   "metadata": {
    "colab_type": "text",
    "id": "SKhe74Rm_ATb"
   },
   "source": [
    "## Tipos de números\n",
    "\n",
    "Aunque parezca tonto debemos distinguir entre distintos tipos de números (no me estoy refiriendo a números complejos y otras estructuras matemáticas) ya que la computadora trabaja de forma distinta con números enteros y con números no enteros (con decimales). En python esto se traduce en estos dos tipos de número\n",
    " - **Enteros** \n",
    " - **Números con decimales**\n",
    " \n",
    " Matemáticamente, sin embargo, podemos distinguir dos tipos de números con decimales, los que equivalen al cociente entre dos enteros (por ejemplo 1/3) y los que no (por ejemplo `π`). \n",
    "\n",
    "\n",
    ">$\\frac{4}{3} = 1,\\overline{3}   \\,\\,\\,\\,\\,\\,\\,\\,\\,\\,\\,\\,\\,\\,\\,\\,\\,\\,\\,\\,\\,\\,\\,             \\pi = 3,141592...$\n",
    "\n",
    "\n",
    "Además los primeros pueden tener un número finito o infinito de decimales, pero los segundos siempre tienen un número infinito de decimales. Así que, al menos con parte de los números con decimales habrá que decidir cuantos decimales se almacenan, esto es la **precisión**\n",
    "\n",
    "Así que a la hora de trabajar con números los lenguajes de programación utilizan dos tipos,:\n",
    "- **Entero**\n",
    "- **Coma flotante**\n",
    "\n",
    "Los primeros se almacenan tal cual (en binario) y ocupan más o menos memoria en función de su valor (recordemos que, como ejemplo, en [cadenas](https://colab.research.google.com/drive/1mI0mQc0KwbpkCtCZqjIdxPYof4y9l_2-#scrollTo=PSX7TWznq7qn) hemos asumido que una celda de memoria es capaz de almacenar los valores desde 0 a 255) y traducidos a numeración binaria.\n",
    "\n",
    "La forma en que se almacenan los números en coma flotante escapa a este curso, pero baste decir que en la transformación de la parte decimal a binario puede perderse cierta precisión que afecte a los resultados en las operaciones que luego se realicen con ellos.\n",
    "\n",
    "### Problemas de precision con el tipo coma flotante\n",
    "\n",
    "Veamoslo con un ejemplo\n",
    "\n",
    "\n",
    "\n",
    "\n",
    "\n",
    "\n",
    "\n",
    "\n"
   ]
  },
  {
   "cell_type": "code",
   "execution_count": 0,
   "metadata": {
    "colab": {
     "base_uri": "https://localhost:8080/",
     "height": 71
    },
    "colab_type": "code",
    "executionInfo": {
     "elapsed": 543,
     "status": "ok",
     "timestamp": 1540544863584,
     "user": {
      "displayName": "Ramón Maldonado Rodríguez",
      "photoUrl": "https://lh3.googleusercontent.com/-ljH7hLMa7no/AAAAAAAAAAI/AAAAAAAAAAg/pf-fwlCU1Eg/s64/photo.jpg",
      "userId": "17580681743975451950"
     },
     "user_tz": -120
    },
    "id": "g0IIe9wkzIJm",
    "outputId": "18868ae6-04e5-451c-8d74-e0adb42a746b"
   },
   "outputs": [
    {
     "name": "stdout",
     "output_type": "stream",
     "text": [
      "0.1\n",
      "0.2\n",
      "0.30000000000000004\n"
     ]
    }
   ],
   "source": [
    "A = 0.1\n",
    "B = 0.2\n",
    "C = A + B\n",
    "print(A)\n",
    "print(B)\n",
    "print(C)"
   ]
  },
  {
   "cell_type": "markdown",
   "metadata": {
    "colab_type": "text",
    "id": "1pXmtsiwmAq-"
   },
   "source": [
    "**¿Qué ha pasado?**. Lo dicho arriba, se ha perdido precisión en las transformaciones decimal → binario y viceversa. Nosotros trabajamos con numeración decimal pero el procesador trabaja en binario, así que 0.1 se pasa a binario. La parte entera `0` no da problemas, pero la parte decimal `,1` es un binario periódico del mismo modo que 1/3 es un decimal periódico. Puesto que no se pueden almacenar todos los decimales se pierde algo\n",
    "\n",
    ">$ \\frac{1}{3} = 0,\\overline3$\n",
    "\n",
    ">$ 0,1 = 0,0001\\overline{1001}$\n",
    "\n",
    ">$ 0,2 = 0,000\\overline{1001}$\n",
    "\n",
    "Al volver a convertir A y B en decimal para imprimirlos no se pierde precisión pero al operar con ellos en C vemos que se añaden unos pocos decimales al final\n",
    "\n",
    "Si es necesario evitar estas cosas python implementa librerías para resolver esta situación, no obstante a este nivel trabajaremos con float directamente.\n",
    "\n",
    "Lo importante es entender que hay dos tipos de números en python, los enteros y los números en coma flotante."
   ]
  },
  {
   "cell_type": "code",
   "execution_count": 0,
   "metadata": {
    "colab": {
     "base_uri": "https://localhost:8080/",
     "height": 125
    },
    "colab_type": "code",
    "executionInfo": {
     "elapsed": 561,
     "status": "ok",
     "timestamp": 1540545373226,
     "user": {
      "displayName": "Ramón Maldonado Rodríguez",
      "photoUrl": "https://lh3.googleusercontent.com/-ljH7hLMa7no/AAAAAAAAAAI/AAAAAAAAAAg/pf-fwlCU1Eg/s64/photo.jpg",
      "userId": "17580681743975451950"
     },
     "user_tz": -120
    },
    "id": "TITo4SZ1sGG5",
    "outputId": "a4d6da68-0f67-4a0f-8ae0-ed8841fe90d7"
   },
   "outputs": [
    {
     "name": "stdout",
     "output_type": "stream",
     "text": [
      "0.1\n",
      "0.2\n",
      "0.30000000000000004\n",
      "0.1\n",
      "0.2\n",
      "0.3\n"
     ]
    }
   ],
   "source": [
    "from decimal import *\n",
    "\n",
    "A = 0.1\n",
    "B = 0.2\n",
    "C = A + B\n",
    "print(A)\n",
    "print(B)\n",
    "print(C)\n",
    "\n",
    "a = Decimal('0.1')\n",
    "b = Decimal('0.2')\n",
    "c = a + b\n",
    "\n",
    "print(a)\n",
    "print(b)\n",
    "print(c)"
   ]
  },
  {
   "cell_type": "markdown",
   "metadata": {
    "colab_type": "text",
    "id": "LpQgb4_gl0Bb"
   },
   "source": [
    "### Coma flotante en binario\n",
    "\n",
    "Una forma habitual de trabajar con números con decimales es la notación científica de forma que todos los números quedan reducidos a una cifra entera seguida por todos los decimales y luego una potencia de 10\n",
    "\n",
    ">$ 157,2345 = 1,572345 · 10^2 \\,\\,\\,\\,\\,\\,\\,\\,\\,\\,\\,\\,\\,\\,\\,\\,\\,\\,\\,\\,\\,\\,\\,\\, 0,002345 = 2,345 · 10^{-2}$\n",
    "\n",
    "Este método es el que se utiliza para almacenar los números con decimales. Pero se añade un paso, antes de hacer la conversión a notación científica se hace la conversión a binario. Para 157,2345 sería algo así (los detalles no importan y se encuentran en internet)\n",
    "\n",
    ">$ 157,2345 \\approx 10011101,001111 $\n",
    "\n",
    "Si se pasa a notación científica\n",
    " >$ 1,0011101001111 · 2^7 $\n",
    "\n",
    "Como el entero inicial siempre va a ser uno, basta con almacenar el número de detras de la coma y el 7 y ya se tiene un número con decimales.\n",
    "\n"
   ]
  }
 ],
 "metadata": {
  "colab": {
   "name": "01.0 Datos y sus tipos - Números.ipynb",
   "provenance": [],
   "version": "0.3.2"
  },
  "kernelspec": {
   "display_name": "Python 3",
   "language": "python",
   "name": "python3"
  },
  "language_info": {
   "codemirror_mode": {
    "name": "ipython",
    "version": 3
   },
   "file_extension": ".py",
   "mimetype": "text/x-python",
   "name": "python",
   "nbconvert_exporter": "python",
   "pygments_lexer": "ipython3",
   "version": "3.7.1"
  }
 },
 "nbformat": 4,
 "nbformat_minor": 1
}
