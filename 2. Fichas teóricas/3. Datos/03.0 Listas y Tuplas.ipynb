{
 "cells": [
  {
   "cell_type": "markdown",
   "metadata": {
    "colab_type": "text",
    "id": "3D-G9HOjD_76"
   },
   "source": [
    "# Listas y Tuplas\n",
    "\n",
    "Las listas y las tuplas son básicamente tablas de valores. Lo único que las diferencia es que las tuplas una vez declaradas no pueden modificarse ni en su longitud ni en el contenido de cada uno de sus elementos (son *inmutables*). Una lista/tupla podría ser, por ejemplo, el nombre de todas las asignaturas de un curso.\n",
    "\n",
    "Así podríamos tener:\n",
    "- **primero**: `['Filosofía', 'Lengua Castellana y Literatura I', 'Primera Lengua Extranjera I', 'Fundamentos del Arte I', 'Cultura Audiovisual I', 'Historia del Mundo Contemporáneo', 'Literatura Universal']`\n",
    "- **segundo**: `['Historia de España', 'Lengua Castellana y Literatura II', 'Primera Lengua Extranjera II', 'Fundamentos del Arte II']`\n",
    "\n",
    "Gráficamente podemos representar una lista como se ve en la figura\n",
    "\n",
    "<img src=\"https://docs.google.com/uc?export=download&id=1pMpBZBRRKT-zNLplZZiE8vhTJXZXGCQk\" height=\"200\">\n",
    "\n",
    "Equivale a una ristra de variables individuales que pueden ser accedidas por su **índice** (su posición). Es importante darse cuenta que el índice comienza en cero, es una costumbre de la informática comenzar a contar desde el cero. A la larga comienza uno a ver que es más cómodo. \n",
    "\n",
    "## Longitud de la lista\n",
    "\n",
    "Un dato que suele ser necesario al trabajar con una lista es conocer su longitud. Se hace con la función `len`:\n",
    "```\n",
    "len(primero) devuelve 7\n",
    "```\n",
    "\n"
   ]
  },
  {
   "cell_type": "markdown",
   "metadata": {
    "colab_type": "text",
    "id": "AlXm72CkJcRa"
   },
   "source": [
    "## Acceso a elementos de una lista/tupla\n",
    "\n",
    "¿Cómo accedemos a un elemento de la tabla? Por medio de su índice así, para acceder a la 5ª posición (''Cultura Audiovisual I'), de esta forma \n",
    "```\n",
    "primero[4]\n",
    "``\n",
    "Veámoslo en python"
   ]
  },
  {
   "cell_type": "code",
   "execution_count": 0,
   "metadata": {
    "colab": {
     "base_uri": "https://localhost:8080/",
     "height": 34
    },
    "colab_type": "code",
    "executionInfo": {
     "elapsed": 855,
     "status": "ok",
     "timestamp": 1540658405692,
     "user": {
      "displayName": "Ramón Maldonado Rodríguez",
      "photoUrl": "https://lh3.googleusercontent.com/-ljH7hLMa7no/AAAAAAAAAAI/AAAAAAAAAAg/pf-fwlCU1Eg/s64/photo.jpg",
      "userId": "17580681743975451950"
     },
     "user_tz": -120
    },
    "id": "qGdgZv_FD9Rr",
    "outputId": "626fc73d-1200-410f-97be-ba820e2cf7fb"
   },
   "outputs": [
    {
     "data": {
      "text/plain": [
       "'Cultura Audiovisual I'"
      ]
     },
     "execution_count": 2,
     "metadata": {
      "tags": []
     },
     "output_type": "execute_result"
    }
   ],
   "source": [
    "primero = ['Filosofia', 'Primera Lengua Extranjera I', 'Lengua Castellana y Literatura I',\n",
    "           'Fundamentos del Arte I', 'Cultura Audiovisual I', 'Historia del mundo contemporaneo',\n",
    "           'Literatura Universal']\n",
    "primero[4]"
   ]
  },
  {
   "cell_type": "markdown",
   "metadata": {
    "colab_type": "text",
    "id": "Kz6j7MKLJYIH"
   },
   "source": [
    "Esta forma sencilla de acceso a una lista está en casi todos los lenguajes de programación, sin embargo python también permite accesos más avanzados\n",
    "\n",
    "### Accesos desde atras\n",
    "\n",
    "Se hacen utilizando indices negativos siendo el último de la lista `-1`, el penúltimo `-2` y sucesivamente\n",
    "\n"
   ]
  },
  {
   "cell_type": "code",
   "execution_count": 0,
   "metadata": {
    "colab": {
     "base_uri": "https://localhost:8080/",
     "height": 34
    },
    "colab_type": "code",
    "executionInfo": {
     "elapsed": 462,
     "status": "ok",
     "timestamp": 1540621037380,
     "user": {
      "displayName": "Ramón Maldonado Rodríguez",
      "photoUrl": "https://lh3.googleusercontent.com/-ljH7hLMa7no/AAAAAAAAAAI/AAAAAAAAAAg/pf-fwlCU1Eg/s64/photo.jpg",
      "userId": "17580681743975451950"
     },
     "user_tz": -120
    },
    "id": "KXdPTWISItnM",
    "outputId": "74647c52-54a7-4522-efd3-1dbf7edc180d"
   },
   "outputs": [
    {
     "data": {
      "text/plain": [
       "'Cultura Audiovisual I'"
      ]
     },
     "execution_count": 3,
     "metadata": {
      "tags": []
     },
     "output_type": "execute_result"
    }
   ],
   "source": [
    "primero[-3]"
   ]
  },
  {
   "cell_type": "markdown",
   "metadata": {
    "colab_type": "text",
    "id": "Oz1GRVFgK35H"
   },
   "source": [
    "#### Haz la prueba\n",
    "\n",
    "Prueba a acceder  a 'Historia del mundo contemporaneo' tanto por índice positivo como negativo\n",
    "\n",
    "### Sublistas\n",
    "\n",
    "Otra de las formas de acceso que python permite son las sublistas según el formato \n",
    "```\n",
    "sublista = lista[posicion_ini:posicion_final + 1]\n",
    "```\n",
    "Se ve con un ejemplo, si yo quiero la sublista formada por los elementos 3º, 4º y 5º lo haré así (recuerda que la primera posición es 0)\n",
    "\n",
    "\n"
   ]
  },
  {
   "cell_type": "code",
   "execution_count": 0,
   "metadata": {
    "colab": {
     "base_uri": "https://localhost:8080/",
     "height": 34
    },
    "colab_type": "code",
    "executionInfo": {
     "elapsed": 538,
     "status": "ok",
     "timestamp": 1540621242888,
     "user": {
      "displayName": "Ramón Maldonado Rodríguez",
      "photoUrl": "https://lh3.googleusercontent.com/-ljH7hLMa7no/AAAAAAAAAAI/AAAAAAAAAAg/pf-fwlCU1Eg/s64/photo.jpg",
      "userId": "17580681743975451950"
     },
     "user_tz": -120
    },
    "id": "RECHLAE_LgU4",
    "outputId": "a4cee331-192b-4cdf-9d30-892f025105f5"
   },
   "outputs": [
    {
     "name": "stdout",
     "output_type": "stream",
     "text": [
      "['Lengua Castellana y Literatura I', 'Fundamentos del Arte I', 'Cultura Audiovisual I']\n"
     ]
    }
   ],
   "source": [
    "sublista = primero[2:5]\n",
    "print(sublista)"
   ]
  },
  {
   "cell_type": "markdown",
   "metadata": {
    "colab_type": "text",
    "id": "3yUiGAHCL-za"
   },
   "source": [
    "#### Variantes\n",
    "Podemos utilizar las siguientes variantes del acceso a sublistas\n",
    "\n",
    "1. Sublista desde inicio a una posición: `[:5]` inicio hasta 5ª posición\n",
    "2. Sublista desde una posición al final: `[4:]` 5ª posición hasta el final\n",
    "\n",
    "Es algo confuso pero recuerda que las sublistas se toman según la siguiente expresión:\n",
    "```\n",
    "sublista = lista[posicion_ini:posicion_final + 1]\n",
    "```\n",
    "\n",
    "También pueden usarse indices negativos. Ahora se usarían las normas para los indices nega\n",
    "tivos y la forma de hacer sublistas a la vez. Las variantes de más arriba serían:\n",
    "\n",
    "1. Sublista desde inicio a una posición: `[:-2]` inicio hasta 5ª posición (3ª desde atrás)\n",
    "2. Sublista desde una posición al final: `[-3:]` 5ª posición hasta el final (3ª desde atrás)\n",
    "\n"
   ]
  },
  {
   "cell_type": "code",
   "execution_count": 0,
   "metadata": {
    "colab": {
     "base_uri": "https://localhost:8080/",
     "height": 85
    },
    "colab_type": "code",
    "executionInfo": {
     "elapsed": 605,
     "status": "ok",
     "timestamp": 1540622314817,
     "user": {
      "displayName": "Ramón Maldonado Rodríguez",
      "photoUrl": "https://lh3.googleusercontent.com/-ljH7hLMa7no/AAAAAAAAAAI/AAAAAAAAAAg/pf-fwlCU1Eg/s64/photo.jpg",
      "userId": "17580681743975451950"
     },
     "user_tz": -120
    },
    "id": "zd55TvQMPICG",
    "outputId": "082eb5f7-b1e5-4c54-b4b0-974470d2997e"
   },
   "outputs": [
    {
     "name": "stdout",
     "output_type": "stream",
     "text": [
      "['Filosofia', 'Primera Lengua Extranjera I', 'Lengua Castellana y Literatura I', 'Fundamentos del Arte I', 'Cultura Audiovisual I']\n",
      "['Filosofia', 'Primera Lengua Extranjera I', 'Lengua Castellana y Literatura I', 'Fundamentos del Arte I', 'Cultura Audiovisual I']\n",
      "['Filosofia', 'Primera Lengua Extranjera I', 'Lengua Castellana y Literatura I', 'Fundamentos del Arte I']\n",
      "['Filosofia', 'Primera Lengua Extranjera I', 'Lengua Castellana y Literatura I', 'Fundamentos del Arte I']\n"
     ]
    }
   ],
   "source": [
    "print(primero[:5])\n",
    "print(primero[:-2])\n",
    "print(primero[:4])\n",
    "print(primero[:-3])\n"
   ]
  },
  {
   "cell_type": "markdown",
   "metadata": {
    "colab_type": "text",
    "id": "KtRlon4HP01B"
   },
   "source": [
    "### Haz la prueba\n",
    "\n",
    "Puede ser interesante intentar conseguir estas dos listas:\n",
    "- 5 primeros elementos\n",
    "- 5 últimos elementos\n",
    "\n",
    "y hacerlo de forma directa `[i:j]`, de forma parcial `[:j]` y con indices negativos `[-h:-k]` y  `[:-k]` en ambos casos"
   ]
  },
  {
   "cell_type": "markdown",
   "metadata": {
    "colab_type": "text",
    "id": "8X1ouq5UQyLV"
   },
   "source": [
    "## Manipulación de listas (eliminación e insercion de elementos)\n",
    "\n",
    "Esto solo se aplica a las listas. Las tuplas al ser inmutables no pueden manipularse como sigue, no pueden ser modificadas.\n",
    "\n",
    "### Inserción de elementos\n",
    "\n",
    "Hay dos formas:\n",
    "1. Utilizar el operador + que permite concatenar listas:\n",
    "\n",
    "```\n",
    "[1, 2, 3, 4] + ['casa']\n",
    "```\n",
    "\n",
    "2. Utilizar la función append():\n",
    "\n",
    "```\n",
    "[1, 2, 3, 4].append('casa')\n",
    "\n",
    "```\n",
    "Ambas expresiones añaden el elemento 'casa' a la lista.\n",
    "Es interesante observar que las listas en python no requieren que todos sus elementos sean del mismo tipo (en otros lenguajes esto no está permitido)\n",
    "\n"
   ]
  },
  {
   "cell_type": "markdown",
   "metadata": {
    "colab_type": "text",
    "id": "ISLOIGSSTjJD"
   },
   "source": [
    "### Borrado de elementos\n",
    "\n",
    "Se pueden borrar los elementos **por índice**:\n",
    "```\n",
    "del lista[ix]\n",
    "```\n",
    "\n",
    "Ya que se borran directamente los elementos de la tabla se pueden borrar sublistas indicando el índice `[ix_inicio, ix_fin+1]`\n",
    "\n",
    "O se pueden borrar **por contenido**.\n",
    "```\n",
    "[1, 2, 3, 4, 'casa', 6, 'casa'].remove('casa')\n",
    "```\n",
    "Elimina el primer elemento con contenido = 'casa' que encuentre. Es importante estar seguro de que 'casa' existe o dara error de ejecución\n"
   ]
  },
  {
   "cell_type": "markdown",
   "metadata": {
    "colab_type": "text",
    "id": "2_nQd2h-XNZS"
   },
   "source": [
    "### Recorriendo listas\n",
    "\n",
    "Para recorrer todos los elementos de una lista simplemente se hace un bucle en el que se va desde el índice `0` hasta el indice `len(lista)-1`:\n",
    "\n",
    "#### Haz la prueba\n",
    "Sería un buen ejercicio hacer esos bucles tanto con while como con for. Se deja la solución canónica en for que utiliza un operador que no conocíamos `in`.\n",
    "```\n",
    "for asignatura in primero:\n",
    "     print(asignatura)\n",
    "```\n",
    "\n",
    "Y se deja como práctica la realización del ejercicio con for range y con while. Se necesitará una variable para contener el indice del elemento a mostrar."
   ]
  },
  {
   "cell_type": "code",
   "execution_count": 0,
   "metadata": {
    "colab": {
     "base_uri": "https://localhost:8080/",
     "height": 136
    },
    "colab_type": "code",
    "executionInfo": {
     "elapsed": 698,
     "status": "ok",
     "timestamp": 1540658416986,
     "user": {
      "displayName": "Ramón Maldonado Rodríguez",
      "photoUrl": "https://lh3.googleusercontent.com/-ljH7hLMa7no/AAAAAAAAAAI/AAAAAAAAAAg/pf-fwlCU1Eg/s64/photo.jpg",
      "userId": "17580681743975451950"
     },
     "user_tz": -120
    },
    "id": "ZeaenLl0YcHQ",
    "outputId": "7e14f8e9-6a0f-4227-809b-5c527509659b"
   },
   "outputs": [
    {
     "name": "stdout",
     "output_type": "stream",
     "text": [
      "Filosofia\n",
      "Primera Lengua Extranjera I\n",
      "Lengua Castellana y Literatura I\n",
      "Fundamentos del Arte I\n",
      "Cultura Audiovisual I\n",
      "Historia del mundo contemporaneo\n",
      "Literatura Universal\n"
     ]
    }
   ],
   "source": [
    "for asignatura in primero:\n",
    "  print(asignatura)"
   ]
  },
  {
   "cell_type": "markdown",
   "metadata": {
    "colab_type": "text",
    "id": "LkCH2fz0jnRC"
   },
   "source": [
    "# Copiando listas\n",
    "\n",
    "Ya [hemos visto](https://colab.research.google.com/drive/1xhG2UZ_0dLX4QTkatHGa7lr-jpPIpTUO#scrollTo=Sc249gLejS2L&line=3&uniqifier=1[texto del enlace](https://)) que las variables que contienen listas realmente apuntan a listas, por lo que copiar listas conlleva crear un nueva lista con el contenido de la lista original.\n",
    "\n",
    "La manera más sencilla de hacerlo es:\n",
    "```\n",
    "primero_bis = primero[:]\n",
    "```\n",
    "\n",
    "Que viene a ser primero_bis es la sublista total de primero. Como la creación de sublista crea listas nuevas así copiamos una lista\n",
    "\n",
    "Pongámoslo a prueba\n"
   ]
  },
  {
   "cell_type": "code",
   "execution_count": 0,
   "metadata": {
    "colab": {
     "base_uri": "https://localhost:8080/",
     "height": 136
    },
    "colab_type": "code",
    "executionInfo": {
     "elapsed": 987,
     "status": "ok",
     "timestamp": 1540659396203,
     "user": {
      "displayName": "Ramón Maldonado Rodríguez",
      "photoUrl": "https://lh3.googleusercontent.com/-ljH7hLMa7no/AAAAAAAAAAI/AAAAAAAAAAg/pf-fwlCU1Eg/s64/photo.jpg",
      "userId": "17580681743975451950"
     },
     "user_tz": -120
    },
    "id": "YMAwGSg_dCCu",
    "outputId": "d173e267-03f9-49c1-9db6-21f2b9a202fc"
   },
   "outputs": [
    {
     "data": {
      "text/plain": [
       "['Filosofia',\n",
       " 'Primera Lengua Extranjera I',\n",
       " 'Lengua Castellana y Literatura I',\n",
       " 'Fundamentos del Arte I',\n",
       " 'Cultura Audiovisual I',\n",
       " 'Historia del mundo contemporaneo',\n",
       " 'Literatura Universal']"
      ]
     },
     "execution_count": 4,
     "metadata": {
      "tags": []
     },
     "output_type": "execute_result"
    }
   ],
   "source": [
    "primero_bis = primero[:]\n",
    "primero_bis"
   ]
  },
  {
   "cell_type": "code",
   "execution_count": 0,
   "metadata": {
    "colab": {
     "base_uri": "https://localhost:8080/",
     "height": 136
    },
    "colab_type": "code",
    "executionInfo": {
     "elapsed": 575,
     "status": "ok",
     "timestamp": 1540659405668,
     "user": {
      "displayName": "Ramón Maldonado Rodríguez",
      "photoUrl": "https://lh3.googleusercontent.com/-ljH7hLMa7no/AAAAAAAAAAI/AAAAAAAAAAg/pf-fwlCU1Eg/s64/photo.jpg",
      "userId": "17580681743975451950"
     },
     "user_tz": -120
    },
    "id": "1SiuMAqMdNit",
    "outputId": "6a0f5ca0-b92a-4479-d2e6-1462ad593074"
   },
   "outputs": [
    {
     "data": {
      "text/plain": [
       "['Filosofia',\n",
       " 'Primera Lengua Extranjera I',\n",
       " 'Lengua Castellana y Literatura I',\n",
       " 'Fundamentos del Arte I',\n",
       " 'Cultura Audiovisual I',\n",
       " 'Historia del mundo contemporaneo',\n",
       " 'Literatura Universal']"
      ]
     },
     "execution_count": 5,
     "metadata": {
      "tags": []
     },
     "output_type": "execute_result"
    }
   ],
   "source": [
    "primero"
   ]
  },
  {
   "cell_type": "code",
   "execution_count": 0,
   "metadata": {
    "colab": {},
    "colab_type": "code",
    "id": "_BxAsKhtYj0I"
   },
   "outputs": [],
   "source": [
    "del primero[0]"
   ]
  },
  {
   "cell_type": "code",
   "execution_count": 0,
   "metadata": {
    "colab": {
     "base_uri": "https://localhost:8080/",
     "height": 119
    },
    "colab_type": "code",
    "executionInfo": {
     "elapsed": 766,
     "status": "ok",
     "timestamp": 1540659440479,
     "user": {
      "displayName": "Ramón Maldonado Rodríguez",
      "photoUrl": "https://lh3.googleusercontent.com/-ljH7hLMa7no/AAAAAAAAAAI/AAAAAAAAAAg/pf-fwlCU1Eg/s64/photo.jpg",
      "userId": "17580681743975451950"
     },
     "user_tz": -120
    },
    "id": "-6rWZx8rdVHM",
    "outputId": "939bab04-5ea3-4abd-f616-dc285a2c3aa9"
   },
   "outputs": [
    {
     "data": {
      "text/plain": [
       "['Primera Lengua Extranjera I',\n",
       " 'Lengua Castellana y Literatura I',\n",
       " 'Fundamentos del Arte I',\n",
       " 'Cultura Audiovisual I',\n",
       " 'Historia del mundo contemporaneo',\n",
       " 'Literatura Universal']"
      ]
     },
     "execution_count": 7,
     "metadata": {
      "tags": []
     },
     "output_type": "execute_result"
    }
   ],
   "source": [
    "primero"
   ]
  },
  {
   "cell_type": "code",
   "execution_count": 0,
   "metadata": {
    "colab": {
     "base_uri": "https://localhost:8080/",
     "height": 136
    },
    "colab_type": "code",
    "executionInfo": {
     "elapsed": 671,
     "status": "ok",
     "timestamp": 1540659445449,
     "user": {
      "displayName": "Ramón Maldonado Rodríguez",
      "photoUrl": "https://lh3.googleusercontent.com/-ljH7hLMa7no/AAAAAAAAAAI/AAAAAAAAAAg/pf-fwlCU1Eg/s64/photo.jpg",
      "userId": "17580681743975451950"
     },
     "user_tz": -120
    },
    "id": "uepa9VVQdWf4",
    "outputId": "e7559ef2-04e8-4bdf-8044-75ed4a249776"
   },
   "outputs": [
    {
     "data": {
      "text/plain": [
       "['Filosofia',\n",
       " 'Primera Lengua Extranjera I',\n",
       " 'Lengua Castellana y Literatura I',\n",
       " 'Fundamentos del Arte I',\n",
       " 'Cultura Audiovisual I',\n",
       " 'Historia del mundo contemporaneo',\n",
       " 'Literatura Universal']"
      ]
     },
     "execution_count": 8,
     "metadata": {
      "tags": []
     },
     "output_type": "execute_result"
    }
   ],
   "source": [
    "primero_bis"
   ]
  }
 ],
 "metadata": {
  "colab": {
   "collapsed_sections": [],
   "name": "03.0 Listas y Tuplas.ipynb",
   "provenance": [],
   "version": "0.3.2"
  },
  "kernelspec": {
   "display_name": "Python 3",
   "language": "python",
   "name": "python3"
  },
  "language_info": {
   "codemirror_mode": {
    "name": "ipython",
    "version": 3
   },
   "file_extension": ".py",
   "mimetype": "text/x-python",
   "name": "python",
   "nbconvert_exporter": "python",
   "pygments_lexer": "ipython3",
   "version": "3.7.1"
  }
 },
 "nbformat": 4,
 "nbformat_minor": 1
}
