{
 "cells": [
  {
   "cell_type": "markdown",
   "metadata": {
    "colab_type": "text",
    "id": "25ao7kIjqejs"
   },
   "source": [
    "# Operaciones con cadenas\n",
    "\n",
    "Una vez visto [como se almacenan las cadenas](https://drive.google.com/open?id=1OW1c1I6qccbBln0RFJBKMYs_LXeLe6HR)  y como se pueden usar los índices para acceder a cada uno de sus caracteres o subcadenas podemos enfrentar que operaciones se pueden realizar con ellas.\n",
    "\n",
    "## Operadores\n",
    "\n",
    "Las cadenas se pueden sumar (en realidad **concatenar**) y multiplicar (en realidad **repetir n veces**), para ello se usan los operadores `+` y `*` respectivamente\n",
    "\n",
    "Veamoslo:"
   ]
  },
  {
   "cell_type": "code",
   "execution_count": 0,
   "metadata": {
    "colab": {},
    "colab_type": "code",
    "id": "A0AuUx-Fp57S"
   },
   "outputs": [],
   "source": [
    "saludo = \"Hola, \"\n",
    "persona = \"Ramón\""
   ]
  },
  {
   "cell_type": "code",
   "execution_count": 2,
   "metadata": {
    "colab": {
     "base_uri": "https://localhost:8080/",
     "height": 36
    },
    "colab_type": "code",
    "executionInfo": {
     "elapsed": 609,
     "status": "ok",
     "timestamp": 1540451045900,
     "user": {
      "displayName": "Ramón Maldonado Rodríguez",
      "photoUrl": "https://lh3.googleusercontent.com/-ljH7hLMa7no/AAAAAAAAAAI/AAAAAAAAAAg/pf-fwlCU1Eg/s64/photo.jpg",
      "userId": "17580681743975451950"
     },
     "user_tz": -120
    },
    "id": "Fnt5SNGSCV1c",
    "outputId": "718927c1-72c2-45e6-8842-6baa895d6a7a"
   },
   "outputs": [
    {
     "data": {
      "text/plain": [
       "'Hola, Ramón'"
      ]
     },
     "execution_count": 2,
     "metadata": {
      "tags": []
     },
     "output_type": "execute_result"
    }
   ],
   "source": [
    "saludo + persona"
   ]
  },
  {
   "cell_type": "code",
   "execution_count": 3,
   "metadata": {
    "colab": {
     "base_uri": "https://localhost:8080/",
     "height": 36
    },
    "colab_type": "code",
    "executionInfo": {
     "elapsed": 587,
     "status": "ok",
     "timestamp": 1540451084215,
     "user": {
      "displayName": "Ramón Maldonado Rodríguez",
      "photoUrl": "https://lh3.googleusercontent.com/-ljH7hLMa7no/AAAAAAAAAAI/AAAAAAAAAAg/pf-fwlCU1Eg/s64/photo.jpg",
      "userId": "17580681743975451950"
     },
     "user_tz": -120
    },
    "id": "t8itAyNfCbIf",
    "outputId": "0feb6d30-24df-480f-b4a5-fa3cc05aae24"
   },
   "outputs": [
    {
     "data": {
      "text/plain": [
       "'RamónRamónRamón'"
      ]
     },
     "execution_count": 3,
     "metadata": {
      "tags": []
     },
     "output_type": "execute_result"
    }
   ],
   "source": [
    "persona * 3"
   ]
  },
  {
   "cell_type": "markdown",
   "metadata": {
    "colab_type": "text",
    "id": "YzvqN6VpaHyb"
   },
   "source": [
    "## Las cadenas son [listas](https://) de caracteres\n"
   ]
  },
  {
   "cell_type": "markdown",
   "metadata": {
    "colab_type": "text",
    "id": "J1_-s97XqoUT"
   },
   "source": [
    "## Funciones sobre cadenas\n"
   ]
  },
  {
   "cell_type": "code",
   "execution_count": 0,
   "metadata": {
    "colab": {},
    "colab_type": "code",
    "id": "WI5M0n1MZThM"
   },
   "outputs": [],
   "source": [
    "#         0        1\n",
    "#         1234567890123456789\n",
    "cadena = \"Una frase de prueba\""
   ]
  },
  {
   "cell_type": "markdown",
   "metadata": {
    "colab_type": "text",
    "id": "93iCfkoeZVCn"
   },
   "source": [
    "\n",
    "### len: Longitud de cadenas"
   ]
  },
  {
   "cell_type": "code",
   "execution_count": 3,
   "metadata": {
    "colab": {
     "base_uri": "https://localhost:8080/",
     "height": 36
    },
    "colab_type": "code",
    "executionInfo": {
     "elapsed": 560,
     "status": "ok",
     "timestamp": 1540473878782,
     "user": {
      "displayName": "Ramón Maldonado Rodríguez",
      "photoUrl": "https://lh3.googleusercontent.com/-ljH7hLMa7no/AAAAAAAAAAI/AAAAAAAAAAg/pf-fwlCU1Eg/s64/photo.jpg",
      "userId": "17580681743975451950"
     },
     "user_tz": -120
    },
    "id": "0AyY8sKEZV96",
    "outputId": "d9c4e558-d218-4af5-e95b-893978e38cea"
   },
   "outputs": [
    {
     "data": {
      "text/plain": [
       "19"
      ]
     },
     "execution_count": 3,
     "metadata": {
      "tags": []
     },
     "output_type": "execute_result"
    }
   ],
   "source": [
    "len(cadena)"
   ]
  },
  {
   "cell_type": "markdown",
   "metadata": {
    "colab_type": "text",
    "id": "jQpZZDUOZgbV"
   },
   "source": [
    "### find: Encontrar cadena en una cadena\n",
    "\n",
    "Devuelve la posición de la expresión (recordad que las posiciones en las [listas se empiezan a contar desde cero](https://colab.research.google.com/drive/1OW1c1I6qccbBln0RFJBKMYs_LXeLe6HR#scrollTo=65VIerzhaPoe&line=15&uniqifier=1))"
   ]
  },
  {
   "cell_type": "code",
   "execution_count": 4,
   "metadata": {
    "colab": {
     "base_uri": "https://localhost:8080/",
     "height": 36
    },
    "colab_type": "code",
    "executionInfo": {
     "elapsed": 519,
     "status": "ok",
     "timestamp": 1540473936320,
     "user": {
      "displayName": "Ramón Maldonado Rodríguez",
      "photoUrl": "https://lh3.googleusercontent.com/-ljH7hLMa7no/AAAAAAAAAAI/AAAAAAAAAAg/pf-fwlCU1Eg/s64/photo.jpg",
      "userId": "17580681743975451950"
     },
     "user_tz": -120
    },
    "id": "HVkacYPOZfXI",
    "outputId": "17559394-1b21-4075-fa58-d2031af7918b"
   },
   "outputs": [
    {
     "data": {
      "text/plain": [
       "10"
      ]
     },
     "execution_count": 4,
     "metadata": {
      "tags": []
     },
     "output_type": "execute_result"
    }
   ],
   "source": [
    "cadena.find(\"de\")"
   ]
  },
  {
   "cell_type": "markdown",
   "metadata": {
    "colab_type": "text",
    "id": "8jHFLyLKh-Xl"
   },
   "source": [
    "## upper y lower: Mayúsculas y minúsculas\n",
    "\n",
    "Transforma una cadena en mayúsculas y en minúsculas respectivamente\n"
   ]
  },
  {
   "cell_type": "code",
   "execution_count": 5,
   "metadata": {
    "colab": {
     "base_uri": "https://localhost:8080/",
     "height": 36
    },
    "colab_type": "code",
    "executionInfo": {
     "elapsed": 493,
     "status": "ok",
     "timestamp": 1540476162398,
     "user": {
      "displayName": "Ramón Maldonado Rodríguez",
      "photoUrl": "https://lh3.googleusercontent.com/-ljH7hLMa7no/AAAAAAAAAAI/AAAAAAAAAAg/pf-fwlCU1Eg/s64/photo.jpg",
      "userId": "17580681743975451950"
     },
     "user_tz": -120
    },
    "id": "M93J4OWBZtaL",
    "outputId": "e08c56a9-9d1a-4bc6-cd01-99c2c4823dcb"
   },
   "outputs": [
    {
     "data": {
      "text/plain": [
       "'UNA FRASE DE PRUEBA'"
      ]
     },
     "execution_count": 5,
     "metadata": {
      "tags": []
     },
     "output_type": "execute_result"
    }
   ],
   "source": [
    "cadena.upper()"
   ]
  },
  {
   "cell_type": "code",
   "execution_count": 6,
   "metadata": {
    "colab": {
     "base_uri": "https://localhost:8080/",
     "height": 36
    },
    "colab_type": "code",
    "executionInfo": {
     "elapsed": 624,
     "status": "ok",
     "timestamp": 1540476175147,
     "user": {
      "displayName": "Ramón Maldonado Rodríguez",
      "photoUrl": "https://lh3.googleusercontent.com/-ljH7hLMa7no/AAAAAAAAAAI/AAAAAAAAAAg/pf-fwlCU1Eg/s64/photo.jpg",
      "userId": "17580681743975451950"
     },
     "user_tz": -120
    },
    "id": "xq-vvbNziM5x",
    "outputId": "ed3ffc1f-78c7-4a88-f6df-3e12d66882f7"
   },
   "outputs": [
    {
     "data": {
      "text/plain": [
       "'una frase de prueba'"
      ]
     },
     "execution_count": 6,
     "metadata": {
      "tags": []
     },
     "output_type": "execute_result"
    }
   ],
   "source": [
    "cadena.lower()"
   ]
  },
  {
   "cell_type": "markdown",
   "metadata": {
    "colab_type": "text",
    "id": "uzFKqk_iiZOs"
   },
   "source": [
    "## replace: Remplazar subcadenas por otras\n",
    "\n",
    "Se informa la cadena buscada y la cadena que la sustituirá. Cambiemos la palabra `frase` por `cadena`. Como vemos ahora la cadena tiene una posición más, su longitud se ha incrementado."
   ]
  },
  {
   "cell_type": "code",
   "execution_count": 7,
   "metadata": {
    "colab": {
     "base_uri": "https://localhost:8080/",
     "height": 36
    },
    "colab_type": "code",
    "executionInfo": {
     "elapsed": 509,
     "status": "ok",
     "timestamp": 1540476363785,
     "user": {
      "displayName": "Ramón Maldonado Rodríguez",
      "photoUrl": "https://lh3.googleusercontent.com/-ljH7hLMa7no/AAAAAAAAAAI/AAAAAAAAAAg/pf-fwlCU1Eg/s64/photo.jpg",
      "userId": "17580681743975451950"
     },
     "user_tz": -120
    },
    "id": "9pMe3JqpiP95",
    "outputId": "8790bc6a-4a8e-4104-ab32-510122cdbaf0"
   },
   "outputs": [
    {
     "data": {
      "text/plain": [
       "'Una cadena de prueba'"
      ]
     },
     "execution_count": 7,
     "metadata": {
      "tags": []
     },
     "output_type": "execute_result"
    }
   ],
   "source": [
    "cadena.replace('frase', 'cadena')"
   ]
  },
  {
   "cell_type": "markdown",
   "metadata": {
    "colab_type": "text",
    "id": "b4u5QK1zjVFx"
   },
   "source": [
    "## Caracteres especiales y secuencias de escape\n",
    "\n",
    "### Comillas simples y dobles\n",
    "\n",
    "¿Cómo hacemos para imprimir comillas en una cadena?, Simple en python podemos usar la comilla simple `'` y la doble `\"` para expresar cadenas. Veamos un par de ejemplos"
   ]
  },
  {
   "cell_type": "code",
   "execution_count": 8,
   "metadata": {
    "colab": {
     "base_uri": "https://localhost:8080/",
     "height": 56
    },
    "colab_type": "code",
    "executionInfo": {
     "elapsed": 514,
     "status": "ok",
     "timestamp": 1540477219234,
     "user": {
      "displayName": "Ramón Maldonado Rodríguez",
      "photoUrl": "https://lh3.googleusercontent.com/-ljH7hLMa7no/AAAAAAAAAAI/AAAAAAAAAAg/pf-fwlCU1Eg/s64/photo.jpg",
      "userId": "17580681743975451950"
     },
     "user_tz": -120
    },
    "id": "LPp-_Oail6FJ",
    "outputId": "368adcf1-cea8-4cc5-9ea0-a928a8919542"
   },
   "outputs": [
    {
     "name": "stdout",
     "output_type": "stream",
     "text": [
      "London's airport\n",
      "y dijo \"Los pobres heredarán la tierra\"\n"
     ]
    }
   ],
   "source": [
    "cadena_comilla_simple = \"London's airport\"\n",
    "cadena_comilla_doble = 'y dijo \"Los pobres heredarán la tierra\"'\n",
    "print(cadena_comilla_simple)\n",
    "print(cadena_comilla_doble)"
   ]
  },
  {
   "cell_type": "markdown",
   "metadata": {
    "colab_type": "text",
    "id": "LWS9oZpYmRGB"
   },
   "source": [
    "Pero como lo hacemos si necesitamos ambas como en la frase\n",
    "```\n",
    "El dijo \"Los pobres de London's airport heredarán la tierra\"\n",
    "```\n",
    "### Secuencias de escape - comillas\n",
    "\n",
    "O bien lo hacemos concatenando cadenas (lo dejo para ti) o utilizamos **secuencias de escape**.\n",
    "\n",
    "Una secuencia de escape está formada por dos caracteres el carácter de escape o barra invertida '\\' y el caracter a imprimir o carácter escapado. \n",
    "\n",
    "La frase de arriba puede entonces imprimirse como sigue\n"
   ]
  },
  {
   "cell_type": "code",
   "execution_count": 10,
   "metadata": {
    "colab": {
     "base_uri": "https://localhost:8080/",
     "height": 36
    },
    "colab_type": "code",
    "executionInfo": {
     "elapsed": 499,
     "status": "ok",
     "timestamp": 1540477486090,
     "user": {
      "displayName": "Ramón Maldonado Rodríguez",
      "photoUrl": "https://lh3.googleusercontent.com/-ljH7hLMa7no/AAAAAAAAAAI/AAAAAAAAAAg/pf-fwlCU1Eg/s64/photo.jpg",
      "userId": "17580681743975451950"
     },
     "user_tz": -120
    },
    "id": "0O3qx7YamO7k",
    "outputId": "74ac1313-e376-4e41-a4a2-7182ac2fd170"
   },
   "outputs": [
    {
     "name": "stdout",
     "output_type": "stream",
     "text": [
      "El dijo \"Los pobres de London's airport heredarán la tierra\"\n"
     ]
    }
   ],
   "source": [
    "cadena_escapada = \"El dijo \\\"Los pobres de London's airport heredarán la tierra\\\"\"\n",
    "print(cadena_escapada)"
   ]
  },
  {
   "cell_type": "markdown",
   "metadata": {
    "colab_type": "text",
    "id": "6gmrK2jenhzc"
   },
   "source": [
    "### Otras secuencias de escape\n",
    "\n",
    "Podemos dar cierto formato al texto con otras secuencias de escape. He aquí algunas\n",
    "\n",
    " - **\\n**: Salto de línea\n",
    " - **\\t**: tabulación\n",
    " - **\\b**: retroceso (borra el carácter anterior)\n",
    "\n",
    "Veamos como se usan"
   ]
  },
  {
   "cell_type": "code",
   "execution_count": 12,
   "metadata": {
    "colab": {
     "base_uri": "https://localhost:8080/",
     "height": 94
    },
    "colab_type": "code",
    "executionInfo": {
     "elapsed": 520,
     "status": "ok",
     "timestamp": 1540477847954,
     "user": {
      "displayName": "Ramón Maldonado Rodríguez",
      "photoUrl": "https://lh3.googleusercontent.com/-ljH7hLMa7no/AAAAAAAAAAI/AAAAAAAAAAg/pf-fwlCU1Eg/s64/photo.jpg",
      "userId": "17580681743975451950"
     },
     "user_tz": -120
    },
    "id": "241K7aIpnM1M",
    "outputId": "3062a5ef-fe0a-47ca-a09e-1baa5f6c318b"
   },
   "outputs": [
    {
     "name": "stdout",
     "output_type": "stream",
     "text": [
      "\t-\tItem de lista\n",
      "primera línea\n",
      "segunda línea\n",
      "Palabra00 \bPalabra01\n"
     ]
    }
   ],
   "source": [
    "cadena_tabulada = \"\\t-\\tItem de lista\"\n",
    "cadena_multilinea = \"primera línea\\nsegunda línea\"\n",
    "cadena_con_retroceso = \"Palabra00 \\bPalabra01\"      #Debería desaparecer el espacio\n",
    "print(cadena_tabulada)\n",
    "print(cadena_multilinea)\n",
    "print(cadena_con_retroceso)"
   ]
  },
  {
   "cell_type": "markdown",
   "metadata": {
    "colab_type": "text",
    "id": "7RiDv900pJyN"
   },
   "source": [
    "Es importante entender que estos caracteres de formato cuentan como un único carácter. Así aunque la variable `cadena_con_retroceso`  cuando se imprime presenta 18 caracteres si preguntamos su longitud con `len`  nos saldrán dos caracteres más (invisibles) pero que realmente ocupan una celda de memoria\n",
    "\n",
    "<img src=\"https://docs.google.com/uc?export=download&id=1KlaAk09DW90oavyTQqmK4nlOreP4mJLR\" height=\"250\">"
   ]
  },
  {
   "cell_type": "code",
   "execution_count": 17,
   "metadata": {
    "colab": {
     "base_uri": "https://localhost:8080/",
     "height": 56
    },
    "colab_type": "code",
    "executionInfo": {
     "elapsed": 604,
     "status": "ok",
     "timestamp": 1540478305566,
     "user": {
      "displayName": "Ramón Maldonado Rodríguez",
      "photoUrl": "https://lh3.googleusercontent.com/-ljH7hLMa7no/AAAAAAAAAAI/AAAAAAAAAAg/pf-fwlCU1Eg/s64/photo.jpg",
      "userId": "17580681743975451950"
     },
     "user_tz": -120
    },
    "id": "DnVS-zIQoYxZ",
    "outputId": "ba398311-24de-42c9-863b-5f1c1bbea7db"
   },
   "outputs": [
    {
     "name": "stdout",
     "output_type": "stream",
     "text": [
      "20\n",
      "18\n"
     ]
    }
   ],
   "source": [
    "print(len(cadena_con_retroceso))\n",
    "print(len(\"Palabra00Palabra01\"))"
   ]
  }
 ],
 "metadata": {
  "colab": {
   "name": "02.2 Cadenas. Operadores y operaciones.ipynb",
   "provenance": [],
   "version": "0.3.2"
  },
  "kernelspec": {
   "display_name": "Python 3",
   "language": "python",
   "name": "python3"
  },
  "language_info": {
   "codemirror_mode": {
    "name": "ipython",
    "version": 3
   },
   "file_extension": ".py",
   "mimetype": "text/x-python",
   "name": "python",
   "nbconvert_exporter": "python",
   "pygments_lexer": "ipython3",
   "version": "3.7.1"
  }
 },
 "nbformat": 4,
 "nbformat_minor": 1
}
