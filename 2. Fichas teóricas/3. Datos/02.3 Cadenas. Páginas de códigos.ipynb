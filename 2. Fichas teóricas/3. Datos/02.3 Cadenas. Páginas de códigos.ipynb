{
 "cells": [
  {
   "cell_type": "markdown",
   "metadata": {
    "colab_type": "text",
    "id": "PSX7TWznq7qn"
   },
   "source": [
    "# Como pinta un ordenador una letra\n",
    "\n",
    "Ya hemos dicho que los ordenadores sólo manejan números, pero sin embargo nos comunicamos con ellos con palabras formadas por caracteres alfanuméricos. ¿Como hace un ordenador para entender una letra?\n",
    "\n",
    "<img src=\"https://docs.google.com/uc?export=download&id=1KlaAk09DW90oavyTQqmK4nlOreP4mJLR\" height=\"250\">\n",
    "\n",
    "Si recordamos [como se almacenan las cadenas](https://colab.research.google.com/drive/1OW1c1I6qccbBln0RFJBKMYs_LXeLe6HR#scrollTo=GihQ1VB-pgeZ&line=13&uniqifier=1) decíamos allí que cada caracter ocupa una celda de memoria. \n",
    "\n",
    "Aunque no sabemos concretamente que es una celda de memoria (byte) podemos suponer que cada celda puede representar un número comprendido entre ciertos valores. Por ahora y sin entrar en detalle vamos a aceptar que esos valores umbral son desde 0 a 255.\n",
    "\n",
    "Lo único que necesitamos es hacer una traducción. La más sencilla sería:\n",
    "\n",
    "- **caracter '0'**:   →    valor numérico en celda = 0\n",
    "- **caracter '1'**:   →    valor numérico en celda = 1\n",
    "\n",
    "...\n",
    "\n",
    "- **caracter '9'**:   →    valor numérico en celda = 9\n",
    "- **caracter 'a'**:   →    valor numérico en celda = 10\n",
    "- **caracter 'b'**:   →    valor numérico en celda = 11\n",
    "\n",
    "...\n",
    "\n",
    "- **caracter 'z'**:   →    valor numérico en celda = 26\n",
    "- **caracter 'A'**:   →    valor numérico en celda = 27\n",
    "- **caracter 'B'**:   →    valor numérico en celda = 28\n",
    "\n",
    "...\n",
    "\n",
    "- **caracter 'Z'**:   →    valor numérico en celda = 63\n",
    "\n",
    "y aún nos sobran más de 150 códigos para caracteres como `!\"·$%&/()¿?*-_:;,.ºª`\n",
    "\n",
    "\n",
    "\n",
    "\n",
    "\n",
    "\n"
   ]
  },
  {
   "cell_type": "markdown",
   "metadata": {
    "colab_type": "text",
    "id": "8xWNRlV9ukh2"
   },
   "source": [
    "## Códigos ASCII\n",
    "\n",
    "Realmente estos no son los códigos utilizados. Los primeros que se utilizaron fueron los códigos ASCII (*American Standard Code for Information Interchange*) que se organizan como sigue:\n",
    "\n",
    "-  Los códigos **00 a 31** y el **127** son códigos de control incluyendo los conocidos \\n, \\t y \\b\n",
    "-  Los códigos **32 a 126** son los llamados códigos imprimibles, incluyen el espacio, letras mayúsculas y minúsculas comunes al alfabeto latino\n",
    "-  Los códigos **128 a 255** son los códigos extendidos, es decir la zona de reserva que se dejaba para caractéres específicos de otros idiomas, ahí figuran la ñ, las vocales con tilde o diéresis, ... En función del país en el que se utilizará el ordenador esta página extendida cambiaba ya que los suecos no necesitan para nada la ñ pero si que necesitan el añillo sobre ciertas letras (`Å`).\n",
    "\n",
    "<img src=\"https://docs.google.com/uc?export=download&id=110xCQeIxW4c7uRR8-FNZrgfYmwKsQxgX\" >\n",
    "\n",
    "Así el código ASCII tenía una parte común (hasta el código 127) y una segunda mitad que era una página de código adaptado a diferentes paises. Cuando comprabas tu ordenador venía prefigurado con la página de códigos de tu pais y tu teclado. Exactamente lo mismo que hacemos ahora al instalar windows cuando elegimos idioma y teclado.\n",
    "\n"
   ]
  },
  {
   "cell_type": "markdown",
   "metadata": {
    "colab_type": "text",
    "id": "NE4JFzWr6dAV"
   },
   "source": [
    "## Unicode\n",
    "\n",
    "Ha sido la evolución natural de ASCII, no es sólo compatible con el alfabeto latino y sus modificaciones sino que su intención es admitir todos los caracteres de todos los idiomas de la tierra incluyendo lenguas muertas.\n",
    "\n",
    "Lógicamente con 256 valores no da así que se usa más de una celda para cada caracter. El sistema es mucho más complejo que el ASCII ya que la información no es directa código -> carácter, sino que un mismo caracter puede presentar variantes en función de signos de puntuación, marcos, diacríticos,... En el peor de los casos un caracter necesita tres celdas para almacenarse. No obstante de cara a como vamos a trabajar nosotros en python podemos ignorar este dato ya que python se encarga. Es sólo por entender como funcionan las cadenas."
   ]
  }
 ],
 "metadata": {
  "colab": {
   "name": "02.2 Cadenas. Páginas de códigos.ipynb",
   "provenance": [],
   "version": "0.3.2"
  },
  "kernelspec": {
   "display_name": "Python 3",
   "language": "python",
   "name": "python3"
  },
  "language_info": {
   "codemirror_mode": {
    "name": "ipython",
    "version": 3
   },
   "file_extension": ".py",
   "mimetype": "text/x-python",
   "name": "python",
   "nbconvert_exporter": "python",
   "pygments_lexer": "ipython3",
   "version": "3.7.1"
  }
 },
 "nbformat": 4,
 "nbformat_minor": 1
}
