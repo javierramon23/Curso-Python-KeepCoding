{
 "cells": [
  {
   "cell_type": "markdown",
   "metadata": {
    "colab_type": "text",
    "id": "aJlWS9zEdsUK"
   },
   "source": [
    "# Booleanos\n",
    "\n",
    "El tipo booleano es otro de los tipos de datos primitivo, sin embargo no es tan obvio como los anteriores. No porque no lo usemos a diario, sino porque lo hacemos de forma implícita, no somos conscientes de usarlo.\n",
    "\n",
    "Veamos un ejemplo tonto en la vida diaria. Pedro y Andrea son pareja ambos tienen una cuenta de gastos comunes en la que aportan todos los meses 500€ cada uno. Pedro gana 1200 € al mes, Andrea gana 1500 € al mes. Dos preguntas.\n",
    "\n",
    "1. ¿Es el sueldo de Andrea igual al sueldo de Pedro?\n",
    "2. ¿Aportan lo mismo a la cuenta de gastos comunes Andrea y Pedro?\n",
    "\n",
    "Es obvio que la respuesta a la pregunta 1 es NO y la respuesta a la 2 es SI.\n",
    "\n",
    "¿Como haríamos esto con un ordenador o con la lógica de Boole?. Veamoslo en código\n",
    "\n",
    "\n"
   ]
  },
  {
   "cell_type": "code",
   "execution_count": 0,
   "metadata": {
    "colab": {},
    "colab_type": "code",
    "id": "jdhe2K5TdrT7"
   },
   "outputs": [],
   "source": [
    "aportacionAndrea = 500\n",
    "aportacionPedro = 500\n",
    "sueldoAndrea = 1500\n",
    "sueldoPedro = 1200"
   ]
  },
  {
   "cell_type": "markdown",
   "metadata": {
    "colab_type": "text",
    "id": "dQJoWxBUfD8-"
   },
   "source": [
    "Vamos ahora ambas comparaciones, para esto asumamos que el operador de comparación de igualdad en python es `==`"
   ]
  },
  {
   "cell_type": "code",
   "execution_count": 3,
   "metadata": {
    "colab": {
     "base_uri": "https://localhost:8080/",
     "height": 34
    },
    "colab_type": "code",
    "executionInfo": {
     "elapsed": 833,
     "status": "ok",
     "timestamp": 1540659968568,
     "user": {
      "displayName": "Ramón Maldonado Rodríguez",
      "photoUrl": "https://lh3.googleusercontent.com/-ljH7hLMa7no/AAAAAAAAAAI/AAAAAAAAAAg/pf-fwlCU1Eg/s64/photo.jpg",
      "userId": "17580681743975451950"
     },
     "user_tz": -120
    },
    "id": "PyHegqnWfCcN",
    "outputId": "d6547073-4b93-4a4c-d530-6b09dddec827"
   },
   "outputs": [
    {
     "data": {
      "text/plain": [
       "True"
      ]
     },
     "execution_count": 3,
     "metadata": {
      "tags": []
     },
     "output_type": "execute_result"
    }
   ],
   "source": [
    "aportacionAndrea == aportacionPedro"
   ]
  },
  {
   "cell_type": "code",
   "execution_count": 4,
   "metadata": {
    "colab": {
     "base_uri": "https://localhost:8080/",
     "height": 34
    },
    "colab_type": "code",
    "executionInfo": {
     "elapsed": 923,
     "status": "ok",
     "timestamp": 1540659978400,
     "user": {
      "displayName": "Ramón Maldonado Rodríguez",
      "photoUrl": "https://lh3.googleusercontent.com/-ljH7hLMa7no/AAAAAAAAAAI/AAAAAAAAAAg/pf-fwlCU1Eg/s64/photo.jpg",
      "userId": "17580681743975451950"
     },
     "user_tz": -120
    },
    "id": "OwJHvO3efRiL",
    "outputId": "62f1fad0-ec72-4d37-a6e6-9af394992251"
   },
   "outputs": [
    {
     "data": {
      "text/plain": [
       "False"
      ]
     },
     "execution_count": 4,
     "metadata": {
      "tags": []
     },
     "output_type": "execute_result"
    }
   ],
   "source": [
    "sueldoAndrea == sueldoPedro"
   ]
  },
  {
   "cell_type": "markdown",
   "metadata": {
    "colab_type": "text",
    "id": "1GjDr0TdfbhT"
   },
   "source": [
    "Vemos que en primer caso python nos devuelve `True`, o verdadero y en el segundo `False` o Falso. Nuestros equivalentes a SI y NO del primer texto. Esto no es un dato numérico, ni tampoco es una cadena (no es la cadena `'True'`) es un tipo de dato nuevo, el **Booleano** o en términos más asequibles el tipo lógico.\n"
   ]
  },
  {
   "cell_type": "code",
   "execution_count": 6,
   "metadata": {
    "colab": {
     "base_uri": "https://localhost:8080/",
     "height": 34
    },
    "colab_type": "code",
    "executionInfo": {
     "elapsed": 650,
     "status": "ok",
     "timestamp": 1540660083294,
     "user": {
      "displayName": "Ramón Maldonado Rodríguez",
      "photoUrl": "https://lh3.googleusercontent.com/-ljH7hLMa7no/AAAAAAAAAAI/AAAAAAAAAAg/pf-fwlCU1Eg/s64/photo.jpg",
      "userId": "17580681743975451950"
     },
     "user_tz": -120
    },
    "id": "QQ0FjZAJfbMx",
    "outputId": "1891a1ec-7555-42a4-de16-783833a953b0"
   },
   "outputs": [
    {
     "data": {
      "text/plain": [
       "False"
      ]
     },
     "execution_count": 6,
     "metadata": {
      "tags": []
     },
     "output_type": "execute_result"
    }
   ],
   "source": [
    "'True'==True"
   ]
  },
  {
   "cell_type": "markdown",
   "metadata": {
    "colab_type": "text",
    "id": "MvZpE41xgXnK"
   },
   "source": [
    "Veamos ahora que operaciones pueden realizarse con este tipo de datos y cuales son sus operadores básicos (sigue [texto del enlace](https://))"
   ]
  }
 ],
 "metadata": {
  "colab": {
   "name": "4.0 Datos y sus tipos. Booleanos.ipynb",
   "provenance": [],
   "version": "0.3.2"
  },
  "kernelspec": {
   "display_name": "Python 3",
   "language": "python",
   "name": "python3"
  },
  "language_info": {
   "codemirror_mode": {
    "name": "ipython",
    "version": 3
   },
   "file_extension": ".py",
   "mimetype": "text/x-python",
   "name": "python",
   "nbconvert_exporter": "python",
   "pygments_lexer": "ipython3",
   "version": "3.7.1"
  }
 },
 "nbformat": 4,
 "nbformat_minor": 1
}
