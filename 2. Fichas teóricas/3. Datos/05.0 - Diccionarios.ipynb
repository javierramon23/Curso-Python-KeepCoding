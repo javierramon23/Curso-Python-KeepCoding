{
 "cells": [
  {
   "cell_type": "markdown",
   "metadata": {
    "colab_type": "text",
    "id": "ub3iUnjnrbuw"
   },
   "source": [
    "# Diccionarios\n",
    "\n",
    "Los diccionarios son otra estructura de datos compleja. Como las listas y las tuplas pueden interpretarse como una tabla, pero en lugar de una tabla de valores, en este caso se trata de una lista de pares de clave valor. De hecho un diccionario es una lista asociativa, en lugar de accederse al elemento por un índice (posición) se accede por **clave**, pudiendo ser la clave un string, un número o un booleano (de hecho cualquier tipo de dato que sea hashable) y el valor asociado cualquier tipo valido de python (incluso otro diccionario).\n",
    "\n",
    "Siguiendo con el ejemplo de las notas que hemos visto en [Listas/Tuplas](https://), las asignaturas de primero podrían ser representadas como en la figura.\n",
    "\n",
    "<img src=\"https://docs.google.com/uc?export=download&id=16XNQ4-sCylZ1wObxHc9bnZATXxKiKwc7\" height=\"200\">\n",
    "\n",
    "## Acceso a elementos\n",
    "\n",
    "Puede accederse a cualquier elemento por su clave y con la misma notación que en el caso de las listas.\n",
    "\n"
   ]
  },
  {
   "cell_type": "code",
   "execution_count": 10,
   "metadata": {
    "colab": {
     "base_uri": "https://localhost:8080/",
     "height": 35
    },
    "colab_type": "code",
    "executionInfo": {
     "elapsed": 753,
     "status": "ok",
     "timestamp": 1544828540832,
     "user": {
      "displayName": "Ramón Maldonado Rodríguez",
      "photoUrl": "https://lh3.googleusercontent.com/-ljH7hLMa7no/AAAAAAAAAAI/AAAAAAAAAAg/pf-fwlCU1Eg/s64/photo.jpg",
      "userId": "17580681743975451950"
     },
     "user_tz": -60
    },
    "id": "Ngs0zTbfrIg9",
    "outputId": "2be7f0cc-0714-4fcd-db79-53a266212dc5"
   },
   "outputs": [
    {
     "data": {
      "text/plain": [
       "'Lengua Castellana y Literatura I'"
      ]
     },
     "execution_count": 10,
     "metadata": {
      "tags": []
     },
     "output_type": "execute_result"
    }
   ],
   "source": [
    "primero = {'filo': 'Filosofías', 'lext': 'Primera Lengua Extranjera I', 'lent': 'Lengua Castellana y Literatura I', 'arte': 'Fundamentos del Arte I', 'audi': 'Cultura Audiovisual I', 'hist': 'Historia del mundo contemporáneo', 'lite': 'Literatura universal'}\n",
    "\n",
    "primero['lent']\n"
   ]
  },
  {
   "cell_type": "markdown",
   "metadata": {
    "colab_type": "text",
    "id": "47xddooj9eQN"
   },
   "source": [
    "El problema de este tipo de acceso es que si la clave introducida no existe se produce una excepción. Para evitarlo debe utilizarse la instrucción `dict.get('clave')`."
   ]
  },
  {
   "cell_type": "code",
   "execution_count": 11,
   "metadata": {
    "colab": {
     "base_uri": "https://localhost:8080/",
     "height": 166
    },
    "colab_type": "code",
    "executionInfo": {
     "elapsed": 629,
     "status": "error",
     "timestamp": 1544828823193,
     "user": {
      "displayName": "Ramón Maldonado Rodríguez",
      "photoUrl": "https://lh3.googleusercontent.com/-ljH7hLMa7no/AAAAAAAAAAI/AAAAAAAAAAg/pf-fwlCU1Eg/s64/photo.jpg",
      "userId": "17580681743975451950"
     },
     "user_tz": -60
    },
    "id": "cOcXO32HsUK_",
    "outputId": "af87a0de-bf0d-4c6a-b6eb-186982b66dbb"
   },
   "outputs": [
    {
     "ename": "KeyError",
     "evalue": "ignored",
     "output_type": "error",
     "traceback": [
      "\u001b[0;31m---------------------------------------------------------------------------\u001b[0m",
      "\u001b[0;31mKeyError\u001b[0m                                  Traceback (most recent call last)",
      "\u001b[0;32m<ipython-input-11-1cfe478f4fe7>\u001b[0m in \u001b[0;36m<module>\u001b[0;34m()\u001b[0m\n\u001b[0;32m----> 1\u001b[0;31m \u001b[0mprimero\u001b[0m\u001b[0;34m[\u001b[0m\u001b[0;34m'mate'\u001b[0m\u001b[0;34m]\u001b[0m\u001b[0;34m\u001b[0m\u001b[0;34m\u001b[0m\u001b[0m\n\u001b[0m",
      "\u001b[0;31mKeyError\u001b[0m: 'mate'"
     ]
    }
   ],
   "source": [
    "primero['mate']"
   ]
  },
  {
   "cell_type": "code",
   "execution_count": 0,
   "metadata": {
    "colab": {},
    "colab_type": "code",
    "id": "I5qTLXDi4AAa"
   },
   "outputs": [],
   "source": [
    "primero.get('mate')"
   ]
  },
  {
   "cell_type": "markdown",
   "metadata": {
    "colab_type": "text",
    "id": "oMPfO9nT-X4f"
   },
   "source": [
    "## Iteración\n",
    "\n",
    "La forma más basica es con `for`. Al iterar sobre un diccionario este devuelve sus claves por lo que la manera de recorrerlo sera:"
   ]
  },
  {
   "cell_type": "code",
   "execution_count": 14,
   "metadata": {
    "colab": {
     "base_uri": "https://localhost:8080/",
     "height": 140
    },
    "colab_type": "code",
    "executionInfo": {
     "elapsed": 1436,
     "status": "ok",
     "timestamp": 1544828978909,
     "user": {
      "displayName": "Ramón Maldonado Rodríguez",
      "photoUrl": "https://lh3.googleusercontent.com/-ljH7hLMa7no/AAAAAAAAAAI/AAAAAAAAAAg/pf-fwlCU1Eg/s64/photo.jpg",
      "userId": "17580681743975451950"
     },
     "user_tz": -60
    },
    "id": "64I8eGTr-xjU",
    "outputId": "2d2ea55d-0087-4e22-e16a-1b52bb5d68fa"
   },
   "outputs": [
    {
     "name": "stdout",
     "output_type": "stream",
     "text": [
      "filo - Filosofías\n",
      "lext - Primera Lengua Extranjera I\n",
      "lent - Lengua Castellana y Literatura I\n",
      "arte - Fundamentos del Arte I\n",
      "audi - Cultura Audiovisual I\n",
      "hist - Historia del mundo contemporáneo\n",
      "lite - Literatura universal\n"
     ]
    }
   ],
   "source": [
    "for k in primero:\n",
    "  print(k, \"-\", primero[k])"
   ]
  },
  {
   "cell_type": "markdown",
   "metadata": {
    "colab_type": "text",
    "id": "1txamu4p-6SN"
   },
   "source": [
    "Pero además se pueden crear *vistas* del diccionario que también son iterables. Las principales son:\n",
    "- dict.items() → devuelve una tupla con la clave y el valor.\n",
    "- dict.keys() → devuelve una tupla de las claves\n",
    "- dict.values() → devuelve una tupla de los valores del diccionario"
   ]
  },
  {
   "cell_type": "code",
   "execution_count": 15,
   "metadata": {
    "colab": {
     "base_uri": "https://localhost:8080/",
     "height": 140
    },
    "colab_type": "code",
    "executionInfo": {
     "elapsed": 654,
     "status": "ok",
     "timestamp": 1544829184144,
     "user": {
      "displayName": "Ramón Maldonado Rodríguez",
      "photoUrl": "https://lh3.googleusercontent.com/-ljH7hLMa7no/AAAAAAAAAAI/AAAAAAAAAAg/pf-fwlCU1Eg/s64/photo.jpg",
      "userId": "17580681743975451950"
     },
     "user_tz": -60
    },
    "id": "GTmnvUg8_iDH",
    "outputId": "319365ab-2d03-49f4-c8af-45aea231d405"
   },
   "outputs": [
    {
     "name": "stdout",
     "output_type": "stream",
     "text": [
      "filo\n",
      "lext\n",
      "lent\n",
      "arte\n",
      "audi\n",
      "hist\n",
      "lite\n"
     ]
    }
   ],
   "source": [
    "for item in primero.keys():\n",
    "  print(item)\n",
    "  \n"
   ]
  },
  {
   "cell_type": "code",
   "execution_count": 16,
   "metadata": {
    "colab": {
     "base_uri": "https://localhost:8080/",
     "height": 140
    },
    "colab_type": "code",
    "executionInfo": {
     "elapsed": 605,
     "status": "ok",
     "timestamp": 1544829223837,
     "user": {
      "displayName": "Ramón Maldonado Rodríguez",
      "photoUrl": "https://lh3.googleusercontent.com/-ljH7hLMa7no/AAAAAAAAAAI/AAAAAAAAAAg/pf-fwlCU1Eg/s64/photo.jpg",
      "userId": "17580681743975451950"
     },
     "user_tz": -60
    },
    "id": "AVHVHgnp_zHk",
    "outputId": "7b6f2a0a-7738-46db-dbef-bd2a6887fc30"
   },
   "outputs": [
    {
     "name": "stdout",
     "output_type": "stream",
     "text": [
      "Filosofías\n",
      "Primera Lengua Extranjera I\n",
      "Lengua Castellana y Literatura I\n",
      "Fundamentos del Arte I\n",
      "Cultura Audiovisual I\n",
      "Historia del mundo contemporáneo\n",
      "Literatura universal\n"
     ]
    }
   ],
   "source": [
    "for item in primero.values():\n",
    "    print(item)\n"
   ]
  },
  {
   "cell_type": "code",
   "execution_count": 17,
   "metadata": {
    "colab": {
     "base_uri": "https://localhost:8080/",
     "height": 140
    },
    "colab_type": "code",
    "executionInfo": {
     "elapsed": 686,
     "status": "ok",
     "timestamp": 1544829246176,
     "user": {
      "displayName": "Ramón Maldonado Rodríguez",
      "photoUrl": "https://lh3.googleusercontent.com/-ljH7hLMa7no/AAAAAAAAAAI/AAAAAAAAAAg/pf-fwlCU1Eg/s64/photo.jpg",
      "userId": "17580681743975451950"
     },
     "user_tz": -60
    },
    "id": "zNDStst1_qVc",
    "outputId": "390d8d9e-f543-42c7-ece0-4b52be8014a8"
   },
   "outputs": [
    {
     "name": "stdout",
     "output_type": "stream",
     "text": [
      "('filo', 'Filosofías')\n",
      "('lext', 'Primera Lengua Extranjera I')\n",
      "('lent', 'Lengua Castellana y Literatura I')\n",
      "('arte', 'Fundamentos del Arte I')\n",
      "('audi', 'Cultura Audiovisual I')\n",
      "('hist', 'Historia del mundo contemporáneo')\n",
      "('lite', 'Literatura universal')\n"
     ]
    }
   ],
   "source": [
    "for item in primero.items():\n",
    "  print(item)"
   ]
  },
  {
   "cell_type": "markdown",
   "metadata": {
    "colab_type": "text",
    "id": "lk-r5v3cAZMd"
   },
   "source": [
    "## Comprobar si existe una clave\n",
    "\n",
    "Hay dos formas, a saber:\n",
    "- Hacer una petición con get y comprobar lo que devuelve. Si es un `None` el elemento  no existe\n",
    "- Comprobarlo con el operador `in`"
   ]
  },
  {
   "cell_type": "code",
   "execution_count": 19,
   "metadata": {
    "colab": {
     "base_uri": "https://localhost:8080/",
     "height": 52
    },
    "colab_type": "code",
    "executionInfo": {
     "elapsed": 1399,
     "status": "ok",
     "timestamp": 1544829788704,
     "user": {
      "displayName": "Ramón Maldonado Rodríguez",
      "photoUrl": "https://lh3.googleusercontent.com/-ljH7hLMa7no/AAAAAAAAAAI/AAAAAAAAAAg/pf-fwlCU1Eg/s64/photo.jpg",
      "userId": "17580681743975451950"
     },
     "user_tz": -60
    },
    "id": "N5gJRLvgAwEU",
    "outputId": "ec073225-f9f2-42dc-e3e4-7dd2436e9ad9"
   },
   "outputs": [
    {
     "name": "stdout",
     "output_type": "stream",
     "text": [
      "mate no existe\n",
      "mate no existe\n"
     ]
    }
   ],
   "source": [
    "# Comprobar con get\n",
    "if primero.get('mate') != None:\n",
    "  print(primero['mate'])\n",
    "else:\n",
    "  print('mate no existe')\n",
    "  \n",
    "# Comprobar con in\n",
    "if 'mate' in primero:\n",
    "  print(primero['mate'])\n",
    "else:\n",
    "  print('mate no existe')"
   ]
  }
 ],
 "metadata": {
  "colab": {
   "name": "05.0 - Diccionarios.ipynb",
   "provenance": [],
   "version": "0.3.2"
  },
  "kernelspec": {
   "display_name": "Python 3",
   "language": "python",
   "name": "python3"
  },
  "language_info": {
   "codemirror_mode": {
    "name": "ipython",
    "version": 3
   },
   "file_extension": ".py",
   "mimetype": "text/x-python",
   "name": "python",
   "nbconvert_exporter": "python",
   "pygments_lexer": "ipython3",
   "version": "3.7.1"
  }
 },
 "nbformat": 4,
 "nbformat_minor": 1
}
