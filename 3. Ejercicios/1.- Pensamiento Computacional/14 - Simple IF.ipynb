{
 "cells": [
  {
   "cell_type": "markdown",
   "metadata": {
    "colab_type": "text",
    "id": "DyBOwDUqqOA-"
   },
   "source": [
    "# Tasa autonómica\n",
    "\n",
    "Construye un programa que aplique una tasa a un precio en función de donde se aplique. Así si la provincia en la que se aplica es 'VA' (Valencia) se debe incrementar el precio en un 5,5%. En otro caso no se aplicará esta tasa. La salida debe ser distinta en función de la provincia, así:\n",
    "- Si el precio es 10 €\n",
    "\n",
    "```\n",
    "- Provincia = 'VA':\n",
    "        El subtotal es 10.00€\n",
    "        La tasa es 0.55€\n",
    "        El total es 10.55€\n",
    "\n",
    "- Provincia != 'VA':\n",
    "        El total es 10.00€\n",
    "```\n",
    "\n",
    "## Restricciones\n",
    "\n",
    "- Implementar este programa usando sólo un `if` sin usar `else`\n",
    "- Las cifras en € deben estar redondeadas al céntimo\n",
    "- Utiliza una sola sentencia print para dar el resultado"
   ]
  },
  {
   "cell_type": "markdown",
   "metadata": {
    "colab_type": "text",
    "id": "rnOdxysT7b9m"
   },
   "source": [
    "## Retos\n",
    "\n",
    "1. Permitir al usuario introducir su provincia en mayúsculas, minúsculas o mixto\n",
    "2. Permitir al usuario introducir el nombre completo de su provincia en mayúsculas, minúsculas o mixto"
   ]
  }
 ],
 "metadata": {
  "colab": {
   "collapsed_sections": [],
   "name": "14 - Simple IF.ipynb",
   "provenance": [],
   "version": "0.3.2"
  },
  "kernelspec": {
   "display_name": "Python 3",
   "language": "python",
   "name": "python3"
  },
  "language_info": {
   "codemirror_mode": {
    "name": "ipython",
    "version": 3
   },
   "file_extension": ".py",
   "mimetype": "text/x-python",
   "name": "python",
   "nbconvert_exporter": "python",
   "pygments_lexer": "ipython3",
   "version": "3.7.3"
  }
 },
 "nbformat": 4,
 "nbformat_minor": 1
}
