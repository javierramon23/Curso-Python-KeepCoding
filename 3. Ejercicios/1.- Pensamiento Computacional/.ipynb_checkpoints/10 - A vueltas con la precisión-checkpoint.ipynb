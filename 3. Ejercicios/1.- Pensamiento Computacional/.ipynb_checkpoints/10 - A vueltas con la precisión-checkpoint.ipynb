{
 "cells": [
  {
   "cell_type": "markdown",
   "metadata": {
    "colab_type": "text",
    "id": "rnjs_ONn63b5"
   },
   "source": [
    "# Aplicando impuestos\n",
    "\n",
    "Haz un programa que aplique un impuesto de 5,5% sobre tres precios introducidos por el usuario. Deben introducirse también el número de ejemplares de producto de cada precio que se compran. Se debe imprimir el subtotal sin tasas, la tasa y la suma de ambos\n",
    "\n",
    "## Restricciones\n",
    "1. Manten separadas las partes de entrada, salida y proceso de tu programa\n"
   ]
  },
  {
   "cell_type": "markdown",
   "metadata": {
    "colab_type": "text",
    "id": "LvCkgUpM9YJB"
   },
   "source": [
    "## Retos\n",
    "\n",
    "1. Comprobar que la entrada sea numérica e impedir continuar si no es así\n",
    "2. Permitir que el programa tenga un número indeterminado de productos y cantidades de entrada"
   ]
  }
 ],
 "metadata": {
  "colab": {
   "collapsed_sections": [],
   "name": "10 - A vueltas con la precisión.ipynb",
   "provenance": [],
   "version": "0.3.2"
  },
  "kernelspec": {
   "display_name": "Python 3",
   "language": "python",
   "name": "python3"
  },
  "language_info": {
   "codemirror_mode": {
    "name": "ipython",
    "version": 3
   },
   "file_extension": ".py",
   "mimetype": "text/x-python",
   "name": "python",
   "nbconvert_exporter": "python",
   "pygments_lexer": "ipython3",
   "version": "3.7.1"
  }
 },
 "nbformat": 4,
 "nbformat_minor": 1
}
