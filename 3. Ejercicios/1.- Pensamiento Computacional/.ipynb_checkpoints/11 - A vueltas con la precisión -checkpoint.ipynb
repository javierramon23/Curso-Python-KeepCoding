{
 "cells": [
  {
   "cell_type": "markdown",
   "metadata": {
    "colab_type": "text",
    "id": "hf3Z09BQ92Ge"
   },
   "source": [
    "# Conversión de divisas\n",
    "\n",
    "Crear un programa que pase de dolares a euros. El programa pedirá la tasa de cambio de dolares a euros (cuantos euros se necesitan para tener un dolar). El programa debe devolver lo siguiente \n",
    "```\n",
    "X dolares a una tasa de cambio de Y\n",
    "Total €\n",
    "```\n",
    "\n",
    "## Restricciones\n",
    "\n",
    "1. Asegúrate de que la entrada se redondea al centavo\n",
    "2. Utiliza una única sentencia de salida"
   ]
  },
  {
   "cell_type": "markdown",
   "metadata": {
    "colab_type": "text",
    "id": "9-UbK25e_Zdd"
   },
   "source": [
    "## Retos\n",
    "\n",
    "1. Crea un diccionario de tasas de conversión y pregunta por paises, no por monedas."
   ]
  }
 ],
 "metadata": {
  "colab": {
   "collapsed_sections": [],
   "name": "11 - A vueltas con la precisión .ipynb",
   "provenance": [],
   "version": "0.3.2"
  },
  "kernelspec": {
   "display_name": "Python 3",
   "language": "python",
   "name": "python3"
  },
  "language_info": {
   "codemirror_mode": {
    "name": "ipython",
    "version": 3
   },
   "file_extension": ".py",
   "mimetype": "text/x-python",
   "name": "python",
   "nbconvert_exporter": "python",
   "pygments_lexer": "ipython3",
   "version": "3.7.1"
  }
 },
 "nbformat": 4,
 "nbformat_minor": 1
}
