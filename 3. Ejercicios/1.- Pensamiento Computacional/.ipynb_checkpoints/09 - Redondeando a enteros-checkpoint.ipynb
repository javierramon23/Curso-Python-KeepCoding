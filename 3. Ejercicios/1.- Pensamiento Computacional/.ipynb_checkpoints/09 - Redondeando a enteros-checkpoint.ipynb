{
 "cells": [
  {
   "cell_type": "markdown",
   "metadata": {
    "colab_type": "text",
    "id": "Q3-6Ziop65tD"
   },
   "source": [
    "# Pintando el techo\n",
    "\n",
    "5 litros de pintura dan para pintar 100 metros cuadrados de techo. Teniendo esto en cuenta haz un programa que diga cuantos botes de 5 litros de pintura hay que comprar para pintar un techo de anchura y profundidad informada por el usuario (en metros). Devuelve el número de botes suficiente y por supuesto en números enteros.\n",
    "\n",
    "```\n",
    "Necesitarás 12 litros para pintar 240 metros cuadrados de techo.\n",
    "\n",
    "Debes comprar 3 botes de pintura.\n",
    "```\n",
    "## Restricciones \n",
    "1. Utiliza una constante para calcular la conversión botes de pintura/metros de techo\n",
    "2. Asegurate de comprar un número entero de botes de pintura suficiente (el siguiente número entero) pero no de más"
   ]
  },
  {
   "cell_type": "markdown",
   "metadata": {
    "colab_type": "text",
    "id": "o-9r58tl__md"
   },
   "source": [
    "## Retos\n",
    "\n",
    "1. Revisar que la entrada sean números positivos. Si no es así no dejar que el usuario continue\n",
    "2. Hacer el cálculo para habitación redonda\n",
    "3. Hacer el cálculo para habitación en forma de L"
   ]
  }
 ],
 "metadata": {
  "colab": {
   "collapsed_sections": [],
   "name": "09 - Redondeando a enteros.ipynb",
   "provenance": [],
   "version": "0.3.2"
  },
  "kernelspec": {
   "display_name": "Python 3",
   "language": "python",
   "name": "python3"
  },
  "language_info": {
   "codemirror_mode": {
    "name": "ipython",
    "version": 3
   },
   "file_extension": ".py",
   "mimetype": "text/x-python",
   "name": "python",
   "nbconvert_exporter": "python",
   "pygments_lexer": "ipython3",
   "version": "3.7.1"
  }
 },
 "nbformat": 4,
 "nbformat_minor": 1
}
