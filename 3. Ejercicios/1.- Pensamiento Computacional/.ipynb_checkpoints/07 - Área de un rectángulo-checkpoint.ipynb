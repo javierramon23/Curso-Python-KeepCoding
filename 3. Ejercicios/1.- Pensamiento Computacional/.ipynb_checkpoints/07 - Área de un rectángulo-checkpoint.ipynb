{
 "cells": [
  {
   "cell_type": "markdown",
   "metadata": {
    "colab_type": "text",
    "id": "KlHvEQ-BxqrT"
   },
   "source": [
    "# Area de un rectángulo\n",
    "\n",
    "Pide la entrada del ancho y profundo de la habitación en metros. Devuelve la superficie en metros cuadrados y en yardas cuadradas (tomando la referencia de [aquí](https://es.wikipedia.org/wiki/Sistema_anglosaj%C3%B3n_de_unidades)).\n",
    "\n",
    "## Restricciones\n",
    "\n",
    "1. Mantener los cálculos separados de la salida\n",
    "2. Usa una constante para las conversiones de unidades ([aquí](https://es.wikipedia.org/wiki/Sistema_anglosaj%C3%B3n_de_unidades))"
   ]
  },
  {
   "cell_type": "markdown",
   "metadata": {
    "colab_type": "text",
    "id": "wa2F2egw06HF"
   },
   "source": [
    "## Retos\n",
    "\n",
    "1. Fuerza a que las entradas sean numéricas. Si no son numericas el usuario no podrá continuar.\n",
    "2. Crea una versión del programa que permita elegir si la entrada va en metros o en yardas"
   ]
  }
 ],
 "metadata": {
  "colab": {
   "collapsed_sections": [],
   "name": "07 - Área de un rectángulo.ipynb",
   "provenance": [],
   "version": "0.3.2"
  },
  "kernelspec": {
   "display_name": "Python 3",
   "language": "python",
   "name": "python3"
  },
  "language_info": {
   "codemirror_mode": {
    "name": "ipython",
    "version": 3
   },
   "file_extension": ".py",
   "mimetype": "text/x-python",
   "name": "python",
   "nbconvert_exporter": "python",
   "pygments_lexer": "ipython3",
   "version": "3.7.1"
  }
 },
 "nbformat": 4,
 "nbformat_minor": 1
}
