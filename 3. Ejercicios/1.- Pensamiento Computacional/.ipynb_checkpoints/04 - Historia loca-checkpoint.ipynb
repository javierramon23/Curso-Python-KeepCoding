{
 "cells": [
  {
   "cell_type": "markdown",
   "metadata": {
    "colab_type": "text",
    "id": "O1BP8Swj42DP"
   },
   "source": [
    "# Concatenando cadenas\n",
    "\n",
    "Crear un programa que pida nombre, verbo, adverbio y adjetivo y con ellos construya una historia. Utilizar una plantilla con los huecos donde colocar el nombre, el verbo, el adverbio y el adjetivo. Eligiendo bien la plantilla la frase puede resultar absurda y hasta graciosa.\n",
    "\n",
    "## Restricciones\n",
    "\n",
    "1. Utilizar un solo print en el programa\n",
    "2. Hacer una versión utilizando substitucion "
   ]
  },
  {
   "cell_type": "markdown",
   "metadata": {
    "colab_type": "text",
    "id": "my2jtMyT9z3Z"
   },
   "source": [
    "## Retos\n",
    "\n",
    "1. Introducir más datos para complicar y aumentar la historia\n",
    "2. Construye una historia del estilo de los libros de *Construye tu propia aventura* de forma que la historia derive según se elija una u otra opción."
   ]
  }
 ],
 "metadata": {
  "colab": {
   "collapsed_sections": [],
   "name": "04 - Historia loca.ipynb",
   "provenance": [],
   "version": "0.3.2"
  },
  "kernelspec": {
   "display_name": "Python 3",
   "language": "python",
   "name": "python3"
  },
  "language_info": {
   "codemirror_mode": {
    "name": "ipython",
    "version": 3
   },
   "file_extension": ".py",
   "mimetype": "text/x-python",
   "name": "python",
   "nbconvert_exporter": "python",
   "pygments_lexer": "ipython3",
   "version": "3.7.1"
  }
 },
 "nbformat": 4,
 "nbformat_minor": 1
}
