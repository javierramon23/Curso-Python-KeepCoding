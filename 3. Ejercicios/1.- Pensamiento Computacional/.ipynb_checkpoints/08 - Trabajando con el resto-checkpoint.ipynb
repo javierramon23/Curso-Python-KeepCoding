{
 "cells": [
  {
   "cell_type": "markdown",
   "metadata": {
    "colab_type": "text",
    "id": "EOH8qCYz3DWL"
   },
   "source": [
    "# Repartiendo pizza\n",
    "\n",
    "Escribir un programa que sabiendo cuantas personas hay en una reunión y cuantas pizzas se han comprado, queriendo que cada persona tenga una porción de cada pizza. La pizza sólo puede dividirse en un número par de porciones\n",
    "\n",
    "```\n",
    "¿Número de personas? 7\n",
    "¿Número de pizzas? 3\n",
    "\n",
    "7 personas con 3 pizzas\n",
    "Cada persona toma 3 piezas\n",
    "Sobran 3 porciones\n",
    "```"
   ]
  },
  {
   "cell_type": "markdown",
   "metadata": {
    "colab_type": "text",
    "id": "wMjkk4Cc50KS"
   },
   "source": [
    "## Retos\n",
    "\n",
    "1. Asegurar que la entrada es numerica, positiva y entera. En otro caso impedir que el usuario continue\n",
    "2. Escribir los mensajes de salida con formato singular/plural adecuado\n",
    "3. Crear un programa que diga cuantas pizzas hay que comprar preguntando personas y porciones de pizza que quieren tomar. Recuerda que las pizzas siempre se dividen en un número par de porciones"
   ]
  }
 ],
 "metadata": {
  "colab": {
   "collapsed_sections": [],
   "name": "08 - Trabajando con el resto.ipynb",
   "provenance": [],
   "version": "0.3.2"
  },
  "kernelspec": {
   "display_name": "Python 3",
   "language": "python",
   "name": "python3"
  },
  "language_info": {
   "codemirror_mode": {
    "name": "ipython",
    "version": 3
   },
   "file_extension": ".py",
   "mimetype": "text/x-python",
   "name": "python",
   "nbconvert_exporter": "python",
   "pygments_lexer": "ipython3",
   "version": "3.7.1"
  }
 },
 "nbformat": 4,
 "nbformat_minor": 1
}
