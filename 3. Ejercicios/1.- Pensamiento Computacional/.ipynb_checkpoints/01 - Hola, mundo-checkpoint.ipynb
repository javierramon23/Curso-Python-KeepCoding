{
 "cells": [
  {
   "cell_type": "markdown",
   "metadata": {
    "colab_type": "text",
    "id": "eJVjMw6_yeW-"
   },
   "source": [
    "# Hola, mundo\n",
    "\n",
    "Hacer un programa que pida el nombre y te salude por tu nombre\n",
    "\n",
    "## Restricciones\n",
    "\n",
    "Mantener entrada, salida y concatenación separados"
   ]
  },
  {
   "cell_type": "markdown",
   "metadata": {
    "colab_type": "text",
    "id": "tM2W12HazHCX"
   },
   "source": [
    "## Retos\n",
    "\n",
    "1. Escribir el programa sin usar variables\n",
    "2. Escribir un programa que devuelva diferentes tipos de saludos a diferentes tipos de persona.\n"
   ]
  }
 ],
 "metadata": {
  "colab": {
   "collapsed_sections": [],
   "name": "01 - Hola, mundo.ipynb",
   "provenance": [],
   "version": "0.3.2"
  },
  "kernelspec": {
   "display_name": "Python 3",
   "language": "python",
   "name": "python3"
  },
  "language_info": {
   "codemirror_mode": {
    "name": "ipython",
    "version": 3
   },
   "file_extension": ".py",
   "mimetype": "text/x-python",
   "name": "python",
   "nbconvert_exporter": "python",
   "pygments_lexer": "ipython3",
   "version": "3.7.1"
  }
 },
 "nbformat": 4,
 "nbformat_minor": 1
}
