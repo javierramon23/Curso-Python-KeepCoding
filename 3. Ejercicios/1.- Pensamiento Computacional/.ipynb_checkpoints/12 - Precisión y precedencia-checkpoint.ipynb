{
 "cells": [
  {
   "cell_type": "markdown",
   "metadata": {
    "colab_type": "text",
    "id": "ai4j58d6AzJw"
   },
   "source": [
    "# Cálculo de interés simple\n",
    "\n",
    "Crear un programa que calcule el interés simple, teniendo en cuenta que se calcula con la siguiente fórmula:\n",
    "\n",
    ">$ A = P · (1 + rt) $\n",
    "\n",
    "donde *A* es la cantidad ganada, *P* la cantidad invertida, *r* el interes y *t* los años transcurridos desde el inicio de la inversión\n",
    "\n",
    "```\n",
    "Tras X años de inversión al Y %, su cantidad debe ser T\n",
    "```\n",
    "\n",
    "\n",
    "## Restricciones\n",
    "1. La tasa de interés debe introducirse como porcentaje y no decimal, es decir *15* y no *0,15*\n",
    "2. La inversión debe redondearse al céntimo\n",
    "3. La salida debe formatearse como divisa (€)"
   ]
  },
  {
   "cell_type": "markdown",
   "metadata": {
    "colab_type": "text",
    "id": "Qc5BWrwlFeW-"
   },
   "source": [
    "## Retos\n",
    "\n",
    "1. Valida que las entradas sean numéricas y que el usuario no pueda continuar si no introduce un número\n",
    "2. Modifica el programa para que imprima el valor de la inversión cada año de la misma hasta llegar al valor pedido"
   ]
  }
 ],
 "metadata": {
  "colab": {
   "collapsed_sections": [],
   "name": "12 - Precisión y precedencia.ipynb",
   "provenance": [],
   "version": "0.3.2"
  },
  "kernelspec": {
   "display_name": "Python 3",
   "language": "python",
   "name": "python3"
  },
  "language_info": {
   "codemirror_mode": {
    "name": "ipython",
    "version": 3
   },
   "file_extension": ".py",
   "mimetype": "text/x-python",
   "name": "python",
   "nbconvert_exporter": "python",
   "pygments_lexer": "ipython3",
   "version": "3.7.1"
  }
 },
 "nbformat": 4,
 "nbformat_minor": 1
}
