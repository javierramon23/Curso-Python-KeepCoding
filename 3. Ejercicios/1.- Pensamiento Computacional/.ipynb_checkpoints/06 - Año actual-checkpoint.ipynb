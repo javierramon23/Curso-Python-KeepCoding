{
 "cells": [
  {
   "cell_type": "markdown",
   "metadata": {
    "colab_type": "text",
    "id": "_1S1cHO5XQXa"
   },
   "source": [
    "# Cálculo de la jubilación\n",
    "\n",
    "Incorpora el año actual al programa. Crea un programa que cuente cuantos años faltan para tu jubilación y que te diga el año en que te jubilarás. Algo así\n",
    "\n",
    "```\n",
    "¿Cuantos años tienes? 48\n",
    "¿A qué edad te jubilarás? 67\n",
    "Te quedan 19 años para jubilarte\n",
    "Estamos en 2018, te jubilarás en 2037.\n",
    "```\n",
    "## Restricciones\n",
    "\n",
    "1. Convertir las cadenas de entrada en números\n",
    "2. Obten el año actual como lo haga python (no vale ponerlo como constante en el programa)"
   ]
  },
  {
   "cell_type": "markdown",
   "metadata": {
    "colab_type": "text",
    "id": "xHRRsZmuwt5C"
   },
   "source": [
    "## Reto\n",
    "\n",
    "Maneja la situación si el programa devuelve un número negativo de modo que diga que ya puede jubilarse"
   ]
  }
 ],
 "metadata": {
  "colab": {
   "collapsed_sections": [],
   "name": "06 - Año actual.ipynb",
   "provenance": [],
   "version": "0.3.2"
  },
  "kernelspec": {
   "display_name": "Python 3",
   "language": "python",
   "name": "python3"
  },
  "language_info": {
   "codemirror_mode": {
    "name": "ipython",
    "version": 3
   },
   "file_extension": ".py",
   "mimetype": "text/x-python",
   "name": "python",
   "nbconvert_exporter": "python",
   "pygments_lexer": "ipython3",
   "version": "3.7.1"
  }
 },
 "nbformat": 4,
 "nbformat_minor": 1
}
