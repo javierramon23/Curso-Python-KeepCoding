{
 "cells": [
  {
   "cell_type": "markdown",
   "metadata": {
    "colab_type": "text",
    "id": "R9aLJiChm3Dr"
   },
   "source": [
    "# Imprimiendo comillas\n",
    "\n",
    "Construir un programa que pida una cita y un autor y devuelva una única cadena con la cita entre comillas y el autor.\n",
    "\n",
    "## Restricciones\n",
    "\n",
    "1. No usar format ni %. Hacerlo concatenando cadenas y escapando caracteres"
   ]
  }
 ],
 "metadata": {
  "colab": {
   "collapsed_sections": [],
   "name": "03 - Concatenar con comillas.ipynb",
   "provenance": [],
   "version": "0.3.2"
  },
  "kernelspec": {
   "display_name": "Python 3",
   "language": "python",
   "name": "python3"
  },
  "language_info": {
   "codemirror_mode": {
    "name": "ipython",
    "version": 3
   },
   "file_extension": ".py",
   "mimetype": "text/x-python",
   "name": "python",
   "nbconvert_exporter": "python",
   "pygments_lexer": "ipython3",
   "version": "3.7.1"
  }
 },
 "nbformat": 4,
 "nbformat_minor": 1
}
