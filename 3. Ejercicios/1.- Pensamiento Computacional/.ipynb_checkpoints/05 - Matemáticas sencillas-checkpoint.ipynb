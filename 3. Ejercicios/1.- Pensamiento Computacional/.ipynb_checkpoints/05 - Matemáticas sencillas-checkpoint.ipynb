{
 "cells": [
  {
   "cell_type": "markdown",
   "metadata": {
    "colab_type": "text",
    "id": "f1dOtMir-p0x"
   },
   "source": [
    "# Operaciones aritméticas\n",
    "\n",
    "Escribe un programa que pida dos números y que devuelva su suma, resta, producto y división.\n",
    "\n",
    "## Restricciones\n",
    "\n",
    "1. Convertir las cadenas de entrada en números\n",
    "2. Separar convenientemente la entrada, transformación de cadena en números y salida separados\n",
    "3. Crea una única sentencia de salida con los saltos de línea adecuados (sólo un print)"
   ]
  },
  {
   "cell_type": "markdown",
   "metadata": {
    "colab_type": "text",
    "id": "LKHxWRr__7jo"
   },
   "source": [
    "## Retos\n",
    "\n",
    "1. Controla que las entradas sean números de forma que el programa no avance si no se introduce un número\n",
    "2. No permitas introducir números negativos\n"
   ]
  }
 ],
 "metadata": {
  "colab": {
   "collapsed_sections": [],
   "name": "05 - Matemáticas sencillas.ipynb",
   "provenance": [],
   "version": "0.3.2"
  },
  "kernelspec": {
   "display_name": "Python 3",
   "language": "python",
   "name": "python3"
  },
  "language_info": {
   "codemirror_mode": {
    "name": "ipython",
    "version": 3
   },
   "file_extension": ".py",
   "mimetype": "text/x-python",
   "name": "python",
   "nbconvert_exporter": "python",
   "pygments_lexer": "ipython3",
   "version": "3.7.1"
  }
 },
 "nbformat": 4,
 "nbformat_minor": 1
}
