{
 "cells": [
  {
   "cell_type": "markdown",
   "metadata": {
    "colab_type": "text",
    "id": "oWPgVOkt2ezm"
   },
   "source": [
    "# Calculando el interés compuesto\n",
    "\n",
    "Introduciremos aquí los exponentes. En préstamos o inversiones a largo plazo se suele utilizar más el interes compuesto que el simple ([diferencias entre ambos](https://youtu.be/DjS7B63QgDU)). Se trata ahora de escribir un programa que calcule el interés compuesto sobre un capital a lo largo del tiempo.\n",
    "\n",
    "El programa ha de pedir el **capital inicial**, el **interes anual**, el **número de años de la inversión** y el número de veces que se calcula en interés en el año. La fórmula a aplicar es:\n",
    "\n",
    ">$ A = P(1 + \\frac{r}{n})^{nt} $\n",
    "\n",
    "donde \n",
    "- P es el capital inicial\n",
    "- r el interes anual\n",
    "- t los años que dura la inversión (o préstamo)\n",
    "- n el número de veces que se acumula el interés por año (por ejemplo 12 si es mensual)\n",
    "- A es la cantidad al final de la inversión,\n",
    "\n",
    "Así, para:\n",
    "- 1500 € de capital inicial\n",
    "- 4,3% de interes\n",
    "- 6 años de duración del préstamo \n",
    "- Se calcula el interés al trimestre (4 periodos por año)\n",
    "\n",
    "El programa debería devolver\n",
    "\n",
    "```\n",
    "1500.00 € invertidos al 4.3% durante 6 años con 4 periodos de imposición por año se transforman en 1938.84 €\n",
    "```\n",
    "\n",
    "## Restricciones\n",
    "\n",
    "1. El interés se introduce como % no como tanto por uno (15 en lugar de 0.15)\n",
    "2. Asegurar que las cantidades en euros estén ajustadas al céntimo\n",
    "\n"
   ]
  },
  {
   "cell_type": "markdown",
   "metadata": {
    "colab_type": "text",
    "id": "7QKBkuBCNlBW"
   },
   "source": [
    "## Retos\n",
    "\n",
    "1. Impedir que el usuario siga con el proceso si no introduce valores numéricos correctos\n",
    "2. Hacer una versión del programa que actúe al revés. Conociendo el tipo de interés, los años y periodos de imposición y sabiendo que suma total se quiere conseguir el programa debe indicar el capital inicial a invertir\n",
    "3."
   ]
  }
 ],
 "metadata": {
  "colab": {
   "collapsed_sections": [],
   "name": "13 - Precisión y precedencia (II).ipynb",
   "provenance": [],
   "version": "0.3.2"
  },
  "kernelspec": {
   "display_name": "Python 3",
   "language": "python",
   "name": "python3"
  },
  "language_info": {
   "codemirror_mode": {
    "name": "ipython",
    "version": 3
   },
   "file_extension": ".py",
   "mimetype": "text/x-python",
   "name": "python",
   "nbconvert_exporter": "python",
   "pygments_lexer": "ipython3",
   "version": "3.7.1"
  }
 },
 "nbformat": 4,
 "nbformat_minor": 1
}
