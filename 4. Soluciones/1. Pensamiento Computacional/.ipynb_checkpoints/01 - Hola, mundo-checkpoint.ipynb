{
 "cells": [
  {
   "cell_type": "markdown",
   "metadata": {
    "colab_type": "text",
    "id": "eJVjMw6_yeW-"
   },
   "source": [
    "# Hola, mundo\n",
    "\n",
    "Hacer un programa que pida el nombre y te salude por tu nombre\n",
    "\n",
    "## Restricciones\n",
    "\n",
    "Mantener entrada, salida y concatenación separados"
   ]
  },
  {
   "cell_type": "code",
   "execution_count": 0,
   "metadata": {
    "colab": {
     "base_uri": "https://localhost:8080/",
     "height": 56
    },
    "colab_type": "code",
    "executionInfo": {
     "elapsed": 8186,
     "status": "ok",
     "timestamp": 1542024090065,
     "user": {
      "displayName": "Ramón Maldonado Rodríguez",
      "photoUrl": "https://lh3.googleusercontent.com/-ljH7hLMa7no/AAAAAAAAAAI/AAAAAAAAAAg/pf-fwlCU1Eg/s64/photo.jpg",
      "userId": "17580681743975451950"
     },
     "user_tz": -60
    },
    "id": "bKG_sTI_ydnw",
    "outputId": "7c7afa64-ca2e-48e0-f082-68c75feb8410"
   },
   "outputs": [
    {
     "name": "stdout",
     "output_type": "stream",
     "text": [
      "¿Cómo te llamas? Mon\n",
      "Hola, Mon. ¿Cómo estás?\n"
     ]
    }
   ],
   "source": [
    "nombre = input(\"¿Cómo te llamas? \")\n",
    "output = \"Hola, \" + nombre + \". ¿Cómo estás?\"\n",
    "print(output)"
   ]
  },
  {
   "cell_type": "markdown",
   "metadata": {
    "colab_type": "text",
    "id": "tM2W12HazHCX"
   },
   "source": [
    "## Retos\n",
    "\n",
    "1. Escribir el programa sin usar variables\n",
    "2. Escribir un programa que devuelva diferentes tipos de saludos a diferentes tipos de persona.\n"
   ]
  },
  {
   "cell_type": "markdown",
   "metadata": {
    "colab_type": "text",
    "id": "q06zhAyB5ccF"
   },
   "source": [
    "## Primer reto"
   ]
  },
  {
   "cell_type": "code",
   "execution_count": 1,
   "metadata": {
    "colab": {
     "base_uri": "https://localhost:8080/",
     "height": 55
    },
    "colab_type": "code",
    "executionInfo": {
     "elapsed": 5634,
     "status": "ok",
     "timestamp": 1544038961069,
     "user": {
      "displayName": "Ramón Maldonado Rodríguez",
      "photoUrl": "https://lh3.googleusercontent.com/-ljH7hLMa7no/AAAAAAAAAAI/AAAAAAAAAAg/pf-fwlCU1Eg/s64/photo.jpg",
      "userId": "17580681743975451950"
     },
     "user_tz": -60
    },
    "id": "u008Jmal4yIc",
    "outputId": "ab5c5873-3f3c-4551-85a2-acbfd45aadeb"
   },
   "outputs": [
    {
     "name": "stdout",
     "output_type": "stream",
     "text": [
      "¿Cómo te llamas? Mon\n",
      "Hola,Mon. ¿Cómo estás?\n"
     ]
    }
   ],
   "source": [
    "print(\"Hola,\" + input(\"¿Cómo te llamas? \") + \". ¿Cómo estás?\")"
   ]
  },
  {
   "cell_type": "markdown",
   "metadata": {
    "colab_type": "text",
    "id": "EtgRtslq5fUD"
   },
   "source": [
    "## Segundo Reto"
   ]
  },
  {
   "cell_type": "code",
   "execution_count": 4,
   "metadata": {
    "colab": {
     "base_uri": "https://localhost:8080/",
     "height": 55
    },
    "colab_type": "code",
    "executionInfo": {
     "elapsed": 4523,
     "status": "ok",
     "timestamp": 1544039226820,
     "user": {
      "displayName": "Ramón Maldonado Rodríguez",
      "photoUrl": "https://lh3.googleusercontent.com/-ljH7hLMa7no/AAAAAAAAAAI/AAAAAAAAAAg/pf-fwlCU1Eg/s64/photo.jpg",
      "userId": "17580681743975451950"
     },
     "user_tz": -60
    },
    "id": "iRmc2V6n5idO",
    "outputId": "b055436a-c5bf-4169-d677-4ce34b6db38d"
   },
   "outputs": [
    {
     "name": "stdout",
     "output_type": "stream",
     "text": [
      "¿Cómo te llamas? Cristina\n",
      "Hola,  Cristina\n"
     ]
    }
   ],
   "source": [
    "nombre = input(\"¿Cómo te llamas? \")\n",
    "\n",
    "if nombre == \"Mon\":\n",
    "  print(\"Hola,\", nombre, \"¿Cómo estás? \")\n",
    "elif nombre == \"Pilar\":\n",
    "  print(\"Hola, Pili. Encantado de volver a verte\")\n",
    "elif nombre == \"Belen\":\n",
    "  print(\"¿Qué pachaaaaa? \")\n",
    "elif nombre == \"Marisa\":\n",
    "  print(\"A las órdenes de vuecencia, doña Marisa\")\n",
    "else:\n",
    "  print(\"Hola, \", nombre)"
   ]
  },
  {
   "cell_type": "code",
   "execution_count": 31,
   "metadata": {
    "colab": {
     "base_uri": "https://localhost:8080/",
     "height": 55
    },
    "colab_type": "code",
    "executionInfo": {
     "elapsed": 6019,
     "status": "ok",
     "timestamp": 1544039819612,
     "user": {
      "displayName": "Ramón Maldonado Rodríguez",
      "photoUrl": "https://lh3.googleusercontent.com/-ljH7hLMa7no/AAAAAAAAAAI/AAAAAAAAAAg/pf-fwlCU1Eg/s64/photo.jpg",
      "userId": "17580681743975451950"
     },
     "user_tz": -60
    },
    "id": "BLmQfKCS6c1L",
    "outputId": "48cc87f5-2545-4b71-d80b-3cf99df0f1d2"
   },
   "outputs": [
    {
     "name": "stdout",
     "output_type": "stream",
     "text": [
      "¿Cómo te llamas? Mon\n",
      "Buenos días,  Mon\n"
     ]
    }
   ],
   "source": [
    "import random\n",
    "saludos = (\"Hola, \", \"Buenos días, \", \"¿Que pasa?, \", \"¿Como estás?, \")\n",
    "\n",
    "nombre = input(\"¿Cómo te llamas? \")\n",
    "\n",
    "nSaludo = random.randint(0,3)\n",
    "\n",
    "print(saludos[nSaludo], nombre)"
   ]
  },
  {
   "cell_type": "code",
   "execution_count": 29,
   "metadata": {
    "colab": {
     "base_uri": "https://localhost:8080/",
     "height": 36
    },
    "colab_type": "code",
    "executionInfo": {
     "elapsed": 667,
     "status": "ok",
     "timestamp": 1544039790256,
     "user": {
      "displayName": "Ramón Maldonado Rodríguez",
      "photoUrl": "https://lh3.googleusercontent.com/-ljH7hLMa7no/AAAAAAAAAAI/AAAAAAAAAAg/pf-fwlCU1Eg/s64/photo.jpg",
      "userId": "17580681743975451950"
     },
     "user_tz": -60
    },
    "id": "fr1JBTbS65IT",
    "outputId": "e82f9302-6923-4b8e-b982-f698e2078703"
   },
   "outputs": [
    {
     "data": {
      "text/plain": [
       "2"
      ]
     },
     "execution_count": 29,
     "metadata": {
      "tags": []
     },
     "output_type": "execute_result"
    }
   ],
   "source": [
    "import random\n",
    "random.randint(0,3)\n"
   ]
  }
 ],
 "metadata": {
  "colab": {
   "name": "01 - Hola, mundo.ipynb",
   "provenance": [],
   "version": "0.3.2"
  },
  "kernelspec": {
   "display_name": "Python 3",
   "language": "python",
   "name": "python3"
  },
  "language_info": {
   "codemirror_mode": {
    "name": "ipython",
    "version": 3
   },
   "file_extension": ".py",
   "mimetype": "text/x-python",
   "name": "python",
   "nbconvert_exporter": "python",
   "pygments_lexer": "ipython3",
   "version": "3.7.1"
  }
 },
 "nbformat": 4,
 "nbformat_minor": 1
}
