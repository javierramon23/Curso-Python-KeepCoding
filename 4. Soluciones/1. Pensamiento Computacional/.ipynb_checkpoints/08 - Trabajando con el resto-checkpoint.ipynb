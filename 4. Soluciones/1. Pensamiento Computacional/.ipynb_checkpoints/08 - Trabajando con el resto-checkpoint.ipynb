{
 "cells": [
  {
   "cell_type": "markdown",
   "metadata": {
    "colab_type": "text",
    "id": "EOH8qCYz3DWL"
   },
   "source": [
    "# Repartiendo pizza\n",
    "\n",
    "Escribir un programa que sabiendo cuantas personas hay en una reunión y cuantas pizzas se han comprado, queriendo que cada persona tenga una porción de cada pizza. La pizza sólo puede dividirse en un número par de porciones\n",
    "\n",
    "```\n",
    "¿Número de personas? 7\n",
    "¿Número de pizzas? 3\n",
    "\n",
    "7 personas con 3 pizzas\n",
    "Cada persona toma 3 piezas\n",
    "Sobran 3 porciones\n",
    "```"
   ]
  },
  {
   "cell_type": "code",
   "execution_count": 1,
   "metadata": {
    "colab": {
     "base_uri": "https://localhost:8080/",
     "height": 114
    },
    "colab_type": "code",
    "executionInfo": {
     "elapsed": 9265,
     "status": "ok",
     "timestamp": 1542042596053,
     "user": {
      "displayName": "Ramón Maldonado Rodríguez",
      "photoUrl": "https://lh3.googleusercontent.com/-ljH7hLMa7no/AAAAAAAAAAI/AAAAAAAAAAg/pf-fwlCU1Eg/s64/photo.jpg",
      "userId": "17580681743975451950"
     },
     "user_tz": -60
    },
    "id": "sX4FDxuK2_za",
    "outputId": "9b8d9d3d-12c7-40a2-eb67-541b7c8cb0f3"
   },
   "outputs": [
    {
     "name": "stdout",
     "output_type": "stream",
     "text": [
      "¿Cuantas personas? 7\n",
      "¿Cuantas pizzas? 3\n",
      "7 personas toman 3 pizzas\n",
      "Cada persona toma 3 porciones\n",
      "Sobran 3 porciones\n"
     ]
    }
   ],
   "source": [
    "strPeople = input(\"¿Cuantas personas? \")\n",
    "strPizzas = input(\"¿Cuantas pizzas? \")\n",
    "\n",
    "people = int(strPeople)\n",
    "pizzas = int(strPizzas)\n",
    "\n",
    "if people % 2 == 1:\n",
    "  porciones = people + 1\n",
    "else:\n",
    "  porciones = people\n",
    "  \n",
    "print(\"{} personas toman {} pizzas\".format(people, pizzas))\n",
    "print(\"Cada persona toma {} porciones\".format(pizzas))\n",
    "print(\"Sobran {} porciones\".format((porciones * pizzas) % people))"
   ]
  },
  {
   "cell_type": "markdown",
   "metadata": {
    "colab_type": "text",
    "id": "wMjkk4Cc50KS"
   },
   "source": [
    "## Retos\n",
    "\n",
    "1. Asegurar que la entrada es numerica, positiva y entera. En otro caso impedir que el usuario continue\n",
    "2. Escribir los mensajes de salida con formato singular/plural adecuado\n",
    "3. Crear un programa que diga cuantas pizzas hay que comprar preguntando personas y porciones de pizza que quieren tomar. Recuerda que las pizzas siempre se dividen en un número par de porciones"
   ]
  }
 ],
 "metadata": {
  "colab": {
   "name": "08 - Ajustando decimales.ipynb",
   "provenance": [],
   "version": "0.3.2"
  },
  "kernelspec": {
   "display_name": "Python 3",
   "language": "python",
   "name": "python3"
  },
  "language_info": {
   "codemirror_mode": {
    "name": "ipython",
    "version": 3
   },
   "file_extension": ".py",
   "mimetype": "text/x-python",
   "name": "python",
   "nbconvert_exporter": "python",
   "pygments_lexer": "ipython3",
   "version": "3.7.1"
  }
 },
 "nbformat": 4,
 "nbformat_minor": 1
}
