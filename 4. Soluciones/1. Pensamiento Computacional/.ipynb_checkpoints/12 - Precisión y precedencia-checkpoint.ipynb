{
 "cells": [
  {
   "cell_type": "markdown",
   "metadata": {
    "colab_type": "text",
    "id": "ai4j58d6AzJw"
   },
   "source": [
    "# Cálculo de interés simple\n",
    "\n",
    "Crear un programa que calcule el interés simple, teniendo en cuenta que se calcula con la siguiente fórmula:\n",
    "\n",
    ">$ A = P · (1 + rt) $\n",
    "\n",
    "donde *A* es la cantidad ganada, *P* la cantidad invertida, *r* el interes y *t* los años transcurridos desde el inicio de la inversión\n",
    "\n",
    "```\n",
    "Tras X años de inversión al Y %, su cantidad debe ser T\n",
    "```\n",
    "\n",
    "\n",
    "## Restricciones\n",
    "1. La tasa de interés debe introducirse como porcentaje y no decimal, es decir *15* y no *0,15*\n",
    "2. La inversión debe redondearse al céntimo\n",
    "3. La salida debe formatearse como divisa (€)"
   ]
  },
  {
   "cell_type": "code",
   "execution_count": 7,
   "metadata": {
    "colab": {
     "base_uri": "https://localhost:8080/",
     "height": 94
    },
    "colab_type": "code",
    "executionInfo": {
     "elapsed": 14029,
     "status": "ok",
     "timestamp": 1542095956528,
     "user": {
      "displayName": "Ramón Maldonado Rodríguez",
      "photoUrl": "https://lh3.googleusercontent.com/-ljH7hLMa7no/AAAAAAAAAAI/AAAAAAAAAAg/pf-fwlCU1Eg/s64/photo.jpg",
      "userId": "17580681743975451950"
     },
     "user_tz": -60
    },
    "id": "iKMenwbTAytr",
    "outputId": "53f0b328-ad8f-4282-8574-0066233f9cef"
   },
   "outputs": [
    {
     "name": "stdout",
     "output_type": "stream",
     "text": [
      "Cantidad invertida: 1234.567\n",
      "Años transcurridos: 3.2\n",
      "Interés anual: 8\n",
      "Tras 3 años de inversión al 8.00%, su cantidad debe ser 1550.62€\n"
     ]
    }
   ],
   "source": [
    "strQ = input(\"Cantidad invertida: \")\n",
    "strA = input(\"Años transcurridos: \")\n",
    "strI = input(\"Interés anual: \")\n",
    "\n",
    "Q = round(float(strQ), 2)\n",
    "A = float(strA)\n",
    "I = float(strI)/100\n",
    "\n",
    "ganancia = Q * (1 + I * A)\n",
    "\n",
    "print(\"Tras {} años de inversión al {:.2f}%, su cantidad debe ser {:.2f}€\".format(A, I*100, ganancia))\n",
    "\n"
   ]
  },
  {
   "cell_type": "markdown",
   "metadata": {
    "colab_type": "text",
    "id": "Qc5BWrwlFeW-"
   },
   "source": [
    "## Retos\n",
    "\n",
    "1. Valida que las entradas sean numéricas y que el usuario no pueda continuar si no introduce un número\n",
    "2. Modifica el programa para que imprima el valor de la inversión cada año de la misma hasta llegar al valor pedido"
   ]
  }
 ],
 "metadata": {
  "colab": {
   "name": "12 - Precisión y precedencia.ipynb",
   "provenance": [],
   "version": "0.3.2"
  },
  "kernelspec": {
   "display_name": "Python 3",
   "language": "python",
   "name": "python3"
  },
  "language_info": {
   "codemirror_mode": {
    "name": "ipython",
    "version": 3
   },
   "file_extension": ".py",
   "mimetype": "text/x-python",
   "name": "python",
   "nbconvert_exporter": "python",
   "pygments_lexer": "ipython3",
   "version": "3.7.1"
  }
 },
 "nbformat": 4,
 "nbformat_minor": 1
}
