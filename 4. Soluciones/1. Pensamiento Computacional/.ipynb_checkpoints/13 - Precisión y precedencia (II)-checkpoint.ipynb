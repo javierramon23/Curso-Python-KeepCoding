{
 "cells": [
  {
   "cell_type": "markdown",
   "metadata": {
    "colab_type": "text",
    "id": "oWPgVOkt2ezm"
   },
   "source": [
    "# Calculando el interés compuesto\n",
    "\n",
    "Introduciremos aquí los exponentes. En préstamos o inversiones a largo plazo se suele utilizar más el interes compuesto que el simple ([diferencias entre ambos](https://youtu.be/DjS7B63QgDU)). Se trata ahora de escribir un programa que calcule el interés compuesto sobre un capital a lo largo del tiempo.\n",
    "\n",
    "El programa ha de pedir el *capital inicial*, el *interes anual*, el *número de años de la inversión* y el número de veces que se calcula en interés en el año. La fórmula a aplicar es:\n",
    "\n",
    ">$ A = P(1 + \\frac{r}{n})^{nt} $\n",
    "\n",
    "donde \n",
    "- P es el capital inicial\n",
    "- r el interes anual\n",
    "- t los años que dura la inversión (o préstamo)\n",
    "- n el número de veces que se acumula el interés por año (por ejemplo 12 si es mensual)\n",
    "- A es la cantidad al final de la inversión,\n",
    "\n",
    "Así, para:\n",
    "- 1500 € de capital inicial\n",
    "- 4,3% de interes\n",
    "- 6 años de duración del préstamo \n",
    "- Se calcula el interés al trimestre (4 periodos por año)\n",
    "\n",
    "El programa debería devolver\n",
    "\n",
    "```\n",
    "1500.00 € invertidos al 4.3% durante 6 años con 4 periodos de imposición por año se transforman en 1938.84 €\n",
    "```\n",
    "\n",
    "## Restricciones\n",
    "\n",
    "1. El interés se introduce como % no como tanto por uno (15 en lugar de 0.15)\n",
    "2. Asegurar que las cantidades en euros estén ajustadas al céntimo\n",
    "\n"
   ]
  },
  {
   "cell_type": "code",
   "execution_count": 4,
   "metadata": {
    "colab": {
     "base_uri": "https://localhost:8080/",
     "height": 114
    },
    "colab_type": "code",
    "executionInfo": {
     "elapsed": 21845,
     "status": "ok",
     "timestamp": 1542198787309,
     "user": {
      "displayName": "Ramón Maldonado Rodríguez",
      "photoUrl": "https://lh3.googleusercontent.com/-ljH7hLMa7no/AAAAAAAAAAI/AAAAAAAAAAg/pf-fwlCU1Eg/s64/photo.jpg",
      "userId": "17580681743975451950"
     },
     "user_tz": -60
    },
    "id": "xGRxe9FU2WB5",
    "outputId": "8a5300ca-aef7-400f-a544-547f8652821b"
   },
   "outputs": [
    {
     "name": "stdout",
     "output_type": "stream",
     "text": [
      "Capital principal...........: 1500\n",
      "Interés anual...............: 4.3\n",
      "Años de imposición..........: 6\n",
      "Periodos de imposición anual: 4\n",
      "1500.00 € invertidos al 4.30% durante 6 años con 4 periodos de imposición por año se transforman en 1938.84€]\n"
     ]
    }
   ],
   "source": [
    "strCapital = input(\"Capital principal...........: \")\n",
    "strInteres = input(\"Interés anual...............: \")\n",
    "strAños =    input(\"Años de imposición..........: \")\n",
    "strPeriodo = input(\"Periodos de imposición anual: \")\n",
    "\n",
    "capital = float(strCapital)\n",
    "interes = float(strInteres)/100\n",
    "años = int(strAños)\n",
    "periodo = int(strPeriodo)\n",
    "\n",
    "final = capital *(1 + interes/periodo)**(periodo * años)\n",
    "\n",
    "print(\"{:.2f} € invertidos al {:.2f}% durante {} años con {} periodos de imposición por año se transforman en {:.2f} €]\".format(capital, interes*100, años, periodo, final))\n"
   ]
  },
  {
   "cell_type": "markdown",
   "metadata": {
    "colab_type": "text",
    "id": "7QKBkuBCNlBW"
   },
   "source": [
    "## Retos\n",
    "\n",
    "1. Impedir que el usuario siga con el proceso si no introduce valores numéricos correctos\n",
    "2. Hacer una versión del programa que actúe al revés. Conociendo el tipo de interés, los años y periodos de imposición y sabiendo que suma total se quiere conseguir el programa debe indicar el capital inicial a invertir\n",
    "3."
   ]
  }
 ],
 "metadata": {
  "colab": {
   "name": "13 - Precisión y precedencia (II).ipynb",
   "provenance": [],
   "version": "0.3.2"
  },
  "kernelspec": {
   "display_name": "Python 3",
   "language": "python",
   "name": "python3"
  },
  "language_info": {
   "codemirror_mode": {
    "name": "ipython",
    "version": 3
   },
   "file_extension": ".py",
   "mimetype": "text/x-python",
   "name": "python",
   "nbconvert_exporter": "python",
   "pygments_lexer": "ipython3",
   "version": "3.7.1"
  }
 },
 "nbformat": 4,
 "nbformat_minor": 1
}
