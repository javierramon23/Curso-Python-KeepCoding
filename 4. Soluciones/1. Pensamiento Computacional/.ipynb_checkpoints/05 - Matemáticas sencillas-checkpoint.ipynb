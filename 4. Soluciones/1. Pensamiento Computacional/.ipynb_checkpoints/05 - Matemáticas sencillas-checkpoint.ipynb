{
 "cells": [
  {
   "cell_type": "markdown",
   "metadata": {
    "colab_type": "text",
    "id": "f1dOtMir-p0x"
   },
   "source": [
    "# Operaciones aritméticas\n",
    "\n",
    "Escribe un programa que pida dos números y que devuelva su suma, resta, producto y división.\n",
    "\n",
    "## Restricciones\n",
    "\n",
    "1. Convertir las cadenas de entrada en números\n",
    "2. Separar convenientemente la entrada, transformación de cadena en números y salida separados\n",
    "3. Crea una única sentencia de salida con los saltos de línea adecuados (sólo un print)"
   ]
  },
  {
   "cell_type": "code",
   "execution_count": 2,
   "metadata": {
    "colab": {
     "base_uri": "https://localhost:8080/",
     "height": 153
    },
    "colab_type": "code",
    "executionInfo": {
     "elapsed": 5672,
     "status": "ok",
     "timestamp": 1542027526924,
     "user": {
      "displayName": "Ramón Maldonado Rodríguez",
      "photoUrl": "https://lh3.googleusercontent.com/-ljH7hLMa7no/AAAAAAAAAAI/AAAAAAAAAAg/pf-fwlCU1Eg/s64/photo.jpg",
      "userId": "17580681743975451950"
     },
     "user_tz": -60
    },
    "id": "Yk2ohXAL-pVa",
    "outputId": "5b24864f-5cae-4546-9ee2-7528d1e5f072"
   },
   "outputs": [
    {
     "name": "stdout",
     "output_type": "stream",
     "text": [
      "Introduce un número: 10\n",
      "Introduce un segundo número:-5\n",
      "10.0 + -5.0 = 5.0\n",
      "10.0 - -5.0 = 15.0\n",
      "10.0 · -5.0 = -50.0\n",
      "10.0 / -5.0 = -2.0\n",
      "\n"
     ]
    }
   ],
   "source": [
    "strOp1 = input(\"Introduce un número: \")\n",
    "strOp2 = input(\"Introduce un segundo número:\" )\n",
    "\n",
    "op1 = float(strOp1)\n",
    "op2 = float(strOp2)\n",
    "\n",
    "print(\"{} + {} = {}\\n{} - {} = {}\\n{} · {} = {}\\n{} / {} = {}\\n\".format(op1, op2, op1+op2, op1, op2, op1-op2, op1, op2, op1*op2, op1, op2, op1/op2))"
   ]
  },
  {
   "cell_type": "markdown",
   "metadata": {
    "colab_type": "text",
    "id": "LKHxWRr__7jo"
   },
   "source": [
    "## Retos\n",
    "\n",
    "1. Controla que las entradas sean números de forma que el programa no avance si no se introduce un número\n",
    "2. No permitas introducir números negativos\n"
   ]
  }
 ],
 "metadata": {
  "colab": {
   "name": "05 - Matemáticas sencillas.ipynb",
   "provenance": [],
   "version": "0.3.2"
  },
  "kernelspec": {
   "display_name": "Python 3",
   "language": "python",
   "name": "python3"
  },
  "language_info": {
   "codemirror_mode": {
    "name": "ipython",
    "version": 3
   },
   "file_extension": ".py",
   "mimetype": "text/x-python",
   "name": "python",
   "nbconvert_exporter": "python",
   "pygments_lexer": "ipython3",
   "version": "3.7.1"
  }
 },
 "nbformat": 4,
 "nbformat_minor": 1
}
