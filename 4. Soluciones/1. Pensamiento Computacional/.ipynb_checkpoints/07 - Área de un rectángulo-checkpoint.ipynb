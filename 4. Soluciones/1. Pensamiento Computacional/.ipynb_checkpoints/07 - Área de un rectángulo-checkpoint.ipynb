{
 "cells": [
  {
   "cell_type": "markdown",
   "metadata": {
    "colab_type": "text",
    "id": "KlHvEQ-BxqrT"
   },
   "source": [
    "# Area de un rectángulo\n",
    "\n",
    "Pide la entrada del ancho y profundo de la habitación en metros. Devuelve la superficie en metros cuadrados y en yardas cuadradas (tomando la referencia de [aquí](https://es.wikipedia.org/wiki/Sistema_anglosaj%C3%B3n_de_unidades)).\n",
    "\n",
    "## Restricciones\n",
    "\n",
    "1. Mantener los cálculos separados de la salida\n",
    "2. Usa una constante para las conversiones de unidades ([aquí](https://es.wikipedia.org/wiki/Sistema_anglosaj%C3%B3n_de_unidades))"
   ]
  },
  {
   "cell_type": "code",
   "execution_count": 2,
   "metadata": {
    "colab": {
     "base_uri": "https://localhost:8080/",
     "height": 94
    },
    "colab_type": "code",
    "executionInfo": {
     "elapsed": 18431,
     "status": "ok",
     "timestamp": 1542041047449,
     "user": {
      "displayName": "Ramón Maldonado Rodríguez",
      "photoUrl": "https://lh3.googleusercontent.com/-ljH7hLMa7no/AAAAAAAAAAI/AAAAAAAAAAg/pf-fwlCU1Eg/s64/photo.jpg",
      "userId": "17580681743975451950"
     },
     "user_tz": -60
    },
    "id": "w_uY-6qfykd4",
    "outputId": "04388bff-d2f6-4d66-865d-69c9c48f99dc"
   },
   "outputs": [
    {
     "name": "stdout",
     "output_type": "stream",
     "text": [
      "¿Longitud de la habitación en metros? 1\n",
      "¿Profundo de la habitación en metros? 1\n",
      "Superficie de la habitación en metros cuadrados: 1.0\n",
      "Superficie de la habitación en yardas cuadradss: 1.2075836251660426\n"
     ]
    }
   ],
   "source": [
    "strLon = input(\"¿Longitud de la habitación en metros? \")\n",
    "strProf = input(\"¿Profundo de la habitación en metros? \")\n",
    "\n",
    "lon = float(strLon)\n",
    "prof = float(strProf)\n",
    "\n",
    "superficie = lon * prof\n",
    "superficieYardas = superficie / 0.91**2\n",
    "\n",
    "print(\"Superficie de la habitación en metros cuadrados: {}\".format(superficie))\n",
    "print(\"Superficie de la habitación en yardas cuadradss: {}\".format(superficieYardas))\n"
   ]
  },
  {
   "cell_type": "markdown",
   "metadata": {
    "colab_type": "text",
    "id": "wa2F2egw06HF"
   },
   "source": [
    "## Retos\n",
    "\n",
    "1. Fuerza a que las entradas sean numéricas. Si no son numericas el usuario no podrá continuar.\n",
    "2. Crea una versión del programa que permita elegir si la entrada va en metros o en yardas"
   ]
  }
 ],
 "metadata": {
  "colab": {
   "name": "07 - Área de un rectángulo.ipynb",
   "provenance": [],
   "version": "0.3.2"
  },
  "kernelspec": {
   "display_name": "Python 3",
   "language": "python",
   "name": "python3"
  },
  "language_info": {
   "codemirror_mode": {
    "name": "ipython",
    "version": 3
   },
   "file_extension": ".py",
   "mimetype": "text/x-python",
   "name": "python",
   "nbconvert_exporter": "python",
   "pygments_lexer": "ipython3",
   "version": "3.7.1"
  }
 },
 "nbformat": 4,
 "nbformat_minor": 1
}
