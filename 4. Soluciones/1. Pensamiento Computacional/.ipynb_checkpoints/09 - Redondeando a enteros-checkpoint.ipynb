{
 "cells": [
  {
   "cell_type": "markdown",
   "metadata": {
    "colab_type": "text",
    "id": "Q3-6Ziop65tD"
   },
   "source": [
    "# Pintando el techo\n",
    "\n",
    "5 litros de pintura dan para pintar 100 metros cuadrados de techo. Teniendo esto en cuenta haz un programa que diga cuantos botes de 5 litros de pintura hay que comprar para pintar un techo de anchura y profundidad informada por el usuario (en metros). Devuelve el número de botes suficiente y por supuesto en números enteros.\n",
    "\n",
    "```\n",
    "Necesitarás 12 litros para pintar 240 metros cuadrados de techo.\n",
    "\n",
    "Debes comprar 3 botes de pintura.\n",
    "```\n",
    "## Restricciones \n",
    "1. Utiliza una constante para calcular la conversión botes de pintura/metros de techo\n",
    "2. Asegurate de comprar un número entero de botes de pintura suficiente (el siguiente número entero) pero no de más"
   ]
  },
  {
   "cell_type": "code",
   "execution_count": 30,
   "metadata": {
    "colab": {
     "base_uri": "https://localhost:8080/",
     "height": 94
    },
    "colab_type": "code",
    "executionInfo": {
     "elapsed": 7108,
     "status": "ok",
     "timestamp": 1542044209354,
     "user": {
      "displayName": "Ramón Maldonado Rodríguez",
      "photoUrl": "https://lh3.googleusercontent.com/-ljH7hLMa7no/AAAAAAAAAAI/AAAAAAAAAAg/pf-fwlCU1Eg/s64/photo.jpg",
      "userId": "17580681743975451950"
     },
     "user_tz": -60
    },
    "id": "tw0B53Bc6qHV",
    "outputId": "48e1ad1f-828a-49d4-8d2a-0e39a83803d7"
   },
   "outputs": [
    {
     "name": "stdout",
     "output_type": "stream",
     "text": [
      "Ancho del techo: 15\n",
      "Profundo del techo: 10.1\n",
      "Necesitarás 7.58 litros para pintar 151.5 metros cuadrados de techo.\n",
      "Debes comprar 2.0 botes de pintura\n"
     ]
    }
   ],
   "source": [
    "tasalitros = 0.05\n",
    "\n",
    "strLon = input(\"Ancho del techo: \")\n",
    "strProf = input(\"Profundo del techo: \")\n",
    "\n",
    "lon = float(strLon)\n",
    "prof = float(strProf)\n",
    "\n",
    "area = lon * prof\n",
    "\n",
    "litros = area * tasalitros\n",
    "botes = litros // 5\n",
    "\n",
    "botes += 1 if litros % 5 > 0 else 0\n",
    "\n",
    "print(\"Necesitarás {} litros para pintar {} metros cuadrados de techo.\".format(round(litros,2), round(area, 2)))\n",
    "print(\"Debes comprar {} botes de pintura\".format(botes))\n",
    "\n"
   ]
  },
  {
   "cell_type": "markdown",
   "metadata": {
    "colab_type": "text",
    "id": "o-9r58tl__md"
   },
   "source": [
    "## Retos\n",
    "\n",
    "1. Revisar que la entrada sean números positivos. Si no es así no dejar que el usuario continue\n",
    "2. Hacer el cálculo para habitación redonda\n",
    "3. Hacer el cálculo para habitación en forma de L"
   ]
  }
 ],
 "metadata": {
  "colab": {
   "name": "09 - Redondeando a enteros.ipynb",
   "provenance": [],
   "version": "0.3.2"
  },
  "kernelspec": {
   "display_name": "Python 3",
   "language": "python",
   "name": "python3"
  },
  "language_info": {
   "codemirror_mode": {
    "name": "ipython",
    "version": 3
   },
   "file_extension": ".py",
   "mimetype": "text/x-python",
   "name": "python",
   "nbconvert_exporter": "python",
   "pygments_lexer": "ipython3",
   "version": "3.7.1"
  }
 },
 "nbformat": 4,
 "nbformat_minor": 1
}
