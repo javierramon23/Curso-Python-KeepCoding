{
 "cells": [
  {
   "cell_type": "markdown",
   "metadata": {
    "colab_type": "text",
    "id": "_1S1cHO5XQXa"
   },
   "source": [
    "# Cálculo de la jubilación\n",
    "\n",
    "Incorpora el año actual al programa. Crea un programa que cuente cuantos años faltan para tu jubilación y que te diga el año en que te jubilarás. Algo así\n",
    "\n",
    "```\n",
    "¿Cuantos años tienes? 48\n",
    "¿A qué edad te jubilarás? 67\n",
    "Te quedan 19 años para jubilarte\n",
    "Estamos en 2018, te jubilarás en 2037.\n",
    "```\n",
    "## Restricciones\n",
    "\n",
    "1. Convertir las cadenas de entrada en números\n",
    "2. Obten el año actual como lo haga python (no vale ponerlo como constante en el programa)"
   ]
  },
  {
   "cell_type": "code",
   "execution_count": 7,
   "metadata": {
    "colab": {
     "base_uri": "https://localhost:8080/",
     "height": 94
    },
    "colab_type": "code",
    "executionInfo": {
     "elapsed": 13554,
     "status": "ok",
     "timestamp": 1542040310281,
     "user": {
      "displayName": "Ramón Maldonado Rodríguez",
      "photoUrl": "https://lh3.googleusercontent.com/-ljH7hLMa7no/AAAAAAAAAAI/AAAAAAAAAAg/pf-fwlCU1Eg/s64/photo.jpg",
      "userId": "17580681743975451950"
     },
     "user_tz": -60
    },
    "id": "felpyevhXOr6",
    "outputId": "1fe30aef-253e-4e88-ddb3-f812a339b68f"
   },
   "outputs": [
    {
     "name": "stdout",
     "output_type": "stream",
     "text": [
      "¿Cuantos años tienes? 70\n",
      "¿A qué edad quieres jubilarte? 65\n",
      "Te quedan -5 años para jubilarte\n",
      "Estamos en 2018, te jubilarás en 2013\n"
     ]
    }
   ],
   "source": [
    "import datetime\n",
    "\n",
    "ahora = datetime.datetime.now()\n",
    "año = ahora.year\n",
    "\n",
    "strEdad = input(\"¿Cuantos años tienes? \")\n",
    "strJubilacion = input(\"¿A qué edad quieres jubilarte? \")\n",
    "\n",
    "edad = int(strEdad)\n",
    "jubilacion = int(strJubilacion)\n",
    "\n",
    "faltan = jubilacion - edad\n",
    "cuando = año + faltan\n",
    "\n",
    "print(\"Te quedan {} años para jubilarte\".format(faltan))\n",
    "\n",
    "print(\"Estamos en {}, te jubilarás en {}\".format(año, cuando))"
   ]
  },
  {
   "cell_type": "markdown",
   "metadata": {
    "colab_type": "text",
    "id": "xHRRsZmuwt5C"
   },
   "source": [
    "## Reto\n",
    "\n",
    "Maneja la situación si el programa devuelve un número negativo de modo que diga que ya puede jubilarse"
   ]
  },
  {
   "cell_type": "code",
   "execution_count": 8,
   "metadata": {
    "colab": {
     "base_uri": "https://localhost:8080/",
     "height": 75
    },
    "colab_type": "code",
    "executionInfo": {
     "elapsed": 10195,
     "status": "ok",
     "timestamp": 1542040415156,
     "user": {
      "displayName": "Ramón Maldonado Rodríguez",
      "photoUrl": "https://lh3.googleusercontent.com/-ljH7hLMa7no/AAAAAAAAAAI/AAAAAAAAAAg/pf-fwlCU1Eg/s64/photo.jpg",
      "userId": "17580681743975451950"
     },
     "user_tz": -60
    },
    "id": "6dPBTiEGaR6o",
    "outputId": "ead4f69c-b6ed-4e3d-a928-6b5902023cf2"
   },
   "outputs": [
    {
     "name": "stdout",
     "output_type": "stream",
     "text": [
      "¿Cuantos años tienes? 70\n",
      "¿A qué edad quieres jubilarte? 65\n",
      "Estamos en 2018, deberías haberte jubilado hace 5 años\n"
     ]
    }
   ],
   "source": [
    "import datetime\n",
    "\n",
    "ahora = datetime.datetime.now()\n",
    "año = ahora.year\n",
    "\n",
    "strEdad = input(\"¿Cuantos años tienes? \")\n",
    "strJubilacion = input(\"¿A qué edad quieres jubilarte? \")\n",
    "\n",
    "edad = int(strEdad)\n",
    "jubilacion = int(strJubilacion)\n",
    "\n",
    "faltan = jubilacion - edad\n",
    "cuando = año + faltan\n",
    "\n",
    "if faltan < 0:\n",
    "  print(\"Estamos en {}, deberías haberte jubilado hace {} años\".format(año, -faltan))\n",
    "else:\n",
    "  print(\"Te quedan {} años para jubilarte\".format(faltan))\n",
    "\n",
    "  print(\"Estamos en {}, te jubilarás en {}\".format(año, cuando))"
   ]
  }
 ],
 "metadata": {
  "colab": {
   "name": "06 - Año actual.ipynb",
   "provenance": [],
   "version": "0.3.2"
  },
  "kernelspec": {
   "display_name": "Python 3",
   "language": "python",
   "name": "python3"
  },
  "language_info": {
   "codemirror_mode": {
    "name": "ipython",
    "version": 3
   },
   "file_extension": ".py",
   "mimetype": "text/x-python",
   "name": "python",
   "nbconvert_exporter": "python",
   "pygments_lexer": "ipython3",
   "version": "3.7.1"
  }
 },
 "nbformat": 4,
 "nbformat_minor": 1
}
