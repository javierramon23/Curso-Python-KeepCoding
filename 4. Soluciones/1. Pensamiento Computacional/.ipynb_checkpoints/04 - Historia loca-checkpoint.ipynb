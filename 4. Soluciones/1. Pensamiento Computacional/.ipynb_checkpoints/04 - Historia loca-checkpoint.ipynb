{
 "cells": [
  {
   "cell_type": "markdown",
   "metadata": {
    "colab_type": "text",
    "id": "O1BP8Swj42DP"
   },
   "source": [
    "# Concatenando cadenas\n",
    "\n",
    "Crear un programa que pida nombre, verbo, adverbio y adjetivo y con ellos construya una historia. Utilizar una plantilla con los huecos donde colocar el nombre, el verbo, el adverbio y el adjetivo. Eligiendo bien la plantilla la frase puede resultar absurda y hasta graciosa.\n",
    "\n",
    "## Restricciones\n",
    "\n",
    "1. Utilizar un solo print en el programa\n",
    "2. Hacer una versión utilizando substitucion "
   ]
  },
  {
   "cell_type": "code",
   "execution_count": 1,
   "metadata": {
    "colab": {
     "base_uri": "https://localhost:8080/",
     "height": 36
    },
    "colab_type": "code",
    "executionInfo": {
     "elapsed": 696,
     "status": "ok",
     "timestamp": 1544052151045,
     "user": {
      "displayName": "Ramón Maldonado Rodríguez",
      "photoUrl": "https://lh3.googleusercontent.com/-ljH7hLMa7no/AAAAAAAAAAI/AAAAAAAAAAg/pf-fwlCU1Eg/s64/photo.jpg",
      "userId": "17580681743975451950"
     },
     "user_tz": -60
    },
    "id": "wiqDGqxardRG",
    "outputId": "6be54fca-f493-49ea-a571-8419ae944ea3"
   },
   "outputs": [
    {
     "data": {
      "text/plain": [
       "7.33"
      ]
     },
     "execution_count": 1,
     "metadata": {
      "tags": []
     },
     "output_type": "execute_result"
    }
   ],
   "source": [
    "round(7.333333333, 2)"
   ]
  },
  {
   "cell_type": "code",
   "execution_count": 0,
   "metadata": {
    "colab": {
     "base_uri": "https://localhost:8080/",
     "height": 114
    },
    "colab_type": "code",
    "executionInfo": {
     "elapsed": 33899,
     "status": "ok",
     "timestamp": 1542026613136,
     "user": {
      "displayName": "Ramón Maldonado Rodríguez",
      "photoUrl": "https://lh3.googleusercontent.com/-ljH7hLMa7no/AAAAAAAAAAI/AAAAAAAAAAg/pf-fwlCU1Eg/s64/photo.jpg",
      "userId": "17580681743975451950"
     },
     "user_tz": -60
    },
    "id": "xKhNPOO14yei",
    "outputId": "f42141c3-f93d-4a0a-e899-0f51981bbd6a"
   },
   "outputs": [
    {
     "name": "stdout",
     "output_type": "stream",
     "text": [
      "Introduce un nombre: Monitor\n",
      "Introduce un verbo: sonar\n",
      "Introduce un adjetivo: rayado\n",
      "Introduce un adverbio: cerca\n",
      "Un/a Monitor rayado debe sonar cerca\n"
     ]
    }
   ],
   "source": [
    "# Sin función de sustitución\n",
    "\n",
    "plantilla = \"Un/a 0 1 debe 2 3\"\n",
    "\n",
    "nombre = input(\"Introduce un nombre: \")\n",
    "verbo =  input(\"Introduce un verbo: \")\n",
    "adjetivo =  input(\"Introduce un adjetivo: \")\n",
    "adverbio =  input(\"Introduce un adverbio: \")\n",
    "\n",
    "ix = 0\n",
    "frase = \"\"\n",
    "\n",
    "while ix < len(plantilla):\n",
    "  car = plantilla[ix]\n",
    "  \n",
    "  if car == \"0\":\n",
    "    frase = frase + nombre\n",
    "  elif car == \"1\":\n",
    "    frase = frase + adjetivo\n",
    "  elif car == \"2\":\n",
    "    frase = frase + verbo\n",
    "  elif car == \"3\":\n",
    "    frase = frase + adverbio\n",
    "  else:\n",
    "    frase = frase + car\n",
    "    \n",
    "  ix = ix + 1\n",
    "\n",
    "  \n",
    "print(frase)"
   ]
  },
  {
   "cell_type": "code",
   "execution_count": 0,
   "metadata": {
    "colab": {
     "base_uri": "https://localhost:8080/",
     "height": 114
    },
    "colab_type": "code",
    "executionInfo": {
     "elapsed": 42577,
     "status": "ok",
     "timestamp": 1542026877266,
     "user": {
      "displayName": "Ramón Maldonado Rodríguez",
      "photoUrl": "https://lh3.googleusercontent.com/-ljH7hLMa7no/AAAAAAAAAAI/AAAAAAAAAAg/pf-fwlCU1Eg/s64/photo.jpg",
      "userId": "17580681743975451950"
     },
     "user_tz": -60
    },
    "id": "4IJJcoyf9OcS",
    "outputId": "bbc88a4e-49c6-4bfc-aa4f-98d741737be7"
   },
   "outputs": [
    {
     "name": "stdout",
     "output_type": "stream",
     "text": [
      "Introduce un nombre: violonchelo\n",
      "Introduce un verbo: jugar\n",
      "Introduce un adjetivo: fuerte\n",
      "Introduce un adverbio: relajadamente\n",
      "Un/a violonchelo fuerte debe jugar relajadamente\n"
     ]
    }
   ],
   "source": [
    "# Usando format\n",
    "\n",
    "plantilla = \"Un/a {} {} debe {} {}\"\n",
    "\n",
    "nombre = input(\"Introduce un nombre: \")\n",
    "verbo =  input(\"Introduce un verbo: \")\n",
    "adjetivo =  input(\"Introduce un adjetivo: \")\n",
    "adverbio =  input(\"Introduce un adverbio: \")\n",
    "\n",
    "print(plantilla.format(nombre, adjetivo, verbo, adverbio))"
   ]
  },
  {
   "cell_type": "markdown",
   "metadata": {
    "colab_type": "text",
    "id": "my2jtMyT9z3Z"
   },
   "source": [
    "## Retos\n",
    "\n",
    "1. Introducir más datos para complicar y aumentar la historia\n",
    "2. Construye una historia del estilo de los libros de *Construye tu propia aventura* de forma que la historia derive según se elija una u otra opción."
   ]
  }
 ],
 "metadata": {
  "colab": {
   "collapsed_sections": [],
   "name": "04 - Historia loca.ipynb",
   "provenance": [],
   "version": "0.3.2"
  },
  "kernelspec": {
   "display_name": "Python 3",
   "language": "python",
   "name": "python3"
  },
  "language_info": {
   "codemirror_mode": {
    "name": "ipython",
    "version": 3
   },
   "file_extension": ".py",
   "mimetype": "text/x-python",
   "name": "python",
   "nbconvert_exporter": "python",
   "pygments_lexer": "ipython3",
   "version": "3.7.1"
  }
 },
 "nbformat": 4,
 "nbformat_minor": 1
}
