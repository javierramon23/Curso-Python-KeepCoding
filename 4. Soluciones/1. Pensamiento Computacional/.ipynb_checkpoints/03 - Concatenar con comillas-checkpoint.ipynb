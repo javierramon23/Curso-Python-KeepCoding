{
 "cells": [
  {
   "cell_type": "markdown",
   "metadata": {
    "colab_type": "text",
    "id": "R9aLJiChm3Dr"
   },
   "source": [
    "# Imprimiendo comillas\n",
    "\n",
    "Construir un programa que pida una cita y un autor y devuelva una única cadena con la cita entre comillas y el autor.\n",
    "\n",
    "## Restricciones\n",
    "\n",
    "1. No usar format ni %. Hacerlo concatenando cadenas y escapando caracteres"
   ]
  },
  {
   "cell_type": "code",
   "execution_count": 3,
   "metadata": {
    "colab": {
     "base_uri": "https://localhost:8080/",
     "height": 75
    },
    "colab_type": "code",
    "executionInfo": {
     "elapsed": 12569,
     "status": "ok",
     "timestamp": 1542023733916,
     "user": {
      "displayName": "Ramón Maldonado Rodríguez",
      "photoUrl": "https://lh3.googleusercontent.com/-ljH7hLMa7no/AAAAAAAAAAI/AAAAAAAAAAg/pf-fwlCU1Eg/s64/photo.jpg",
      "userId": "17580681743975451950"
     },
     "user_tz": -60
    },
    "id": "dMFuKs7Qm2Z7",
    "outputId": "61e6edb7-d567-4ca8-cd9a-52c5658d10cb"
   },
   "outputs": [
    {
     "name": "stdout",
     "output_type": "stream",
     "text": [
      "Introduce una frase famosa, por favor: print(\"La cadena '{}' tiene {} caracteres\".format(str, len(str)))\n",
      "¿Quien es su autor? yo mismo\n",
      "'print(\"La cadena '{}' tiene {} caracteres\".format(str, len(str)))', yo mismo\n"
     ]
    }
   ],
   "source": [
    "cita = input(\"Introduce una frase famosa, por favor: \")\n",
    "autor = input(\"¿Quien es su autor? \")\n",
    "\n",
    "output = '\\'' + cita + '\\', ' + autor\n",
    "print(output)"
   ]
  }
 ],
 "metadata": {
  "colab": {
   "name": "Concatenar con comillas.ipynb",
   "provenance": [],
   "version": "0.3.2"
  },
  "kernelspec": {
   "display_name": "Python 3",
   "language": "python",
   "name": "python3"
  },
  "language_info": {
   "codemirror_mode": {
    "name": "ipython",
    "version": 3
   },
   "file_extension": ".py",
   "mimetype": "text/x-python",
   "name": "python",
   "nbconvert_exporter": "python",
   "pygments_lexer": "ipython3",
   "version": "3.7.1"
  }
 },
 "nbformat": 4,
 "nbformat_minor": 1
}
