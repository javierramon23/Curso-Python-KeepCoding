{
 "cells": [
  {
   "cell_type": "markdown",
   "metadata": {
    "colab_type": "text",
    "id": "rnjs_ONn63b5"
   },
   "source": [
    "# Aplicando impuestos\n",
    "\n",
    "Haz un programa que aplique un impuesto de 5,5% sobre tres precios introducidos por el usuario. Deben introducirse también el número de ejemplares de producto de cada precio que se compran. Se debe imprimir el subtotal sin tasas, la tasa y la suma de ambos\n",
    "\n",
    "## Restricciones\n",
    "1. Manten separadas las partes de entrada, salida y proceso de tu programa\n"
   ]
  },
  {
   "cell_type": "code",
   "execution_count": 3,
   "metadata": {
    "colab": {
     "base_uri": "https://localhost:8080/",
     "height": 191
    },
    "colab_type": "code",
    "executionInfo": {
     "elapsed": 18165,
     "status": "ok",
     "timestamp": 1542093736585,
     "user": {
      "displayName": "Ramón Maldonado Rodríguez",
      "photoUrl": "https://lh3.googleusercontent.com/-ljH7hLMa7no/AAAAAAAAAAI/AAAAAAAAAAg/pf-fwlCU1Eg/s64/photo.jpg",
      "userId": "17580681743975451950"
     },
     "user_tz": -60
    },
    "id": "jqB17rNh60-C",
    "outputId": "202f915a-9023-4ebe-d1fa-0a981a4314c9"
   },
   "outputs": [
    {
     "name": "stdout",
     "output_type": "stream",
     "text": [
      "Precio 01: 5.67\n",
      "Cantidad 01: 3\n",
      "Precio 02: 2.25\n",
      "Cantidad 02: 4\n",
      "Precio 03: 11.99\n",
      "Cantidad 03: 2\n",
      "Subtotal: 49.989999999999995\n",
      "Tasas: 274.945\n",
      "Total: 324.935\n"
     ]
    }
   ],
   "source": [
    "strPrice01 = input(\"Precio 01: \")\n",
    "strQ01 = input(\"Cantidad 01: \")\n",
    "\n",
    "strPrice02 = input(\"Precio 02: \")\n",
    "strQ02 = input(\"Cantidad 02: \")\n",
    "\n",
    "strPrice03 = input(\"Precio 03: \")\n",
    "strQ03 = input(\"Cantidad 03: \")\n",
    "\n",
    "price01 = float(strPrice01)\n",
    "Q01 = float(strQ01)\n",
    "price02 = float(strPrice02)\n",
    "Q02 = float(strQ02)\n",
    "price03 = float(strPrice03)\n",
    "Q03 = float(strQ03)\n",
    "\n",
    "subtotal = 0\n",
    "subtotal += price01*Q01\n",
    "subtotal += price02*Q02\n",
    "subtotal += price03*Q03\n",
    "\n",
    "tax = subtotal * 5.5\n",
    "\n",
    "total = subtotal + tax\n",
    "\n",
    "print(\"Subtotal: {}\".format(subtotal))\n",
    "print(\"Tasas: {}\".format(tax))\n",
    "print(\"Total: {}\".format(total))"
   ]
  },
  {
   "cell_type": "markdown",
   "metadata": {
    "colab_type": "text",
    "id": "LvCkgUpM9YJB"
   },
   "source": [
    "## Retos\n",
    "\n",
    "1. Comprobar que la entrada sea numérica e impedir continuar si no es así\n",
    "2. Permitir que el programa tenga un número indeterminado de productos y cantidades de entrada"
   ]
  }
 ],
 "metadata": {
  "colab": {
   "collapsed_sections": [],
   "name": "10 - A vueltas con la precisión.ipynb",
   "provenance": [],
   "version": "0.3.2"
  },
  "kernelspec": {
   "display_name": "Python 3",
   "language": "python",
   "name": "python3"
  },
  "language_info": {
   "codemirror_mode": {
    "name": "ipython",
    "version": 3
   },
   "file_extension": ".py",
   "mimetype": "text/x-python",
   "name": "python",
   "nbconvert_exporter": "python",
   "pygments_lexer": "ipython3",
   "version": "3.7.1"
  }
 },
 "nbformat": 4,
 "nbformat_minor": 1
}
