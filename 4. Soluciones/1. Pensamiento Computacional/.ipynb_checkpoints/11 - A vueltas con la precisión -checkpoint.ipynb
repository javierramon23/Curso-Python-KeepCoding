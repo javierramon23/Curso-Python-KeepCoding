{
 "cells": [
  {
   "cell_type": "markdown",
   "metadata": {
    "colab_type": "text",
    "id": "hf3Z09BQ92Ge"
   },
   "source": [
    "# Conversión de divisas\n",
    "\n",
    "Crear un programa que pase de dolares a euros. El programa pedirá la tasa de cambio de dolares a euros (cuantos euros se necesitan para tener un dolar). El programa debe devolver lo siguiente \n",
    "```\n",
    "X dolares a una tasa de cambio de Y\n",
    "Total €\n",
    "```\n",
    "\n",
    "## Restricciones\n",
    "\n",
    "1. Asegúrate de que la entrada se redondea al centavo\n",
    "2. Utiliza una única sentencia de salida"
   ]
  },
  {
   "cell_type": "code",
   "execution_count": 3,
   "metadata": {
    "colab": {
     "base_uri": "https://localhost:8080/",
     "height": 94
    },
    "colab_type": "code",
    "executionInfo": {
     "elapsed": 9970,
     "status": "ok",
     "timestamp": 1542094580395,
     "user": {
      "displayName": "Ramón Maldonado Rodríguez",
      "photoUrl": "https://lh3.googleusercontent.com/-ljH7hLMa7no/AAAAAAAAAAI/AAAAAAAAAAg/pf-fwlCU1Eg/s64/photo.jpg",
      "userId": "17580681743975451950"
     },
     "user_tz": -60
    },
    "id": "PG_3afqL9zV1",
    "outputId": "00a7a4ae-206b-4b08-a3b3-94db2f39b1e5"
   },
   "outputs": [
    {
     "name": "stdout",
     "output_type": "stream",
     "text": [
      "Dolares: 101.935\n",
      "Valor de cambio Dolar a Euro: .89\n",
      "101.94 dolares a una tasa de intercambio 0.89\n",
      "90.73 €\n"
     ]
    }
   ],
   "source": [
    "strDolares = input(\"Dolares: \")\n",
    "strTasa = input(\"Valor de cambio Dolar a Euro: \")\n",
    "\n",
    "dolares = round(float(strDolares), 2)\n",
    "tasa = float(strTasa)\n",
    "\n",
    "euros = round(dolares * tasa, 2)\n",
    "\n",
    "print(\"{} dolares a una tasa de intercambio {}\\n{} €\".format(dolares, tasa, euros))\n"
   ]
  },
  {
   "cell_type": "markdown",
   "metadata": {
    "colab_type": "text",
    "id": "9-UbK25e_Zdd"
   },
   "source": [
    "## Retos\n",
    "\n",
    "1. Crea un diccionario de tasas de conversión y pregunta por paises, no por monedas."
   ]
  }
 ],
 "metadata": {
  "colab": {
   "name": "11 - A vueltas con la precisión .ipynb",
   "provenance": [],
   "version": "0.3.2"
  },
  "kernelspec": {
   "display_name": "Python 3",
   "language": "python",
   "name": "python3"
  },
  "language_info": {
   "codemirror_mode": {
    "name": "ipython",
    "version": 3
   },
   "file_extension": ".py",
   "mimetype": "text/x-python",
   "name": "python",
   "nbconvert_exporter": "python",
   "pygments_lexer": "ipython3",
   "version": "3.7.1"
  }
 },
 "nbformat": 4,
 "nbformat_minor": 1
}
