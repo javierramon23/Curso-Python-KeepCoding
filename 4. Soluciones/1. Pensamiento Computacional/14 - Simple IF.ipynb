{
 "cells": [
  {
   "cell_type": "markdown",
   "metadata": {
    "colab_type": "text",
    "id": "DyBOwDUqqOA-"
   },
   "source": [
    "# Tasa autonómica\n",
    "\n",
    "Construye un programa que aplique una tasa a un precio en función de donde se aplique. Así si la provincia en la que se aplica es 'VA' (Valencia) se debe incrementar el precio en un 5,5%. En otro caso no se aplicará esta tasa. La salida debe ser distinta en función de la provincia, así:\n",
    "- Si el precio es 10 €\n",
    "\n",
    "```\n",
    "- Provincia = 'VA':\n",
    "        El subtotal es 10.00€\n",
    "        La tasa es 0.55€\n",
    "        El total es 10.55€\n",
    "\n",
    "- Provincia != 'VA':\n",
    "        El total es 10.00€\n",
    "```\n",
    "\n",
    "## Restricciones\n",
    "\n",
    "- Implementar este programa usando sólo un `if` sin usar `else`\n",
    "- Las cifras en € deben estar redondeadas al céntimo\n",
    "- Utiliza una sola sentencia print para dar el resultado"
   ]
  },
  {
   "cell_type": "code",
   "execution_count": 8,
   "metadata": {
    "colab": {
     "base_uri": "https://localhost:8080/",
     "height": 75
    },
    "colab_type": "code",
    "executionInfo": {
     "elapsed": 4756,
     "status": "ok",
     "timestamp": 1542210815334,
     "user": {
      "displayName": "Ramón Maldonado Rodríguez",
      "photoUrl": "https://lh3.googleusercontent.com/-ljH7hLMa7no/AAAAAAAAAAI/AAAAAAAAAAg/pf-fwlCU1Eg/s64/photo.jpg",
      "userId": "17580681743975451950"
     },
     "user_tz": -60
    },
    "id": "W_Y-Hb2hqNeI",
    "outputId": "18155c2d-1b86-4e11-b761-e9e291b1b3e8"
   },
   "outputs": [
    {
     "name": "stdout",
     "output_type": "stream",
     "text": [
      "Precio...: 10\n",
      "Provincia: Va\n",
      "El total es 10.00€\n"
     ]
    }
   ],
   "source": [
    "strPrecio =    input(\"Precio...: \")\n",
    "strProvincia = input(\"Provincia: \")\n",
    "\n",
    "total = float(strPrecio)\n",
    "strTotal = \"\"\n",
    "\n",
    "if strProvincia == 'VA':\n",
    "  tasa = total * 0.055\n",
    "  strTotal = \"El subtotal es {:.2f}€\\nLa tasa es {:.2f}€\\n\".format(total, tasa)\n",
    "  total = total + tasa\n",
    "\n",
    "strTotal = strTotal + \"El total es {:.2f}€\".format(total)\n",
    "print(strTotal)"
   ]
  },
  {
   "cell_type": "markdown",
   "metadata": {
    "colab_type": "text",
    "id": "rnOdxysT7b9m"
   },
   "source": [
    "## Retos\n",
    "\n",
    "1. Permitir al usuario introducir su provincia en mayúsculas, minúsculas o mixto\n",
    "2. Permitir al usuario introducir el nombre completo de su provincia en mayúsculas, minúsculas o mixto"
   ]
  }
 ],
 "metadata": {
  "colab": {
   "name": "14 - Simple IF.ipynb",
   "provenance": [],
   "version": "0.3.2"
  },
  "kernelspec": {
   "display_name": "Python 3",
   "language": "python",
   "name": "python3"
  },
  "language_info": {
   "codemirror_mode": {
    "name": "ipython",
    "version": 3
   },
   "file_extension": ".py",
   "mimetype": "text/x-python",
   "name": "python",
   "nbconvert_exporter": "python",
   "pygments_lexer": "ipython3",
   "version": "3.7.3"
  }
 },
 "nbformat": 4,
 "nbformat_minor": 1
}
